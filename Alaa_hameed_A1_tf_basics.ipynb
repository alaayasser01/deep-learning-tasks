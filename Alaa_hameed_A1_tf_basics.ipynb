{
  "cells": [
    {
      "cell_type": "markdown",
      "metadata": {
        "id": "NTE8Bunr1-bv"
      },
      "source": [
        "---\n",
        "# Cairo University Faculty of Engineering\n",
        "## Deep Learning\n",
        "## Assignment 1\n",
        "\n",
        "---"
      ]
    },
    {
      "cell_type": "markdown",
      "metadata": {
        "id": "UePv0I-R1-bw"
      },
      "source": [
        "Please write your full name here\n",
        "- **Name** : \"Alaa Yasser\""
      ]
    },
    {
      "cell_type": "markdown",
      "metadata": {
        "id": "PwJv1hq41-bw"
      },
      "source": [
        "## Table of Contents\n",
        "- [Part1: Tensorflow and Python](#1)\n",
        "    - [1.1 - Sigmoid function, tf.exp()](#1-1)\n",
        "    - [1.2 - Sigmoid gradient](#1-2)\n",
        "    - [1.3 - Reshaping arrays](#1-3)\n",
        "    - [1.4 - Normalizing rows](#1-4)\n",
        "        - [normalize_rows](#1-4-1)\n",
        "        - [softmax](#1-4-2)\n",
        "    - [2 - Vectorization](#2)\n",
        "        - [2.1 - Implement the L1 and L2 loss functions](#2-1)\n",
        "            - [L1](#2-1-1)\n",
        "            - [L2](#2-1-2)\n",
        "- [Part2: TensorFlow](#3)"
      ]
    },
    {
      "cell_type": "code",
      "execution_count": null,
      "metadata": {
        "id": "tjYkp5x7PGve"
      },
      "outputs": [],
      "source": [
        "import math\n",
        "import tensorflow as tf\n",
        "import numpy as np\n",
        "import matplotlib.pyplot as plt\n",
        "import random\n",
        "\n",
        "np.random.seed(1234)\n",
        "tf.random.set_seed(1234)\n",
        "random.seed(1234)"
      ]
    },
    {
      "cell_type": "markdown",
      "metadata": {
        "id": "k7IMuXMK1-bw"
      },
      "source": [
        "<a name='1'></a>\n",
        "# Part1: Tensorflow and Python\n",
        "## **Instructions:**\n",
        "\n",
        "- Avoid using for-loops and while-loops, unless you are explicitly told to do so.\n",
        "- After coding your function, run the cell right below it to check if your result is correct.\n",
        "- **Use tensorflow in all your codes unless stated otherwise** ⏰"
      ]
    },
    {
      "cell_type": "markdown",
      "metadata": {
        "id": "7liYtEjP1-bx"
      },
      "source": [
        "**You only need to write code between the ### START CODE HERE ### and ### END CODE HERE ### comments.**"
      ]
    },
    {
      "cell_type": "markdown",
      "metadata": {
        "id": "W6nNzL7I1-bx"
      },
      "source": [
        "<a name='1-1'></a>\n",
        "## 1 - Building basic functions with tensorflow ##\n",
        "\n",
        "### 1.1 - Sigmoid function ###\n",
        "\n",
        "**Exercise**: Build a function that returns the sigmoid of a real number x. Use math.exp(x) for the exponential function.\n",
        "\n",
        "**Reminder**:\n",
        "$sigmoid(x) = \\frac{1}{1+e^{-x}}$ is sometimes also known as the logistic function. It is a non-linear function used not only in Machine Learning (Logistic Regression), but also in Deep Learning.\n",
        "\n",
        "<img src=\"https://i.ibb.co/4fw1Qzk/sigmoid.png\" alt=\"sigmoid\" border=\"0\">"
      ]
    },
    {
      "cell_type": "code",
      "execution_count": null,
      "metadata": {
        "id": "WWuqKjty1-bx"
      },
      "outputs": [],
      "source": [
        "# GRADED FUNCTION: basic_sigmoid\n",
        "\n",
        "def basic_sigmoid(x):\n",
        "    \"\"\"\n",
        "    Compute sigmoid of x.\n",
        "\n",
        "    Arguments:\n",
        "    x -- A scalar\n",
        "\n",
        "    Return:\n",
        "    s -- sigmoid(x)\n",
        "    \"\"\"\n",
        "\n",
        "    ### START CODE HERE ### (≈ 1 line of code)\n",
        "    s = 1/ (1+ math.exp(-x))\n",
        "    ### END CODE HERE ###\n",
        "\n",
        "    return s"
      ]
    },
    {
      "cell_type": "code",
      "execution_count": null,
      "metadata": {
        "colab": {
          "base_uri": "https://localhost:8080/"
        },
        "id": "BA_0tKD01-by",
        "outputId": "01753c2c-3a47-407f-9fab-1b4d6ceb23fb"
      },
      "outputs": [
        {
          "data": {
            "text/plain": [
              "0.9525741268224334"
            ]
          },
          "execution_count": 8,
          "metadata": {},
          "output_type": "execute_result"
        }
      ],
      "source": [
        "basic_sigmoid(3)"
      ]
    },
    {
      "cell_type": "code",
      "execution_count": null,
      "metadata": {
        "id": "nwPZw3p_1-by"
      },
      "outputs": [],
      "source": [
        "### One reason why we use \"tf\" instead of \"math\" in Deep Learning ###\n",
        "x = [1, 2, 3]\n",
        "basic_sigmoid(x) # you will see this give an error when you run it, because x is a vector."
      ]
    },
    {
      "cell_type": "markdown",
      "metadata": {
        "id": "vOPhOI211-by"
      },
      "source": [
        "|**Exercise**: Implement the sigmoid function using TENSORFLOW.\n",
        "\n",
        "**Instructions**: x could now be either a real number, a vector, or a matrix.\n",
        "$$ \\text{For } x \\in \\mathbb{R}^n \\text{,     } sigmoid(x) = sigmoid\\begin{pmatrix}\n",
        "    x_1  \\\\\n",
        "    x_2  \\\\\n",
        "    ...  \\\\\n",
        "    x_n  \\\\\n",
        "\\end{pmatrix} = \\begin{pmatrix}\n",
        "    \\frac{1}{1+e^{-x_1}}  \\\\\n",
        "    \\frac{1}{1+e^{-x_2}}  \\\\\n",
        "    ...  \\\\\n",
        "    \\frac{1}{1+e^{-x_n}}  \\\\\n",
        "\\end{pmatrix}\\tag{1} $$"
      ]
    },
    {
      "cell_type": "code",
      "execution_count": null,
      "metadata": {
        "id": "CA3Gnc451-by"
      },
      "outputs": [],
      "source": [
        "# GRADED FUNCTION: sigmoid\n",
        "\n",
        "def sigmoid(x):\n",
        "    \"\"\"\n",
        "    Compute the sigmoid of x\n",
        "\n",
        "    Arguments:\n",
        "    x -- A scalar or numpy array of any size\n",
        "\n",
        "    Return:\n",
        "    s -- sigmoid(x)\n",
        "    \"\"\"\n",
        "\n",
        "    ### START CODE HERE ### (≈ 1 line of code)\n",
        "    # s= tf.sigmoid(x)\n",
        "    s = 1/ (1+ tf.exp(-x))\n",
        "    ### END CODE HERE ###\n",
        "\n",
        "    return s"
      ]
    },
    {
      "cell_type": "code",
      "execution_count": null,
      "metadata": {
        "colab": {
          "base_uri": "https://localhost:8080/"
        },
        "id": "2y4u2Bn01-by",
        "outputId": "ed54ba0a-a87d-4005-c2ea-e54d8d5fdd4b"
      },
      "outputs": [
        {
          "data": {
            "text/plain": [
              "<tf.Tensor: shape=(3,), dtype=float64, numpy=array([0.73105858, 0.88079708, 0.95257413])>"
            ]
          },
          "execution_count": 15,
          "metadata": {},
          "output_type": "execute_result"
        }
      ],
      "source": [
        "x = np.array([1, 2, 3], dtype=float)\n",
        "sigmoid(x)"
      ]
    },
    {
      "cell_type": "markdown",
      "metadata": {
        "id": "a5nOJFc91-bz"
      },
      "source": [
        "<a name='1-2'></a>\n",
        "### 1.2 - Sigmoid gradient\n",
        "\n",
        "As you've seen, you will need to compute gradients to optimize loss functions. Let's calculate the gradient of the sigmoid function.\n",
        "\n",
        "**Exercise**: Calculate the gradient/derivative of the sigmoid function using LaTeX. SHOW YOUR WORK\n",
        "$$\\sigma(x) = \\frac{1}{1+e^{-x}}$$"
      ]
    },
    {
      "cell_type": "markdown",
      "metadata": {
        "id": "nD4gCPYV3pBX"
      },
      "source": [
        "**Answer**\n",
        "$$\n",
        "σ(x)= \\frac{1}{1+e^{-x}} \\\\\n",
        "\\frac{d}{dx}e^{-x}= -e^{-x} \\\\\n",
        "σ(x)'= \\frac{-(-e^{-x})}{(1+e^{-x})^{2}} \\\\\n",
        "σ(x)'= \\frac{e^{-x}}{(1+e^{-x})^{2}} \\\\\n",
        "σ(x)'= \\frac{e^{-x}}{1+e^{-x}} \\cdot \\frac{1}{1+e^{-x}} \\\\\n",
        "σ(x)'= \\frac{e^{-x}}{1+e^{-x}} \\cdot σ(x) \\\\\n",
        "σ(x)'= \\frac{(e^{-x}+1)-1}{1+e^{-x}} \\cdot σ(x) \\\\\n",
        "σ(x)'= (1 +\\frac{-1}{1+e^{-x}} )\\cdot σ(x) \\\\\n",
        "σ(x)'= (1 - σ(x) )\\cdot σ(x) \\\\\n",
        "$$\n",
        "\n",
        "\n"
      ]
    },
    {
      "cell_type": "markdown",
      "metadata": {
        "id": "7cDwqqMd3GBt"
      },
      "source": [
        "Let's code your first gradient function.\n",
        "\n",
        "**Exercise**: Implement the function sigmoid_grad() to compute the gradient of the sigmoid function with respect to its input x. Use the formula you calculated in the previous exercise"
      ]
    },
    {
      "cell_type": "code",
      "execution_count": null,
      "metadata": {
        "id": "HwUzHJRv1-bz"
      },
      "outputs": [],
      "source": [
        "# GRADED FUNCTION: sigmoid_derivative\n",
        "\n",
        "def sigmoid_derivative(x):\n",
        "    \"\"\"\n",
        "    Compute the gradient (also called the slope or derivative) of the sigmoid function with respect to its input x.\n",
        "    You can store the output of the sigmoid function into variables and then use it to calculate the gradient.\n",
        "\n",
        "    Arguments:\n",
        "    x -- A scalar or numpy array\n",
        "\n",
        "    Return:\n",
        "    ds -- Your computed gradient.\n",
        "    \"\"\"\n",
        "\n",
        "    ### START CODE HERE ### (≈ 2 lines of code)\n",
        "    s= sigmoid(x)\n",
        "    ds= s *(1-s)\n",
        "    ### END CODE HERE ###\n",
        "\n",
        "    return ds"
      ]
    },
    {
      "cell_type": "code",
      "execution_count": null,
      "metadata": {
        "colab": {
          "base_uri": "https://localhost:8080/"
        },
        "id": "iuQLMe_A1-bz",
        "outputId": "39083d5e-a777-4e38-e612-392ae6e4a153"
      },
      "outputs": [
        {
          "name": "stdout",
          "output_type": "stream",
          "text": [
            "sigmoid_derivative(x) = tf.Tensor([0.19661193 0.10499359 0.04517666], shape=(3,), dtype=float64)\n"
          ]
        }
      ],
      "source": [
        "x = np.array([1, 2, 3], dtype=float)\n",
        "print (\"sigmoid_derivative(x) = \" + str(sigmoid_derivative(x)))"
      ]
    },
    {
      "cell_type": "markdown",
      "metadata": {
        "id": "TOjWEvJf1-bz"
      },
      "source": [
        "<a name='1-3'></a>\n",
        "### 1.3 - Reshaping arrays ###\n",
        "\n",
        "Two common functions used in deep learning are [tf.shape] and [tf.reshape()].\n",
        "- X.shape is used to get the shape (dimension) of a matrix/vector X.\n",
        "- X.reshape(...) is used to reshape X into some other dimension.\n",
        "\n",
        "For example, in computer science, an image is represented by a 3D array of shape $(length, height, depth = 3)$. However, when you read an image as the input of an algorithm you convert it to a vector of shape $(length*height*3, 1)$. In other words, you \"unroll\", or reshape, the 3D array into a 1D vector.\n",
        "\n",
        "\n",
        "\n",
        "<img src=\"https://i.ibb.co/2PVNWKL/image2vector-kiank.png\" alt=\"image2vector-kiank\" border=\"0\">\n",
        "\n",
        "**Exercise**: Implement `image2vector()` that takes an input of shape (length, height, 3) and returns a vector of shape (length\\*height\\*3, 1).\n",
        "\n",
        "- Please don't hardcode the dimensions of image as a constant. Instead look up the quantities you need."
      ]
    },
    {
      "cell_type": "code",
      "execution_count": null,
      "metadata": {
        "id": "fHVRsKNE1-bz"
      },
      "outputs": [],
      "source": [
        "# GRADED FUNCTION: image2vector\n",
        "def image2vector(image):\n",
        "    \"\"\"\n",
        "    Argument:\n",
        "    image -- a numpy array of shape (length, height, depth)\n",
        "\n",
        "    Returns:\n",
        "    v -- a vector of shape (length*height*depth, 1)\n",
        "    \"\"\"\n",
        "\n",
        "    ### START CODE HERE ### (≈ 1 line of code)\n",
        "    v= image.reshape(image.shape[0]*image.shape[1]*image.shape[2], 1)\n",
        "    ### END CODE HERE ###\n",
        "\n",
        "    return v"
      ]
    },
    {
      "cell_type": "code",
      "execution_count": null,
      "metadata": {
        "colab": {
          "base_uri": "https://localhost:8080/"
        },
        "id": "n0ZKpomX1-bz",
        "outputId": "e9636bc8-cab7-4e37-c2fd-7aa2d5980b2d"
      },
      "outputs": [
        {
          "name": "stdout",
          "output_type": "stream",
          "text": [
            "image2vector(image) = [[0.67826139]\n",
            " [0.29380381]\n",
            " [0.90714982]\n",
            " [0.52835647]\n",
            " [0.4215251 ]\n",
            " [0.45017551]\n",
            " [0.92814219]\n",
            " [0.96677647]\n",
            " [0.85304703]\n",
            " [0.52351845]\n",
            " [0.19981397]\n",
            " [0.27417313]\n",
            " [0.60659855]\n",
            " [0.00533165]\n",
            " [0.10820313]\n",
            " [0.49978937]\n",
            " [0.34144279]\n",
            " [0.94630077]]\n"
          ]
        }
      ],
      "source": [
        "# This is a 3 by 3 by 2 array, typically images will be (num_px_x, num_px_y,3) where 3 represents the RGB values\n",
        "image = np.array([[[ 0.67826139,  0.29380381],\n",
        "        [ 0.90714982,  0.52835647],\n",
        "        [ 0.4215251 ,  0.45017551]],\n",
        "\n",
        "       [[ 0.92814219,  0.96677647],\n",
        "        [ 0.85304703,  0.52351845],\n",
        "        [ 0.19981397,  0.27417313]],\n",
        "\n",
        "       [[ 0.60659855,  0.00533165],\n",
        "        [ 0.10820313,  0.49978937],\n",
        "        [ 0.34144279,  0.94630077]]])\n",
        "\n",
        "print (\"image2vector(image) = \" + str(image2vector(image)))"
      ]
    },
    {
      "cell_type": "markdown",
      "metadata": {
        "id": "dVUMWV8V1-bz"
      },
      "source": [
        "<a name='1-4'></a>\n",
        "### 1.4 - Normalizing Rows ####\n"
      ]
    },
    {
      "cell_type": "markdown",
      "metadata": {
        "id": "copY1O9I1-b0"
      },
      "source": [
        "Another common technique we use in Machine Learning and Deep Learning is to normalize our data. It often leads to a better performance because gradient descent converges faster after normalization. Here, by normalization we mean changing x to $ \\frac{x}{\\| x\\|} $ (dividing each row vector of x by its norm).\n",
        "\n",
        "For example, if\n",
        "$$x = \\begin{bmatrix}\n",
        "        0 & 3 & 4 \\\\\n",
        "        2 & 6 & 4 \\\\\n",
        "\\end{bmatrix}\\tag{3}$$\n",
        "then\n",
        "$$\\| x\\| =  \\begin{bmatrix}\n",
        "    5 \\\\\n",
        "    \\sqrt{56} \\\\\n",
        "\\end{bmatrix}\\tag{4} $$\n",
        "and\n",
        "$$ x\\_normalized = \\frac{x}{\\| x\\|} = \\begin{bmatrix}\n",
        "    0 & \\frac{3}{5} & \\frac{4}{5} \\\\\n",
        "    \\frac{2}{\\sqrt{56}} & \\frac{6}{\\sqrt{56}} & \\frac{4}{\\sqrt{56}} \\\\\n",
        "\\end{bmatrix}\\tag{5}$$\n",
        "\n",
        "Note that you can divide matrices of different sizes and it works fine: this is called broadcasting.\n",
        "\n",
        "HINTS:\n",
        "- `keepdims`\n",
        "- tf.norm has another parameter `ord` where we specify the type of normalization to be done (in the exercise below you'll do 2-norm).\n",
        "\n",
        "<a name='1-4-1'></a>\n",
        "#### 1.4.1 - Normalize_rows\n",
        "Implement normalizeRows() to normalize the rows of a matrix. After applying this function to an input matrix x, each row of x should be a vector of unit length (meaning length 1)."
      ]
    },
    {
      "cell_type": "code",
      "execution_count": null,
      "metadata": {
        "id": "8hWhZrER1-b0"
      },
      "outputs": [],
      "source": [
        "# GRADED FUNCTION: normalize_rows\n",
        "\n",
        "def normalize_rows(x):\n",
        "    \"\"\"\n",
        "    Implement a function that normalizes each row of the matrix x (to have unit length).\n",
        "\n",
        "    Argument:\n",
        "    x -- A numpy matrix of shape (n, m)\n",
        "\n",
        "    Returns:\n",
        "    x -- The normalized (by row) numpy matrix. You are allowed to modify x.\n",
        "    \"\"\"\n",
        "\n",
        "    #(≈ 2 lines of code)\n",
        "    # Compute x_norm as the norm 2 of x. Use tf.norm\n",
        "    # x_norm =\n",
        "    # Divide x by its norm.\n",
        "    # x =\n",
        "    # YOUR CODE STARTS HERE\n",
        "    x_norm = tf.norm(x, ord=2, axis=1, keepdims= True)\n",
        "    x= x/x_norm\n",
        "\n",
        "    # YOUR CODE ENDS HERE\n",
        "\n",
        "    return  x"
      ]
    },
    {
      "cell_type": "code",
      "execution_count": null,
      "metadata": {
        "colab": {
          "base_uri": "https://localhost:8080/"
        },
        "id": "-1ub2W7D1-b0",
        "outputId": "afdc44f9-8d68-49c8-eb66-6a9aee83f0c5"
      },
      "outputs": [
        {
          "name": "stdout",
          "output_type": "stream",
          "text": [
            "normalizeRows(x) = tf.Tensor(\n",
            "[[0.         0.6        0.8       ]\n",
            " [0.13736056 0.82416338 0.54944226]], shape=(2, 3), dtype=float64)\n"
          ]
        }
      ],
      "source": [
        "x = np.array([[0, 3, 4],\n",
        "              [1, 6, 4]], dtype=float)\n",
        "print(\"normalizeRows(x) = \" + str(normalize_rows(x)))"
      ]
    },
    {
      "cell_type": "markdown",
      "metadata": {
        "id": "pfwfV3_u1-b0"
      },
      "source": [
        "**Note**:\n",
        "In normalize_rows(), you can try to print the shapes of x_norm and x, and then rerun the assessment. You'll find out that they have different shapes. This is normal given that x_norm takes the norm of each row of x. So x_norm has the same number of rows but only 1 column. So how did it work when you divided x by x_norm? This is called broadcasting!"
      ]
    },
    {
      "cell_type": "markdown",
      "metadata": {
        "id": "MqoNar2c1-b0"
      },
      "source": [
        "<a name='1-4-2'></a>\n",
        "#### 1.4.2 - Softmax function ####"
      ]
    },
    {
      "cell_type": "markdown",
      "metadata": {
        "id": "dw-PFroI1-b0"
      },
      "source": [
        "**Exercise**: Implement a softmax function using tensorflow. You can think of softmax as a normalizing function (makes the sum of features of a sample to equal 1) used when your algorithm needs to classify two or more classes. You will learn more about softmax later in the course.\n",
        "\n",
        "**Instructions**:\n",
        "- $ \\text{for } x \\in \\mathbb{R}^{1\\times n} \\text{,     } softmax(x) = softmax(\\begin{bmatrix}\n",
        "    x_1  &&\n",
        "    x_2 &&\n",
        "    ...  &&\n",
        "    x_n  \n",
        "\\end{bmatrix}) = \\begin{bmatrix}\n",
        "     \\frac{e^{x_1}}{\\sum_{j}e^{x_j}}  &&\n",
        "    \\frac{e^{x_2}}{\\sum_{j}e^{x_j}}  &&\n",
        "    ...  &&\n",
        "    \\frac{e^{x_n}}{\\sum_{j}e^{x_j}}\n",
        "\\end{bmatrix} $\n",
        "\n",
        "- $\\text{for a matrix } x \\in \\mathbb{R}^{m \\times n} \\text{,  $x_{ij}$ maps to the element in the $i^{th}$ row and $j^{th}$ column of $x$, thus we have: }$  $$softmax(x) = softmax\\begin{bmatrix}\n",
        "    x_{11} & x_{12} & x_{13} & \\dots  & x_{1n} \\\\\n",
        "    x_{21} & x_{22} & x_{23} & \\dots  & x_{2n} \\\\\n",
        "    \\vdots & \\vdots & \\vdots & \\ddots & \\vdots \\\\\n",
        "    x_{m1} & x_{m2} & x_{m3} & \\dots  & x_{mn}\n",
        "\\end{bmatrix} = \\begin{bmatrix}\n",
        "    \\frac{e^{x_{11}}}{\\sum_{j}e^{x_{1j}}} & \\frac{e^{x_{12}}}{\\sum_{j}e^{x_{1j}}} & \\frac{e^{x_{13}}}{\\sum_{j}e^{x_{1j}}} & \\dots  & \\frac{e^{x_{1n}}}{\\sum_{j}e^{x_{1j}}} \\\\\n",
        "    \\frac{e^{x_{21}}}{\\sum_{j}e^{x_{2j}}} & \\frac{e^{x_{22}}}{\\sum_{j}e^{x_{2j}}} & \\frac{e^{x_{23}}}{\\sum_{j}e^{x_{2j}}} & \\dots  & \\frac{e^{x_{2n}}}{\\sum_{j}e^{x_{2j}}} \\\\\n",
        "    \\vdots & \\vdots & \\vdots & \\ddots & \\vdots \\\\\n",
        "    \\frac{e^{x_{m1}}}{\\sum_{j}e^{x_{mj}}} & \\frac{e^{x_{m2}}}{\\sum_{j}e^{x_{mj}}} & \\frac{e^{x_{m3}}}{\\sum_{j}e^{x_{mj}}} & \\dots  & \\frac{e^{x_{mn}}}{\\sum_{j}e^{x_{mj}}}\n",
        "\\end{bmatrix} = \\begin{pmatrix}\n",
        "    softmax\\text{(first row of x)}  \\\\\n",
        "    softmax\\text{(second row of x)} \\\\\n",
        "    ...  \\\\\n",
        "    softmax\\text{(last row of x)} \\\\\n",
        "\\end{pmatrix} $$"
      ]
    },
    {
      "cell_type": "markdown",
      "metadata": {
        "id": "ujjZyZZ31-b0"
      },
      "source": [
        "**NOTE**\n",
        "\n",
        "\"m\" is used to represent the \"number of training examples\".\n",
        "Softmax should be performed for all features of each training example, so softmax would be performed on the rows.\n",
        "\n",
        "$m$ is the number of rows and $n$ is the number of columns."
      ]
    },
    {
      "cell_type": "code",
      "execution_count": null,
      "metadata": {
        "id": "3_TSH9a51-b0"
      },
      "outputs": [],
      "source": [
        "# GRADED FUNCTION: softmax\n",
        "\n",
        "def softmax(x):\n",
        "    \"\"\"Calculates the softmax for each row of the input x.\n",
        "\n",
        "    Your code should work for a row vector and also for matrices of shape (m,n).\n",
        "\n",
        "    Argument:\n",
        "    x -- A numpy matrix of shape (m,n)\n",
        "\n",
        "    Returns:\n",
        "    s -- A numpy matrix equal to the softmax of x, of shape (m,n)\n",
        "    \"\"\"\n",
        "\n",
        "    ### START CODE HERE ### (≈ 3 lines of code)\n",
        "    # Apply exp() element-wise to x to get x_exp.\n",
        "    x_exp = tf.exp(x)\n",
        "    # Create a vector x_sum that sums each row of x_exp.\n",
        "    x_sum = tf.reduce_sum(x_exp, 1 , keepdims= True)\n",
        "    # Compute softmax(x) by dividing results of 2 previous steps.\n",
        "    s = x_exp/ x_sum\n",
        "    ### END CODE HERE ###\n",
        "\n",
        "    return s"
      ]
    },
    {
      "cell_type": "code",
      "execution_count": null,
      "metadata": {
        "colab": {
          "base_uri": "https://localhost:8080/"
        },
        "id": "WfbO0iDv1-b0",
        "outputId": "6f223728-a129-4a7c-93b6-8bfa1fb52937"
      },
      "outputs": [
        {
          "name": "stdout",
          "output_type": "stream",
          "text": [
            "softmax(x) = tf.Tensor(\n",
            "[[9.80897665e-01 8.94462891e-04 1.79657674e-02 1.21052389e-04\n",
            "  1.21052389e-04]\n",
            " [8.78679856e-01 1.18916387e-01 8.01252314e-04 8.01252314e-04\n",
            "  8.01252314e-04]], shape=(2, 5), dtype=float64)\n",
            "sum of each row of softmax(x) = tf.Tensor([1. 1.], shape=(2,), dtype=float64)\n"
          ]
        }
      ],
      "source": [
        "x = np.array([\n",
        "    [9, 2, 5, 0, 0],\n",
        "    [7, 5, 0, 0 ,0]], dtype=float)\n",
        "print(\"softmax(x) = \" + str(softmax(x)))\n",
        "print(\"sum of each row of softmax(x) = \" + str(tf.reduce_sum(softmax(x), axis=1)))"
      ]
    },
    {
      "cell_type": "markdown",
      "metadata": {
        "id": "7rl37MJU1-b1"
      },
      "source": [
        "**Note**:\n",
        "- If you print the shapes of x_exp, x_sum and s above and rerun the assessment cell, you will see that x_sum is of shape (2,1) while x_exp and s are of shape (2,5). **x_exp/x_sum** works due to python broadcasting."
      ]
    },
    {
      "cell_type": "markdown",
      "metadata": {
        "id": "mp7p0xH01-b1"
      },
      "source": [
        "<font color='blue'>\n",
        "**What you need to remember:**\n",
        "\n",
        "- tf.exp(x) works for any np.array x and applies the exponential function to every coordinate\n",
        "- the sigmoid function and its gradient\n",
        "- image2vector is commonly used in deep learning\n",
        "- tf.reshape is widely used. In the future, you'll see that keeping your matrix/vector dimensions straight will go toward eliminating a lot of bugs.\n",
        "- broadcasting is extremely useful"
      ]
    },
    {
      "cell_type": "markdown",
      "metadata": {
        "id": "W6S-DTw01-b1"
      },
      "source": [
        "<a name='1-2'></a>\n",
        "## 2 - Vectorization\n",
        "\n",
        "In deep learning, you deal with very large datasets. Hence, a non-computationally-optimal function can become a huge bottleneck in your algorithm and can result in a model that takes ages to run. To make sure that your code is computationally efficient, you will use vectorization."
      ]
    },
    {
      "cell_type": "markdown",
      "metadata": {
        "id": "oy2po4Aj1-b1"
      },
      "source": [
        "<a name='2-1'></a>\n",
        "### 2.1 Implement the L1 and L2 loss functions\n",
        "<a name='2-1-1'></a>\n",
        "#### 2.1.1 L1 loss:\n",
        "**Exercise**: Implement the vectorized version of the L1 loss. You may find the function tf.abs(x) (absolute value of x) useful.\n",
        "\n",
        "**Reminder**:\n",
        "- The loss is used to evaluate the performance of your model. The bigger your loss is, the more different your predictions ($ \\hat{y} $) are from the true values ($y$). In deep learning, you use optimization algorithms like Gradient Descent to train your model and to minimize the cost.\n",
        "- L1 loss is defined as:\n",
        "$$\\begin{align*} & L_1(\\hat{y}, y) = \\frac{1}{m}\\sum_{i=0}^m|y^{(i)} - \\hat{y}^{(i)}| \\end{align*}\\tag{6}$$"
      ]
    },
    {
      "cell_type": "code",
      "execution_count": null,
      "metadata": {
        "id": "NlBEybMh1-b1"
      },
      "outputs": [],
      "source": [
        "# GRADED FUNCTION: L1\n",
        "def L1(yhat, y):\n",
        "    \"\"\"\n",
        "    Arguments:\n",
        "    yhat -- vector of size m (predicted labels)\n",
        "    y -- vector of size m (true labels)\n",
        "\n",
        "    Returns:\n",
        "    loss -- the value of the L1 loss function defined above\n",
        "    \"\"\"\n",
        "\n",
        "    ### START CODE HERE ### (≈ 1 line of code)\n",
        "    loss= tf.reduce_mean(tf.abs(yhat-y))\n",
        "    ### END CODE HERE ###\n",
        "\n",
        "    return loss"
      ]
    },
    {
      "cell_type": "code",
      "execution_count": null,
      "metadata": {
        "colab": {
          "base_uri": "https://localhost:8080/"
        },
        "id": "jdA8NxHm1-b1",
        "outputId": "2ea6020d-6a57-49e1-c854-f20f60a0742a"
      },
      "outputs": [
        {
          "name": "stdout",
          "output_type": "stream",
          "text": [
            "L1 = tf.Tensor(0.22000000000000003, shape=(), dtype=float64)\n"
          ]
        }
      ],
      "source": [
        "yhat = np.array([.9, 0.2, 0.1, .4, .9])\n",
        "y = np.array([1, 0, 0, 1, 1])\n",
        "print(\"L1 = \" + str(L1(yhat,y)))"
      ]
    },
    {
      "cell_type": "markdown",
      "metadata": {
        "id": "dPiI129D1-b1"
      },
      "source": [
        "<a name='2-1-2'></a>\n",
        "#### 2.1.2 L2 loss:\n",
        "**Exercise**: Implement the vectorized version of the L2 loss. There are several way of implementing the L2 loss.\n",
        "\n",
        "- L2 loss is defined as $$\\begin{align*} & L_2(\\hat{y},y) = \\frac{1}{m}\\sum_{i=0}^m(y^{(i)} - \\hat{y}^{(i)})^2 \\end{align*}\\tag{7}$$"
      ]
    },
    {
      "cell_type": "code",
      "execution_count": null,
      "metadata": {
        "id": "01_0s1HN1-b1"
      },
      "outputs": [],
      "source": [
        "# GRADED FUNCTION: L2\n",
        "\n",
        "def L2(yhat, y):\n",
        "    \"\"\"\n",
        "    Arguments:\n",
        "    yhat -- vector of size m (predicted labels)\n",
        "    y -- vector of size m (true labels)\n",
        "\n",
        "    Returns:\n",
        "    loss -- the value of the L2 loss function defined above\n",
        "    \"\"\"\n",
        "\n",
        "    ### START CODE HERE ### (≈ 1 line of code)\n",
        "    loss= tf.reduce_mean(tf.square(tf.abs(yhat-y)))\n",
        "    ### END CODE HERE ###\n",
        "\n",
        "    return loss"
      ]
    },
    {
      "cell_type": "code",
      "execution_count": null,
      "metadata": {
        "colab": {
          "base_uri": "https://localhost:8080/"
        },
        "id": "lSD9Wyf91-b1",
        "outputId": "a6a69789-99f5-4313-d43a-f14cdf50599e"
      },
      "outputs": [
        {
          "name": "stdout",
          "output_type": "stream",
          "text": [
            "L2 = tf.Tensor(0.086, shape=(), dtype=float64)\n"
          ]
        }
      ],
      "source": [
        "yhat = np.array([.9, 0.2, 0.1, .4, .9])\n",
        "y = np.array([1, 0, 0, 1, 1])\n",
        "print(\"L2 = \" + str(L2(yhat,y)))"
      ]
    },
    {
      "cell_type": "markdown",
      "metadata": {
        "id": "Ii-ALC1k1-b1"
      },
      "source": [
        "<font color='blue'>\n",
        "**What to remember:**\n",
        "\n",
        "- Vectorization is very important in deep learning. It provides computational efficiency and clarity.\n",
        "- You have reviewed the L1 and L2 loss.\n",
        "- You are familiar with many tensorflow functions etc..."
      ]
    },
    {
      "cell_type": "markdown",
      "metadata": {
        "id": "57knM8jrYZ2t"
      },
      "source": [
        "<a name='3'></a>\n",
        "# Part2: Intro to TensorFlow\n",
        "\n",
        "In this part of the assignment, you'll get exposure to using TensorFlow and learn how it can be used for solving deep learning tasks."
      ]
    },
    {
      "cell_type": "markdown",
      "metadata": {
        "id": "2QNMcdP4m3Vs"
      },
      "source": [
        "## 1.1 Why is TensorFlow called TensorFlow?\n",
        "\n",
        "TensorFlow is called 'TensorFlow' because it handles the flow (node/mathematical operation) of Tensors, which are data structures that you can think of as multi-dimensional arrays.\n",
        "The ```shape``` of a Tensor defines its number of dimensions and the size of each dimension. The ```rank``` of a Tensor provides the number of dimensions (n-dimensions) -- you can also think of this as the Tensor's order or degree."
      ]
    },
    {
      "cell_type": "code",
      "execution_count": null,
      "metadata": {
        "id": "tFeBBe1IouS3"
      },
      "outputs": [],
      "source": [
        "### Defining higher-order Tensors ###\n",
        "\n",
        "'''TODO: Define a 2-d Tensor'''\n",
        "matrix = tf.constant([[1,2,3],[4,5,6]])\n",
        "\n",
        "assert isinstance(matrix, tf.Tensor), \"matrix must be a tf Tensor object\"\n",
        "assert tf.rank(matrix).numpy() == 2"
      ]
    },
    {
      "cell_type": "code",
      "execution_count": null,
      "metadata": {
        "id": "Zv1fTn_Ya_cz"
      },
      "outputs": [],
      "source": [
        "'''TODO: Define a 4-d Tensor.'''\n",
        "# Use tf.zeros to initialize a 4-d Tensor of zeros with size 10 x 256 x 256 x 3.\n",
        "#   You can think of this as 10 images where each image is RGB 256 x 256.\n",
        "images = tf.zeros([10,256,256,3])\n",
        "\n",
        "assert isinstance(images, tf.Tensor), \"matrix must be a tf Tensor object\"\n",
        "assert tf.rank(images).numpy() == 4, \"matrix must be of rank 4\"\n",
        "assert tf.shape(images).numpy().tolist() == [10, 256, 256, 3], \"matrix is incorrect shape\""
      ]
    },
    {
      "cell_type": "markdown",
      "metadata": {
        "id": "iD3VO-LZYZ2z"
      },
      "source": [
        "## 1.2 Computations on Tensors\n",
        "\n",
        "A convenient way to think about and visualize computations in TensorFlow is in terms of graphs. We can define this graph in terms of Tensors, which hold data, and the mathematical operations that act on these Tensors in some order. Let's look at a simple example, and define this computation using TensorFlow:\n",
        "\n",
        "![alt text](https://raw.githubusercontent.com/aamini/introtodeeplearning/master/lab1/img/add-graph.png)"
      ]
    },
    {
      "cell_type": "code",
      "execution_count": null,
      "metadata": {
        "colab": {
          "base_uri": "https://localhost:8080/"
        },
        "id": "X_YJrZsxYZ2z",
        "outputId": "d794122e-f3ba-4b06-af72-0c656ce6cb41"
      },
      "outputs": [
        {
          "name": "stdout",
          "output_type": "stream",
          "text": [
            "tf.Tensor(76, shape=(), dtype=int32)\n",
            "tf.Tensor(76, shape=(), dtype=int32)\n"
          ]
        }
      ],
      "source": [
        "# Create the nodes in the graph, and initialize values\n",
        "a = tf.constant(15)\n",
        "b = tf.constant(61)\n",
        "\n",
        "# Add them!\n",
        "c1 = tf.add(a,b)\n",
        "c2 = a + b # TensorFlow overrides the \"+\" operation so that it is able to act on Tensors\n",
        "print(c1)\n",
        "print(c2)"
      ]
    },
    {
      "cell_type": "markdown",
      "metadata": {
        "id": "Mbfv_QOiYZ23"
      },
      "source": [
        "Notice how we've created a computation graph consisting of TensorFlow operations, and how  the output is a Tensor with value 76 -- we've just created a computation graph consisting of operations, and it's executed them and given us back the result.\n",
        "\n",
        "Now let's consider a slightly more complicated example:\n",
        "\n",
        "<img src=\"https://i.ibb.co/VQvRN3y/computational-graph.png\" alt=\"computational-graph\" border=\"0\">\n",
        "\n",
        "Here, we take four inputs, `a, b, x, y`, and compute an output `f`. Each node in the graph represents an operation that takes some input, does some computation, and passes its output to another node.\n",
        "\n",
        "Let's define a simple function in TensorFlow to construct this computation function:"
      ]
    },
    {
      "cell_type": "code",
      "execution_count": null,
      "metadata": {
        "id": "PJnfzpWyYZ23",
        "scrolled": true
      },
      "outputs": [],
      "source": [
        "### Defining Tensor computations ###\n",
        "\n",
        "# Construct a simple computation function\n",
        "def func(x,a,b,y):\n",
        "  '''TODO: Define the operation for c, d, e, f (use tf.add, tf.subtract, tf.multiply).'''\n",
        "  c = tf.multiply(x,a)\n",
        "  d = tf.add(a,b)\n",
        "  e = tf.subtract(y, 2)\n",
        "  f = tf.subtract(tf.add(c,d),e)\n",
        "  return f"
      ]
    },
    {
      "cell_type": "markdown",
      "metadata": {
        "id": "AwrRfDMS2-oy"
      },
      "source": [
        "Now, we can call this function to execute the computation graph given some inputs `a,b`:"
      ]
    },
    {
      "cell_type": "code",
      "execution_count": null,
      "metadata": {
        "colab": {
          "base_uri": "https://localhost:8080/"
        },
        "id": "pnwsf8w2uF7p",
        "outputId": "faf26826-56b5-436b-c1c7-df02edf6ef99"
      },
      "outputs": [
        {
          "name": "stdout",
          "output_type": "stream",
          "text": [
            "tf.Tensor(6.25, shape=(), dtype=float32)\n"
          ]
        }
      ],
      "source": [
        "# Consider example values for a,b\n",
        "x, a, b, y = 1.5, 2.5, 2.0, 4.0\n",
        "# Execute the computation\n",
        "f_out = func(x,a,b,y)\n",
        "print(f_out)"
      ]
    },
    {
      "cell_type": "markdown",
      "metadata": {
        "id": "6HqgUIUhYZ29"
      },
      "source": [
        "Notice how our output is a Tensor with value defined by the output of the computation, and that the output has no shape as it is a single scalar value."
      ]
    },
    {
      "cell_type": "markdown",
      "metadata": {
        "id": "3Miv9p1T1-b5"
      },
      "source": [
        "## 1.3 Gradients Computations"
      ]
    },
    {
      "cell_type": "markdown",
      "metadata": {
        "id": "zER4WpxFLNe6"
      },
      "source": [
        "`GradientTape` provides an extremely flexible framework for automatic differentiation. In order to back propagate errors through a neural network, we track forward passes on the Tape, use this information to determine the gradients, and then use these gradients for optimization using SGD."
      ]
    },
    {
      "cell_type": "code",
      "execution_count": null,
      "metadata": {
        "id": "tdkqk8pw5yJM"
      },
      "outputs": [],
      "source": [
        "### Gradient computation with GradientTape ###\n",
        "\n",
        "# y = x^2\n",
        "# Example: x = 3.0\n",
        "x = tf.Variable(3.0)\n",
        "\n",
        "# Initiate the gradient tape\n",
        "with tf.GradientTape() as tape:\n",
        "  # Define the function\n",
        "  y = x * x\n",
        "\n",
        "# Access the gradient -- derivative of y with respect to x\n",
        "dy_dx = tape.gradient(y, x)\n",
        "\n",
        "assert dy_dx.numpy() == 6.0"
      ]
    },
    {
      "cell_type": "markdown",
      "metadata": {
        "id": "JhU5metS5xF3"
      },
      "source": [
        "In training neural networks, we use differentiation and stochastic gradient descent (SGD) to optimize a loss function. Now that we have a sense of how `GradientTape` can be used to compute and access derivatives, we will look at an example where we use automatic differentiation and SGD to find the minimum of\n",
        "$$L=(wx-y_{true})^2$$\n",
        "Here $y_{true}$ is a variable for a desired value we are trying to optimize for; $L$ represents a loss that we are trying to  minimize. While we can clearly solve this problem analytically ($w_{min}=\\frac{y_{true}}{x}$), considering how we can compute this using `GradientTape` sets us up nicely for future assignments where we use gradient descent to optimize entire neural network losses."
      ]
    },
    {
      "cell_type": "code",
      "execution_count": null,
      "metadata": {
        "colab": {
          "base_uri": "https://localhost:8080/",
          "height": 654
        },
        "id": "7g1yWiSXqEf-",
        "outputId": "6e772426-88fd-4718-99a7-c0655c3165c9"
      },
      "outputs": [
        {
          "name": "stdout",
          "output_type": "stream",
          "text": [
            "Initializing w=[[0.8369314]]\n"
          ]
        },
        {
          "data": {
            "text/plain": [
              "Text(0, 0.5, 'w value')"
            ]
          },
          "execution_count": 79,
          "metadata": {},
          "output_type": "execute_result"
        },
        {
          "data": {
            "image/png": "[encoded data removed]",
            "text/plain": [
              "<Figure size 1000x700 with 1 Axes>"
            ]
          },
          "metadata": {},
          "output_type": "display_data"
        }
      ],
      "source": [
        "### Function minimization with automatic differentiation and SGD ###\n",
        "tf.random.set_seed(1234)\n",
        "# Initialize a random value for our initial w\n",
        "w = tf.Variable([tf.random.normal([1])])\n",
        "print(\"Initializing w={}\".format(w.numpy()))\n",
        "\n",
        "x = 2.0\n",
        "\n",
        "learning_rate = 3e-2 # learning rate for SGD\n",
        "history = []\n",
        "history.append(w.numpy()[0])\n",
        "# Define the target value\n",
        "y_true = 4.0\n",
        "\n",
        "# We will run SGD for a number of iterations. At each iteration, we compute the loss,\n",
        "#   compute the derivative of the loss with respect to x, and perform the SGD update.\n",
        "for i in range(500):\n",
        "    with tf.GradientTape() as tape:\n",
        "        '''TODO: define the loss as described above'''\n",
        "        loss= (w*x - y_true)**2\n",
        "\n",
        "  # loss minimization using gradient tape\n",
        "    grad =  tape.gradient(loss, w) # TODO: compute the derivative of the loss with respect to x\n",
        "    new_w =  w- learning_rate*grad # TODO: sgd update eqtn\n",
        "    # TODO: update the value of w\n",
        "    w.assign(new_w)\n",
        "    history.append(w.numpy()[0])\n",
        "\n",
        "# Plot the evolution of wx as we optimize it towards y_true!\n",
        "fig = plt.figure(figsize = (10,7))\n",
        "plt.plot(np.array(history)*x)\n",
        "plt.plot([0, 500],[y_true,y_true])\n",
        "plt.legend(('Predicted', 'True'))\n",
        "plt.xlabel('Iteration')\n",
        "plt.ylabel('w value')"
      ]
    },
    {
      "cell_type": "code",
      "execution_count": null,
      "metadata": {
        "colab": {
          "base_uri": "https://localhost:8080/"
        },
        "id": "18vzHF-EE00Q",
        "outputId": "bb2d6dcf-a8d1-4856-d61d-9fa94f8bfd11"
      },
      "outputs": [
        {
          "name": "stdout",
          "output_type": "stream",
          "text": [
            "<tf.Variable 'Variable:0' shape=(1, 1) dtype=float32, numpy=array([[1.9999998]], dtype=float32)>\n"
          ]
        }
      ],
      "source": [
        "# print the final value of w\n",
        "print(w)"
      ]
    },
    {
      "cell_type": "markdown",
      "metadata": {
        "id": "cJE7lt5F1-b5"
      },
      "source": [
        "The following cell shows the evolution of the w value during gradien descent starting from initial w value"
      ]
    },
    {
      "cell_type": "code",
      "execution_count": null,
      "metadata": {
        "colab": {
          "base_uri": "https://localhost:8080/",
          "height": 644
        },
        "id": "kVDzgf9b1-b6",
        "outputId": "5923469f-18b4-461c-ee91-68ec6a0b9f50"
      },
      "outputs": [
        {
          "data": {
            "image/png": "[encoded data removed]",
            "text/plain": [
              "<Figure size 1000x700 with 1 Axes>"
            ]
          },
          "metadata": {},
          "output_type": "display_data"
        }
      ],
      "source": [
        "w = np.linspace(-2, 6, 200)\n",
        "loss_f = (w*x-y_true)**2\n",
        "loss = (np.array(history)*x-y_true)**2\n",
        "fig = plt.figure(figsize = (10,7))\n",
        "plt.title(\"Evolution of the cost function during gradient descent\", fontsize=15)\n",
        "plt.plot(w,loss_f)\n",
        "plt.plot(history, loss,'*', label = \"Cost function\")\n",
        "plt.xlabel('Weight', fontsize=11)\n",
        "plt.ylabel('Loss', fontsize=11)\n",
        "plt.legend(loc = \"upper right\")\n",
        "plt.show()"
      ]
    },
    {
      "cell_type": "markdown",
      "metadata": {
        "id": "Wbnwy_JD1-b6"
      },
      "source": [
        "#### Learning Rate"
      ]
    },
    {
      "cell_type": "markdown",
      "metadata": {
        "id": "768rtHXM1-b6"
      },
      "source": [
        "**Exercise**: Try the previous code blocks with learning rates ${0.3, 0.000005}$"
      ]
    },
    {
      "cell_type": "code",
      "execution_count": null,
      "metadata": {
        "colab": {
          "base_uri": "https://localhost:8080/",
          "height": 669
        },
        "id": "HeXduhAN1-b6",
        "outputId": "6a207542-ccb0-42d8-cd04-921e6c90d9da"
      },
      "outputs": [
        {
          "name": "stdout",
          "output_type": "stream",
          "text": [
            "Initializing w=[[0.8369314]]\n"
          ]
        },
        {
          "data": {
            "text/plain": [
              "Text(0, 0.5, 'w value')"
            ]
          },
          "execution_count": 82,
          "metadata": {},
          "output_type": "execute_result"
        },
        {
          "data": {
            "image/png": "[encoded data removed]",
            "text/plain": [
              "<Figure size 1000x700 with 1 Axes>"
            ]
          },
          "metadata": {},
          "output_type": "display_data"
        }
      ],
      "source": [
        "## TODO\n",
        "#### Implement SGD with learning_rate = 0.3\n",
        "tf.random.set_seed(1234)\n",
        "# Initialize a random value for our initial w\n",
        "w = tf.Variable([tf.random.normal([1])])\n",
        "print(\"Initializing w={}\".format(w.numpy()))\n",
        "\n",
        "x = 2.0\n",
        "\n",
        "learning_rate = 0.3 # learning rate for SGD\n",
        "history = []\n",
        "history.append(w.numpy()[0])\n",
        "# Define the target value\n",
        "y_true = 4.0\n",
        "\n",
        "# We will run SGD for a number of iterations. At each iteration, we compute the loss,\n",
        "#   compute the derivative of the loss with respect to x, and perform the SGD update.\n",
        "for i in range(500):\n",
        "    with tf.GradientTape() as tape:\n",
        "        '''TODO: define the loss as described above'''\n",
        "        loss= (w*x - y_true)**2\n",
        "\n",
        "  # loss minimization using gradient tape\n",
        "    grad =  tape.gradient(loss, w) # TODO: compute the derivative of the loss with respect to x\n",
        "    new_w =  w- learning_rate*grad # TODO: sgd update eqtn\n",
        "    # TODO: update the value of w\n",
        "    w.assign(new_w)\n",
        "    history.append(w.numpy()[0])\n",
        "\n",
        "# Plot the evolution of wx as we optimize it towards y_true!\n",
        "fig = plt.figure(figsize = (10,7))\n",
        "plt.plot(np.array(history)*x)\n",
        "plt.plot([0, 500],[y_true,y_true])\n",
        "plt.legend(('Predicted', 'True'))\n",
        "plt.xlabel('Iteration')\n",
        "plt.ylabel('w value')\n"
      ]
    },
    {
      "cell_type": "code",
      "execution_count": null,
      "metadata": {
        "colab": {
          "base_uri": "https://localhost:8080/",
          "height": 644
        },
        "id": "vw4dxFZS1-b6",
        "outputId": "bc3f1abc-7cf7-4eb1-b82e-61e5be2f6435"
      },
      "outputs": [
        {
          "data": {
            "image/png": "[encoded data removed]",
            "text/plain": [
              "<Figure size 1000x700 with 1 Axes>"
            ]
          },
          "metadata": {},
          "output_type": "display_data"
        }
      ],
      "source": [
        "## TODO\n",
        "#### Plot w value evolution against cost function\n",
        "#### -- make sure to remove the nans and inf from history before plotting\n",
        "#### -- constrain the value of w and history to be between -10 and 10 before plotting\n",
        "w = np.linspace(-2, 6, 200)\n",
        "loss_f = (w*x-y_true)**2\n",
        "\n",
        "history = [value for value in history if not np.isnan(value) and not np.isinf(value)]\n",
        "\n",
        "w = np.clip(w, -10, 10)\n",
        "history = np.clip(history, -10, 10)\n",
        "\n",
        "loss = (np.array(history)*x-y_true)**2\n",
        "fig = plt.figure(figsize = (10,7))\n",
        "plt.title(\"Evolution of the cost function during gradient descent\", fontsize=15)\n",
        "plt.plot(w,loss_f)\n",
        "plt.plot(history, loss,'*', label = \"Cost function\")\n",
        "plt.xlabel('Weight', fontsize=11)\n",
        "plt.ylabel('Loss', fontsize=11)\n",
        "plt.legend(loc = \"upper right\")\n",
        "plt.show()\n"
      ]
    },
    {
      "cell_type": "code",
      "execution_count": null,
      "metadata": {
        "colab": {
          "base_uri": "https://localhost:8080/",
          "height": 654
        },
        "id": "MGxd-3iT1-b6",
        "outputId": "ffdee078-4f80-4878-bf49-1d7b8363164f"
      },
      "outputs": [
        {
          "name": "stdout",
          "output_type": "stream",
          "text": [
            "Initializing w=[[0.8369314]]\n"
          ]
        },
        {
          "data": {
            "text/plain": [
              "Text(0, 0.5, 'w value')"
            ]
          },
          "execution_count": 87,
          "metadata": {},
          "output_type": "execute_result"
        },
        {
          "data": {
            "image/png": "[encoded data removed]",
            "text/plain": [
              "<Figure size 1000x700 with 1 Axes>"
            ]
          },
          "metadata": {},
          "output_type": "display_data"
        }
      ],
      "source": [
        "## TODO\n",
        "#### Implement SGD with learning_rate = 0.000005\n",
        "\n",
        "tf.random.set_seed(1234)\n",
        "# Initialize a random value for our initial w\n",
        "w = tf.Variable([tf.random.normal([1])])\n",
        "print(\"Initializing w={}\".format(w.numpy()))\n",
        "\n",
        "x = 2.0\n",
        "\n",
        "learning_rate = 0.000005 # learning rate for SGD\n",
        "history = []\n",
        "history.append(w.numpy()[0])\n",
        "# Define the target value\n",
        "y_true = 4.0\n",
        "\n",
        "# We will run SGD for a number of iterations. At each iteration, we compute the loss,\n",
        "#   compute the derivative of the loss with respect to x, and perform the SGD update.\n",
        "for i in range(500):\n",
        "    with tf.GradientTape() as tape:\n",
        "        '''TODO: define the loss as described above'''\n",
        "        loss= (w*x - y_true)**2\n",
        "\n",
        "  # loss minimization using gradient tape\n",
        "    grad =  tape.gradient(loss, w) # TODO: compute the derivative of the loss with respect to x\n",
        "    new_w =  w- learning_rate*grad # TODO: sgd update eqtn\n",
        "    # TODO: update the value of w\n",
        "    w.assign(new_w)\n",
        "    history.append(w.numpy()[0])\n",
        "\n",
        "# Plot the evolution of wx as we optimize it towards y_true!\n",
        "fig = plt.figure(figsize = (10,7))\n",
        "plt.plot(np.array(history)*x)\n",
        "plt.plot([0, 500],[y_true,y_true])\n",
        "plt.legend(('Predicted', 'True'))\n",
        "plt.xlabel('Iteration')\n",
        "plt.ylabel('w value')\n"
      ]
    },
    {
      "cell_type": "code",
      "execution_count": null,
      "metadata": {
        "colab": {
          "base_uri": "https://localhost:8080/",
          "height": 644
        },
        "id": "KUEGs1Er1-b6",
        "outputId": "857f5456-2b18-49fe-c3da-7a8f31e9fca1"
      },
      "outputs": [
        {
          "data": {
            "image/png": "[encoded data removed]",
            "text/plain": [
              "<Figure size 1000x700 with 1 Axes>"
            ]
          },
          "metadata": {},
          "output_type": "display_data"
        }
      ],
      "source": [
        "## TODO\n",
        "#### Plot w value evolution against cost function\n",
        "\n",
        "w = np.linspace(-2, 6, 200)\n",
        "loss_f = (w*x-y_true)**2\n",
        "loss = (np.array(history)*x-y_true)**2\n",
        "fig = plt.figure(figsize = (10,7))\n",
        "plt.title(\"Evolution of the cost function during gradient descent\", fontsize=15)\n",
        "plt.plot(w,loss_f)\n",
        "plt.plot(history, loss,'*', label = \"Cost function\")\n",
        "plt.xlabel('Weight', fontsize=11)\n",
        "plt.ylabel('Loss', fontsize=11)\n",
        "plt.legend(loc = \"upper right\")\n",
        "plt.show()"
      ]
    },
    {
      "cell_type": "markdown",
      "metadata": {
        "id": "vxcdEwu11-b6"
      },
      "source": [
        "# Part3: A neural Network"
      ]
    },
    {
      "cell_type": "markdown",
      "metadata": {
        "id": "WO62anib1-b6"
      },
      "source": [
        "In the tutorial we learned how to create a network model that predicts the handwritten digits from the MNIST dataset. This time we are trying recognize different items of clothing, trained from a dataset containing 10 different types."
      ]
    },
    {
      "cell_type": "markdown",
      "metadata": {
        "id": "n_n1U5do3u_F"
      },
      "source": [
        "The Fashion MNIST data is available directly in the tf.keras datasets API."
      ]
    },
    {
      "cell_type": "markdown",
      "metadata": {
        "id": "9ffmmPN81-b7"
      },
      "source": [
        "### Question 1 Loading and Viewing data"
      ]
    },
    {
      "cell_type": "markdown",
      "metadata": {
        "id": "Z9giYpQD1-b7"
      },
      "source": [
        "The Fashion MNIST data is available directly in the tf.keras datasets API.\n",
        "- **Q** Load it like we did in the tutorial from keras."
      ]
    },
    {
      "cell_type": "code",
      "execution_count": null,
      "metadata": {
        "colab": {
          "base_uri": "https://localhost:8080/"
        },
        "id": "PmxkHFpt31bM",
        "outputId": "ae5b0188-ed29-4d8b-c313-6d2d8d5df389"
      },
      "outputs": [
        {
          "name": "stdout",
          "output_type": "stream",
          "text": [
            "Downloading data from https://storage.googleapis.com/tensorflow/tf-keras-datasets/train-labels-idx1-ubyte.gz\n",
            "29515/29515 [==============================] - 0s 0us/step\n",
            "Downloading data from https://storage.googleapis.com/tensorflow/tf-keras-datasets/train-images-idx3-ubyte.gz\n",
            "26421880/26421880 [==============================] - 0s 0us/step\n",
            "Downloading data from https://storage.googleapis.com/tensorflow/tf-keras-datasets/t10k-labels-idx1-ubyte.gz\n",
            "5148/5148 [==============================] - 0s 0us/step\n",
            "Downloading data from https://storage.googleapis.com/tensorflow/tf-keras-datasets/t10k-images-idx3-ubyte.gz\n",
            "4422102/4422102 [==============================] - 0s 0us/step\n"
          ]
        }
      ],
      "source": [
        " #TODO\n",
        " mnist = tf.keras.datasets.fashion_mnist\n",
        "\n",
        "(training_images, training_labels), (test_images, test_labels) = mnist.load_data()"
      ]
    },
    {
      "cell_type": "code",
      "execution_count": null,
      "metadata": {
        "colab": {
          "base_uri": "https://localhost:8080/"
        },
        "id": "sTkKhqkU8Lfk",
        "outputId": "78cd0adb-a71d-4548-bd49-6e351b1de011"
      },
      "outputs": [
        {
          "data": {
            "text/plain": [
              "array([0, 1, 2, 3, 4, 5, 6, 7, 8, 9], dtype=uint8)"
            ]
          },
          "execution_count": 4,
          "metadata": {},
          "output_type": "execute_result"
        }
      ],
      "source": [
        "np.unique(test_labels)"
      ]
    },
    {
      "cell_type": "markdown",
      "metadata": {
        "id": "c9Cv9Bn11-b7"
      },
      "source": [
        "- **Q** Normalize it like we did in the tutorial."
      ]
    },
    {
      "cell_type": "code",
      "execution_count": null,
      "metadata": {
        "id": "kRH19pWs6ZDn"
      },
      "outputs": [],
      "source": [
        " #TODO\n",
        " training_images, test_images = training_images / 255.0, test_images / 255.0"
      ]
    },
    {
      "cell_type": "markdown",
      "metadata": {
        "id": "7_dNFJQj1-b7"
      },
      "source": [
        "- **Q** Display 10 *random* images from the training images in 1 figure."
      ]
    },
    {
      "cell_type": "code",
      "execution_count": null,
      "metadata": {
        "colab": {
          "base_uri": "https://localhost:8080/",
          "height": 351
        },
        "id": "0172X_Zy1-b7",
        "outputId": "ed576cfb-1716-4dad-945d-746ff2bebc6d"
      },
      "outputs": [
        {
          "data": {
            "image/png": "[encoded data removed]",
            "text/plain": [
              "<Figure size 640x480 with 10 Axes>"
            ]
          },
          "metadata": {},
          "output_type": "display_data"
        }
      ],
      "source": [
        "random.seed(1234)\n",
        "from matplotlib import pyplot as plt\n",
        "# plot first few images\n",
        "for i in range(10):\n",
        "\t# define subplot\n",
        "\tplt.subplot(2, 5, i + 1)\n",
        "\n",
        "\t# plot raw pixel data\n",
        "\tplt.imshow(training_images[i], cmap=plt.get_cmap('gray'))\n",
        "\n",
        "# show the figure\n",
        "# plt.subplots_adjust(wspace=0.8, hspace=0)\n",
        "plt.show()\n",
        "#TODO#\n"
      ]
    },
    {
      "cell_type": "markdown",
      "metadata": {
        "id": "Dky4nQEb1-b7"
      },
      "source": [
        "### Question 2 The Model"
      ]
    },
    {
      "cell_type": "markdown",
      "metadata": {
        "id": "dIn7S9gf62ie"
      },
      "source": [
        "Let's now design the model. Design a sequential neural network model with 2 hidden dense layers and 1 output dense layer. Use ReLu as activation function for the hidden layers and softmax as the activation for the output layer.\n",
        "\n",
        "For the hidden layers' neurons, their number is left to your decision 😏"
      ]
    },
    {
      "cell_type": "code",
      "execution_count": null,
      "metadata": {
        "colab": {
          "base_uri": "https://localhost:8080/"
        },
        "id": "K_S58qi93E-x",
        "outputId": "7fd996f0-e8a7-4132-9f47-0f1e16e109fd"
      },
      "outputs": [
        {
          "data": {
            "text/plain": [
              "(60000, 28, 28)"
            ]
          },
          "execution_count": 62,
          "metadata": {},
          "output_type": "execute_result"
        }
      ],
      "source": [
        "training_images.shape"
      ]
    },
    {
      "cell_type": "code",
      "execution_count": null,
      "metadata": {
        "id": "7mAyndG3kVlK"
      },
      "outputs": [],
      "source": [
        "#TODO# Sequential Model\n",
        "\n",
        "model = tf.keras.models.Sequential([\n",
        "  tf.keras.layers.Flatten(input_shape=(28, 28)),\n",
        "  tf.keras.layers.Dense(128,activation='relu'),\n",
        "  tf.keras.layers.Dense(10, activation= 'softmax')\n",
        "])"
      ]
    },
    {
      "cell_type": "markdown",
      "metadata": {
        "id": "z9NCNycfYK9D"
      },
      "source": [
        "Create the some model but using the `Functional` API"
      ]
    },
    {
      "cell_type": "code",
      "execution_count": null,
      "metadata": {
        "colab": {
          "base_uri": "https://localhost:8080/"
        },
        "id": "N1bENiMkYSIB",
        "outputId": "782cfb40-c493-4e9d-adca-132a22751599"
      },
      "outputs": [
        {
          "name": "stdout",
          "output_type": "stream",
          "text": [
            "Model: \"model_2\"\n",
            "_________________________________________________________________\n",
            " Layer (type)                Output Shape              Param #   \n",
            "=================================================================\n",
            " input_3 (InputLayer)        [(None, 28, 28)]          0         \n",
            "                                                                 \n",
            " flatten_12 (Flatten)        (None, 784)               0         \n",
            "                                                                 \n",
            " dense_24 (Dense)            (None, 128)               100480    \n",
            "                                                                 \n",
            " dense_25 (Dense)            (None, 10)                1290      \n",
            "                                                                 \n",
            "=================================================================\n",
            "Total params: 101770 (397.54 KB)\n",
            "Trainable params: 101770 (397.54 KB)\n",
            "Non-trainable params: 0 (0.00 Byte)\n",
            "_________________________________________________________________\n"
          ]
        }
      ],
      "source": [
        "#TODO# Functional Model\n",
        "\n",
        "\n",
        "input_layer = tf.keras.layers.Input(shape=(28, 28))\n",
        "flatten_layer = tf.keras.layers.Flatten()(input_layer)\n",
        "\n",
        "dense1 = tf.keras.layers.Dense(128, activation='relu')(flatten_layer)\n",
        "\n",
        "output_layer = tf.keras.layers.Dense(10, activation='softmax')(dense1)\n",
        "\n",
        "model = tf.keras.models.Model(inputs=input_layer, outputs=output_layer)\n",
        "\n",
        "model.summary()\n"
      ]
    },
    {
      "cell_type": "markdown",
      "metadata": {
        "id": "x4aQxE_vMcmD"
      },
      "source": [
        "Compile the model with the appropriate crossentropy loss (take note of type of label) and Adam optimizer. Use accuracy for the metrics."
      ]
    },
    {
      "cell_type": "code",
      "execution_count": null,
      "metadata": {
        "colab": {
          "base_uri": "https://localhost:8080/"
        },
        "id": "TpinsVQ953Ks",
        "outputId": "89c901ea-e84c-48bc-87fe-7d731e876e7b"
      },
      "outputs": [
        {
          "data": {
            "text/plain": [
              "array([0, 1, 2, 3, 4, 5, 6, 7, 8, 9], dtype=uint8)"
            ]
          },
          "execution_count": 9,
          "metadata": {},
          "output_type": "execute_result"
        }
      ],
      "source": [
        "np.unique(training_labels)"
      ]
    },
    {
      "cell_type": "code",
      "execution_count": null,
      "metadata": {
        "colab": {
          "base_uri": "https://localhost:8080/"
        },
        "id": "RcG1ONOmvCwm",
        "outputId": "61114227-fefd-4a39-8dd9-114c6ea7698d"
      },
      "outputs": [
        {
          "data": {
            "text/plain": [
              "(60000,)"
            ]
          },
          "execution_count": 10,
          "metadata": {},
          "output_type": "execute_result"
        }
      ],
      "source": [
        "training_labels.shape"
      ]
    },
    {
      "cell_type": "code",
      "execution_count": null,
      "metadata": {
        "id": "BLMdl9aP8nQ0"
      },
      "outputs": [],
      "source": [
        "#TODO# Compile the model\n",
        "model.compile(optimizer='adam', loss='sparse_categorical_crossentropy', metrics=['accuracy'])"
      ]
    },
    {
      "cell_type": "code",
      "execution_count": null,
      "metadata": {
        "colab": {
          "base_uri": "https://localhost:8080/"
        },
        "id": "28qjqoZcM197",
        "outputId": "6c4094b3-bcc3-4b69-8dec-6d2cfd77c651"
      },
      "outputs": [
        {
          "name": "stdout",
          "output_type": "stream",
          "text": [
            "Epoch 1/5\n",
            "1875/1875 [==============================] - 12s 6ms/step - loss: 2.7820 - accuracy: 0.9122\n",
            "Epoch 2/5\n",
            "1875/1875 [==============================] - 12s 6ms/step - loss: 0.4053 - accuracy: 0.9385\n",
            "Epoch 3/5\n",
            "1875/1875 [==============================] - 11s 6ms/step - loss: 0.3509 - accuracy: 0.9414\n",
            "Epoch 4/5\n",
            "1875/1875 [==============================] - 11s 6ms/step - loss: 0.3120 - accuracy: 0.9471\n",
            "Epoch 5/5\n",
            "1875/1875 [==============================] - 12s 6ms/step - loss: 0.2767 - accuracy: 0.9525\n"
          ]
        },
        {
          "data": {
            "text/plain": [
              "<keras.src.callbacks.History at 0x7eebe8e00850>"
            ]
          },
          "execution_count": 26,
          "metadata": {},
          "output_type": "execute_result"
        }
      ],
      "source": [
        "model.fit(training_images, training_labels, epochs=5)"
      ]
    },
    {
      "cell_type": "code",
      "execution_count": null,
      "metadata": {
        "colab": {
          "base_uri": "https://localhost:8080/"
        },
        "id": "BsNS77d1TpFa",
        "outputId": "102e4a56-3439-49c2-c3f3-4ce8385854e8"
      },
      "outputs": [
        {
          "name": "stdout",
          "output_type": "stream",
          "text": [
            "313/313 [==============================] - 1s 2ms/step - loss: 0.3547 - accuracy: 0.9433\n"
          ]
        },
        {
          "data": {
            "text/plain": [
              "[0.354666531085968, 0.9433000087738037]"
            ]
          },
          "execution_count": 27,
          "metadata": {},
          "output_type": "execute_result"
        }
      ],
      "source": [
        "model.evaluate(test_images, test_labels)"
      ]
    },
    {
      "cell_type": "markdown",
      "metadata": {
        "id": "rquQqIx4AaGR"
      },
      "source": [
        "Run the below code: It creates a set of classifications for each of the test images, and then prints the first entry in the classifications. The output, after you run it is a list of numbers."
      ]
    },
    {
      "cell_type": "code",
      "execution_count": null,
      "metadata": {
        "colab": {
          "base_uri": "https://localhost:8080/"
        },
        "id": "RyEIki0z_hAD",
        "outputId": "10d5d369-7b32-480d-b380-ab5b62d433b7"
      },
      "outputs": [
        {
          "name": "stdout",
          "output_type": "stream",
          "text": [
            "313/313 [==============================] - 1s 2ms/step\n",
            "[7.56976306e-07 1.16310474e-07 2.19947105e-09 3.33665984e-10\n",
            " 2.51051571e-08 1.61192194e-02 9.49903480e-08 3.30831222e-02\n",
            " 1.80072911e-05 9.50778663e-01]\n"
          ]
        }
      ],
      "source": [
        "classifications = model.predict(test_images)\n",
        "\n",
        "print(classifications[0])"
      ]
    },
    {
      "cell_type": "markdown",
      "metadata": {
        "id": "MdzqbQhRArzm"
      },
      "source": [
        "Hint: try running print(test_labels[0]) -- and you'll get a 9. Does that help you understand why this list looks the way it does?"
      ]
    },
    {
      "cell_type": "code",
      "execution_count": null,
      "metadata": {
        "colab": {
          "base_uri": "https://localhost:8080/"
        },
        "id": "WnBGOrMiA1n5",
        "outputId": "136a0fd7-aa85-4900-c9c2-c9a71d702356"
      },
      "outputs": [
        {
          "name": "stdout",
          "output_type": "stream",
          "text": [
            "9\n"
          ]
        }
      ],
      "source": [
        "print(test_labels[0])"
      ]
    },
    {
      "cell_type": "markdown",
      "metadata": {
        "id": "uUs7eqr7uSvs"
      },
      "source": [
        "- **Q** What does this list represent?\n",
        "\n",
        "\n",
        "1.   It's 10 random meaningless values\n",
        "2.   It's the first 10 classifications that the computer made\n",
        "3.   It's the probability that this item is each of the 10 classes\n"
      ]
    },
    {
      "cell_type": "markdown",
      "metadata": {
        "id": "wAbr92RTA67u"
      },
      "source": [
        "- TODO (Answer): 3"
      ]
    },
    {
      "cell_type": "markdown",
      "metadata": {
        "id": "CD4kC6TBu-69"
      },
      "source": [
        "**Q** How do you know that this list tells you that the item is an ankle boot?\n",
        "\n",
        "\n",
        "1.   There's not enough information to answer that question\n",
        "2.   The 10th element on the list is the biggest, and the ankle boot is labelled 9\n",
        "2.   The ankle boot is label 9, and there are 0->9 elements in the list\n"
      ]
    },
    {
      "cell_type": "markdown",
      "metadata": {
        "id": "gEpYX8zE1-b8"
      },
      "source": [
        "- TODO (Answer): 2"
      ]
    },
    {
      "cell_type": "markdown",
      "metadata": {
        "id": "OgQSIfDSOWv6"
      },
      "source": [
        "Let's now look at the layers in your model. Experiment with different values for the dense layer. What different results do you get for loss, training time etc? Why do you think that's the case?\n"
      ]
    },
    {
      "cell_type": "markdown",
      "metadata": {
        "id": "bOOEnHZFv5cS"
      },
      "source": [
        "**Q** Use a larger number of neurons in the 2 hidden layers -- What's the impact?\n"
      ]
    },
    {
      "cell_type": "markdown",
      "metadata": {
        "id": "GBqallpf1-b8"
      },
      "source": [
        "- TODO (Answer):\n",
        "\n",
        "when I used 512 neurons in the first dense layer, surprisingly it performed better the accuracy of both training and testing went up.\n",
        "I thought it would overfit, but it seems that it learned more complex features and therefore clasiffied more accurate"
      ]
    },
    {
      "cell_type": "code",
      "execution_count": null,
      "metadata": {
        "colab": {
          "base_uri": "https://localhost:8080/"
        },
        "id": "GSZSwV5UObQP",
        "outputId": "be46f825-eca0-458c-81f9-6308e640c731"
      },
      "outputs": [
        {
          "output_type": "stream",
          "name": "stdout",
          "text": [
            "Epoch 1/5\n",
            "1875/1875 [==============================] - 8s 4ms/step - loss: 2.8244 - accuracy: 0.9064\n",
            "Epoch 2/5\n",
            "1875/1875 [==============================] - 11s 6ms/step - loss: 0.3207 - accuracy: 0.9373\n",
            "Epoch 3/5\n",
            "1875/1875 [==============================] - 12s 6ms/step - loss: 0.2974 - accuracy: 0.9403\n",
            "Epoch 4/5\n",
            "1875/1875 [==============================] - 10s 5ms/step - loss: 0.2852 - accuracy: 0.9438\n",
            "Epoch 5/5\n",
            "1875/1875 [==============================] - 7s 4ms/step - loss: 0.2413 - accuracy: 0.9518\n",
            "313/313 [==============================] - 1s 2ms/step - loss: 0.2827 - accuracy: 0.9507\n",
            "313/313 [==============================] - 1s 2ms/step\n",
            "[3.1247323e-35 2.3425732e-15 3.4111320e-06 7.5506589e-12 6.6047225e-27\n",
            " 4.3187319e-18 9.0325340e-37 9.9999648e-01 1.4113250e-14 6.3263828e-19]\n",
            "7\n"
          ]
        }
      ],
      "source": [
        "#TODO# create model\n",
        "model =  tf.keras.models.Sequential([\n",
        "  tf.keras.layers.Flatten(input_shape=(28, 28)),\n",
        "  tf.keras.layers.Dense(512,activation='relu'),\n",
        "  tf.keras.layers.Dense(10, activation= 'softmax')\n",
        "])\n",
        "\n",
        "#TODO# Compile the model\n",
        "\n",
        "model.compile(optimizer='adam', loss='sparse_categorical_crossentropy', metrics=['accuracy'])\n",
        "\n",
        "model.fit(training_images, training_labels, epochs=5)\n",
        "\n",
        "model.evaluate(test_images, test_labels)\n",
        "\n",
        "classifications = model.predict(test_images)\n",
        "\n",
        "print(classifications[0])\n",
        "print(test_labels[0])"
      ]
    },
    {
      "cell_type": "markdown",
      "metadata": {
        "id": "HS3vVkOgCDGZ"
      },
      "source": [
        "**Q** Before you trained, you normalized the data, going from values that were 0-255 to values that were 0-1. What would be the impact of removing that? Here's the complete code to give it a try. Why do you think you get different results?"
      ]
    },
    {
      "cell_type": "markdown",
      "metadata": {
        "id": "LeapTMDK1-b9"
      },
      "source": [
        "- TODO (Answer) : The use of data normalization leads to a significant reduction in the loss compared to not normalizing the data.  \n",
        "\n",
        "(in this example it is reduced by a factor of 10)"
      ]
    },
    {
      "cell_type": "code",
      "execution_count": null,
      "metadata": {
        "colab": {
          "base_uri": "https://localhost:8080/"
        },
        "id": "2KYiynj41-b9",
        "outputId": "fe539564-3e4e-4d2d-84ca-ce8916a23ed3"
      },
      "outputs": [
        {
          "name": "stdout",
          "output_type": "stream",
          "text": [
            "Epoch 1/5\n",
            "1875/1875 [==============================] - 7s 4ms/step - loss: 2.6768\n",
            "Epoch 2/5\n",
            "1875/1875 [==============================] - 6s 3ms/step - loss: 0.3351\n",
            "Epoch 3/5\n",
            "1875/1875 [==============================] - 7s 4ms/step - loss: 0.2862\n",
            "Epoch 4/5\n",
            "1875/1875 [==============================] - 6s 3ms/step - loss: 0.2818\n",
            "Epoch 5/5\n",
            "1875/1875 [==============================] - 7s 4ms/step - loss: 0.2402\n"
          ]
        },
        {
          "data": {
            "text/plain": [
              "<keras.src.callbacks.History at 0x7eebea8d0640>"
            ]
          },
          "execution_count": 22,
          "metadata": {},
          "output_type": "execute_result"
        }
      ],
      "source": [
        "#### CODE FOR DATA NOT NORMALIZED\n",
        "mnist = tf.keras.datasets.mnist\n",
        "(training_images, training_labels), (test_images, test_labels) = mnist.load_data()\n",
        "\n",
        "model = tf.keras.models.Sequential([\n",
        "  tf.keras.layers.Flatten(),\n",
        "  tf.keras.layers.Dense(512, activation=tf.nn.relu),\n",
        "  tf.keras.layers.Dense(10, activation=tf.nn.softmax)\n",
        "])\n",
        "model.compile(optimizer='adam', loss='sparse_categorical_crossentropy')\n",
        "model.fit(training_images, training_labels, epochs=5)"
      ]
    },
    {
      "cell_type": "code",
      "execution_count": null,
      "metadata": {
        "colab": {
          "base_uri": "https://localhost:8080/"
        },
        "id": "JDqNAqrpCNg0",
        "outputId": "02d5a87a-bc3b-46a3-a7a5-50bbb4c1382f"
      },
      "outputs": [
        {
          "name": "stdout",
          "output_type": "stream",
          "text": [
            "Epoch 1/5\n",
            "1875/1875 [==============================] - 7s 4ms/step - loss: 0.2033\n",
            "Epoch 2/5\n",
            "1875/1875 [==============================] - 11s 6ms/step - loss: 0.0802\n",
            "Epoch 3/5\n",
            "1875/1875 [==============================] - 11s 6ms/step - loss: 0.0524\n",
            "Epoch 4/5\n",
            "1875/1875 [==============================] - 10s 5ms/step - loss: 0.0379\n",
            "Epoch 5/5\n",
            "1875/1875 [==============================] - 7s 4ms/step - loss: 0.0265\n"
          ]
        },
        {
          "data": {
            "text/plain": [
              "<keras.src.callbacks.History at 0x7eebeca54d00>"
            ]
          },
          "execution_count": 21,
          "metadata": {},
          "output_type": "execute_result"
        }
      ],
      "source": [
        "#### CODE FOR DATA NORMALIZED\n",
        "mnist = tf.keras.datasets.mnist\n",
        "(training_images, training_labels), (test_images, test_labels) = mnist.load_data()\n",
        "\n",
        "training_images = training_images/255.0\n",
        "\n",
        "\n",
        "model = tf.keras.models.Sequential([\n",
        "  tf.keras.layers.Flatten(),\n",
        "  tf.keras.layers.Dense(512, activation=tf.nn.relu),\n",
        "  tf.keras.layers.Dense(10, activation=tf.nn.softmax)\n",
        "])\n",
        "model.compile(optimizer='adam', loss='sparse_categorical_crossentropy')\n",
        "model.fit(training_images, training_labels, epochs=5)"
      ]
    },
    {
      "cell_type": "markdown",
      "metadata": {
        "id": "3eI6DUic-6jo"
      },
      "source": [
        "References:\n",
        "- MIT 6.S191\n",
        "- DL.ai\n"
      ]
    }
  ],
  "metadata": {
    "accelerator": "GPU",
    "colab": {
      "provenance": []
    },
    "kernelspec": {
      "display_name": "Python 3",
      "name": "python3"
    },
    "language_info": {
      "codemirror_mode": {
        "name": "ipython",
        "version": 3
      },
      "file_extension": ".py",
      "mimetype": "text/x-python",
      "name": "python",
      "nbconvert_exporter": "python",
      "pygments_lexer": "ipython3",
      "version": "3.8.8"
    }
  },
  "nbformat": 4,
  "nbformat_minor": 0
}