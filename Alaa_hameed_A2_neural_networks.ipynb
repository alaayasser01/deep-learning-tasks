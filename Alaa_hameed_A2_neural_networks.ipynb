{
  "cells": [
    {
      "cell_type": "markdown",
      "id": "d2fed8c8-3b58-464a-b89d-df85d934f740",
      "metadata": {
        "id": "d2fed8c8-3b58-464a-b89d-df85d934f740"
      },
      "source": [
        "---\n",
        "# Cairo University Faculty of Engineering\n",
        "## Deep Learning\n",
        "## Assignment 2\n",
        "\n",
        "---"
      ]
    },
    {
      "cell_type": "markdown",
      "id": "9f09594d-0c42-4205-a0af-77097e41f555",
      "metadata": {
        "id": "9f09594d-0c42-4205-a0af-77097e41f555"
      },
      "source": [
        "Please write your full name here\n",
        "- **Name** : \"Alaa Yasser Mahmoud\""
      ]
    },
    {
      "cell_type": "code",
      "execution_count": null,
      "id": "02dc8d6e-7d9a-48c0-a84d-fdd3c63c9c78",
      "metadata": {
        "id": "02dc8d6e-7d9a-48c0-a84d-fdd3c63c9c78"
      },
      "outputs": [],
      "source": [
        "%matplotlib inline\n",
        "import numpy as np\n",
        "import matplotlib.pyplot as plt\n",
        "import random\n",
        "import tensorflow as tf\n",
        "\n",
        "from tensorflow.keras.models import Sequential\n",
        "from tensorflow.keras.layers import Dense\n",
        "import pandas as pd\n",
        "import math\n",
        "\n",
        "from sklearn.datasets import make_blobs  #To generate artificial data\n",
        "from keras.optimizers import SGD\n",
        "from keras.utils import to_categorical\n",
        "from sklearn.model_selection import train_test_split"
      ]
    },
    {
      "cell_type": "markdown",
      "id": "caa1ef2a-e2e4-45b6-9f95-ad5a9d8e7391",
      "metadata": {
        "id": "caa1ef2a-e2e4-45b6-9f95-ad5a9d8e7391"
      },
      "source": [
        "**Use TensorFlow unless mentioned otherwise**"
      ]
    },
    {
      "cell_type": "markdown",
      "id": "4f383a40-2b6d-4bb3-bb45-4b6602896480",
      "metadata": {
        "tags": [],
        "id": "4f383a40-2b6d-4bb3-bb45-4b6602896480"
      },
      "source": [
        "# Part 2: Regression"
      ]
    },
    {
      "cell_type": "markdown",
      "id": "0ddb4513-a883-475c-acb4-7daf8a1434a7",
      "metadata": {
        "jp-MarkdownHeadingCollapsed": true,
        "origin_pos": 0,
        "tags": [],
        "id": "0ddb4513-a883-475c-acb4-7daf8a1434a7"
      },
      "source": [
        "In this part, (**we will implement the entire linear regression method from scratch,\n",
        "including the data pipeline, the model,\n",
        "the loss function, and the minibatch stochastic gradient descent optimizer.**)\n",
        "You will rely only on tensors and auto differentiation.\n"
      ]
    },
    {
      "cell_type": "markdown",
      "id": "9885bf7b-0575-456d-a16c-997636bb6b3b",
      "metadata": {
        "id": "9885bf7b-0575-456d-a16c-997636bb6b3b"
      },
      "source": [
        "we will use $n$ to denote\n",
        "the number of examples in our dataset.\n",
        "We index the data examples by $i$, denoting each input\n",
        "as $\\mathbf{x}^{(i)} = [x_1^{(i)}, x_2^{(i)}]^\\top$\n",
        "and the corresponding label as $y^{(i)}$.\n",
        "\n",
        "\n",
        "**Linear Model**\n",
        "\n",
        "\n",
        "We will often find it convenient\n",
        "to refer to features of our entire dataset of $n$ examples\n",
        "via the *design matrix* $\\mathbf{X} \\in \\mathbb{R}^{n \\times d}$.\n",
        "Here, $\\mathbf{X}$ contains one row for every example\n",
        "and one column for every feature.\n",
        "\n",
        "For a collection of features $\\mathbf{X}$,\n",
        "the predictions $\\hat{\\mathbf{y}} \\in \\mathbb{R}^n$\n",
        "can be expressed via the matrix-vector product:\n",
        "\n",
        "$${\\hat{\\mathbf{y}}} = \\mathbf{X} \\mathbf{w} + b,$$\n",
        "\n",
        "\n",
        "**Loss Function**\n",
        "\n",
        "The most popular loss function in regression problems\n",
        "is the squared error.\n",
        "When our prediction for an example $i$ is $\\hat{y}^{(i)}$\n",
        "and the corresponding true label is $y^{(i)}$,\n",
        "the squared error is given by:\n",
        "\n",
        "$$l^{(i)}(\\mathbf{w}, b) = \\frac{1}{2} \\left(\\hat{y}^{(i)} - y^{(i)}\\right)^2.$$\n",
        "\n",
        "\n",
        "A regression problem for a one-dimensional case is shown below:\n",
        "\n",
        "<img src=\"https://i.ibb.co/8cXVC31/fit-linreg.png\" alt=\"fit-linreg\" border=\"0\">\n",
        "\n",
        "To measure the quality of a model on the entire dataset of $n$ examples,\n",
        "we simply average (or equivalently, sum)\n",
        "the losses on the training set.\n",
        "\n",
        "$$L(\\mathbf{w}, b) =\\frac{1}{n}\\sum_{i=1}^n l^{(i)}(\\mathbf{w}, b) =\\frac{1}{n} \\sum_{i=1}^n \\frac{1}{2}\\left(\\mathbf{w}^\\top \\mathbf{x}^{(i)} + b - y^{(i)}\\right)^2.$$\n",
        "\n",
        "When training the model, we want to find parameters ($\\mathbf{w}^*, b^*$)\n",
        "that minimize the total loss across all training examples:\n",
        "\n",
        "$$\\mathbf{w}^*, b^* = \\operatorname*{argmin}_{\\mathbf{w}, b}\\  L(\\mathbf{w}, b).$$\n"
      ]
    },
    {
      "cell_type": "markdown",
      "id": "eddedadc-6641-4c7a-8134-79549b655a62",
      "metadata": {
        "id": "eddedadc-6641-4c7a-8134-79549b655a62"
      },
      "source": [
        "**Minibatch Stochastic Gradient Descent**\n",
        "\n",
        "\n",
        "The key technique for optimizing models\n",
        "consists of iteratively reducing the error\n",
        "by updating the parameters in the direction\n",
        "that incrementally lowers the loss function --> *gradient descent*.\n",
        "\n",
        "We will settle for sampling a random minibatch of examples\n",
        "every time we need to compute the update --> *minibatch stochastic gradient descent*.\n",
        "\n",
        "We can express the update mathematically as follows\n",
        "($\\partial$ denotes the partial derivative):\n",
        "\n",
        "$$(\\mathbf{w},b) \\leftarrow (\\mathbf{w},b) - \\frac{\\eta}{|\\mathcal{B}|} \\sum_{i \\in \\mathcal{B}} \\partial_{(\\mathbf{w},b)} l^{(i)}(\\mathbf{w},b).$$\n"
      ]
    },
    {
      "cell_type": "markdown",
      "id": "b5b67706-78b0-428a-b984-03e8a44f2daf",
      "metadata": {
        "id": "b5b67706-78b0-428a-b984-03e8a44f2daf"
      },
      "source": [
        "## Synthetic Data, Simple Model\n",
        "### Generating the Dataset\n",
        "\n",
        "To keep things simple, we will [**construct an artificial dataset\n",
        "according to a linear model with additive noise.**]\n",
        "\n",
        "In the following code snippet, we generate a dataset\n",
        "containing 1000 examples, each consisting of 2 features\n",
        "sampled from a standard normal distribution.\n",
        "Thus our synthetic dataset will be a matrix\n",
        "$\\mathbf{X}\\in \\mathbb{R}^{1000 \\times 2}$.\n",
        "\n",
        "(**The true parameters generating our dataset will be\n",
        "$\\mathbf{w} = [2, -3.4]^\\top$ and $b = 4.2$,\n",
        "and**) our synthetic labels will be assigned according\n",
        "to the following linear model with the noise term $\\epsilon$:\n",
        "\n",
        "(**$$\\mathbf{y}= \\mathbf{X} \\mathbf{w} + b + \\mathbf\\epsilon.$$**)"
      ]
    },
    {
      "cell_type": "code",
      "execution_count": null,
      "id": "6c56cf52-1cbe-4f80-9551-9988b28fe967",
      "metadata": {
        "origin_pos": 6,
        "tab": [
          "tensorflow"
        ],
        "id": "6c56cf52-1cbe-4f80-9551-9988b28fe967"
      },
      "outputs": [],
      "source": [
        "def synthetic_data(w, b, num_examples):\n",
        "    \"\"\"Generate y = Xw + b + noise.\"\"\"\n",
        "    X = tf.zeros((num_examples, w.shape[0]))\n",
        "    X += tf.random.normal(shape=X.shape)\n",
        "    y = tf.matmul(X, tf.reshape(w, (-1, 1))) + b\n",
        "    y += tf.random.normal(shape=y.shape, stddev=0.01)\n",
        "    y = tf.reshape(y, (-1, 1))\n",
        "    return X, y"
      ]
    },
    {
      "cell_type": "code",
      "execution_count": null,
      "id": "6f7fc2ce-cdd3-45f0-b632-f5b7fbd38155",
      "metadata": {
        "origin_pos": 7,
        "tab": [
          "tensorflow"
        ],
        "id": "6f7fc2ce-cdd3-45f0-b632-f5b7fbd38155"
      },
      "outputs": [],
      "source": [
        "tf.random.set_seed(5)\n",
        "true_w = tf.constant([2, -3.4])\n",
        "true_b = 4.2\n",
        "features, labels = synthetic_data(true_w, true_b, 1000)"
      ]
    },
    {
      "cell_type": "code",
      "execution_count": null,
      "id": "a088e27d-495b-461f-b483-5eaaa97d1dc8",
      "metadata": {
        "origin_pos": 9,
        "tab": [
          "tensorflow"
        ],
        "id": "a088e27d-495b-461f-b483-5eaaa97d1dc8",
        "colab": {
          "base_uri": "https://localhost:8080/"
        },
        "outputId": "d208671a-3fe5-4551-9240-7650eea7cd03"
      },
      "outputs": [
        {
          "output_type": "stream",
          "name": "stdout",
          "text": [
            "features: tf.Tensor([-0.18030666 -0.95028627], shape=(2,), dtype=float32) \n",
            "label: tf.Tensor([7.0726256], shape=(1,), dtype=float32)\n"
          ]
        }
      ],
      "source": [
        "print('features:', features[0],'\\nlabel:', labels[0])"
      ]
    },
    {
      "cell_type": "markdown",
      "id": "af9a27cb-fcac-4856-99cb-724fa649c9a9",
      "metadata": {
        "origin_pos": 10,
        "id": "af9a27cb-fcac-4856-99cb-724fa649c9a9"
      },
      "source": [
        "By generating a scatter plot using the second feature `features[:, 1]` and `labels`,\n",
        "we can clearly observe the linear correlation between the two.\n"
      ]
    },
    {
      "cell_type": "code",
      "execution_count": null,
      "id": "8cbcb65e-1376-4879-8a6c-5dc2dbc4c945",
      "metadata": {
        "origin_pos": 11,
        "tab": [
          "tensorflow"
        ],
        "id": "8cbcb65e-1376-4879-8a6c-5dc2dbc4c945",
        "colab": {
          "base_uri": "https://localhost:8080/",
          "height": 430
        },
        "outputId": "1565fe80-eef4-4f3e-fd20-fcc45934adc5"
      },
      "outputs": [
        {
          "output_type": "display_data",
          "data": {
            "text/plain": [
              "<Figure size 640x480 with 1 Axes>"
            ],
            "image/png": "[encoded data removed]"
          },
          "metadata": {}
        }
      ],
      "source": [
        "# The semicolon is for displaying the plot only\n",
        "plt.scatter(features[:, (1)].numpy(), labels.numpy(), 1);"
      ]
    },
    {
      "cell_type": "markdown",
      "id": "36253bc0-ba53-410c-86bb-7a2eb11f9592",
      "metadata": {
        "origin_pos": 5,
        "tags": [],
        "id": "36253bc0-ba53-410c-86bb-7a2eb11f9592"
      },
      "source": [
        "### Reading the Dataset\n",
        "\n",
        "In the following code [**call upon the existing API in a framework to read data.**]\n",
        "We pass in `features` and `labels` as arguments and specify `batch_size`\n",
        "when instantiating a data iterator object.\n",
        "Besides, the boolean value `is_train`\n",
        "indicates whether or not\n",
        "we want the data iterator object to shuffle the data\n",
        "on each epoch (pass through the dataset).\n"
      ]
    },
    {
      "cell_type": "markdown",
      "id": "c28419fa-707f-4a30-8d28-f18ab5d73c31",
      "metadata": {
        "id": "c28419fa-707f-4a30-8d28-f18ab5d73c31"
      },
      "source": [
        "1. **Use the tf function from_tensor_slices to generate a tf dataset object with batch_size as input**\n",
        "2. **Use is_train flag to determine whether to shuffle the dataset or not, set the buffer size appropriately**"
      ]
    },
    {
      "cell_type": "code",
      "execution_count": null,
      "id": "53aaab37-4b35-4ff3-9d72-292d260838a9",
      "metadata": {
        "origin_pos": 8,
        "tab": [
          "tensorflow"
        ],
        "id": "53aaab37-4b35-4ff3-9d72-292d260838a9"
      },
      "outputs": [],
      "source": [
        "def load_array(data_arrays, batch_size, is_train=True):\n",
        "    \"\"\"Construct a TensorFlow data iterator.\"\"\"\n",
        "    #### YOUR CODE HERE ###\n",
        "    dataset = tf.data.Dataset.from_tensor_slices(data_arrays)\n",
        "\n",
        "    if is_train:\n",
        "      dataset = dataset.shuffle(buffer_size= len(data_arrays[0]))\n",
        "\n",
        "    dataset= dataset.batch(batch_size= batch_size)\n",
        "    return dataset"
      ]
    },
    {
      "cell_type": "code",
      "execution_count": null,
      "id": "1421cf52-54d8-4341-816c-a5d095bfb8c3",
      "metadata": {
        "origin_pos": 9,
        "tab": [
          "tensorflow"
        ],
        "id": "1421cf52-54d8-4341-816c-a5d095bfb8c3"
      },
      "outputs": [],
      "source": [
        "batch_size = 10\n",
        "data_iter = load_array((features, labels), batch_size)"
      ]
    },
    {
      "cell_type": "code",
      "source": [
        "array= (features, labels)\n",
        "len(array[1])"
      ],
      "metadata": {
        "colab": {
          "base_uri": "https://localhost:8080/"
        },
        "id": "iX72MODBufZS",
        "outputId": "7a3d93e2-9c31-4f9a-9667-56ad6b66053f"
      },
      "id": "iX72MODBufZS",
      "execution_count": null,
      "outputs": [
        {
          "output_type": "execute_result",
          "data": {
            "text/plain": [
              "1000"
            ]
          },
          "metadata": {},
          "execution_count": 231
        }
      ]
    },
    {
      "cell_type": "markdown",
      "id": "d6e0c589-effb-40ba-8149-3309692fed48",
      "metadata": {
        "origin_pos": 10,
        "id": "d6e0c589-effb-40ba-8149-3309692fed48"
      },
      "source": [
        "3. **Use `iter` to construct a Python iterator and use `next` to obtain the first item from the iterator.**\n"
      ]
    },
    {
      "cell_type": "code",
      "execution_count": null,
      "id": "2144c8a5-c59c-4886-af3b-8f4353e8f7c6",
      "metadata": {
        "origin_pos": 11,
        "tab": [
          "tensorflow"
        ],
        "id": "2144c8a5-c59c-4886-af3b-8f4353e8f7c6",
        "colab": {
          "base_uri": "https://localhost:8080/"
        },
        "outputId": "0bee22e1-609a-4064-ffac-b366b30b543f"
      },
      "outputs": [
        {
          "output_type": "execute_result",
          "data": {
            "text/plain": [
              "(<tf.Tensor: shape=(10, 2), dtype=float32, numpy=\n",
              " array([[-0.44109643,  0.29733023],\n",
              "        [-0.37814665, -0.6147702 ],\n",
              "        [-0.06459253,  0.17957735],\n",
              "        [-1.2765387 , -0.67146075],\n",
              "        [ 0.7718837 ,  1.4932712 ],\n",
              "        [ 0.19340073, -0.240537  ],\n",
              "        [ 1.6647202 , -1.199883  ],\n",
              "        [ 1.0729338 , -0.04161261],\n",
              "        [-0.05411331,  0.14211723],\n",
              "        [-0.3459695 , -0.5312256 ]], dtype=float32)>,\n",
              " <tf.Tensor: shape=(10, 1), dtype=float32, numpy=\n",
              " array([[ 2.2935514],\n",
              "        [ 5.5324187],\n",
              "        [ 3.4383585],\n",
              "        [ 3.9346645],\n",
              "        [ 0.6701123],\n",
              "        [ 5.3922973],\n",
              "        [11.598939 ],\n",
              "        [ 6.4856396],\n",
              "        [ 3.6075172],\n",
              "        [ 5.282805 ]], dtype=float32)>)"
            ]
          },
          "metadata": {},
          "execution_count": 232
        }
      ],
      "source": [
        "### YOUR CODE HERE ###\n",
        "my_iter= iter(data_iter)\n",
        "first_item= next(my_iter)\n",
        "\n",
        "first_item"
      ]
    },
    {
      "cell_type": "markdown",
      "id": "24da4a06-3978-49c2-bcf4-cb4c1ae64f49",
      "metadata": {
        "origin_pos": 15,
        "id": "24da4a06-3978-49c2-bcf4-cb4c1ae64f49"
      },
      "source": [
        "4. **Explain what the output shape in the prvious tensors means:**\n"
      ]
    },
    {
      "cell_type": "markdown",
      "id": "c7eda004-0643-4132-b737-c1f2fc2049d9",
      "metadata": {
        "origin_pos": 16,
        "tab": [
          "tensorflow"
        ],
        "id": "c7eda004-0643-4132-b737-c1f2fc2049d9"
      },
      "source": [
        "**Answer:** The first tensor shape=(10, 2) this means 10 rows or 10 data points which equals the batch size , and 2 columns for the 2 features representing each data point.\n",
        "\n",
        "The second tensor shape= (10, 1) representing the labels of the the 10 data points\n",
        "\n"
      ]
    },
    {
      "cell_type": "markdown",
      "id": "5c83f595-3746-435e-a824-9b4011a5aa40",
      "metadata": {
        "id": "5c83f595-3746-435e-a824-9b4011a5aa40"
      },
      "source": [
        "5. **How many batches are in the **ENTIRE** data_iter ?**"
      ]
    },
    {
      "cell_type": "markdown",
      "id": "88eb5391-71a5-45ef-8af3-8f6a33b7793c",
      "metadata": {
        "origin_pos": 16,
        "tab": [
          "tensorflow"
        ],
        "id": "88eb5391-71a5-45ef-8af3-8f6a33b7793c"
      },
      "source": [
        "**Answer:**  Number of batches = total data points / batch size = 1000 / 10 = 100"
      ]
    },
    {
      "cell_type": "markdown",
      "id": "71628cba-f449-4139-a02a-f4b9e6b53545",
      "metadata": {
        "origin_pos": 17,
        "tags": [],
        "id": "71628cba-f449-4139-a02a-f4b9e6b53545"
      },
      "source": [
        "### Initializing Model Parameters\n",
        "\n",
        "6. **Initialize weights by sampling random numbers from a normal distribution with mean 0 and a standard deviation of 0.02, and setting the bias to 0.**\n",
        "\n",
        "Note: For the shapes of the weights and bias, look at the generating a dataset part\n"
      ]
    },
    {
      "cell_type": "code",
      "execution_count": null,
      "id": "db96e147-7256-4a1e-8c8a-6b89df19f117",
      "metadata": {
        "origin_pos": 20,
        "tab": [
          "tensorflow"
        ],
        "id": "db96e147-7256-4a1e-8c8a-6b89df19f117"
      },
      "outputs": [],
      "source": [
        "## YOUR CODE HERE ##\n",
        "weights = tf.Variable(tf.random.normal(shape=(features.shape[1], 1), mean=0, stddev=0.02), trainable=True)\n",
        "bias = tf.Variable(0.0, dtype=tf.float32, trainable=True)"
      ]
    },
    {
      "cell_type": "markdown",
      "id": "09bbcd34-e487-4751-b8ff-a0f932350562",
      "metadata": {
        "origin_pos": 21,
        "id": "09bbcd34-e487-4751-b8ff-a0f932350562"
      },
      "source": [
        "### Defining the Model\n",
        "\n",
        "7. [**define our model, relating its inputs and parameters to its outputs.**]"
      ]
    },
    {
      "cell_type": "code",
      "execution_count": null,
      "id": "a892f99c-9846-4b4c-bf89-dd552ca2fd26",
      "metadata": {
        "origin_pos": 22,
        "tab": [
          "tensorflow"
        ],
        "id": "a892f99c-9846-4b4c-bf89-dd552ca2fd26"
      },
      "outputs": [],
      "source": [
        "def linreg(X, w, b):\n",
        "    \"\"\"\n",
        "    The linear regression model.\n",
        "    Input:\n",
        "    - X: input matrix\n",
        "    - w: weights\n",
        "    - bias\n",
        "    \"\"\"\n",
        "    ## YOUR CODE HERE ##\n",
        "    y_hat = tf.matmul(X, w) +b\n",
        "\n",
        "    return y_hat"
      ]
    },
    {
      "cell_type": "markdown",
      "id": "78acdc39-21c6-4125-b0de-b7a14a9c93eb",
      "metadata": {
        "origin_pos": 23,
        "id": "78acdc39-21c6-4125-b0de-b7a14a9c93eb"
      },
      "source": [
        "### Defining the Loss Function\n",
        "\n",
        "8. (**define the loss function**): the squared loss function\n",
        "as described in Loss Function definition above.\n",
        "\n",
        "Note: In the implementation, you need to transform the true value `y`\n",
        "into the predicted value's shape `y_hat`.\n",
        "The result returned by the following function\n",
        "will also have the same shape as `y_hat`.\n"
      ]
    },
    {
      "cell_type": "code",
      "execution_count": null,
      "id": "37e04bc2-0d67-4204-b0bf-b99ff8a1d0d3",
      "metadata": {
        "origin_pos": 24,
        "tab": [
          "tensorflow"
        ],
        "id": "37e04bc2-0d67-4204-b0bf-b99ff8a1d0d3"
      },
      "outputs": [],
      "source": [
        "def squared_loss(y_hat, y):\n",
        "    \"\"\"Squared loss.\"\"\"\n",
        "    ## YOUR CODE HERE ##\n",
        "    y = tf.reshape(y, shape=(-1, 1))\n",
        "\n",
        "    loss = 0.5 * tf.reduce_mean(tf.square(y_hat - y))\n",
        "\n",
        "    return loss"
      ]
    },
    {
      "cell_type": "markdown",
      "id": "212f6a87-1c81-4aa1-aebe-41334d719398",
      "metadata": {
        "origin_pos": 25,
        "id": "212f6a87-1c81-4aa1-aebe-41334d719398"
      },
      "source": [
        "### Defining the Optimization Algorithm\n",
        "\n",
        "At each step, using one minibatch randomly drawn from our dataset,\n",
        "we will estimate the gradient of the loss with respect to our parameters.\n",
        "Next, we will update our parameters\n",
        "in the direction that may reduce the loss.\n",
        "\n",
        "9. **Filll in the missing function below to apply the minibatch stochastic gradient descent update, given a set of parameters, a learning rate, and a batch size.**\n",
        "\n",
        "This function should return nothing\n",
        "\n",
        "Note: use assign_sub\n"
      ]
    },
    {
      "cell_type": "code",
      "execution_count": null,
      "id": "ddfe9ccd-271e-4fc3-ab9a-3720d6bf4b23",
      "metadata": {
        "origin_pos": 28,
        "tab": [
          "tensorflow"
        ],
        "id": "ddfe9ccd-271e-4fc3-ab9a-3720d6bf4b23"
      },
      "outputs": [],
      "source": [
        "def sgd(params, grads, lr, batch_size):\n",
        "    \"\"\"Minibatch stochastic gradient descent.\"\"\"\n",
        "\n",
        "    ## YOUR CODE HERE ##\n",
        "    for param, grad in zip([weights, bias], grads):\n",
        "      param.assign_sub(lr * grad / batch_size)\n"
      ]
    },
    {
      "cell_type": "markdown",
      "id": "9016fa58-4d4b-44b1-91a1-6f1e8995c9f7",
      "metadata": {
        "origin_pos": 29,
        "id": "9016fa58-4d4b-44b1-91a1-6f1e8995c9f7"
      },
      "source": [
        "### Training\n",
        "\n",
        "10. **Implement the following loop**\n",
        "\n",
        "* For each epoch :\n",
        "    * For each batch in data_iter:\n",
        "        * Compute the loss\n",
        "        * Compute gradient\n",
        "        * Update parameters\n",
        "    * Calculate and print the training loss at the end of each epoch\n",
        "\n"
      ]
    },
    {
      "cell_type": "markdown",
      "source": [
        "Loss = $ l({x}, {y}) $\n",
        "\n",
        "Gradient => $\\mathbf{g} \\leftarrow \\partial_{(\\mathbf{w},b)} \\frac{1}{|\\mathcal{B}|} \\sum_{i \\in \\mathcal{B}} l(\\mathbf{x}^{(i)}, y^{(i)}, \\mathbf{w}, b)$\n",
        "\n",
        "Parameters update => $(\\mathbf{w}, b) \\leftarrow (\\mathbf{w}, b) - \\eta \\mathbf{g}$"
      ],
      "metadata": {
        "id": "FV4mqhvL6vQG"
      },
      "id": "FV4mqhvL6vQG"
    },
    {
      "cell_type": "markdown",
      "source": [
        "In each *epoch*,\n",
        "we will iterate through the entire dataset\n",
        "(using the `data_iter` function) once\n",
        "passing through every example in the training dataset\n",
        ".\n",
        "\n",
        "Don't forget to use GradientTape\n",
        "\n",
        "Set the number of epochs `num_epochs` and the learning rate `lr` to 5 and 0.02, respectively."
      ],
      "metadata": {
        "id": "NctDJlGe7Odq"
      },
      "id": "NctDJlGe7Odq"
    },
    {
      "cell_type": "code",
      "execution_count": null,
      "id": "50a93813-59c4-48e7-beaf-d27fb707a96f",
      "metadata": {
        "origin_pos": 30,
        "tab": [
          "tensorflow"
        ],
        "id": "50a93813-59c4-48e7-beaf-d27fb707a96f"
      },
      "outputs": [],
      "source": [
        "lr = 0.02\n",
        "num_epochs = 5\n",
        "net = linreg\n",
        "loss = squared_loss"
      ]
    },
    {
      "cell_type": "code",
      "execution_count": null,
      "id": "7f2d2d6e-1661-4737-b135-887221607b48",
      "metadata": {
        "origin_pos": 33,
        "tab": [
          "tensorflow"
        ],
        "id": "7f2d2d6e-1661-4737-b135-887221607b48",
        "colab": {
          "base_uri": "https://localhost:8080/"
        },
        "outputId": "f7f64cf4-d8d4-4980-a28f-db11fd821df7"
      },
      "outputs": [
        {
          "output_type": "stream",
          "name": "stdout",
          "text": [
            "Epoch 1, Loss: 131.04808044433594\n",
            "Epoch 2, Loss: 89.64685821533203\n",
            "Epoch 3, Loss: 61.3724479675293\n",
            "Epoch 4, Loss: 42.03944396972656\n",
            "Epoch 5, Loss: 28.811138153076172\n"
          ]
        }
      ],
      "source": [
        "## YOUR CODE HERE ## The loop code\n",
        "for epoch in range(num_epochs):\n",
        "    total_loss = 0.0\n",
        "    for X, y in data_iter:\n",
        "        with tf.GradientTape() as tape:\n",
        "            # Forward pass\n",
        "            # print(X.shape, weights.shape)\n",
        "            y_hat = linreg(X, weights, bias)\n",
        "            # Compute the squared loss\n",
        "            loss = squared_loss(y_hat, y)\n",
        "        # Calculate gradients\n",
        "        grads = tape.gradient(loss, [weights, bias])\n",
        "        # Update parameters using SGD\n",
        "        sgd([weights, bias], grads, lr, batch_size)\n",
        "        total_loss += tf.reduce_sum(loss)\n",
        "    # Calculate and print the training loss\n",
        "    average_loss = total_loss / len(y)\n",
        "    print(f\"Epoch {epoch + 1}, Loss: {average_loss}\")"
      ]
    },
    {
      "cell_type": "markdown",
      "id": "393f4953-35dc-46c1-b495-96172232bc3f",
      "metadata": {
        "origin_pos": 34,
        "id": "393f4953-35dc-46c1-b495-96172232bc3f"
      },
      "source": [
        "In this case, because we synthesized the dataset ourselves,\n",
        "we know precisely what the true parameters are.\n",
        "\n",
        "11. [**evaluate our success in training by comparing the true parameters with those that we learned through our training loop**] (final w, b). They should turn out to be very close to each other.\n",
        "\n",
        "calculate the difference!!\n",
        "\n",
        " **they can be better with more epochs**"
      ]
    },
    {
      "cell_type": "code",
      "execution_count": null,
      "id": "c99daff3-745a-43fd-898e-bbf1e3804c78",
      "metadata": {
        "origin_pos": 35,
        "tab": [
          "tensorflow"
        ],
        "id": "c99daff3-745a-43fd-898e-bbf1e3804c78",
        "colab": {
          "base_uri": "https://localhost:8080/"
        },
        "outputId": "397df4b6-37b5-4de9-d230-658a1aa9d794"
      },
      "outputs": [
        {
          "output_type": "stream",
          "name": "stdout",
          "text": [
            "error in estimating w: [0.90413284 1.308919  ]\n",
            "error in estimating b: 1.585597038269043\n"
          ]
        }
      ],
      "source": [
        "## YOUR CODE HERE ##\n",
        "error_w = tf.abs(true_w - weights[:,0])\n",
        "error_b = tf.abs(true_b - bias)\n",
        "print(f'error in estimating w: {error_w}')\n",
        "print(f'error in estimating b: {error_b}')"
      ]
    },
    {
      "cell_type": "markdown",
      "id": "3f7b518a-c2ac-4f0e-941b-98d300ed9963",
      "metadata": {
        "id": "3f7b518a-c2ac-4f0e-941b-98d300ed9963"
      },
      "source": [
        "## Diabetes Dataset"
      ]
    },
    {
      "cell_type": "markdown",
      "id": "06b07d9c-b52e-4f52-8e70-f7a4bebd63bb",
      "metadata": {
        "id": "06b07d9c-b52e-4f52-8e70-f7a4bebd63bb"
      },
      "source": [
        "In this section, we will use SKLEARN's Diabetes dataset"
      ]
    },
    {
      "cell_type": "markdown",
      "id": "e0cef42e-4494-4f16-b2d2-7cfe68c51e3d",
      "metadata": {
        "id": "e0cef42e-4494-4f16-b2d2-7cfe68c51e3d"
      },
      "source": [
        "### Loading the Dataset"
      ]
    },
    {
      "cell_type": "markdown",
      "id": "2aea7770-afb6-45f2-93b1-b9c72df36bc0",
      "metadata": {
        "id": "2aea7770-afb6-45f2-93b1-b9c72df36bc0"
      },
      "source": [
        "1. **Load the Diabetes dataset from sklearn**"
      ]
    },
    {
      "cell_type": "code",
      "execution_count": null,
      "id": "f07dc3b6-c48e-4a37-8f73-3500f344e717",
      "metadata": {
        "id": "f07dc3b6-c48e-4a37-8f73-3500f344e717"
      },
      "outputs": [],
      "source": [
        "from sklearn.datasets import load_diabetes\n",
        "## YOUR CODE HERE ##\n",
        "# Load the diabetes dataset\n",
        "\n",
        "diabetes = load_diabetes()"
      ]
    },
    {
      "cell_type": "markdown",
      "id": "aa95939c-f94a-4383-9e4b-18c86af1cebf",
      "metadata": {
        "id": "aa95939c-f94a-4383-9e4b-18c86af1cebf"
      },
      "source": [
        "2. **Look at the keys of diabetes_dataset dictionary**"
      ]
    },
    {
      "cell_type": "code",
      "execution_count": null,
      "id": "1c92cb43-cb3d-47f1-8535-c4439f585412",
      "metadata": {
        "id": "1c92cb43-cb3d-47f1-8535-c4439f585412",
        "colab": {
          "base_uri": "https://localhost:8080/"
        },
        "outputId": "a4b10b91-82f0-4a97-cd35-cdc0a78be355"
      },
      "outputs": [
        {
          "output_type": "execute_result",
          "data": {
            "text/plain": [
              "dict_keys(['data', 'target', 'frame', 'DESCR', 'feature_names', 'data_filename', 'target_filename', 'data_module'])"
            ]
          },
          "metadata": {},
          "execution_count": 18
        }
      ],
      "source": [
        "## YOUR CODE HERE ##\n",
        "\n",
        "### Look at keys to determine the data\n",
        "diabetes.keys()\n"
      ]
    },
    {
      "cell_type": "markdown",
      "id": "484a2460-7023-4468-9399-3a40d00ba55c",
      "metadata": {
        "id": "484a2460-7023-4468-9399-3a40d00ba55c"
      },
      "source": [
        "3. **Use the key DESCR to understand the dataset**"
      ]
    },
    {
      "cell_type": "code",
      "execution_count": null,
      "id": "87437737-e0d0-4e18-a841-ab214ed2261b",
      "metadata": {
        "id": "87437737-e0d0-4e18-a841-ab214ed2261b",
        "colab": {
          "base_uri": "https://localhost:8080/"
        },
        "outputId": "24259511-4d93-4b33-cca5-2231a5e3d0d7"
      },
      "outputs": [
        {
          "output_type": "stream",
          "name": "stdout",
          "text": [
            ".. _diabetes_dataset:\n",
            "\n",
            "Diabetes dataset\n",
            "----------------\n",
            "\n",
            "Ten baseline variables, age, sex, body mass index, average blood\n",
            "pressure, and six blood serum measurements were obtained for each of n =\n",
            "442 diabetes patients, as well as the response of interest, a\n",
            "quantitative measure of disease progression one year after baseline.\n",
            "\n",
            "**Data Set Characteristics:**\n",
            "\n",
            "  :Number of Instances: 442\n",
            "\n",
            "  :Number of Attributes: First 10 columns are numeric predictive values\n",
            "\n",
            "  :Target: Column 11 is a quantitative measure of disease progression one year after baseline\n",
            "\n",
            "  :Attribute Information:\n",
            "      - age     age in years\n",
            "      - sex\n",
            "      - bmi     body mass index\n",
            "      - bp      average blood pressure\n",
            "      - s1      tc, total serum cholesterol\n",
            "      - s2      ldl, low-density lipoproteins\n",
            "      - s3      hdl, high-density lipoproteins\n",
            "      - s4      tch, total cholesterol / HDL\n",
            "      - s5      ltg, possibly log of serum triglycerides level\n",
            "      - s6      glu, blood sugar level\n",
            "\n",
            "Note: Each of these 10 feature variables have been mean centered and scaled by the standard deviation times the square root of `n_samples` (i.e. the sum of squares of each column totals 1).\n",
            "\n",
            "Source URL:\n",
            "https://www4.stat.ncsu.edu/~boos/var.select/diabetes.html\n",
            "\n",
            "For more information see:\n",
            "Bradley Efron, Trevor Hastie, Iain Johnstone and Robert Tibshirani (2004) \"Least Angle Regression,\" Annals of Statistics (with discussion), 407-499.\n",
            "(https://web.stanford.edu/~hastie/Papers/LARS/LeastAngle_2002.pdf)\n",
            "\n"
          ]
        }
      ],
      "source": [
        "## YOUR CODE HERE ##\n",
        "print(diabetes.DESCR)"
      ]
    },
    {
      "cell_type": "markdown",
      "id": "6472180c-ebb8-44f9-8bab-c507e256ef39",
      "metadata": {
        "id": "6472180c-ebb8-44f9-8bab-c507e256ef39"
      },
      "source": [
        "4. **Save the data and target variables in numpy arrays and print their shapes**"
      ]
    },
    {
      "cell_type": "code",
      "execution_count": null,
      "id": "8fc2a160-b33f-44c5-83a7-08beb821a64a",
      "metadata": {
        "id": "8fc2a160-b33f-44c5-83a7-08beb821a64a",
        "colab": {
          "base_uri": "https://localhost:8080/"
        },
        "outputId": "ae415159-1af6-4ee0-e102-594e79186b12"
      },
      "outputs": [
        {
          "output_type": "stream",
          "name": "stdout",
          "text": [
            "The shape of data is: (442, 10)\n",
            "The shape of targets is: (442,)\n",
            "I have f = 10 features!\n",
            "I have m = 442 examples!\n"
          ]
        }
      ],
      "source": [
        "### START CODE HERE ### (≈ 2 lines of code)\n",
        "data = diabetes.data\n",
        "targets = diabetes.target\n",
        "### END CODE HERE ###\n",
        "\n",
        "print ('The shape of data is: ' + str(data.shape))\n",
        "print ('The shape of targets is: ' + str(targets.shape))\n",
        "print ('I have f = %d features!' % (data.shape[1]))\n",
        "print ('I have m = %d examples!' % (data.shape[0]))"
      ]
    },
    {
      "cell_type": "markdown",
      "id": "52f4ad51-a6a3-4cfc-9c64-6e7a44545d66",
      "metadata": {
        "id": "52f4ad51-a6a3-4cfc-9c64-6e7a44545d66"
      },
      "source": [
        "5. **What are the ranges of each column in features and the target column?**\n",
        "    - *Hint* you might find it helpful to convert to pandas dataframe and use \".describe\""
      ]
    },
    {
      "cell_type": "code",
      "execution_count": null,
      "id": "1e4d03cc-c705-4e4e-81f7-6d49a6e86fbd",
      "metadata": {
        "id": "1e4d03cc-c705-4e4e-81f7-6d49a6e86fbd",
        "colab": {
          "base_uri": "https://localhost:8080/"
        },
        "outputId": "86e83f50-e3b0-43c8-e670-b29712b11dbb"
      },
      "outputs": [
        {
          "output_type": "stream",
          "name": "stdout",
          "text": [
            "Ranges for Features:\n",
            "          age       sex       bmi        bp        s1        s2        s3  \\\n",
            "min -0.107226 -0.044642 -0.090275 -0.112399 -0.126781 -0.115613 -0.102307   \n",
            "max  0.110727  0.050680  0.170555  0.132044  0.153914  0.198788  0.181179   \n",
            "\n",
            "           s4        s5        s6  \n",
            "min -0.076395 -0.126097 -0.137767  \n",
            "max  0.185234  0.133597  0.135612  \n",
            "\n",
            "Range for Target Column:\n",
            "     target\n",
            "min    25.0\n",
            "max   346.0\n"
          ]
        }
      ],
      "source": [
        "### START CODE HERE ###\n",
        "data_df = pd.DataFrame(data, columns=diabetes.feature_names)\n",
        "targets_df = pd.DataFrame(targets, columns=['target'])\n",
        "\n",
        "data_description = data_df.describe()\n",
        "targets_description = targets_df.describe()\n",
        "# print(data_description)\n",
        "feature_ranges = data_description.loc[['min', 'max']]\n",
        "target_range = targets_description.loc[['min', 'max']]\n",
        "\n",
        "print(\"Ranges for Features:\")\n",
        "print(feature_ranges)\n",
        "print(\"\\nRange for Target Column:\")\n",
        "print(target_range)\n",
        "### END CODE HERE ###"
      ]
    },
    {
      "cell_type": "markdown",
      "id": "742f762c-fe10-42be-a3d6-7cbb4df68c0d",
      "metadata": {
        "id": "742f762c-fe10-42be-a3d6-7cbb4df68c0d"
      },
      "source": [
        "### Preparing the data"
      ]
    },
    {
      "cell_type": "markdown",
      "id": "4c879c44-aec4-4c29-aa2a-76a1d48171e6",
      "metadata": {
        "id": "4c879c44-aec4-4c29-aa2a-76a1d48171e6"
      },
      "source": [
        "6. **Split the data into train and test set using sklearn train_test_split.** Have the test set as 10% of data"
      ]
    },
    {
      "cell_type": "code",
      "execution_count": null,
      "id": "ced08578-8d2c-4e2b-ae34-4f6fa8f4326d",
      "metadata": {
        "id": "ced08578-8d2c-4e2b-ae34-4f6fa8f4326d",
        "colab": {
          "base_uri": "https://localhost:8080/"
        },
        "outputId": "d1826d6c-25ad-4bcd-8f63-dd22e665b1fb"
      },
      "outputs": [
        {
          "output_type": "stream",
          "name": "stdout",
          "text": [
            "Shape of training data is (397, 10)\n",
            "Shape of training targets is (397,)\n",
            "Shape of test data is (45, 10)\n",
            "Shape of test targets is (45,)\n"
          ]
        }
      ],
      "source": [
        "np.random.seed(0)\n",
        "### START CODE HERE ###\n",
        "# Split the data into train and test sets\n",
        "train_data, test_data, train_targets, test_targets = train_test_split(data, targets, test_size=0.1)\n",
        "\n",
        "### END CODE HERE ###\n",
        "\n",
        "print(\"Shape of training data is\", train_data.shape)\n",
        "print(\"Shape of training targets is\", train_targets.shape)\n",
        "print(\"Shape of test data is\", test_data.shape)\n",
        "print(\"Shape of test targets is\", test_targets.shape)"
      ]
    },
    {
      "cell_type": "markdown",
      "id": "e18cbdeb-252c-450b-b85a-d35d5989f928",
      "metadata": {
        "id": "e18cbdeb-252c-450b-b85a-d35d5989f928"
      },
      "source": [
        "- *feature-wise normalization*: for each feature in the input data (a column in the input data matrix), we subtract the mean of the feature and divide by the standard deviation, so that the feature is centered around 0 and has a unit standard deviation. This is easily done in NumPy.\n",
        "- **Question:** Should we normalize features? WHY?\n",
        "    - ANSWER:\n",
        "     Normalizing features helps prevent issues related to feature scales and can lead to faster convergence, However the features have already been normalized as the description of the data states: \"Note: Each of these 10 feature variables have been mean centered and scaled by the standard deviation times the square root of `n_samples` (i.e. the sum of squares of each column totals 1)\""
      ]
    },
    {
      "cell_type": "markdown",
      "id": "e679d2b1-eded-4768-8954-c6cdfde3e207",
      "metadata": {
        "id": "e679d2b1-eded-4768-8954-c6cdfde3e207"
      },
      "source": [
        "7. **normalize the targets**"
      ]
    },
    {
      "cell_type": "code",
      "execution_count": null,
      "id": "f18246d4-dbd8-403a-9db9-a72360eaaebb",
      "metadata": {
        "id": "f18246d4-dbd8-403a-9db9-a72360eaaebb"
      },
      "outputs": [],
      "source": [
        "### START CODE HERE ### (≈ 6 lines of code)\n",
        "\n",
        "train_target_mean = train_targets.mean()\n",
        "train_target_std = train_targets.std()\n",
        "\n",
        "test_target_mean = test_targets.mean()\n",
        "test_target_std = test_targets.std()\n",
        "\n",
        "normalized_train_targets = (train_targets - train_target_mean) / train_target_std\n",
        "normalized_test_targets = (test_targets - test_target_mean) / test_target_std\n",
        "\n",
        "\n",
        "\n",
        "### END CODE HERE ###"
      ]
    },
    {
      "cell_type": "markdown",
      "id": "130ed50b-010c-488f-b1d0-aa2919fdf01d",
      "metadata": {
        "id": "130ed50b-010c-488f-b1d0-aa2919fdf01d"
      },
      "source": [
        "### Building your model"
      ]
    },
    {
      "cell_type": "markdown",
      "id": "9dca53c6-d8c6-4a93-876e-080cb537e98a",
      "metadata": {
        "id": "9dca53c6-d8c6-4a93-876e-080cb537e98a"
      },
      "source": [
        "7. **Use tf.keras.Sequential to build a model with:**\n",
        "    - 6 hidden layers each having 128 neurons and relu activation.\n",
        "    - 1 output layer\n",
        "    - use input_shape argument to specify input size in 1st layer\n",
        "- **Question:** How many neurons should be in output layer? What should be the activation?\n",
        "    - ANSWER: as it is a regression problem we need one neuron only with no activation function (linear regression)"
      ]
    },
    {
      "cell_type": "code",
      "execution_count": null,
      "id": "cc9bc68e-d3a4-42c6-b1e1-42c2c97fa651",
      "metadata": {
        "id": "cc9bc68e-d3a4-42c6-b1e1-42c2c97fa651"
      },
      "outputs": [],
      "source": [
        "def build_model(input_shape):\n",
        "    ### START CODE HERE ### ()\n",
        "    model = tf.keras.Sequential()\n",
        "    model.add(tf.keras.layers.Input(shape=input_shape))\n",
        "    for _ in range(6):\n",
        "        model.add(tf.keras.layers.Dense(128, activation='relu'))\n",
        "\n",
        "    model.add(tf.keras.layers.Dense(1))\n",
        "    return model"
      ]
    },
    {
      "cell_type": "code",
      "execution_count": null,
      "id": "cfe03837-d15a-4879-b9db-0477d01baa23",
      "metadata": {
        "id": "cfe03837-d15a-4879-b9db-0477d01baa23",
        "colab": {
          "base_uri": "https://localhost:8080/"
        },
        "outputId": "98de63ef-60af-4ea3-b00f-ac2b1375a779"
      },
      "outputs": [
        {
          "output_type": "stream",
          "name": "stdout",
          "text": [
            "Model: \"sequential\"\n",
            "_________________________________________________________________\n",
            " Layer (type)                Output Shape              Param #   \n",
            "=================================================================\n",
            " dense (Dense)               (None, 128)               1408      \n",
            "                                                                 \n",
            " dense_1 (Dense)             (None, 128)               16512     \n",
            "                                                                 \n",
            " dense_2 (Dense)             (None, 128)               16512     \n",
            "                                                                 \n",
            " dense_3 (Dense)             (None, 128)               16512     \n",
            "                                                                 \n",
            " dense_4 (Dense)             (None, 128)               16512     \n",
            "                                                                 \n",
            " dense_5 (Dense)             (None, 128)               16512     \n",
            "                                                                 \n",
            " dense_6 (Dense)             (None, 1)                 129       \n",
            "                                                                 \n",
            "=================================================================\n",
            "Total params: 84097 (328.50 KB)\n",
            "Trainable params: 84097 (328.50 KB)\n",
            "Non-trainable params: 0 (0.00 Byte)\n",
            "_________________________________________________________________\n",
            "None\n"
          ]
        }
      ],
      "source": [
        "# Print the model summary\n",
        "input_shape= train_data.shape[1]\n",
        "model = build_model(input_shape)\n",
        "print(model.summary())"
      ]
    },
    {
      "cell_type": "markdown",
      "id": "114f2e34-fa34-4312-bbe8-c929d350c89f",
      "metadata": {
        "id": "114f2e34-fa34-4312-bbe8-c929d350c89f"
      },
      "source": [
        "8. **Compile the model using optimizer=Adam, loss=mean squared loss, metrics=mean absoluute error:**"
      ]
    },
    {
      "cell_type": "code",
      "execution_count": null,
      "id": "8a438445-aac4-4913-8012-6d7095b09ed1",
      "metadata": {
        "id": "8a438445-aac4-4913-8012-6d7095b09ed1"
      },
      "outputs": [],
      "source": [
        "### START CODE HERE ### ()\n",
        "model.compile(optimizer='adam', loss='mean_squared_error', metrics=['mean_absolute_error'])\n"
      ]
    },
    {
      "cell_type": "markdown",
      "id": "f9eb30a2-e09f-4298-8210-998eb79eb7a9",
      "metadata": {
        "id": "f9eb30a2-e09f-4298-8210-998eb79eb7a9"
      },
      "source": [
        "Note that we compile the model with the mse loss function—mean squared error, the\n",
        "square of the difference between the predictions and the targets. We’re also monitoring a new metric during training: mean absolute error (MAE). It’s the\n",
        "absolute value of the difference between the predictions and the targets."
      ]
    },
    {
      "cell_type": "markdown",
      "id": "36507d6f-cd6d-47fa-b74c-fd7e14c9d9ba",
      "metadata": {
        "id": "36507d6f-cd6d-47fa-b74c-fd7e14c9d9ba"
      },
      "source": [
        "9. **FIT the model using for 110 epochs, 64 batch size and a validation split of 0.1**"
      ]
    },
    {
      "cell_type": "code",
      "execution_count": null,
      "id": "1f63ab80-1353-4997-aba5-4e6299bee5d7",
      "metadata": {
        "tags": [],
        "id": "1f63ab80-1353-4997-aba5-4e6299bee5d7",
        "colab": {
          "base_uri": "https://localhost:8080/"
        },
        "outputId": "e13eea33-933e-44a8-e6a1-edcb935d469f"
      },
      "outputs": [
        {
          "output_type": "stream",
          "name": "stdout",
          "text": [
            "Epoch 1/110\n",
            "6/6 [==============================] - 2s 74ms/step - loss: 0.9645 - mean_absolute_error: 0.8377 - val_loss: 1.1388 - val_mean_absolute_error: 0.9173\n",
            "Epoch 2/110\n",
            "6/6 [==============================] - 0s 17ms/step - loss: 0.8682 - mean_absolute_error: 0.7910 - val_loss: 0.9317 - val_mean_absolute_error: 0.8327\n",
            "Epoch 3/110\n",
            "6/6 [==============================] - 0s 13ms/step - loss: 0.6670 - mean_absolute_error: 0.6764 - val_loss: 0.6564 - val_mean_absolute_error: 0.6928\n",
            "Epoch 4/110\n",
            "6/6 [==============================] - 0s 16ms/step - loss: 0.5381 - mean_absolute_error: 0.6057 - val_loss: 0.5494 - val_mean_absolute_error: 0.6119\n",
            "Epoch 5/110\n",
            "6/6 [==============================] - 0s 17ms/step - loss: 0.4706 - mean_absolute_error: 0.5543 - val_loss: 0.5662 - val_mean_absolute_error: 0.6550\n",
            "Epoch 6/110\n",
            "6/6 [==============================] - 0s 17ms/step - loss: 0.4826 - mean_absolute_error: 0.5635 - val_loss: 0.5307 - val_mean_absolute_error: 0.6093\n",
            "Epoch 7/110\n",
            "6/6 [==============================] - 0s 17ms/step - loss: 0.4667 - mean_absolute_error: 0.5559 - val_loss: 0.5569 - val_mean_absolute_error: 0.5679\n",
            "Epoch 8/110\n",
            "6/6 [==============================] - 0s 13ms/step - loss: 0.4810 - mean_absolute_error: 0.5574 - val_loss: 0.5667 - val_mean_absolute_error: 0.5972\n",
            "Epoch 9/110\n",
            "6/6 [==============================] - 0s 16ms/step - loss: 0.4595 - mean_absolute_error: 0.5431 - val_loss: 0.5904 - val_mean_absolute_error: 0.6662\n",
            "Epoch 10/110\n",
            "6/6 [==============================] - 0s 18ms/step - loss: 0.4872 - mean_absolute_error: 0.5685 - val_loss: 0.5389 - val_mean_absolute_error: 0.5824\n",
            "Epoch 11/110\n",
            "6/6 [==============================] - 0s 17ms/step - loss: 0.4502 - mean_absolute_error: 0.5471 - val_loss: 0.5195 - val_mean_absolute_error: 0.5802\n",
            "Epoch 12/110\n",
            "6/6 [==============================] - 0s 9ms/step - loss: 0.4422 - mean_absolute_error: 0.5293 - val_loss: 0.5249 - val_mean_absolute_error: 0.5890\n",
            "Epoch 13/110\n",
            "6/6 [==============================] - 0s 9ms/step - loss: 0.4262 - mean_absolute_error: 0.5320 - val_loss: 0.5200 - val_mean_absolute_error: 0.5889\n",
            "Epoch 14/110\n",
            "6/6 [==============================] - 0s 8ms/step - loss: 0.4355 - mean_absolute_error: 0.5289 - val_loss: 0.5153 - val_mean_absolute_error: 0.5785\n",
            "Epoch 15/110\n",
            "6/6 [==============================] - 0s 9ms/step - loss: 0.4242 - mean_absolute_error: 0.5299 - val_loss: 0.5132 - val_mean_absolute_error: 0.5685\n",
            "Epoch 16/110\n",
            "6/6 [==============================] - 0s 10ms/step - loss: 0.4114 - mean_absolute_error: 0.5146 - val_loss: 0.5057 - val_mean_absolute_error: 0.5707\n",
            "Epoch 17/110\n",
            "6/6 [==============================] - 0s 9ms/step - loss: 0.4022 - mean_absolute_error: 0.5137 - val_loss: 0.5398 - val_mean_absolute_error: 0.5802\n",
            "Epoch 18/110\n",
            "6/6 [==============================] - 0s 11ms/step - loss: 0.3990 - mean_absolute_error: 0.5099 - val_loss: 0.5061 - val_mean_absolute_error: 0.5683\n",
            "Epoch 19/110\n",
            "6/6 [==============================] - 0s 8ms/step - loss: 0.3826 - mean_absolute_error: 0.4953 - val_loss: 0.5153 - val_mean_absolute_error: 0.5676\n",
            "Epoch 20/110\n",
            "6/6 [==============================] - 0s 9ms/step - loss: 0.3755 - mean_absolute_error: 0.4908 - val_loss: 0.5163 - val_mean_absolute_error: 0.5711\n",
            "Epoch 21/110\n",
            "6/6 [==============================] - 0s 9ms/step - loss: 0.3754 - mean_absolute_error: 0.4909 - val_loss: 0.5345 - val_mean_absolute_error: 0.5780\n",
            "Epoch 22/110\n",
            "6/6 [==============================] - 0s 9ms/step - loss: 0.3710 - mean_absolute_error: 0.4881 - val_loss: 0.5166 - val_mean_absolute_error: 0.5712\n",
            "Epoch 23/110\n",
            "6/6 [==============================] - 0s 8ms/step - loss: 0.3573 - mean_absolute_error: 0.4777 - val_loss: 0.5269 - val_mean_absolute_error: 0.5700\n",
            "Epoch 24/110\n",
            "6/6 [==============================] - 0s 9ms/step - loss: 0.3525 - mean_absolute_error: 0.4735 - val_loss: 0.5374 - val_mean_absolute_error: 0.5886\n",
            "Epoch 25/110\n",
            "6/6 [==============================] - 0s 9ms/step - loss: 0.3497 - mean_absolute_error: 0.4756 - val_loss: 0.5311 - val_mean_absolute_error: 0.5714\n",
            "Epoch 26/110\n",
            "6/6 [==============================] - 0s 9ms/step - loss: 0.3360 - mean_absolute_error: 0.4614 - val_loss: 0.5433 - val_mean_absolute_error: 0.5792\n",
            "Epoch 27/110\n",
            "6/6 [==============================] - 0s 10ms/step - loss: 0.3271 - mean_absolute_error: 0.4504 - val_loss: 0.5373 - val_mean_absolute_error: 0.5716\n",
            "Epoch 28/110\n",
            "6/6 [==============================] - 0s 9ms/step - loss: 0.3404 - mean_absolute_error: 0.4603 - val_loss: 0.5619 - val_mean_absolute_error: 0.6109\n",
            "Epoch 29/110\n",
            "6/6 [==============================] - 0s 9ms/step - loss: 0.3217 - mean_absolute_error: 0.4529 - val_loss: 0.5715 - val_mean_absolute_error: 0.5893\n",
            "Epoch 30/110\n",
            "6/6 [==============================] - 0s 9ms/step - loss: 0.3165 - mean_absolute_error: 0.4419 - val_loss: 0.5658 - val_mean_absolute_error: 0.5883\n",
            "Epoch 31/110\n",
            "6/6 [==============================] - 0s 8ms/step - loss: 0.3067 - mean_absolute_error: 0.4351 - val_loss: 0.5637 - val_mean_absolute_error: 0.5924\n",
            "Epoch 32/110\n",
            "6/6 [==============================] - 0s 9ms/step - loss: 0.2957 - mean_absolute_error: 0.4232 - val_loss: 0.6437 - val_mean_absolute_error: 0.6312\n",
            "Epoch 33/110\n",
            "6/6 [==============================] - 0s 9ms/step - loss: 0.3063 - mean_absolute_error: 0.4324 - val_loss: 0.5566 - val_mean_absolute_error: 0.5776\n",
            "Epoch 34/110\n",
            "6/6 [==============================] - 0s 9ms/step - loss: 0.2761 - mean_absolute_error: 0.4158 - val_loss: 0.5500 - val_mean_absolute_error: 0.5777\n",
            "Epoch 35/110\n",
            "6/6 [==============================] - 0s 9ms/step - loss: 0.2710 - mean_absolute_error: 0.4089 - val_loss: 0.5788 - val_mean_absolute_error: 0.5807\n",
            "Epoch 36/110\n",
            "6/6 [==============================] - 0s 11ms/step - loss: 0.2790 - mean_absolute_error: 0.4113 - val_loss: 0.5944 - val_mean_absolute_error: 0.5901\n",
            "Epoch 37/110\n",
            "6/6 [==============================] - 0s 9ms/step - loss: 0.2663 - mean_absolute_error: 0.3966 - val_loss: 0.6047 - val_mean_absolute_error: 0.5918\n",
            "Epoch 38/110\n",
            "6/6 [==============================] - 0s 9ms/step - loss: 0.2555 - mean_absolute_error: 0.4001 - val_loss: 0.5935 - val_mean_absolute_error: 0.5863\n",
            "Epoch 39/110\n",
            "6/6 [==============================] - 0s 9ms/step - loss: 0.2358 - mean_absolute_error: 0.3776 - val_loss: 0.5964 - val_mean_absolute_error: 0.5825\n",
            "Epoch 40/110\n",
            "6/6 [==============================] - 0s 9ms/step - loss: 0.2464 - mean_absolute_error: 0.3896 - val_loss: 0.6451 - val_mean_absolute_error: 0.6009\n",
            "Epoch 41/110\n",
            "6/6 [==============================] - 0s 9ms/step - loss: 0.2254 - mean_absolute_error: 0.3667 - val_loss: 0.6256 - val_mean_absolute_error: 0.5940\n",
            "Epoch 42/110\n",
            "6/6 [==============================] - 0s 9ms/step - loss: 0.2064 - mean_absolute_error: 0.3541 - val_loss: 0.6810 - val_mean_absolute_error: 0.6273\n",
            "Epoch 43/110\n",
            "6/6 [==============================] - 0s 9ms/step - loss: 0.2002 - mean_absolute_error: 0.3523 - val_loss: 0.6498 - val_mean_absolute_error: 0.6026\n",
            "Epoch 44/110\n",
            "6/6 [==============================] - 0s 9ms/step - loss: 0.1982 - mean_absolute_error: 0.3482 - val_loss: 0.6796 - val_mean_absolute_error: 0.6066\n",
            "Epoch 45/110\n",
            "6/6 [==============================] - 0s 8ms/step - loss: 0.2019 - mean_absolute_error: 0.3547 - val_loss: 0.7690 - val_mean_absolute_error: 0.6666\n",
            "Epoch 46/110\n",
            "6/6 [==============================] - 0s 9ms/step - loss: 0.2123 - mean_absolute_error: 0.3648 - val_loss: 0.6980 - val_mean_absolute_error: 0.6156\n",
            "Epoch 47/110\n",
            "6/6 [==============================] - 0s 9ms/step - loss: 0.2135 - mean_absolute_error: 0.3679 - val_loss: 0.6848 - val_mean_absolute_error: 0.6230\n",
            "Epoch 48/110\n",
            "6/6 [==============================] - 0s 8ms/step - loss: 0.2035 - mean_absolute_error: 0.3524 - val_loss: 0.6808 - val_mean_absolute_error: 0.6184\n",
            "Epoch 49/110\n",
            "6/6 [==============================] - 0s 10ms/step - loss: 0.1725 - mean_absolute_error: 0.3355 - val_loss: 0.6664 - val_mean_absolute_error: 0.6070\n",
            "Epoch 50/110\n",
            "6/6 [==============================] - 0s 9ms/step - loss: 0.1739 - mean_absolute_error: 0.3257 - val_loss: 0.6784 - val_mean_absolute_error: 0.6171\n",
            "Epoch 51/110\n",
            "6/6 [==============================] - 0s 9ms/step - loss: 0.1544 - mean_absolute_error: 0.3077 - val_loss: 0.7082 - val_mean_absolute_error: 0.6688\n",
            "Epoch 52/110\n",
            "6/6 [==============================] - 0s 8ms/step - loss: 0.1686 - mean_absolute_error: 0.3224 - val_loss: 0.7108 - val_mean_absolute_error: 0.6334\n",
            "Epoch 53/110\n",
            "6/6 [==============================] - 0s 9ms/step - loss: 0.1791 - mean_absolute_error: 0.3315 - val_loss: 0.6766 - val_mean_absolute_error: 0.6229\n",
            "Epoch 54/110\n",
            "6/6 [==============================] - 0s 11ms/step - loss: 0.1558 - mean_absolute_error: 0.3105 - val_loss: 0.6620 - val_mean_absolute_error: 0.6253\n",
            "Epoch 55/110\n",
            "6/6 [==============================] - 0s 9ms/step - loss: 0.1558 - mean_absolute_error: 0.3114 - val_loss: 0.7103 - val_mean_absolute_error: 0.6190\n",
            "Epoch 56/110\n",
            "6/6 [==============================] - 0s 9ms/step - loss: 0.1584 - mean_absolute_error: 0.3176 - val_loss: 0.6494 - val_mean_absolute_error: 0.6107\n",
            "Epoch 57/110\n",
            "6/6 [==============================] - 0s 9ms/step - loss: 0.1754 - mean_absolute_error: 0.3347 - val_loss: 0.7125 - val_mean_absolute_error: 0.6170\n",
            "Epoch 58/110\n",
            "6/6 [==============================] - 0s 10ms/step - loss: 0.1570 - mean_absolute_error: 0.3103 - val_loss: 0.7098 - val_mean_absolute_error: 0.6265\n",
            "Epoch 59/110\n",
            "6/6 [==============================] - 0s 9ms/step - loss: 0.1465 - mean_absolute_error: 0.3080 - val_loss: 0.7051 - val_mean_absolute_error: 0.6189\n",
            "Epoch 60/110\n",
            "6/6 [==============================] - 0s 9ms/step - loss: 0.1225 - mean_absolute_error: 0.2712 - val_loss: 0.6869 - val_mean_absolute_error: 0.6130\n",
            "Epoch 61/110\n",
            "6/6 [==============================] - 0s 9ms/step - loss: 0.1184 - mean_absolute_error: 0.2668 - val_loss: 0.7074 - val_mean_absolute_error: 0.6327\n",
            "Epoch 62/110\n",
            "6/6 [==============================] - 0s 9ms/step - loss: 0.1047 - mean_absolute_error: 0.2510 - val_loss: 0.7434 - val_mean_absolute_error: 0.6358\n",
            "Epoch 63/110\n",
            "6/6 [==============================] - 0s 9ms/step - loss: 0.1028 - mean_absolute_error: 0.2463 - val_loss: 0.7448 - val_mean_absolute_error: 0.6256\n",
            "Epoch 64/110\n",
            "6/6 [==============================] - 0s 9ms/step - loss: 0.1142 - mean_absolute_error: 0.2632 - val_loss: 0.8481 - val_mean_absolute_error: 0.6663\n",
            "Epoch 65/110\n",
            "6/6 [==============================] - 0s 9ms/step - loss: 0.1115 - mean_absolute_error: 0.2591 - val_loss: 0.8127 - val_mean_absolute_error: 0.6355\n",
            "Epoch 66/110\n",
            "6/6 [==============================] - 0s 9ms/step - loss: 0.0978 - mean_absolute_error: 0.2442 - val_loss: 0.7147 - val_mean_absolute_error: 0.6161\n",
            "Epoch 67/110\n",
            "6/6 [==============================] - 0s 9ms/step - loss: 0.0818 - mean_absolute_error: 0.2189 - val_loss: 0.7705 - val_mean_absolute_error: 0.6331\n",
            "Epoch 68/110\n",
            "6/6 [==============================] - 0s 9ms/step - loss: 0.0781 - mean_absolute_error: 0.2134 - val_loss: 0.7948 - val_mean_absolute_error: 0.6272\n",
            "Epoch 69/110\n",
            "6/6 [==============================] - 0s 9ms/step - loss: 0.0777 - mean_absolute_error: 0.2080 - val_loss: 0.7759 - val_mean_absolute_error: 0.6376\n",
            "Epoch 70/110\n",
            "6/6 [==============================] - 0s 9ms/step - loss: 0.0715 - mean_absolute_error: 0.2007 - val_loss: 0.7327 - val_mean_absolute_error: 0.6263\n",
            "Epoch 71/110\n",
            "6/6 [==============================] - 0s 11ms/step - loss: 0.0772 - mean_absolute_error: 0.2093 - val_loss: 0.7671 - val_mean_absolute_error: 0.6276\n",
            "Epoch 72/110\n",
            "6/6 [==============================] - 0s 9ms/step - loss: 0.0692 - mean_absolute_error: 0.2035 - val_loss: 0.7538 - val_mean_absolute_error: 0.6193\n",
            "Epoch 73/110\n",
            "6/6 [==============================] - 0s 9ms/step - loss: 0.0793 - mean_absolute_error: 0.2192 - val_loss: 0.8236 - val_mean_absolute_error: 0.6373\n",
            "Epoch 74/110\n",
            "6/6 [==============================] - 0s 9ms/step - loss: 0.0874 - mean_absolute_error: 0.2314 - val_loss: 0.7438 - val_mean_absolute_error: 0.6198\n",
            "Epoch 75/110\n",
            "6/6 [==============================] - 0s 9ms/step - loss: 0.0671 - mean_absolute_error: 0.1983 - val_loss: 0.7767 - val_mean_absolute_error: 0.6277\n",
            "Epoch 76/110\n",
            "6/6 [==============================] - 0s 9ms/step - loss: 0.0635 - mean_absolute_error: 0.1924 - val_loss: 0.8000 - val_mean_absolute_error: 0.6315\n",
            "Epoch 77/110\n",
            "6/6 [==============================] - 0s 10ms/step - loss: 0.0717 - mean_absolute_error: 0.2037 - val_loss: 0.8128 - val_mean_absolute_error: 0.6667\n",
            "Epoch 78/110\n",
            "6/6 [==============================] - 0s 9ms/step - loss: 0.0883 - mean_absolute_error: 0.2327 - val_loss: 0.7709 - val_mean_absolute_error: 0.6208\n",
            "Epoch 79/110\n",
            "6/6 [==============================] - 0s 9ms/step - loss: 0.0799 - mean_absolute_error: 0.2215 - val_loss: 0.8297 - val_mean_absolute_error: 0.6483\n",
            "Epoch 80/110\n",
            "6/6 [==============================] - 0s 9ms/step - loss: 0.0774 - mean_absolute_error: 0.2140 - val_loss: 0.7724 - val_mean_absolute_error: 0.6283\n",
            "Epoch 81/110\n",
            "6/6 [==============================] - 0s 9ms/step - loss: 0.0626 - mean_absolute_error: 0.1911 - val_loss: 0.8634 - val_mean_absolute_error: 0.6822\n",
            "Epoch 82/110\n",
            "6/6 [==============================] - 0s 9ms/step - loss: 0.1043 - mean_absolute_error: 0.2591 - val_loss: 0.7706 - val_mean_absolute_error: 0.6152\n",
            "Epoch 83/110\n",
            "6/6 [==============================] - 0s 9ms/step - loss: 0.1063 - mean_absolute_error: 0.2542 - val_loss: 0.7863 - val_mean_absolute_error: 0.6173\n",
            "Epoch 84/110\n",
            "6/6 [==============================] - 0s 11ms/step - loss: 0.0840 - mean_absolute_error: 0.2232 - val_loss: 0.7697 - val_mean_absolute_error: 0.6330\n",
            "Epoch 85/110\n",
            "6/6 [==============================] - 0s 10ms/step - loss: 0.0647 - mean_absolute_error: 0.1938 - val_loss: 0.7969 - val_mean_absolute_error: 0.6423\n",
            "Epoch 86/110\n",
            "6/6 [==============================] - 0s 9ms/step - loss: 0.0631 - mean_absolute_error: 0.1999 - val_loss: 0.8724 - val_mean_absolute_error: 0.6606\n",
            "Epoch 87/110\n",
            "6/6 [==============================] - 0s 10ms/step - loss: 0.0676 - mean_absolute_error: 0.1970 - val_loss: 0.8592 - val_mean_absolute_error: 0.6468\n",
            "Epoch 88/110\n",
            "6/6 [==============================] - 0s 15ms/step - loss: 0.0746 - mean_absolute_error: 0.2143 - val_loss: 0.8002 - val_mean_absolute_error: 0.6291\n",
            "Epoch 89/110\n",
            "6/6 [==============================] - 0s 9ms/step - loss: 0.0794 - mean_absolute_error: 0.2219 - val_loss: 0.8031 - val_mean_absolute_error: 0.6364\n",
            "Epoch 90/110\n",
            "6/6 [==============================] - 0s 9ms/step - loss: 0.0669 - mean_absolute_error: 0.1976 - val_loss: 0.8291 - val_mean_absolute_error: 0.6433\n",
            "Epoch 91/110\n",
            "6/6 [==============================] - 0s 9ms/step - loss: 0.0503 - mean_absolute_error: 0.1740 - val_loss: 0.7868 - val_mean_absolute_error: 0.6305\n",
            "Epoch 92/110\n",
            "6/6 [==============================] - 0s 9ms/step - loss: 0.0436 - mean_absolute_error: 0.1576 - val_loss: 0.8187 - val_mean_absolute_error: 0.6426\n",
            "Epoch 93/110\n",
            "6/6 [==============================] - 0s 9ms/step - loss: 0.0394 - mean_absolute_error: 0.1496 - val_loss: 0.8156 - val_mean_absolute_error: 0.6417\n",
            "Epoch 94/110\n",
            "6/6 [==============================] - 0s 9ms/step - loss: 0.0389 - mean_absolute_error: 0.1441 - val_loss: 0.8127 - val_mean_absolute_error: 0.6358\n",
            "Epoch 95/110\n",
            "6/6 [==============================] - 0s 10ms/step - loss: 0.0396 - mean_absolute_error: 0.1466 - val_loss: 0.8531 - val_mean_absolute_error: 0.6468\n",
            "Epoch 96/110\n",
            "6/6 [==============================] - 0s 9ms/step - loss: 0.0349 - mean_absolute_error: 0.1407 - val_loss: 0.8142 - val_mean_absolute_error: 0.6244\n",
            "Epoch 97/110\n",
            "6/6 [==============================] - 0s 9ms/step - loss: 0.0390 - mean_absolute_error: 0.1443 - val_loss: 0.8485 - val_mean_absolute_error: 0.6449\n",
            "Epoch 98/110\n",
            "6/6 [==============================] - 0s 9ms/step - loss: 0.0414 - mean_absolute_error: 0.1555 - val_loss: 0.8192 - val_mean_absolute_error: 0.6391\n",
            "Epoch 99/110\n",
            "6/6 [==============================] - 0s 9ms/step - loss: 0.0365 - mean_absolute_error: 0.1421 - val_loss: 0.8253 - val_mean_absolute_error: 0.6249\n",
            "Epoch 100/110\n",
            "6/6 [==============================] - 0s 9ms/step - loss: 0.0399 - mean_absolute_error: 0.1483 - val_loss: 0.8264 - val_mean_absolute_error: 0.6324\n",
            "Epoch 101/110\n",
            "6/6 [==============================] - 0s 9ms/step - loss: 0.0373 - mean_absolute_error: 0.1425 - val_loss: 0.8140 - val_mean_absolute_error: 0.6462\n",
            "Epoch 102/110\n",
            "6/6 [==============================] - 0s 9ms/step - loss: 0.0340 - mean_absolute_error: 0.1380 - val_loss: 0.8044 - val_mean_absolute_error: 0.6312\n",
            "Epoch 103/110\n",
            "6/6 [==============================] - 0s 10ms/step - loss: 0.0304 - mean_absolute_error: 0.1333 - val_loss: 0.8307 - val_mean_absolute_error: 0.6424\n",
            "Epoch 104/110\n",
            "6/6 [==============================] - 0s 9ms/step - loss: 0.0285 - mean_absolute_error: 0.1258 - val_loss: 0.8018 - val_mean_absolute_error: 0.6298\n",
            "Epoch 105/110\n",
            "6/6 [==============================] - 0s 14ms/step - loss: 0.0259 - mean_absolute_error: 0.1188 - val_loss: 0.8119 - val_mean_absolute_error: 0.6349\n",
            "Epoch 106/110\n",
            "6/6 [==============================] - 0s 9ms/step - loss: 0.0235 - mean_absolute_error: 0.1113 - val_loss: 0.8341 - val_mean_absolute_error: 0.6560\n",
            "Epoch 107/110\n",
            "6/6 [==============================] - 0s 9ms/step - loss: 0.0308 - mean_absolute_error: 0.1362 - val_loss: 0.8150 - val_mean_absolute_error: 0.6337\n",
            "Epoch 108/110\n",
            "6/6 [==============================] - 0s 9ms/step - loss: 0.0234 - mean_absolute_error: 0.1105 - val_loss: 0.8497 - val_mean_absolute_error: 0.6438\n",
            "Epoch 109/110\n",
            "6/6 [==============================] - 0s 9ms/step - loss: 0.0221 - mean_absolute_error: 0.1092 - val_loss: 0.8378 - val_mean_absolute_error: 0.6431\n",
            "Epoch 110/110\n",
            "6/6 [==============================] - 0s 10ms/step - loss: 0.0201 - mean_absolute_error: 0.0999 - val_loss: 0.8246 - val_mean_absolute_error: 0.6343\n"
          ]
        }
      ],
      "source": [
        "### START CODE HERE ### ()\n",
        "history= model.fit(train_data, normalized_train_targets, epochs=110, batch_size=64, validation_split=0.1)"
      ]
    },
    {
      "cell_type": "code",
      "execution_count": null,
      "id": "e2000d08-a40d-4bc8-ac8c-87c30111c670",
      "metadata": {
        "id": "e2000d08-a40d-4bc8-ac8c-87c30111c670",
        "colab": {
          "base_uri": "https://localhost:8080/"
        },
        "outputId": "4d856192-1174-449f-8a17-5b278618ccd7"
      },
      "outputs": [
        {
          "output_type": "stream",
          "name": "stdout",
          "text": [
            "2/2 [==============================] - 0s 7ms/step - loss: 0.8721 - mean_absolute_error: 0.7477\n",
            "Test Loss: 0.8721100091934204\n",
            "Test Mean Absolute Error: 0.7477282881736755\n"
          ]
        }
      ],
      "source": [
        "# Evaluate the model on the test set\n",
        "test_loss, test_mean_absolute_error = model.evaluate(test_data, normalized_test_targets)\n",
        "\n",
        "print(f'Test Loss: {test_loss}')\n",
        "print(f'Test Mean Absolute Error: {test_mean_absolute_error}')"
      ]
    },
    {
      "cell_type": "code",
      "execution_count": null,
      "id": "3a0de6a8-b049-4221-972e-689b166c71aa",
      "metadata": {
        "id": "3a0de6a8-b049-4221-972e-689b166c71aa",
        "colab": {
          "base_uri": "https://localhost:8080/",
          "height": 472
        },
        "outputId": "c156e39d-9c0c-4ee3-b329-2f57b15fb2a6"
      },
      "outputs": [
        {
          "output_type": "display_data",
          "data": {
            "text/plain": [
              "<Figure size 640x480 with 1 Axes>"
            ],
            "image/png": "[encoded data removed]"
          },
          "metadata": {}
        }
      ],
      "source": [
        "# Plot the training and validation loss\n",
        "plt.plot(history.history['loss'], label='Training Loss')\n",
        "plt.plot( history.history['val_loss'], label='Validation Loss')\n",
        "plt.title('Loss vs. epochs')\n",
        "plt.ylabel('Loss')\n",
        "plt.xlabel('Epoch')\n",
        "plt.legend(['Training', 'Validation'], loc='upper right')\n",
        "plt.show()"
      ]
    },
    {
      "cell_type": "markdown",
      "id": "5fea592c-3cd2-4fb6-b32b-d9da751763fd",
      "metadata": {
        "id": "5fea592c-3cd2-4fb6-b32b-d9da751763fd"
      },
      "source": [
        "9. **Diagnose the learning curve:**\n",
        "    - Why is the validation loss much higher than training loss?\n",
        "    - What's this phenomenon called?\n",
        "    - Mention 3 methods to reduce this."
      ]
    },
    {
      "cell_type": "markdown",
      "id": "b8fd101e-f9d1-49bc-9101-1157932be789",
      "metadata": {
        "id": "b8fd101e-f9d1-49bc-9101-1157932be789"
      },
      "source": [
        "- **answer**:\n",
        "    ___\n",
        "    - this means that the model learns to perform well on the training data and memorize it but does not generalize well to unseen data\n",
        "    ___\n",
        "    - overfitting\n",
        "    ___\n",
        "    - Regularization (like L1 or L2) as a penality added to the loss function\n",
        "    - Reducing model complexity (the more complexity= more learning = more likely to overfit)\n",
        "    - Early Stopping (stopping the training if the val_loss starts to increase)"
      ]
    },
    {
      "cell_type": "markdown",
      "id": "f186ab89-4e72-4379-b458-843fbba8f1ef",
      "metadata": {
        "id": "f186ab89-4e72-4379-b458-843fbba8f1ef"
      },
      "source": [
        "10. **Use one of the methods you mentioned and retrain the model then plot the learning curves**"
      ]
    },
    {
      "cell_type": "code",
      "execution_count": null,
      "id": "aa69dd9f-6304-4115-a547-8f02caa613bf",
      "metadata": {
        "id": "aa69dd9f-6304-4115-a547-8f02caa613bf",
        "colab": {
          "base_uri": "https://localhost:8080/",
          "height": 1000
        },
        "outputId": "ecb06156-4844-4765-9c48-19caea46a924"
      },
      "outputs": [
        {
          "output_type": "stream",
          "name": "stdout",
          "text": [
            "Epoch 1/110\n",
            "6/6 [==============================] - 5s 91ms/step - loss: 7.2648 - mean_absolute_error: 0.8415 - val_loss: 7.0292 - val_mean_absolute_error: 0.9375\n",
            "Epoch 2/110\n",
            "6/6 [==============================] - 0s 23ms/step - loss: 6.5370 - mean_absolute_error: 0.8336 - val_loss: 6.3352 - val_mean_absolute_error: 0.9278\n",
            "Epoch 3/110\n",
            "6/6 [==============================] - 0s 14ms/step - loss: 5.8690 - mean_absolute_error: 0.8224 - val_loss: 5.6954 - val_mean_absolute_error: 0.9121\n",
            "Epoch 4/110\n",
            "6/6 [==============================] - 0s 10ms/step - loss: 5.2549 - mean_absolute_error: 0.8041 - val_loss: 5.0998 - val_mean_absolute_error: 0.8902\n",
            "Epoch 5/110\n",
            "6/6 [==============================] - 0s 9ms/step - loss: 4.6878 - mean_absolute_error: 0.7736 - val_loss: 4.5220 - val_mean_absolute_error: 0.8412\n",
            "Epoch 6/110\n",
            "6/6 [==============================] - 0s 16ms/step - loss: 4.1306 - mean_absolute_error: 0.7167 - val_loss: 3.9596 - val_mean_absolute_error: 0.7619\n",
            "Epoch 7/110\n",
            "6/6 [==============================] - 0s 10ms/step - loss: 3.6279 - mean_absolute_error: 0.6388 - val_loss: 3.4612 - val_mean_absolute_error: 0.6349\n",
            "Epoch 8/110\n",
            "6/6 [==============================] - 0s 9ms/step - loss: 3.2347 - mean_absolute_error: 0.5764 - val_loss: 3.1158 - val_mean_absolute_error: 0.5949\n",
            "Epoch 9/110\n",
            "6/6 [==============================] - 0s 10ms/step - loss: 2.8969 - mean_absolute_error: 0.5593 - val_loss: 2.8203 - val_mean_absolute_error: 0.6512\n",
            "Epoch 10/110\n",
            "6/6 [==============================] - 0s 9ms/step - loss: 2.6949 - mean_absolute_error: 0.5884 - val_loss: 2.6463 - val_mean_absolute_error: 0.6946\n",
            "Epoch 11/110\n",
            "6/6 [==============================] - 0s 10ms/step - loss: 2.4339 - mean_absolute_error: 0.5698 - val_loss: 2.5267 - val_mean_absolute_error: 0.6546\n",
            "Epoch 12/110\n",
            "6/6 [==============================] - 0s 9ms/step - loss: 2.2865 - mean_absolute_error: 0.5859 - val_loss: 2.1964 - val_mean_absolute_error: 0.6497\n",
            "Epoch 13/110\n",
            "6/6 [==============================] - 0s 10ms/step - loss: 2.0540 - mean_absolute_error: 0.5777 - val_loss: 2.0359 - val_mean_absolute_error: 0.6178\n",
            "Epoch 14/110\n",
            "6/6 [==============================] - 0s 9ms/step - loss: 1.9207 - mean_absolute_error: 0.5811 - val_loss: 1.8851 - val_mean_absolute_error: 0.6188\n",
            "Epoch 15/110\n",
            "6/6 [==============================] - 0s 10ms/step - loss: 1.7645 - mean_absolute_error: 0.5786 - val_loss: 1.7489 - val_mean_absolute_error: 0.6259\n",
            "Epoch 16/110\n",
            "6/6 [==============================] - 0s 10ms/step - loss: 1.6239 - mean_absolute_error: 0.5653 - val_loss: 1.6338 - val_mean_absolute_error: 0.6025\n",
            "Epoch 17/110\n",
            "6/6 [==============================] - 0s 9ms/step - loss: 1.5119 - mean_absolute_error: 0.5657 - val_loss: 1.5237 - val_mean_absolute_error: 0.6086\n",
            "Epoch 18/110\n",
            "6/6 [==============================] - 0s 9ms/step - loss: 1.4081 - mean_absolute_error: 0.5595 - val_loss: 1.4263 - val_mean_absolute_error: 0.5994\n",
            "Epoch 19/110\n",
            "6/6 [==============================] - 0s 9ms/step - loss: 1.3201 - mean_absolute_error: 0.5567 - val_loss: 1.3422 - val_mean_absolute_error: 0.5998\n",
            "Epoch 20/110\n",
            "6/6 [==============================] - 0s 9ms/step - loss: 1.2453 - mean_absolute_error: 0.5495 - val_loss: 1.2650 - val_mean_absolute_error: 0.5885\n",
            "Epoch 21/110\n",
            "6/6 [==============================] - 0s 10ms/step - loss: 1.1810 - mean_absolute_error: 0.5530 - val_loss: 1.2128 - val_mean_absolute_error: 0.5894\n",
            "Epoch 22/110\n",
            "6/6 [==============================] - 0s 9ms/step - loss: 1.1174 - mean_absolute_error: 0.5535 - val_loss: 1.1526 - val_mean_absolute_error: 0.6068\n",
            "Epoch 23/110\n",
            "6/6 [==============================] - 0s 10ms/step - loss: 1.0624 - mean_absolute_error: 0.5511 - val_loss: 1.1029 - val_mean_absolute_error: 0.5837\n",
            "Epoch 24/110\n",
            "6/6 [==============================] - 0s 9ms/step - loss: 1.0212 - mean_absolute_error: 0.5501 - val_loss: 1.0624 - val_mean_absolute_error: 0.6130\n",
            "Epoch 25/110\n",
            "6/6 [==============================] - 0s 9ms/step - loss: 0.9842 - mean_absolute_error: 0.5589 - val_loss: 1.0337 - val_mean_absolute_error: 0.5867\n",
            "Epoch 26/110\n",
            "6/6 [==============================] - 0s 10ms/step - loss: 0.9547 - mean_absolute_error: 0.5607 - val_loss: 0.9837 - val_mean_absolute_error: 0.6047\n",
            "Epoch 27/110\n",
            "6/6 [==============================] - 0s 10ms/step - loss: 0.9147 - mean_absolute_error: 0.5493 - val_loss: 0.9467 - val_mean_absolute_error: 0.5846\n",
            "Epoch 28/110\n",
            "6/6 [==============================] - 0s 9ms/step - loss: 0.8737 - mean_absolute_error: 0.5479 - val_loss: 0.9314 - val_mean_absolute_error: 0.6108\n",
            "Epoch 29/110\n",
            "6/6 [==============================] - 0s 9ms/step - loss: 0.8517 - mean_absolute_error: 0.5524 - val_loss: 0.9106 - val_mean_absolute_error: 0.5861\n",
            "Epoch 30/110\n",
            "6/6 [==============================] - 0s 9ms/step - loss: 0.8316 - mean_absolute_error: 0.5507 - val_loss: 0.8759 - val_mean_absolute_error: 0.5885\n",
            "Epoch 31/110\n",
            "6/6 [==============================] - 0s 9ms/step - loss: 0.8046 - mean_absolute_error: 0.5475 - val_loss: 0.8655 - val_mean_absolute_error: 0.5882\n",
            "Epoch 32/110\n",
            "6/6 [==============================] - 0s 9ms/step - loss: 0.7904 - mean_absolute_error: 0.5494 - val_loss: 0.8472 - val_mean_absolute_error: 0.6040\n",
            "Epoch 33/110\n",
            "6/6 [==============================] - 0s 11ms/step - loss: 0.7831 - mean_absolute_error: 0.5563 - val_loss: 0.9054 - val_mean_absolute_error: 0.5937\n",
            "Epoch 34/110\n",
            "6/6 [==============================] - 0s 9ms/step - loss: 0.8074 - mean_absolute_error: 0.5659 - val_loss: 0.9121 - val_mean_absolute_error: 0.6809\n",
            "Epoch 35/110\n",
            "6/6 [==============================] - 0s 14ms/step - loss: 0.7732 - mean_absolute_error: 0.5691 - val_loss: 0.9112 - val_mean_absolute_error: 0.6191\n",
            "Epoch 36/110\n",
            "6/6 [==============================] - 0s 9ms/step - loss: 0.7721 - mean_absolute_error: 0.5710 - val_loss: 0.8211 - val_mean_absolute_error: 0.6295\n",
            "Epoch 37/110\n",
            "6/6 [==============================] - 0s 9ms/step - loss: 0.7375 - mean_absolute_error: 0.5599 - val_loss: 0.8023 - val_mean_absolute_error: 0.5915\n",
            "Epoch 38/110\n",
            "6/6 [==============================] - 0s 9ms/step - loss: 0.7167 - mean_absolute_error: 0.5463 - val_loss: 0.7812 - val_mean_absolute_error: 0.5907\n",
            "Epoch 39/110\n",
            "6/6 [==============================] - 0s 12ms/step - loss: 0.7196 - mean_absolute_error: 0.5530 - val_loss: 0.7690 - val_mean_absolute_error: 0.5892\n",
            "Epoch 40/110\n",
            "6/6 [==============================] - 0s 9ms/step - loss: 0.6988 - mean_absolute_error: 0.5504 - val_loss: 0.7669 - val_mean_absolute_error: 0.6024\n",
            "Epoch 41/110\n",
            "6/6 [==============================] - 0s 9ms/step - loss: 0.6903 - mean_absolute_error: 0.5507 - val_loss: 0.7636 - val_mean_absolute_error: 0.5912\n",
            "Epoch 42/110\n",
            "6/6 [==============================] - 0s 10ms/step - loss: 0.6916 - mean_absolute_error: 0.5485 - val_loss: 0.7477 - val_mean_absolute_error: 0.5990\n",
            "Epoch 43/110\n",
            "6/6 [==============================] - 0s 9ms/step - loss: 0.6903 - mean_absolute_error: 0.5507 - val_loss: 0.7352 - val_mean_absolute_error: 0.5833\n",
            "Epoch 44/110\n",
            "6/6 [==============================] - 0s 10ms/step - loss: 0.6748 - mean_absolute_error: 0.5480 - val_loss: 0.7360 - val_mean_absolute_error: 0.5847\n",
            "Epoch 45/110\n",
            "6/6 [==============================] - 0s 13ms/step - loss: 0.6695 - mean_absolute_error: 0.5478 - val_loss: 0.7364 - val_mean_absolute_error: 0.5982\n",
            "Epoch 46/110\n",
            "6/6 [==============================] - 0s 10ms/step - loss: 0.6728 - mean_absolute_error: 0.5481 - val_loss: 0.7360 - val_mean_absolute_error: 0.6100\n",
            "Epoch 47/110\n",
            "6/6 [==============================] - 0s 10ms/step - loss: 0.6646 - mean_absolute_error: 0.5465 - val_loss: 0.7487 - val_mean_absolute_error: 0.5784\n",
            "Epoch 48/110\n",
            "6/6 [==============================] - 0s 10ms/step - loss: 0.6739 - mean_absolute_error: 0.5524 - val_loss: 0.7162 - val_mean_absolute_error: 0.5883\n",
            "Epoch 49/110\n",
            "6/6 [==============================] - 0s 10ms/step - loss: 0.6560 - mean_absolute_error: 0.5442 - val_loss: 0.7179 - val_mean_absolute_error: 0.5986\n",
            "Epoch 50/110\n",
            "6/6 [==============================] - 0s 9ms/step - loss: 0.6658 - mean_absolute_error: 0.5593 - val_loss: 0.7267 - val_mean_absolute_error: 0.5877\n",
            "Epoch 51/110\n",
            "6/6 [==============================] - 0s 9ms/step - loss: 0.6397 - mean_absolute_error: 0.5438 - val_loss: 0.7141 - val_mean_absolute_error: 0.6044\n",
            "Epoch 52/110\n",
            "6/6 [==============================] - 0s 10ms/step - loss: 0.6525 - mean_absolute_error: 0.5487 - val_loss: 0.7029 - val_mean_absolute_error: 0.5834\n",
            "Epoch 53/110\n",
            "6/6 [==============================] - 0s 11ms/step - loss: 0.6383 - mean_absolute_error: 0.5446 - val_loss: 0.7021 - val_mean_absolute_error: 0.5804\n",
            "Epoch 54/110\n",
            "6/6 [==============================] - 0s 10ms/step - loss: 0.6381 - mean_absolute_error: 0.5423 - val_loss: 0.7016 - val_mean_absolute_error: 0.6017\n",
            "Epoch 55/110\n",
            "6/6 [==============================] - 0s 11ms/step - loss: 0.6333 - mean_absolute_error: 0.5464 - val_loss: 0.7207 - val_mean_absolute_error: 0.5812\n",
            "Epoch 56/110\n",
            "6/6 [==============================] - 0s 10ms/step - loss: 0.6502 - mean_absolute_error: 0.5534 - val_loss: 0.7481 - val_mean_absolute_error: 0.6544\n",
            "Epoch 57/110\n",
            "6/6 [==============================] - 0s 10ms/step - loss: 0.6473 - mean_absolute_error: 0.5567 - val_loss: 0.7073 - val_mean_absolute_error: 0.5777\n",
            "Epoch 58/110\n",
            "6/6 [==============================] - 0s 12ms/step - loss: 0.6306 - mean_absolute_error: 0.5438 - val_loss: 0.7079 - val_mean_absolute_error: 0.6179\n",
            "Epoch 59/110\n",
            "6/6 [==============================] - 0s 10ms/step - loss: 0.6234 - mean_absolute_error: 0.5476 - val_loss: 0.7035 - val_mean_absolute_error: 0.5793\n",
            "Epoch 60/110\n",
            "6/6 [==============================] - 0s 9ms/step - loss: 0.6289 - mean_absolute_error: 0.5551 - val_loss: 0.6902 - val_mean_absolute_error: 0.5882\n",
            "Epoch 61/110\n",
            "6/6 [==============================] - 0s 9ms/step - loss: 0.6206 - mean_absolute_error: 0.5448 - val_loss: 0.6898 - val_mean_absolute_error: 0.6002\n",
            "Epoch 62/110\n",
            "6/6 [==============================] - 0s 10ms/step - loss: 0.6308 - mean_absolute_error: 0.5510 - val_loss: 0.7058 - val_mean_absolute_error: 0.5777\n",
            "Epoch 63/110\n",
            "6/6 [==============================] - 0s 10ms/step - loss: 0.6317 - mean_absolute_error: 0.5500 - val_loss: 0.6745 - val_mean_absolute_error: 0.5813\n",
            "Epoch 64/110\n",
            "6/6 [==============================] - 0s 10ms/step - loss: 0.6048 - mean_absolute_error: 0.5378 - val_loss: 0.6880 - val_mean_absolute_error: 0.5862\n",
            "Epoch 65/110\n",
            "6/6 [==============================] - 0s 10ms/step - loss: 0.6085 - mean_absolute_error: 0.5457 - val_loss: 0.7014 - val_mean_absolute_error: 0.6259\n",
            "Epoch 66/110\n",
            "6/6 [==============================] - 0s 10ms/step - loss: 0.6100 - mean_absolute_error: 0.5437 - val_loss: 0.6972 - val_mean_absolute_error: 0.5745\n",
            "Epoch 67/110\n",
            "6/6 [==============================] - 0s 10ms/step - loss: 0.6180 - mean_absolute_error: 0.5369 - val_loss: 0.6822 - val_mean_absolute_error: 0.6057\n",
            "Epoch 68/110\n",
            "6/6 [==============================] - 0s 9ms/step - loss: 0.6013 - mean_absolute_error: 0.5354 - val_loss: 0.6815 - val_mean_absolute_error: 0.5775\n",
            "Epoch 69/110\n",
            "6/6 [==============================] - 0s 9ms/step - loss: 0.6061 - mean_absolute_error: 0.5434 - val_loss: 0.6688 - val_mean_absolute_error: 0.5816\n",
            "Epoch 70/110\n",
            "6/6 [==============================] - 0s 10ms/step - loss: 0.6042 - mean_absolute_error: 0.5420 - val_loss: 0.6618 - val_mean_absolute_error: 0.5793\n",
            "Epoch 71/110\n",
            "6/6 [==============================] - 0s 12ms/step - loss: 0.6062 - mean_absolute_error: 0.5423 - val_loss: 0.6807 - val_mean_absolute_error: 0.6130\n",
            "Epoch 72/110\n",
            "6/6 [==============================] - 0s 10ms/step - loss: 0.6180 - mean_absolute_error: 0.5499 - val_loss: 0.6751 - val_mean_absolute_error: 0.5755\n",
            "Epoch 73/110\n",
            "6/6 [==============================] - 0s 10ms/step - loss: 0.6036 - mean_absolute_error: 0.5414 - val_loss: 0.6596 - val_mean_absolute_error: 0.5856\n",
            "Epoch 74/110\n",
            "6/6 [==============================] - 0s 9ms/step - loss: 0.5902 - mean_absolute_error: 0.5350 - val_loss: 0.6943 - val_mean_absolute_error: 0.5709\n",
            "Epoch 75/110\n",
            "6/6 [==============================] - 0s 9ms/step - loss: 0.6261 - mean_absolute_error: 0.5506 - val_loss: 0.6757 - val_mean_absolute_error: 0.6094\n",
            "Epoch 76/110\n",
            "6/6 [==============================] - 0s 9ms/step - loss: 0.5892 - mean_absolute_error: 0.5346 - val_loss: 0.6753 - val_mean_absolute_error: 0.5776\n",
            "Epoch 77/110\n",
            "6/6 [==============================] - 0s 11ms/step - loss: 0.5935 - mean_absolute_error: 0.5419 - val_loss: 0.6563 - val_mean_absolute_error: 0.5844\n",
            "Epoch 78/110\n",
            "6/6 [==============================] - 0s 9ms/step - loss: 0.5911 - mean_absolute_error: 0.5377 - val_loss: 0.6518 - val_mean_absolute_error: 0.5814\n",
            "Epoch 79/110\n",
            "6/6 [==============================] - 0s 10ms/step - loss: 0.5878 - mean_absolute_error: 0.5365 - val_loss: 0.6656 - val_mean_absolute_error: 0.5648\n",
            "Epoch 80/110\n",
            "6/6 [==============================] - 0s 9ms/step - loss: 0.5973 - mean_absolute_error: 0.5370 - val_loss: 0.6777 - val_mean_absolute_error: 0.6180\n",
            "Epoch 81/110\n",
            "6/6 [==============================] - 0s 10ms/step - loss: 0.5969 - mean_absolute_error: 0.5426 - val_loss: 0.6578 - val_mean_absolute_error: 0.5787\n",
            "Epoch 82/110\n",
            "6/6 [==============================] - 0s 9ms/step - loss: 0.5867 - mean_absolute_error: 0.5400 - val_loss: 0.6554 - val_mean_absolute_error: 0.5789\n",
            "Epoch 83/110\n",
            "6/6 [==============================] - 0s 10ms/step - loss: 0.5796 - mean_absolute_error: 0.5337 - val_loss: 0.6560 - val_mean_absolute_error: 0.5925\n",
            "Epoch 84/110\n",
            "6/6 [==============================] - 0s 9ms/step - loss: 0.5826 - mean_absolute_error: 0.5351 - val_loss: 0.6456 - val_mean_absolute_error: 0.5596\n",
            "Epoch 85/110\n",
            "6/6 [==============================] - 0s 9ms/step - loss: 0.5818 - mean_absolute_error: 0.5326 - val_loss: 0.6419 - val_mean_absolute_error: 0.5655\n",
            "Epoch 86/110\n",
            "6/6 [==============================] - 0s 9ms/step - loss: 0.5813 - mean_absolute_error: 0.5389 - val_loss: 0.6717 - val_mean_absolute_error: 0.5720\n",
            "Epoch 87/110\n",
            "6/6 [==============================] - 0s 9ms/step - loss: 0.6067 - mean_absolute_error: 0.5472 - val_loss: 0.7716 - val_mean_absolute_error: 0.6921\n",
            "Epoch 88/110\n",
            "6/6 [==============================] - 0s 9ms/step - loss: 0.6436 - mean_absolute_error: 0.5756 - val_loss: 0.6613 - val_mean_absolute_error: 0.5698\n",
            "Epoch 89/110\n",
            "6/6 [==============================] - 0s 9ms/step - loss: 0.5819 - mean_absolute_error: 0.5344 - val_loss: 0.6502 - val_mean_absolute_error: 0.5816\n",
            "Epoch 90/110\n",
            "6/6 [==============================] - 0s 9ms/step - loss: 0.5774 - mean_absolute_error: 0.5315 - val_loss: 0.6595 - val_mean_absolute_error: 0.5660\n",
            "Epoch 91/110\n",
            "6/6 [==============================] - 0s 9ms/step - loss: 0.5870 - mean_absolute_error: 0.5354 - val_loss: 0.6504 - val_mean_absolute_error: 0.5867\n",
            "Epoch 92/110\n",
            "6/6 [==============================] - 0s 9ms/step - loss: 0.5936 - mean_absolute_error: 0.5400 - val_loss: 0.6719 - val_mean_absolute_error: 0.6180\n",
            "Epoch 93/110\n",
            "6/6 [==============================] - 0s 9ms/step - loss: 0.5980 - mean_absolute_error: 0.5563 - val_loss: 0.7327 - val_mean_absolute_error: 0.5922\n",
            "Epoch 94/110\n",
            "6/6 [==============================] - 0s 9ms/step - loss: 0.6285 - mean_absolute_error: 0.5525 - val_loss: 0.6653 - val_mean_absolute_error: 0.6055\n",
            "Epoch 95/110\n",
            "6/6 [==============================] - 0s 11ms/step - loss: 0.5954 - mean_absolute_error: 0.5366 - val_loss: 0.6520 - val_mean_absolute_error: 0.5846\n",
            "Epoch 96/110\n",
            "6/6 [==============================] - 0s 10ms/step - loss: 0.5957 - mean_absolute_error: 0.5535 - val_loss: 0.6662 - val_mean_absolute_error: 0.5840\n",
            "Epoch 97/110\n",
            "6/6 [==============================] - 0s 10ms/step - loss: 0.5819 - mean_absolute_error: 0.5397 - val_loss: 0.6417 - val_mean_absolute_error: 0.5785\n",
            "Epoch 98/110\n",
            "6/6 [==============================] - 0s 9ms/step - loss: 0.5731 - mean_absolute_error: 0.5311 - val_loss: 0.6359 - val_mean_absolute_error: 0.5619\n",
            "Epoch 99/110\n",
            "6/6 [==============================] - 0s 9ms/step - loss: 0.5704 - mean_absolute_error: 0.5290 - val_loss: 0.6422 - val_mean_absolute_error: 0.5763\n",
            "Epoch 100/110\n",
            "6/6 [==============================] - 0s 9ms/step - loss: 0.5849 - mean_absolute_error: 0.5417 - val_loss: 0.6540 - val_mean_absolute_error: 0.5972\n",
            "Epoch 101/110\n",
            "6/6 [==============================] - 0s 10ms/step - loss: 0.5755 - mean_absolute_error: 0.5384 - val_loss: 0.6571 - val_mean_absolute_error: 0.5659\n",
            "Epoch 102/110\n",
            "6/6 [==============================] - 0s 9ms/step - loss: 0.5888 - mean_absolute_error: 0.5388 - val_loss: 0.6452 - val_mean_absolute_error: 0.5883\n",
            "Epoch 103/110\n",
            "6/6 [==============================] - 0s 10ms/step - loss: 0.5831 - mean_absolute_error: 0.5363 - val_loss: 0.6390 - val_mean_absolute_error: 0.5769\n",
            "Epoch 104/110\n",
            "6/6 [==============================] - 0s 11ms/step - loss: 0.5817 - mean_absolute_error: 0.5407 - val_loss: 0.6652 - val_mean_absolute_error: 0.5712\n",
            "Epoch 105/110\n",
            "6/6 [==============================] - 0s 10ms/step - loss: 0.5864 - mean_absolute_error: 0.5417 - val_loss: 0.6871 - val_mean_absolute_error: 0.6348\n",
            "Epoch 106/110\n",
            "6/6 [==============================] - 0s 10ms/step - loss: 0.5921 - mean_absolute_error: 0.5474 - val_loss: 0.6912 - val_mean_absolute_error: 0.5777\n",
            "Epoch 107/110\n",
            "6/6 [==============================] - 0s 11ms/step - loss: 0.5726 - mean_absolute_error: 0.5312 - val_loss: 0.6994 - val_mean_absolute_error: 0.6437\n",
            "Epoch 108/110\n",
            "6/6 [==============================] - 0s 10ms/step - loss: 0.5942 - mean_absolute_error: 0.5479 - val_loss: 0.6757 - val_mean_absolute_error: 0.5725\n",
            "Epoch 109/110\n",
            "6/6 [==============================] - 0s 10ms/step - loss: 0.5659 - mean_absolute_error: 0.5273 - val_loss: 0.6606 - val_mean_absolute_error: 0.6086\n",
            "Epoch 110/110\n",
            "6/6 [==============================] - 0s 9ms/step - loss: 0.5880 - mean_absolute_error: 0.5407 - val_loss: 0.6424 - val_mean_absolute_error: 0.5668\n"
          ]
        },
        {
          "output_type": "display_data",
          "data": {
            "text/plain": [
              "<Figure size 640x480 with 1 Axes>"
            ],
            "image/png": "[encoded data removed]"
          },
          "metadata": {}
        }
      ],
      "source": [
        "#### YOUR CODE HERE\n",
        "from tensorflow.keras.regularizers import l2\n",
        "\n",
        "# Building the model with L2 regularization with 0.01 strength in each layer\n",
        "#  I tried also 0.05 and 0.1 but 0.01 is the best as the rest affected the training loss negatively (underfitting)\n",
        "def build_regularized_model(input_shape):\n",
        "    model = tf.keras.Sequential([\n",
        "        tf.keras.layers.Dense(128, activation='relu', kernel_regularizer=l2(0.01), input_shape=(input_shape,)),\n",
        "        tf.keras.layers.Dense(128, activation='relu', kernel_regularizer=l2(0.01)),\n",
        "        tf.keras.layers.Dense(128, activation='relu', kernel_regularizer=l2(0.01)),\n",
        "        tf.keras.layers.Dense(128, activation='relu', kernel_regularizer=l2(0.01)),\n",
        "        tf.keras.layers.Dense(128, activation='relu', kernel_regularizer=l2(0.01)),\n",
        "        tf.keras.layers.Dense(128, activation='relu', kernel_regularizer=l2(0.01)),\n",
        "        tf.keras.layers.Dense(1)\n",
        "    ])\n",
        "    return model\n",
        "\n",
        "regularized_model = build_regularized_model(train_data.shape[1])\n",
        "\n",
        "regularized_model.compile(optimizer='adam', loss='mean_squared_error', metrics=['mean_absolute_error'])\n",
        "\n",
        "history = regularized_model.fit(train_data, normalized_train_targets, epochs=110, batch_size=64, validation_split=0.1)\n",
        "\n",
        "plt.plot(history.history['loss'], label='Training Loss')\n",
        "plt.plot(history.history['val_loss'], label='Validation Loss')\n",
        "plt.title('Loss vs. Epochs (with L2 Regularization)')\n",
        "plt.ylabel('Loss')\n",
        "plt.xlabel('Epoch')\n",
        "plt.legend()\n",
        "plt.show()\n",
        "\n"
      ]
    },
    {
      "cell_type": "code",
      "source": [
        "#trying to so the same but with simpler model\n",
        "#### YOUR CODE HERE\n",
        "from tensorflow.keras.regularizers import l2\n",
        "\n",
        "def build_regularized_model(input_shape):\n",
        "    model = tf.keras.Sequential([\n",
        "        tf.keras.layers.Dense(128, activation='relu', kernel_regularizer=l2(0.01), input_shape=(input_shape,)),\n",
        "        tf.keras.layers.Dense(128, activation='relu', kernel_regularizer=l2(0.01)),\n",
        "        tf.keras.layers.Dense(128, activation='relu', kernel_regularizer=l2(0.01)),\n",
        "        tf.keras.layers.Dense(128, activation='relu', kernel_regularizer=l2(0.01)),\n",
        "        tf.keras.layers.Dense(1)\n",
        "    ])\n",
        "    return model\n",
        "\n",
        "regularized_model = build_regularized_model(train_data.shape[1])\n",
        "\n",
        "regularized_model.compile(optimizer='adam', loss='mean_squared_error', metrics=['mean_absolute_error'])\n",
        "\n",
        "history = regularized_model.fit(train_data, normalized_train_targets, epochs=110, batch_size=64, validation_split=0.1)\n",
        "\n",
        "plt.plot(history.history['loss'], label='Training Loss')\n",
        "plt.plot(history.history['val_loss'], label='Validation Loss')\n",
        "plt.title('Loss vs. Epochs (with L2 Regularization)')\n",
        "plt.ylabel('Loss')\n",
        "plt.xlabel('Epoch')\n",
        "plt.legend()\n",
        "plt.show()\n",
        "\n"
      ],
      "metadata": {
        "colab": {
          "base_uri": "https://localhost:8080/",
          "height": 1000
        },
        "id": "u5lZ7nzTnsJR",
        "outputId": "a6fff8e1-e59b-4601-d1aa-0fb9cf331b22"
      },
      "id": "u5lZ7nzTnsJR",
      "execution_count": null,
      "outputs": [
        {
          "output_type": "stream",
          "name": "stdout",
          "text": [
            "Epoch 1/110\n",
            "6/6 [==============================] - 1s 50ms/step - loss: 4.8213 - mean_absolute_error: 0.8400 - val_loss: 4.7534 - val_mean_absolute_error: 0.9331\n",
            "Epoch 2/110\n",
            "6/6 [==============================] - 0s 11ms/step - loss: 4.3662 - mean_absolute_error: 0.8290 - val_loss: 4.3181 - val_mean_absolute_error: 0.9206\n",
            "Epoch 3/110\n",
            "6/6 [==============================] - 0s 10ms/step - loss: 3.9478 - mean_absolute_error: 0.8152 - val_loss: 3.9078 - val_mean_absolute_error: 0.9017\n",
            "Epoch 4/110\n",
            "6/6 [==============================] - 0s 10ms/step - loss: 3.5560 - mean_absolute_error: 0.7937 - val_loss: 3.5207 - val_mean_absolute_error: 0.8774\n",
            "Epoch 5/110\n",
            "6/6 [==============================] - 0s 13ms/step - loss: 3.1890 - mean_absolute_error: 0.7635 - val_loss: 3.1365 - val_mean_absolute_error: 0.8314\n",
            "Epoch 6/110\n",
            "6/6 [==============================] - 0s 11ms/step - loss: 2.8233 - mean_absolute_error: 0.7078 - val_loss: 2.7632 - val_mean_absolute_error: 0.7634\n",
            "Epoch 7/110\n",
            "6/6 [==============================] - 0s 14ms/step - loss: 2.5039 - mean_absolute_error: 0.6487 - val_loss: 2.4409 - val_mean_absolute_error: 0.6621\n",
            "Epoch 8/110\n",
            "6/6 [==============================] - 0s 15ms/step - loss: 2.2456 - mean_absolute_error: 0.5929 - val_loss: 2.1866 - val_mean_absolute_error: 0.6034\n",
            "Epoch 9/110\n",
            "6/6 [==============================] - 0s 12ms/step - loss: 2.0424 - mean_absolute_error: 0.5654 - val_loss: 2.0299 - val_mean_absolute_error: 0.6537\n",
            "Epoch 10/110\n",
            "6/6 [==============================] - 0s 15ms/step - loss: 1.8961 - mean_absolute_error: 0.5878 - val_loss: 1.8426 - val_mean_absolute_error: 0.6064\n",
            "Epoch 11/110\n",
            "6/6 [==============================] - 0s 11ms/step - loss: 1.7283 - mean_absolute_error: 0.5780 - val_loss: 1.7109 - val_mean_absolute_error: 0.6098\n",
            "Epoch 12/110\n",
            "6/6 [==============================] - 0s 15ms/step - loss: 1.6042 - mean_absolute_error: 0.5622 - val_loss: 1.5926 - val_mean_absolute_error: 0.6067\n",
            "Epoch 13/110\n",
            "6/6 [==============================] - 0s 17ms/step - loss: 1.4817 - mean_absolute_error: 0.5656 - val_loss: 1.4829 - val_mean_absolute_error: 0.6144\n",
            "Epoch 14/110\n",
            "6/6 [==============================] - 0s 14ms/step - loss: 1.3890 - mean_absolute_error: 0.5631 - val_loss: 1.4019 - val_mean_absolute_error: 0.5977\n",
            "Epoch 15/110\n",
            "6/6 [==============================] - 0s 10ms/step - loss: 1.2944 - mean_absolute_error: 0.5592 - val_loss: 1.3091 - val_mean_absolute_error: 0.6094\n",
            "Epoch 16/110\n",
            "6/6 [==============================] - 0s 15ms/step - loss: 1.2091 - mean_absolute_error: 0.5553 - val_loss: 1.2359 - val_mean_absolute_error: 0.5921\n",
            "Epoch 17/110\n",
            "6/6 [==============================] - 0s 11ms/step - loss: 1.1417 - mean_absolute_error: 0.5574 - val_loss: 1.1753 - val_mean_absolute_error: 0.5979\n",
            "Epoch 18/110\n",
            "6/6 [==============================] - 0s 14ms/step - loss: 1.0808 - mean_absolute_error: 0.5570 - val_loss: 1.1130 - val_mean_absolute_error: 0.5995\n",
            "Epoch 19/110\n",
            "6/6 [==============================] - 0s 11ms/step - loss: 1.0230 - mean_absolute_error: 0.5540 - val_loss: 1.0614 - val_mean_absolute_error: 0.5964\n",
            "Epoch 20/110\n",
            "6/6 [==============================] - 0s 12ms/step - loss: 0.9764 - mean_absolute_error: 0.5491 - val_loss: 1.0126 - val_mean_absolute_error: 0.5887\n",
            "Epoch 21/110\n",
            "6/6 [==============================] - 0s 16ms/step - loss: 0.9365 - mean_absolute_error: 0.5525 - val_loss: 0.9776 - val_mean_absolute_error: 0.5904\n",
            "Epoch 22/110\n",
            "6/6 [==============================] - 0s 10ms/step - loss: 0.8944 - mean_absolute_error: 0.5507 - val_loss: 0.9429 - val_mean_absolute_error: 0.6020\n",
            "Epoch 23/110\n",
            "6/6 [==============================] - 0s 10ms/step - loss: 0.8627 - mean_absolute_error: 0.5532 - val_loss: 0.9107 - val_mean_absolute_error: 0.5906\n",
            "Epoch 24/110\n",
            "6/6 [==============================] - 0s 15ms/step - loss: 0.8387 - mean_absolute_error: 0.5516 - val_loss: 0.8833 - val_mean_absolute_error: 0.6025\n",
            "Epoch 25/110\n",
            "6/6 [==============================] - 0s 11ms/step - loss: 0.8112 - mean_absolute_error: 0.5570 - val_loss: 0.8601 - val_mean_absolute_error: 0.5926\n",
            "Epoch 26/110\n",
            "6/6 [==============================] - 0s 16ms/step - loss: 0.7887 - mean_absolute_error: 0.5528 - val_loss: 0.8383 - val_mean_absolute_error: 0.6047\n",
            "Epoch 27/110\n",
            "6/6 [==============================] - 0s 12ms/step - loss: 0.7619 - mean_absolute_error: 0.5497 - val_loss: 0.8150 - val_mean_absolute_error: 0.5864\n",
            "Epoch 28/110\n",
            "6/6 [==============================] - 0s 10ms/step - loss: 0.7441 - mean_absolute_error: 0.5484 - val_loss: 0.8102 - val_mean_absolute_error: 0.6171\n",
            "Epoch 29/110\n",
            "6/6 [==============================] - 0s 14ms/step - loss: 0.7345 - mean_absolute_error: 0.5560 - val_loss: 0.7892 - val_mean_absolute_error: 0.5869\n",
            "Epoch 30/110\n",
            "6/6 [==============================] - 0s 10ms/step - loss: 0.7177 - mean_absolute_error: 0.5501 - val_loss: 0.7679 - val_mean_absolute_error: 0.5949\n",
            "Epoch 31/110\n",
            "6/6 [==============================] - 0s 11ms/step - loss: 0.6982 - mean_absolute_error: 0.5515 - val_loss: 0.7621 - val_mean_absolute_error: 0.5894\n",
            "Epoch 32/110\n",
            "6/6 [==============================] - 0s 10ms/step - loss: 0.6928 - mean_absolute_error: 0.5483 - val_loss: 0.7509 - val_mean_absolute_error: 0.6019\n",
            "Epoch 33/110\n",
            "6/6 [==============================] - 0s 11ms/step - loss: 0.7005 - mean_absolute_error: 0.5697 - val_loss: 0.7462 - val_mean_absolute_error: 0.5828\n",
            "Epoch 34/110\n",
            "6/6 [==============================] - 0s 14ms/step - loss: 0.7177 - mean_absolute_error: 0.5668 - val_loss: 0.7324 - val_mean_absolute_error: 0.6002\n",
            "Epoch 35/110\n",
            "6/6 [==============================] - 0s 10ms/step - loss: 0.6970 - mean_absolute_error: 0.5763 - val_loss: 0.7314 - val_mean_absolute_error: 0.6012\n",
            "Epoch 36/110\n",
            "6/6 [==============================] - 0s 10ms/step - loss: 0.6690 - mean_absolute_error: 0.5553 - val_loss: 0.7492 - val_mean_absolute_error: 0.5943\n",
            "Epoch 37/110\n",
            "6/6 [==============================] - 0s 10ms/step - loss: 0.6466 - mean_absolute_error: 0.5513 - val_loss: 0.7359 - val_mean_absolute_error: 0.6308\n",
            "Epoch 38/110\n",
            "6/6 [==============================] - 0s 9ms/step - loss: 0.6513 - mean_absolute_error: 0.5599 - val_loss: 0.7227 - val_mean_absolute_error: 0.5860\n",
            "Epoch 39/110\n",
            "6/6 [==============================] - 0s 10ms/step - loss: 0.6527 - mean_absolute_error: 0.5547 - val_loss: 0.6998 - val_mean_absolute_error: 0.5984\n",
            "Epoch 40/110\n",
            "6/6 [==============================] - 0s 12ms/step - loss: 0.6321 - mean_absolute_error: 0.5506 - val_loss: 0.6954 - val_mean_absolute_error: 0.5932\n",
            "Epoch 41/110\n",
            "6/6 [==============================] - 0s 13ms/step - loss: 0.6240 - mean_absolute_error: 0.5500 - val_loss: 0.6925 - val_mean_absolute_error: 0.5949\n",
            "Epoch 42/110\n",
            "6/6 [==============================] - 0s 14ms/step - loss: 0.6205 - mean_absolute_error: 0.5486 - val_loss: 0.6857 - val_mean_absolute_error: 0.5937\n",
            "Epoch 43/110\n",
            "6/6 [==============================] - 0s 13ms/step - loss: 0.6207 - mean_absolute_error: 0.5490 - val_loss: 0.6778 - val_mean_absolute_error: 0.5909\n",
            "Epoch 44/110\n",
            "6/6 [==============================] - 0s 11ms/step - loss: 0.6141 - mean_absolute_error: 0.5490 - val_loss: 0.6737 - val_mean_absolute_error: 0.5843\n",
            "Epoch 45/110\n",
            "6/6 [==============================] - 0s 11ms/step - loss: 0.6105 - mean_absolute_error: 0.5456 - val_loss: 0.6759 - val_mean_absolute_error: 0.5950\n",
            "Epoch 46/110\n",
            "6/6 [==============================] - 0s 11ms/step - loss: 0.6094 - mean_absolute_error: 0.5469 - val_loss: 0.6719 - val_mean_absolute_error: 0.5933\n",
            "Epoch 47/110\n",
            "6/6 [==============================] - 0s 11ms/step - loss: 0.6060 - mean_absolute_error: 0.5500 - val_loss: 0.6714 - val_mean_absolute_error: 0.5869\n",
            "Epoch 48/110\n",
            "6/6 [==============================] - 0s 11ms/step - loss: 0.6034 - mean_absolute_error: 0.5468 - val_loss: 0.6627 - val_mean_absolute_error: 0.5845\n",
            "Epoch 49/110\n",
            "6/6 [==============================] - 0s 15ms/step - loss: 0.5963 - mean_absolute_error: 0.5438 - val_loss: 0.6606 - val_mean_absolute_error: 0.5857\n",
            "Epoch 50/110\n",
            "6/6 [==============================] - 0s 13ms/step - loss: 0.5995 - mean_absolute_error: 0.5486 - val_loss: 0.6623 - val_mean_absolute_error: 0.5890\n",
            "Epoch 51/110\n",
            "6/6 [==============================] - 0s 16ms/step - loss: 0.5936 - mean_absolute_error: 0.5464 - val_loss: 0.6583 - val_mean_absolute_error: 0.5906\n",
            "Epoch 52/110\n",
            "6/6 [==============================] - 0s 16ms/step - loss: 0.5922 - mean_absolute_error: 0.5465 - val_loss: 0.6594 - val_mean_absolute_error: 0.5976\n",
            "Epoch 53/110\n",
            "6/6 [==============================] - 0s 17ms/step - loss: 0.5888 - mean_absolute_error: 0.5468 - val_loss: 0.6555 - val_mean_absolute_error: 0.5871\n",
            "Epoch 54/110\n",
            "6/6 [==============================] - 0s 11ms/step - loss: 0.5906 - mean_absolute_error: 0.5443 - val_loss: 0.6509 - val_mean_absolute_error: 0.5899\n",
            "Epoch 55/110\n",
            "6/6 [==============================] - 0s 11ms/step - loss: 0.5880 - mean_absolute_error: 0.5480 - val_loss: 0.6533 - val_mean_absolute_error: 0.5846\n",
            "Epoch 56/110\n",
            "6/6 [==============================] - 0s 12ms/step - loss: 0.6081 - mean_absolute_error: 0.5491 - val_loss: 0.6610 - val_mean_absolute_error: 0.6095\n",
            "Epoch 57/110\n",
            "6/6 [==============================] - 0s 11ms/step - loss: 0.5901 - mean_absolute_error: 0.5532 - val_loss: 0.6500 - val_mean_absolute_error: 0.5854\n",
            "Epoch 58/110\n",
            "6/6 [==============================] - 0s 12ms/step - loss: 0.6008 - mean_absolute_error: 0.5517 - val_loss: 0.6507 - val_mean_absolute_error: 0.5973\n",
            "Epoch 59/110\n",
            "6/6 [==============================] - 0s 11ms/step - loss: 0.5877 - mean_absolute_error: 0.5511 - val_loss: 0.6471 - val_mean_absolute_error: 0.5817\n",
            "Epoch 60/110\n",
            "6/6 [==============================] - 0s 12ms/step - loss: 0.5801 - mean_absolute_error: 0.5451 - val_loss: 0.6487 - val_mean_absolute_error: 0.5900\n",
            "Epoch 61/110\n",
            "6/6 [==============================] - 0s 11ms/step - loss: 0.5758 - mean_absolute_error: 0.5483 - val_loss: 0.6489 - val_mean_absolute_error: 0.5972\n",
            "Epoch 62/110\n",
            "6/6 [==============================] - 0s 19ms/step - loss: 0.5768 - mean_absolute_error: 0.5478 - val_loss: 0.6450 - val_mean_absolute_error: 0.5832\n",
            "Epoch 63/110\n",
            "6/6 [==============================] - 0s 21ms/step - loss: 0.5783 - mean_absolute_error: 0.5472 - val_loss: 0.6377 - val_mean_absolute_error: 0.5839\n",
            "Epoch 64/110\n",
            "6/6 [==============================] - 0s 19ms/step - loss: 0.5696 - mean_absolute_error: 0.5423 - val_loss: 0.6465 - val_mean_absolute_error: 0.5857\n",
            "Epoch 65/110\n",
            "6/6 [==============================] - 0s 17ms/step - loss: 0.5769 - mean_absolute_error: 0.5474 - val_loss: 0.6585 - val_mean_absolute_error: 0.6204\n",
            "Epoch 66/110\n",
            "6/6 [==============================] - 0s 20ms/step - loss: 0.5780 - mean_absolute_error: 0.5530 - val_loss: 0.6529 - val_mean_absolute_error: 0.5833\n",
            "Epoch 67/110\n",
            "6/6 [==============================] - 0s 18ms/step - loss: 0.5887 - mean_absolute_error: 0.5453 - val_loss: 0.6496 - val_mean_absolute_error: 0.6112\n",
            "Epoch 68/110\n",
            "6/6 [==============================] - 0s 15ms/step - loss: 0.5734 - mean_absolute_error: 0.5478 - val_loss: 0.6528 - val_mean_absolute_error: 0.5768\n",
            "Epoch 69/110\n",
            "6/6 [==============================] - 0s 21ms/step - loss: 0.5780 - mean_absolute_error: 0.5471 - val_loss: 0.6415 - val_mean_absolute_error: 0.6026\n",
            "Epoch 70/110\n",
            "6/6 [==============================] - 0s 22ms/step - loss: 0.5661 - mean_absolute_error: 0.5449 - val_loss: 0.6339 - val_mean_absolute_error: 0.5757\n",
            "Epoch 71/110\n",
            "6/6 [==============================] - 0s 18ms/step - loss: 0.5762 - mean_absolute_error: 0.5441 - val_loss: 0.6448 - val_mean_absolute_error: 0.6113\n",
            "Epoch 72/110\n",
            "6/6 [==============================] - 0s 16ms/step - loss: 0.5848 - mean_absolute_error: 0.5544 - val_loss: 0.6345 - val_mean_absolute_error: 0.5812\n",
            "Epoch 73/110\n",
            "6/6 [==============================] - 0s 22ms/step - loss: 0.5751 - mean_absolute_error: 0.5449 - val_loss: 0.6298 - val_mean_absolute_error: 0.5891\n",
            "Epoch 74/110\n",
            "6/6 [==============================] - 0s 22ms/step - loss: 0.5824 - mean_absolute_error: 0.5573 - val_loss: 0.6369 - val_mean_absolute_error: 0.5752\n",
            "Epoch 75/110\n",
            "6/6 [==============================] - 0s 15ms/step - loss: 0.5969 - mean_absolute_error: 0.5503 - val_loss: 0.6287 - val_mean_absolute_error: 0.5865\n",
            "Epoch 76/110\n",
            "6/6 [==============================] - 0s 17ms/step - loss: 0.5751 - mean_absolute_error: 0.5548 - val_loss: 0.6325 - val_mean_absolute_error: 0.5858\n",
            "Epoch 77/110\n",
            "6/6 [==============================] - 0s 18ms/step - loss: 0.5771 - mean_absolute_error: 0.5453 - val_loss: 0.6342 - val_mean_absolute_error: 0.5829\n",
            "Epoch 78/110\n",
            "6/6 [==============================] - 0s 18ms/step - loss: 0.5604 - mean_absolute_error: 0.5446 - val_loss: 0.6328 - val_mean_absolute_error: 0.6017\n",
            "Epoch 79/110\n",
            "6/6 [==============================] - 0s 18ms/step - loss: 0.5599 - mean_absolute_error: 0.5426 - val_loss: 0.6254 - val_mean_absolute_error: 0.5726\n",
            "Epoch 80/110\n",
            "6/6 [==============================] - 0s 19ms/step - loss: 0.5630 - mean_absolute_error: 0.5398 - val_loss: 0.6199 - val_mean_absolute_error: 0.5809\n",
            "Epoch 81/110\n",
            "6/6 [==============================] - 0s 20ms/step - loss: 0.5579 - mean_absolute_error: 0.5427 - val_loss: 0.6234 - val_mean_absolute_error: 0.5844\n",
            "Epoch 82/110\n",
            "6/6 [==============================] - 0s 19ms/step - loss: 0.5593 - mean_absolute_error: 0.5425 - val_loss: 0.6290 - val_mean_absolute_error: 0.5881\n",
            "Epoch 83/110\n",
            "6/6 [==============================] - 0s 18ms/step - loss: 0.5543 - mean_absolute_error: 0.5425 - val_loss: 0.6280 - val_mean_absolute_error: 0.5959\n",
            "Epoch 84/110\n",
            "6/6 [==============================] - 0s 22ms/step - loss: 0.5545 - mean_absolute_error: 0.5418 - val_loss: 0.6170 - val_mean_absolute_error: 0.5725\n",
            "Epoch 85/110\n",
            "6/6 [==============================] - 0s 18ms/step - loss: 0.5564 - mean_absolute_error: 0.5381 - val_loss: 0.6139 - val_mean_absolute_error: 0.5737\n",
            "Epoch 86/110\n",
            "6/6 [==============================] - 0s 15ms/step - loss: 0.5574 - mean_absolute_error: 0.5432 - val_loss: 0.6240 - val_mean_absolute_error: 0.5751\n",
            "Epoch 87/110\n",
            "6/6 [==============================] - 0s 22ms/step - loss: 0.5814 - mean_absolute_error: 0.5518 - val_loss: 0.6574 - val_mean_absolute_error: 0.6348\n",
            "Epoch 88/110\n",
            "6/6 [==============================] - 0s 12ms/step - loss: 0.5785 - mean_absolute_error: 0.5660 - val_loss: 0.6291 - val_mean_absolute_error: 0.5832\n",
            "Epoch 89/110\n",
            "6/6 [==============================] - 0s 15ms/step - loss: 0.5600 - mean_absolute_error: 0.5417 - val_loss: 0.6263 - val_mean_absolute_error: 0.5943\n",
            "Epoch 90/110\n",
            "6/6 [==============================] - 0s 13ms/step - loss: 0.5795 - mean_absolute_error: 0.5566 - val_loss: 0.6196 - val_mean_absolute_error: 0.5675\n",
            "Epoch 91/110\n",
            "6/6 [==============================] - 0s 16ms/step - loss: 0.5790 - mean_absolute_error: 0.5441 - val_loss: 0.6157 - val_mean_absolute_error: 0.5759\n",
            "Epoch 92/110\n",
            "6/6 [==============================] - 0s 12ms/step - loss: 0.5536 - mean_absolute_error: 0.5448 - val_loss: 0.6306 - val_mean_absolute_error: 0.6023\n",
            "Epoch 93/110\n",
            "6/6 [==============================] - 0s 17ms/step - loss: 0.5564 - mean_absolute_error: 0.5498 - val_loss: 0.6297 - val_mean_absolute_error: 0.5822\n",
            "Epoch 94/110\n",
            "6/6 [==============================] - 0s 11ms/step - loss: 0.5594 - mean_absolute_error: 0.5438 - val_loss: 0.6141 - val_mean_absolute_error: 0.5761\n",
            "Epoch 95/110\n",
            "6/6 [==============================] - 0s 14ms/step - loss: 0.5504 - mean_absolute_error: 0.5386 - val_loss: 0.6164 - val_mean_absolute_error: 0.5830\n",
            "Epoch 96/110\n",
            "6/6 [==============================] - 0s 20ms/step - loss: 0.5544 - mean_absolute_error: 0.5436 - val_loss: 0.6194 - val_mean_absolute_error: 0.5842\n",
            "Epoch 97/110\n",
            "6/6 [==============================] - 0s 17ms/step - loss: 0.5493 - mean_absolute_error: 0.5402 - val_loss: 0.6151 - val_mean_absolute_error: 0.5814\n",
            "Epoch 98/110\n",
            "6/6 [==============================] - 0s 14ms/step - loss: 0.5476 - mean_absolute_error: 0.5402 - val_loss: 0.6149 - val_mean_absolute_error: 0.5827\n",
            "Epoch 99/110\n",
            "6/6 [==============================] - 0s 19ms/step - loss: 0.5492 - mean_absolute_error: 0.5394 - val_loss: 0.6137 - val_mean_absolute_error: 0.5788\n",
            "Epoch 100/110\n",
            "6/6 [==============================] - 0s 20ms/step - loss: 0.5554 - mean_absolute_error: 0.5431 - val_loss: 0.6196 - val_mean_absolute_error: 0.5887\n",
            "Epoch 101/110\n",
            "6/6 [==============================] - 0s 21ms/step - loss: 0.5555 - mean_absolute_error: 0.5483 - val_loss: 0.6141 - val_mean_absolute_error: 0.5791\n",
            "Epoch 102/110\n",
            "6/6 [==============================] - 0s 31ms/step - loss: 0.5532 - mean_absolute_error: 0.5406 - val_loss: 0.6152 - val_mean_absolute_error: 0.5828\n",
            "Epoch 103/110\n",
            "6/6 [==============================] - 0s 30ms/step - loss: 0.5497 - mean_absolute_error: 0.5419 - val_loss: 0.6155 - val_mean_absolute_error: 0.5847\n",
            "Epoch 104/110\n",
            "6/6 [==============================] - 0s 37ms/step - loss: 0.5503 - mean_absolute_error: 0.5424 - val_loss: 0.6145 - val_mean_absolute_error: 0.5826\n",
            "Epoch 105/110\n",
            "6/6 [==============================] - 0s 15ms/step - loss: 0.5552 - mean_absolute_error: 0.5426 - val_loss: 0.6174 - val_mean_absolute_error: 0.5897\n",
            "Epoch 106/110\n",
            "6/6 [==============================] - 0s 14ms/step - loss: 0.5611 - mean_absolute_error: 0.5506 - val_loss: 0.6140 - val_mean_absolute_error: 0.5723\n",
            "Epoch 107/110\n",
            "6/6 [==============================] - 0s 15ms/step - loss: 0.5656 - mean_absolute_error: 0.5434 - val_loss: 0.6260 - val_mean_absolute_error: 0.6046\n",
            "Epoch 108/110\n",
            "6/6 [==============================] - 0s 27ms/step - loss: 0.5724 - mean_absolute_error: 0.5572 - val_loss: 0.6204 - val_mean_absolute_error: 0.5749\n",
            "Epoch 109/110\n",
            "6/6 [==============================] - 0s 19ms/step - loss: 0.5553 - mean_absolute_error: 0.5378 - val_loss: 0.6248 - val_mean_absolute_error: 0.6005\n",
            "Epoch 110/110\n",
            "6/6 [==============================] - 0s 19ms/step - loss: 0.5626 - mean_absolute_error: 0.5522 - val_loss: 0.6159 - val_mean_absolute_error: 0.5791\n"
          ]
        },
        {
          "output_type": "display_data",
          "data": {
            "text/plain": [
              "<Figure size 640x480 with 1 Axes>"
            ],
            "image/png": "[encoded data removed]"
          },
          "metadata": {}
        }
      ]
    },
    {
      "cell_type": "markdown",
      "id": "39417149-9f72-4fde-945e-7ea7a649b01f",
      "metadata": {
        "id": "39417149-9f72-4fde-945e-7ea7a649b01f"
      },
      "source": [
        "# Part 3 Batches and Epochs"
      ]
    },
    {
      "cell_type": "markdown",
      "id": "6b167f30-1712-4875-8643-985d6bff5894",
      "metadata": {
        "id": "6b167f30-1712-4875-8643-985d6bff5894"
      },
      "source": [
        "In this part of the assignment we will create a synthetic data to play with.\n",
        "The data will have 2 features and 3 target classes --> multiclass classification problem"
      ]
    },
    {
      "cell_type": "code",
      "execution_count": null,
      "id": "5478a898-76b8-4764-9194-54920d6889f8",
      "metadata": {
        "id": "5478a898-76b8-4764-9194-54920d6889f8"
      },
      "outputs": [],
      "source": [
        "# prepare train and test dataset\n",
        "def prepare_data():\n",
        "    #  generate classification dataset with 3 centers (labels/classes)\n",
        "    X, y = make_blobs(n_samples=1000, centers=3, n_features=2, cluster_std=2, random_state=2)\n",
        "\n",
        "    # plot data\n",
        "    for class_value in range(3):\n",
        "        # select indices of points with the class label\n",
        "        row_ix = np.where(y == class_value)\n",
        "        # scatter plot for points with a different color\n",
        "        plt.scatter(X[row_ix, 0], X[row_ix, 1])\n",
        "    # show plot\n",
        "    plt.show()\n",
        "\n",
        "    # one hot encode output variable to convert from integers to binary class\n",
        "    y = to_categorical(y)\n",
        "\n",
        "    # split into train and test\n",
        "    n_train = 500\n",
        "    X_train, X_test = X[:n_train, :], X[n_train:, :]\n",
        "    y_train, y_test = y[:n_train], y[n_train:]\n",
        "    return X_train, y_train, X_test, y_test\n"
      ]
    },
    {
      "cell_type": "code",
      "execution_count": null,
      "id": "32e2cf07-c958-46c3-a453-f1bead3502b0",
      "metadata": {
        "id": "32e2cf07-c958-46c3-a453-f1bead3502b0",
        "colab": {
          "base_uri": "https://localhost:8080/",
          "height": 430
        },
        "outputId": "d5cd9232-2fd0-4389-d337-aa099b651b16"
      },
      "outputs": [
        {
          "output_type": "display_data",
          "data": {
            "text/plain": [
              "<Figure size 640x480 with 1 Axes>"
            ],
            "image/png": "[encoded data removed]"
          },
          "metadata": {}
        }
      ],
      "source": [
        "# prepare dataset\n",
        "X_train, y_train, X_test, y_test = prepare_data()\n"
      ]
    },
    {
      "cell_type": "markdown",
      "id": "780221cc-5e13-4fd9-a940-38d43232c17b",
      "metadata": {
        "id": "780221cc-5e13-4fd9-a940-38d43232c17b"
      },
      "source": [
        "- **Create a model with:**\n",
        "    -  1 hidden dense layer (50 neurons), activation relu, , kernel_initializer he_uniform\n",
        "    - 1 output layer\n",
        "    - compile the model with SGD (learning rate 0.01 and momentum 0.9) optimizer and categorical crossentropy and accuracy inside build function"
      ]
    },
    {
      "cell_type": "code",
      "execution_count": null,
      "id": "72840561-d883-4b04-85c0-aa3c25d88767",
      "metadata": {
        "id": "72840561-d883-4b04-85c0-aa3c25d88767"
      },
      "outputs": [],
      "source": [
        "def build_model():\n",
        "\n",
        "    ##### YOUR CODE HERE\n",
        "    model = Sequential()\n",
        "    model.add(Dense(50, activation='relu', kernel_initializer='he_uniform', input_dim=2))\n",
        "    model.add(Dense(3, activation='softmax'))\n",
        "    sgd = SGD(learning_rate=0.01, momentum=0.9)\n",
        "    model.compile(loss='categorical_crossentropy', optimizer=sgd, metrics=['accuracy'])\n",
        "\n",
        "\n",
        "\n",
        "    return model"
      ]
    },
    {
      "cell_type": "markdown",
      "id": "9f77f064-219f-4130-95d6-6f55c500d8aa",
      "metadata": {
        "id": "9f77f064-219f-4130-95d6-6f55c500d8aa"
      },
      "source": [
        "- Create a function to fit and build the model with different batch sizes"
      ]
    },
    {
      "cell_type": "markdown",
      "id": "36e5cb37-cf36-4f8f-9d2f-2adbeeea41bb",
      "metadata": {
        "id": "36e5cb37-cf36-4f8f-9d2f-2adbeeea41bb"
      },
      "source": [
        "Use epochs = 125"
      ]
    },
    {
      "cell_type": "code",
      "execution_count": null,
      "id": "8b6d1185-925a-4a4e-9815-29a3ca1a62cf",
      "metadata": {
        "id": "8b6d1185-925a-4a4e-9815-29a3ca1a62cf"
      },
      "outputs": [],
      "source": [
        "# fit a model and plot learning curve\n",
        "def fit_model(X_train, y_train, X_test, y_test, n_batch):\n",
        "    ##### YOUR CODE HERE\n",
        "    history = model.fit(X_train, y_train, validation_data=(X_test, y_test), epochs=125, batch_size=n_batch)\n",
        "\n",
        "\n",
        "    return history"
      ]
    },
    {
      "cell_type": "markdown",
      "id": "b2539b4f-8829-4df1-9a45-a9c438a37baf",
      "metadata": {
        "id": "b2539b4f-8829-4df1-9a45-a9c438a37baf"
      },
      "source": [
        "### Hyperparameter Tuning"
      ]
    },
    {
      "cell_type": "markdown",
      "id": "fb875222-fd78-4ed5-a33f-a9c085bd5534",
      "metadata": {
        "jp-MarkdownHeadingCollapsed": true,
        "tags": [],
        "id": "fb875222-fd78-4ed5-a33f-a9c085bd5534"
      },
      "source": [
        "#### Batch size"
      ]
    },
    {
      "cell_type": "markdown",
      "id": "3c2c8424-0b59-45be-8bc3-0f310fb8ed30",
      "metadata": {
        "id": "3c2c8424-0b59-45be-8bc3-0f310fb8ed30"
      },
      "source": [
        "##### Size =  1"
      ]
    },
    {
      "cell_type": "markdown",
      "id": "77369330-70e7-41eb-a8ff-40eae827ea7d",
      "metadata": {
        "id": "77369330-70e7-41eb-a8ff-40eae827ea7d"
      },
      "source": [
        "10. **train for 1 batch size**"
      ]
    },
    {
      "cell_type": "code",
      "execution_count": null,
      "id": "a44f1126-7897-4cd8-bdce-b804948df69d",
      "metadata": {
        "id": "a44f1126-7897-4cd8-bdce-b804948df69d",
        "colab": {
          "base_uri": "https://localhost:8080/"
        },
        "outputId": "0fd2e99d-66cd-4a99-f4b9-e0fcfca73e9d"
      },
      "outputs": [
        {
          "output_type": "stream",
          "name": "stdout",
          "text": [
            "Epoch 1/125\n",
            "500/500 [==============================] - 2s 3ms/step - loss: 1.6355 - accuracy: 0.5460 - val_loss: 0.9264 - val_accuracy: 0.5000\n",
            "Epoch 2/125\n",
            "500/500 [==============================] - 1s 3ms/step - loss: 1.0579 - accuracy: 0.5240 - val_loss: 1.0970 - val_accuracy: 0.5280\n",
            "Epoch 3/125\n",
            "500/500 [==============================] - 1s 3ms/step - loss: 1.0292 - accuracy: 0.4720 - val_loss: 1.0061 - val_accuracy: 0.5760\n",
            "Epoch 4/125\n",
            "500/500 [==============================] - 1s 3ms/step - loss: 1.0739 - accuracy: 0.4940 - val_loss: 0.9795 - val_accuracy: 0.5240\n",
            "Epoch 5/125\n",
            "500/500 [==============================] - 2s 4ms/step - loss: 0.9369 - accuracy: 0.5280 - val_loss: 1.0791 - val_accuracy: 0.5520\n",
            "Epoch 6/125\n",
            "500/500 [==============================] - 2s 3ms/step - loss: 0.9225 - accuracy: 0.5300 - val_loss: 0.8979 - val_accuracy: 0.6180\n",
            "Epoch 7/125\n",
            "500/500 [==============================] - 1s 3ms/step - loss: 0.9708 - accuracy: 0.5020 - val_loss: 0.8912 - val_accuracy: 0.5900\n",
            "Epoch 8/125\n",
            "500/500 [==============================] - 1s 3ms/step - loss: 0.8235 - accuracy: 0.6540 - val_loss: 1.0091 - val_accuracy: 0.4900\n",
            "Epoch 9/125\n",
            "500/500 [==============================] - 1s 3ms/step - loss: 0.9603 - accuracy: 0.5160 - val_loss: 0.9288 - val_accuracy: 0.5500\n",
            "Epoch 10/125\n",
            "500/500 [==============================] - 1s 3ms/step - loss: 0.9165 - accuracy: 0.5720 - val_loss: 0.9213 - val_accuracy: 0.6200\n",
            "Epoch 11/125\n",
            "500/500 [==============================] - 1s 3ms/step - loss: 0.8768 - accuracy: 0.5860 - val_loss: 1.0576 - val_accuracy: 0.5740\n",
            "Epoch 12/125\n",
            "500/500 [==============================] - 1s 3ms/step - loss: 0.9943 - accuracy: 0.5320 - val_loss: 0.9166 - val_accuracy: 0.5640\n",
            "Epoch 13/125\n",
            "500/500 [==============================] - 2s 4ms/step - loss: 0.7858 - accuracy: 0.6420 - val_loss: 1.0005 - val_accuracy: 0.5220\n",
            "Epoch 14/125\n",
            "500/500 [==============================] - 2s 4ms/step - loss: 0.8284 - accuracy: 0.6520 - val_loss: 0.7489 - val_accuracy: 0.6660\n",
            "Epoch 15/125\n",
            "500/500 [==============================] - 1s 3ms/step - loss: 0.9574 - accuracy: 0.5580 - val_loss: 0.9490 - val_accuracy: 0.4880\n",
            "Epoch 16/125\n",
            "500/500 [==============================] - 1s 3ms/step - loss: 0.8769 - accuracy: 0.6060 - val_loss: 1.1066 - val_accuracy: 0.4940\n",
            "Epoch 17/125\n",
            "500/500 [==============================] - 1s 3ms/step - loss: 1.2590 - accuracy: 0.4980 - val_loss: 1.1462 - val_accuracy: 0.5620\n",
            "Epoch 18/125\n",
            "500/500 [==============================] - 1s 3ms/step - loss: 0.9276 - accuracy: 0.5660 - val_loss: 1.9228 - val_accuracy: 0.5540\n",
            "Epoch 19/125\n",
            "500/500 [==============================] - 1s 3ms/step - loss: 0.9952 - accuracy: 0.5140 - val_loss: 0.9497 - val_accuracy: 0.5360\n",
            "Epoch 20/125\n",
            "500/500 [==============================] - 1s 3ms/step - loss: 0.9799 - accuracy: 0.5620 - val_loss: 0.9083 - val_accuracy: 0.5180\n",
            "Epoch 21/125\n",
            "500/500 [==============================] - 4s 9ms/step - loss: 0.8174 - accuracy: 0.6500 - val_loss: 0.7121 - val_accuracy: 0.6780\n",
            "Epoch 22/125\n",
            "500/500 [==============================] - 1s 3ms/step - loss: 0.8712 - accuracy: 0.6100 - val_loss: 0.7242 - val_accuracy: 0.4920\n",
            "Epoch 23/125\n",
            "500/500 [==============================] - 3s 7ms/step - loss: 0.8925 - accuracy: 0.6360 - val_loss: 0.9880 - val_accuracy: 0.6160\n",
            "Epoch 24/125\n",
            "500/500 [==============================] - 1s 3ms/step - loss: 0.8956 - accuracy: 0.6000 - val_loss: 0.8546 - val_accuracy: 0.6160\n",
            "Epoch 25/125\n",
            "500/500 [==============================] - 1s 3ms/step - loss: 0.9601 - accuracy: 0.5580 - val_loss: 0.8500 - val_accuracy: 0.6080\n",
            "Epoch 26/125\n",
            "500/500 [==============================] - 2s 4ms/step - loss: 0.9271 - accuracy: 0.5980 - val_loss: 0.8176 - val_accuracy: 0.5260\n",
            "Epoch 27/125\n",
            "500/500 [==============================] - 2s 5ms/step - loss: 1.0277 - accuracy: 0.5220 - val_loss: 0.9156 - val_accuracy: 0.6220\n",
            "Epoch 28/125\n",
            "500/500 [==============================] - 1s 3ms/step - loss: 0.8725 - accuracy: 0.6200 - val_loss: 0.9202 - val_accuracy: 0.5360\n",
            "Epoch 29/125\n",
            "500/500 [==============================] - 1s 3ms/step - loss: 0.8863 - accuracy: 0.5760 - val_loss: 0.7647 - val_accuracy: 0.6680\n",
            "Epoch 30/125\n",
            "500/500 [==============================] - 1s 3ms/step - loss: 0.9181 - accuracy: 0.5420 - val_loss: 0.9512 - val_accuracy: 0.5500\n",
            "Epoch 31/125\n",
            "500/500 [==============================] - 1s 3ms/step - loss: 0.9153 - accuracy: 0.5780 - val_loss: 0.8289 - val_accuracy: 0.5460\n",
            "Epoch 32/125\n",
            "500/500 [==============================] - 1s 3ms/step - loss: 0.9093 - accuracy: 0.5320 - val_loss: 1.0404 - val_accuracy: 0.5460\n",
            "Epoch 33/125\n",
            "500/500 [==============================] - 1s 3ms/step - loss: 0.8782 - accuracy: 0.5820 - val_loss: 1.3636 - val_accuracy: 0.6480\n",
            "Epoch 34/125\n",
            "500/500 [==============================] - 2s 5ms/step - loss: 0.9268 - accuracy: 0.5700 - val_loss: 0.9331 - val_accuracy: 0.5420\n",
            "Epoch 35/125\n",
            "500/500 [==============================] - 2s 3ms/step - loss: 0.9358 - accuracy: 0.5460 - val_loss: 1.9626 - val_accuracy: 0.5660\n",
            "Epoch 36/125\n",
            "500/500 [==============================] - 1s 3ms/step - loss: 0.8612 - accuracy: 0.6480 - val_loss: 0.9173 - val_accuracy: 0.5600\n",
            "Epoch 37/125\n",
            "500/500 [==============================] - 1s 3ms/step - loss: 0.7830 - accuracy: 0.6560 - val_loss: 0.8649 - val_accuracy: 0.6300\n",
            "Epoch 38/125\n",
            "500/500 [==============================] - 1s 3ms/step - loss: 0.9259 - accuracy: 0.5400 - val_loss: 1.0096 - val_accuracy: 0.4200\n",
            "Epoch 39/125\n",
            "500/500 [==============================] - 2s 4ms/step - loss: 0.9212 - accuracy: 0.5340 - val_loss: 0.7635 - val_accuracy: 0.6700\n",
            "Epoch 40/125\n",
            "500/500 [==============================] - 5s 9ms/step - loss: 0.8734 - accuracy: 0.6000 - val_loss: 1.3579 - val_accuracy: 0.4400\n",
            "Epoch 41/125\n",
            "500/500 [==============================] - 4s 9ms/step - loss: 0.9242 - accuracy: 0.5400 - val_loss: 0.9181 - val_accuracy: 0.6580\n",
            "Epoch 42/125\n",
            "500/500 [==============================] - 3s 6ms/step - loss: 0.9817 - accuracy: 0.5200 - val_loss: 0.9441 - val_accuracy: 0.5900\n",
            "Epoch 43/125\n",
            "500/500 [==============================] - 2s 4ms/step - loss: 0.9649 - accuracy: 0.5180 - val_loss: 0.9397 - val_accuracy: 0.5820\n",
            "Epoch 44/125\n",
            "500/500 [==============================] - 4s 7ms/step - loss: 1.0154 - accuracy: 0.5360 - val_loss: 1.1946 - val_accuracy: 0.6100\n",
            "Epoch 45/125\n",
            "500/500 [==============================] - 3s 6ms/step - loss: 0.9879 - accuracy: 0.5600 - val_loss: 0.9171 - val_accuracy: 0.5180\n",
            "Epoch 46/125\n",
            "500/500 [==============================] - 3s 6ms/step - loss: 0.9328 - accuracy: 0.5560 - val_loss: 0.9222 - val_accuracy: 0.5200\n",
            "Epoch 47/125\n",
            "500/500 [==============================] - 3s 6ms/step - loss: 0.9671 - accuracy: 0.5080 - val_loss: 0.9299 - val_accuracy: 0.5820\n",
            "Epoch 48/125\n",
            "500/500 [==============================] - 3s 6ms/step - loss: 0.9163 - accuracy: 0.5800 - val_loss: 1.6279 - val_accuracy: 0.5020\n",
            "Epoch 49/125\n",
            "500/500 [==============================] - 2s 5ms/step - loss: 0.9241 - accuracy: 0.6060 - val_loss: 1.0637 - val_accuracy: 0.5840\n",
            "Epoch 50/125\n",
            "500/500 [==============================] - 1s 3ms/step - loss: 0.8716 - accuracy: 0.5760 - val_loss: 1.0957 - val_accuracy: 0.5480\n",
            "Epoch 51/125\n",
            "500/500 [==============================] - 1s 3ms/step - loss: 0.9549 - accuracy: 0.5300 - val_loss: 1.3125 - val_accuracy: 0.6380\n",
            "Epoch 52/125\n",
            "500/500 [==============================] - 1s 3ms/step - loss: 0.8240 - accuracy: 0.6600 - val_loss: 0.9754 - val_accuracy: 0.6860\n",
            "Epoch 53/125\n",
            "500/500 [==============================] - 1s 3ms/step - loss: 1.0232 - accuracy: 0.5220 - val_loss: 0.9502 - val_accuracy: 0.5200\n",
            "Epoch 54/125\n",
            "500/500 [==============================] - 1s 3ms/step - loss: 0.8991 - accuracy: 0.6060 - val_loss: 0.6634 - val_accuracy: 0.6960\n",
            "Epoch 55/125\n",
            "500/500 [==============================] - 1s 3ms/step - loss: 0.8245 - accuracy: 0.6620 - val_loss: 0.7050 - val_accuracy: 0.7420\n",
            "Epoch 56/125\n",
            "500/500 [==============================] - 2s 5ms/step - loss: 0.8856 - accuracy: 0.6020 - val_loss: 0.9097 - val_accuracy: 0.5520\n",
            "Epoch 57/125\n",
            "500/500 [==============================] - 1s 3ms/step - loss: 0.8430 - accuracy: 0.6100 - val_loss: 0.7606 - val_accuracy: 0.7460\n",
            "Epoch 58/125\n",
            "500/500 [==============================] - 1s 3ms/step - loss: 0.9350 - accuracy: 0.5900 - val_loss: 0.9058 - val_accuracy: 0.5720\n",
            "Epoch 59/125\n",
            "500/500 [==============================] - 1s 3ms/step - loss: 0.9111 - accuracy: 0.5980 - val_loss: 0.8292 - val_accuracy: 0.6160\n",
            "Epoch 60/125\n",
            "500/500 [==============================] - 1s 3ms/step - loss: 0.8605 - accuracy: 0.6140 - val_loss: 0.9857 - val_accuracy: 0.5220\n",
            "Epoch 61/125\n",
            "500/500 [==============================] - 1s 3ms/step - loss: 0.8795 - accuracy: 0.5320 - val_loss: 0.9600 - val_accuracy: 0.5400\n",
            "Epoch 62/125\n",
            "500/500 [==============================] - 1s 3ms/step - loss: 0.9479 - accuracy: 0.5180 - val_loss: 1.0241 - val_accuracy: 0.5580\n",
            "Epoch 63/125\n",
            "500/500 [==============================] - 2s 3ms/step - loss: 0.9077 - accuracy: 0.5500 - val_loss: 1.0945 - val_accuracy: 0.4940\n",
            "Epoch 64/125\n",
            "500/500 [==============================] - 3s 5ms/step - loss: 1.0285 - accuracy: 0.4980 - val_loss: 0.9735 - val_accuracy: 0.5480\n",
            "Epoch 65/125\n",
            "500/500 [==============================] - 1s 3ms/step - loss: 0.9148 - accuracy: 0.5440 - val_loss: 0.9067 - val_accuracy: 0.5680\n",
            "Epoch 66/125\n",
            "500/500 [==============================] - 1s 3ms/step - loss: 0.9190 - accuracy: 0.5600 - val_loss: 0.7606 - val_accuracy: 0.6680\n",
            "Epoch 67/125\n",
            "500/500 [==============================] - 1s 3ms/step - loss: 0.9606 - accuracy: 0.5520 - val_loss: 0.9276 - val_accuracy: 0.5960\n",
            "Epoch 68/125\n",
            "500/500 [==============================] - 1s 3ms/step - loss: 0.9048 - accuracy: 0.5360 - val_loss: 0.7836 - val_accuracy: 0.6800\n",
            "Epoch 69/125\n",
            "500/500 [==============================] - 1s 3ms/step - loss: 0.9481 - accuracy: 0.5920 - val_loss: 0.9720 - val_accuracy: 0.4620\n",
            "Epoch 70/125\n",
            "500/500 [==============================] - 1s 3ms/step - loss: 0.9528 - accuracy: 0.5040 - val_loss: 0.8831 - val_accuracy: 0.4920\n",
            "Epoch 71/125\n",
            "500/500 [==============================] - 2s 3ms/step - loss: 0.7975 - accuracy: 0.6280 - val_loss: 0.9203 - val_accuracy: 0.5760\n",
            "Epoch 72/125\n",
            "500/500 [==============================] - 2s 4ms/step - loss: 0.7827 - accuracy: 0.6760 - val_loss: 0.9045 - val_accuracy: 0.5660\n",
            "Epoch 73/125\n",
            "500/500 [==============================] - 1s 3ms/step - loss: 0.9090 - accuracy: 0.5920 - val_loss: 0.8291 - val_accuracy: 0.6740\n",
            "Epoch 74/125\n",
            "500/500 [==============================] - 1s 3ms/step - loss: 0.9353 - accuracy: 0.5500 - val_loss: 0.8151 - val_accuracy: 0.6060\n",
            "Epoch 75/125\n",
            "500/500 [==============================] - 2s 4ms/step - loss: 0.8479 - accuracy: 0.5840 - val_loss: 0.9145 - val_accuracy: 0.6480\n",
            "Epoch 76/125\n",
            "500/500 [==============================] - 2s 3ms/step - loss: 0.8915 - accuracy: 0.5820 - val_loss: 0.7937 - val_accuracy: 0.5920\n",
            "Epoch 77/125\n",
            "500/500 [==============================] - 1s 3ms/step - loss: 0.9537 - accuracy: 0.5760 - val_loss: 1.0807 - val_accuracy: 0.4340\n",
            "Epoch 78/125\n",
            "500/500 [==============================] - 1s 3ms/step - loss: 1.0144 - accuracy: 0.4760 - val_loss: 0.9821 - val_accuracy: 0.5060\n",
            "Epoch 79/125\n",
            "500/500 [==============================] - 2s 4ms/step - loss: 0.9734 - accuracy: 0.5020 - val_loss: 0.9771 - val_accuracy: 0.5780\n",
            "Epoch 80/125\n",
            "500/500 [==============================] - 2s 3ms/step - loss: 0.9867 - accuracy: 0.5400 - val_loss: 0.9864 - val_accuracy: 0.5340\n",
            "Epoch 81/125\n",
            "500/500 [==============================] - 1s 3ms/step - loss: 0.9716 - accuracy: 0.4960 - val_loss: 0.9517 - val_accuracy: 0.4420\n",
            "Epoch 82/125\n",
            "500/500 [==============================] - 1s 3ms/step - loss: 0.9229 - accuracy: 0.5080 - val_loss: 0.9961 - val_accuracy: 0.6240\n",
            "Epoch 83/125\n",
            "500/500 [==============================] - 1s 3ms/step - loss: 0.9813 - accuracy: 0.4980 - val_loss: 0.9434 - val_accuracy: 0.4640\n",
            "Epoch 84/125\n",
            "500/500 [==============================] - 1s 3ms/step - loss: 0.9628 - accuracy: 0.5280 - val_loss: 1.1420 - val_accuracy: 0.5480\n",
            "Epoch 85/125\n",
            "500/500 [==============================] - 1s 3ms/step - loss: 0.9681 - accuracy: 0.5120 - val_loss: 0.9605 - val_accuracy: 0.5140\n",
            "Epoch 86/125\n",
            "500/500 [==============================] - 1s 3ms/step - loss: 0.8859 - accuracy: 0.6120 - val_loss: 0.7504 - val_accuracy: 0.7100\n",
            "Epoch 87/125\n",
            "500/500 [==============================] - 2s 5ms/step - loss: 0.8619 - accuracy: 0.6040 - val_loss: 1.0192 - val_accuracy: 0.4340\n",
            "Epoch 88/125\n",
            "500/500 [==============================] - 2s 3ms/step - loss: 0.9242 - accuracy: 0.5500 - val_loss: 1.0315 - val_accuracy: 0.6280\n",
            "Epoch 89/125\n",
            "500/500 [==============================] - 1s 3ms/step - loss: 0.9318 - accuracy: 0.5460 - val_loss: 0.9580 - val_accuracy: 0.5820\n",
            "Epoch 90/125\n",
            "500/500 [==============================] - 1s 3ms/step - loss: 0.8768 - accuracy: 0.5880 - val_loss: 0.9240 - val_accuracy: 0.6120\n",
            "Epoch 91/125\n",
            "500/500 [==============================] - 1s 3ms/step - loss: 0.8869 - accuracy: 0.5840 - val_loss: 0.7227 - val_accuracy: 0.6740\n",
            "Epoch 92/125\n",
            "500/500 [==============================] - 1s 3ms/step - loss: 0.9777 - accuracy: 0.4880 - val_loss: 0.8965 - val_accuracy: 0.5640\n",
            "Epoch 93/125\n",
            "500/500 [==============================] - 1s 3ms/step - loss: 0.9401 - accuracy: 0.5300 - val_loss: 0.7485 - val_accuracy: 0.7260\n",
            "Epoch 94/125\n",
            "500/500 [==============================] - 1s 3ms/step - loss: 0.7815 - accuracy: 0.6440 - val_loss: 0.7201 - val_accuracy: 0.7040\n",
            "Epoch 95/125\n",
            "500/500 [==============================] - 2s 4ms/step - loss: 0.9213 - accuracy: 0.5740 - val_loss: 0.8780 - val_accuracy: 0.4960\n",
            "Epoch 96/125\n",
            "500/500 [==============================] - 2s 3ms/step - loss: 0.8017 - accuracy: 0.6380 - val_loss: 0.9781 - val_accuracy: 0.6460\n",
            "Epoch 97/125\n",
            "500/500 [==============================] - 1s 3ms/step - loss: 0.9612 - accuracy: 0.5380 - val_loss: 0.8874 - val_accuracy: 0.4920\n",
            "Epoch 98/125\n",
            "500/500 [==============================] - 1s 3ms/step - loss: 0.8236 - accuracy: 0.6100 - val_loss: 0.8425 - val_accuracy: 0.5600\n",
            "Epoch 99/125\n",
            "500/500 [==============================] - 1s 3ms/step - loss: 0.7801 - accuracy: 0.6600 - val_loss: 0.9792 - val_accuracy: 0.6480\n",
            "Epoch 100/125\n",
            "500/500 [==============================] - 2s 4ms/step - loss: 0.9327 - accuracy: 0.6180 - val_loss: 0.7018 - val_accuracy: 0.6680\n",
            "Epoch 101/125\n",
            "500/500 [==============================] - 2s 4ms/step - loss: 0.8667 - accuracy: 0.6160 - val_loss: 0.8486 - val_accuracy: 0.5140\n",
            "Epoch 102/125\n",
            "500/500 [==============================] - 2s 4ms/step - loss: 0.9632 - accuracy: 0.5780 - val_loss: 1.1432 - val_accuracy: 0.5720\n",
            "Epoch 103/125\n",
            "500/500 [==============================] - 3s 6ms/step - loss: 1.0088 - accuracy: 0.5220 - val_loss: 0.9595 - val_accuracy: 0.5700\n",
            "Epoch 104/125\n",
            "500/500 [==============================] - 4s 9ms/step - loss: 0.9849 - accuracy: 0.5240 - val_loss: 0.9604 - val_accuracy: 0.5460\n",
            "Epoch 105/125\n",
            "500/500 [==============================] - 2s 3ms/step - loss: 0.9601 - accuracy: 0.5380 - val_loss: 1.0184 - val_accuracy: 0.5740\n",
            "Epoch 106/125\n",
            "500/500 [==============================] - 1s 3ms/step - loss: 0.9313 - accuracy: 0.5380 - val_loss: 0.9818 - val_accuracy: 0.5160\n",
            "Epoch 107/125\n",
            "500/500 [==============================] - 2s 5ms/step - loss: 1.0212 - accuracy: 0.5240 - val_loss: 0.9493 - val_accuracy: 0.5620\n",
            "Epoch 108/125\n",
            "500/500 [==============================] - 2s 3ms/step - loss: 0.9179 - accuracy: 0.6120 - val_loss: 0.9330 - val_accuracy: 0.6600\n",
            "Epoch 109/125\n",
            "500/500 [==============================] - 1s 3ms/step - loss: 0.9573 - accuracy: 0.5080 - val_loss: 1.0459 - val_accuracy: 0.5200\n",
            "Epoch 110/125\n",
            "500/500 [==============================] - 2s 4ms/step - loss: 0.9495 - accuracy: 0.4960 - val_loss: 1.0249 - val_accuracy: 0.6380\n",
            "Epoch 111/125\n",
            "500/500 [==============================] - 2s 4ms/step - loss: 0.9887 - accuracy: 0.5300 - val_loss: 0.8853 - val_accuracy: 0.5840\n",
            "Epoch 112/125\n",
            "500/500 [==============================] - 2s 4ms/step - loss: 0.9630 - accuracy: 0.5560 - val_loss: 1.0029 - val_accuracy: 0.4760\n",
            "Epoch 113/125\n",
            "500/500 [==============================] - 7s 14ms/step - loss: 0.8941 - accuracy: 0.5580 - val_loss: 0.7840 - val_accuracy: 0.6700\n",
            "Epoch 114/125\n",
            "500/500 [==============================] - 3s 6ms/step - loss: 0.8073 - accuracy: 0.6120 - val_loss: 0.9371 - val_accuracy: 0.4980\n",
            "Epoch 115/125\n",
            "500/500 [==============================] - 1s 3ms/step - loss: 0.8801 - accuracy: 0.5660 - val_loss: 0.9820 - val_accuracy: 0.5640\n",
            "Epoch 116/125\n",
            "500/500 [==============================] - 2s 3ms/step - loss: 0.9062 - accuracy: 0.5660 - val_loss: 0.7559 - val_accuracy: 0.6640\n",
            "Epoch 117/125\n",
            "500/500 [==============================] - 1s 3ms/step - loss: 0.9569 - accuracy: 0.5420 - val_loss: 1.0152 - val_accuracy: 0.5980\n",
            "Epoch 118/125\n",
            "500/500 [==============================] - 2s 4ms/step - loss: 0.7849 - accuracy: 0.6580 - val_loss: 0.7252 - val_accuracy: 0.6860\n",
            "Epoch 119/125\n",
            "500/500 [==============================] - 2s 4ms/step - loss: 0.8348 - accuracy: 0.6280 - val_loss: 0.8017 - val_accuracy: 0.5920\n",
            "Epoch 120/125\n",
            "500/500 [==============================] - 1s 3ms/step - loss: 0.9338 - accuracy: 0.6000 - val_loss: 0.8994 - val_accuracy: 0.6700\n",
            "Epoch 121/125\n",
            "500/500 [==============================] - 1s 3ms/step - loss: 1.0602 - accuracy: 0.5120 - val_loss: 1.0260 - val_accuracy: 0.5100\n",
            "Epoch 122/125\n",
            "500/500 [==============================] - 1s 3ms/step - loss: 1.0338 - accuracy: 0.4640 - val_loss: 0.9985 - val_accuracy: 0.4980\n",
            "Epoch 123/125\n",
            "500/500 [==============================] - 1s 3ms/step - loss: 0.9976 - accuracy: 0.4940 - val_loss: 0.9710 - val_accuracy: 0.4920\n",
            "Epoch 124/125\n",
            "500/500 [==============================] - 1s 3ms/step - loss: 0.9753 - accuracy: 0.4600 - val_loss: 0.9604 - val_accuracy: 0.5360\n",
            "Epoch 125/125\n",
            "500/500 [==============================] - 2s 4ms/step - loss: 0.9911 - accuracy: 0.4660 - val_loss: 0.9672 - val_accuracy: 0.5020\n"
          ]
        }
      ],
      "source": [
        "### START CODE HERE ###\n",
        "\n",
        "batch_size = 1\n",
        "model= build_model()\n",
        "history = fit_model(X_train, y_train, X_test, y_test, batch_size)\n",
        "\n",
        "###### END CODE HERE"
      ]
    },
    {
      "cell_type": "code",
      "execution_count": null,
      "id": "022e2c92-7a62-49f9-aae2-790c5eae36e4",
      "metadata": {
        "tags": [],
        "id": "022e2c92-7a62-49f9-aae2-790c5eae36e4",
        "colab": {
          "base_uri": "https://localhost:8080/",
          "height": 487
        },
        "outputId": "073d30be-5138-46ee-b1f0-0a400f3f8389"
      },
      "outputs": [
        {
          "output_type": "display_data",
          "data": {
            "text/plain": [
              "<Figure size 1000x500 with 1 Axes>"
            ],
            "image/png": "[encoded data removed]"
          },
          "metadata": {}
        }
      ],
      "source": [
        "plt.figure(figsize=(10,5))\n",
        "plt.plot(history.history['loss'], label='Training Loss')\n",
        "plt.plot(history.history['val_loss'], label='Validation Loss')\n",
        "plt.title('Loss vs. epochs, batch=' +str(batch_size))\n",
        "plt.ylabel('Loss')\n",
        "plt.xlabel('Epoch')\n",
        "plt.legend(['Training', 'Validation'], loc='upper right')\n",
        "plt.show()"
      ]
    },
    {
      "cell_type": "markdown",
      "id": "058a1cdc-e6ec-4fca-b87f-29a161f9986d",
      "metadata": {
        "id": "058a1cdc-e6ec-4fca-b87f-29a161f9986d"
      },
      "source": [
        "- **Diagnose this curve w.r.t learning rate**:\n",
        "    - ANSWER:  the training loss and the validation loss is high and unstable (goes up and down), so the model isn't learning or generalizing well.\n",
        "     I think due to the high learning rate, the model converges too quickly and skips (overshoots) the optimal parameters.\n",
        "- Change learning rate to make this curve better"
      ]
    },
    {
      "cell_type": "code",
      "execution_count": null,
      "id": "74b641cb-d7b1-4806-a4f9-216006e06e77",
      "metadata": {
        "id": "74b641cb-d7b1-4806-a4f9-216006e06e77"
      },
      "outputs": [],
      "source": [
        "### Your answer\n",
        "lr= 0.001"
      ]
    },
    {
      "cell_type": "code",
      "execution_count": null,
      "id": "ab103d0c-50ad-4265-b8ee-1b32f482db95",
      "metadata": {
        "id": "ab103d0c-50ad-4265-b8ee-1b32f482db95"
      },
      "outputs": [],
      "source": [
        "def build_model():\n",
        "\n",
        "    ##### YOUR CODE HERE\n",
        "    model = Sequential()\n",
        "    model.add(Dense(50, activation='relu', kernel_initializer='he_uniform', input_dim=2))\n",
        "    model.add(Dense(3, activation='softmax'))\n",
        "    sgd = SGD(learning_rate=lr, momentum=0.9)\n",
        "    model.compile(loss='categorical_crossentropy', optimizer=sgd, metrics=['accuracy'])\n",
        "\n",
        "    return model"
      ]
    },
    {
      "cell_type": "code",
      "execution_count": null,
      "id": "6986d23b-8cd6-4fd5-9311-ab5c28400315",
      "metadata": {
        "id": "6986d23b-8cd6-4fd5-9311-ab5c28400315",
        "colab": {
          "base_uri": "https://localhost:8080/",
          "height": 1000
        },
        "outputId": "00d4a7e3-0311-4ebf-b8ee-ff97f2edf081"
      },
      "outputs": [
        {
          "output_type": "stream",
          "name": "stdout",
          "text": [
            "Epoch 1/125\n",
            "500/500 [==============================] - 3s 5ms/step - loss: 2.2812 - accuracy: 0.5720 - val_loss: 0.9096 - val_accuracy: 0.6880\n",
            "Epoch 2/125\n",
            "500/500 [==============================] - 1s 3ms/step - loss: 1.0571 - accuracy: 0.6820 - val_loss: 0.6337 - val_accuracy: 0.7900\n",
            "Epoch 3/125\n",
            "500/500 [==============================] - 1s 3ms/step - loss: 0.7965 - accuracy: 0.6940 - val_loss: 0.7211 - val_accuracy: 0.7220\n",
            "Epoch 4/125\n",
            "500/500 [==============================] - 1s 3ms/step - loss: 0.6198 - accuracy: 0.7560 - val_loss: 0.7035 - val_accuracy: 0.7080\n",
            "Epoch 5/125\n",
            "500/500 [==============================] - 1s 3ms/step - loss: 0.5867 - accuracy: 0.7700 - val_loss: 0.4714 - val_accuracy: 0.8160\n",
            "Epoch 6/125\n",
            "500/500 [==============================] - 1s 3ms/step - loss: 0.4963 - accuracy: 0.7840 - val_loss: 0.4279 - val_accuracy: 0.8220\n",
            "Epoch 7/125\n",
            "500/500 [==============================] - 3s 6ms/step - loss: 0.4990 - accuracy: 0.7900 - val_loss: 0.4454 - val_accuracy: 0.7980\n",
            "Epoch 8/125\n",
            "500/500 [==============================] - 2s 5ms/step - loss: 0.4798 - accuracy: 0.7920 - val_loss: 0.4839 - val_accuracy: 0.8040\n",
            "Epoch 9/125\n",
            "500/500 [==============================] - 4s 7ms/step - loss: 0.4866 - accuracy: 0.8040 - val_loss: 0.4401 - val_accuracy: 0.8220\n",
            "Epoch 10/125\n",
            "500/500 [==============================] - 1s 3ms/step - loss: 0.4518 - accuracy: 0.8060 - val_loss: 0.4372 - val_accuracy: 0.8100\n",
            "Epoch 11/125\n",
            "500/500 [==============================] - 1s 3ms/step - loss: 0.4586 - accuracy: 0.8000 - val_loss: 0.4841 - val_accuracy: 0.8140\n",
            "Epoch 12/125\n",
            "500/500 [==============================] - 1s 3ms/step - loss: 0.4547 - accuracy: 0.8020 - val_loss: 0.4629 - val_accuracy: 0.8080\n",
            "Epoch 13/125\n",
            "500/500 [==============================] - 2s 4ms/step - loss: 0.4453 - accuracy: 0.8120 - val_loss: 0.6795 - val_accuracy: 0.6620\n",
            "Epoch 14/125\n",
            "500/500 [==============================] - 2s 4ms/step - loss: 0.4519 - accuracy: 0.8000 - val_loss: 0.4261 - val_accuracy: 0.8360\n",
            "Epoch 15/125\n",
            "500/500 [==============================] - 1s 3ms/step - loss: 0.4470 - accuracy: 0.8220 - val_loss: 0.4964 - val_accuracy: 0.7680\n",
            "Epoch 16/125\n",
            "500/500 [==============================] - 1s 3ms/step - loss: 0.4469 - accuracy: 0.8040 - val_loss: 0.4182 - val_accuracy: 0.8340\n",
            "Epoch 17/125\n",
            "500/500 [==============================] - 1s 3ms/step - loss: 0.4375 - accuracy: 0.8040 - val_loss: 0.4758 - val_accuracy: 0.8160\n",
            "Epoch 18/125\n",
            "500/500 [==============================] - 1s 3ms/step - loss: 0.4457 - accuracy: 0.8140 - val_loss: 0.4795 - val_accuracy: 0.8240\n",
            "Epoch 19/125\n",
            "500/500 [==============================] - 1s 3ms/step - loss: 0.4423 - accuracy: 0.8080 - val_loss: 0.4241 - val_accuracy: 0.8340\n",
            "Epoch 20/125\n",
            "500/500 [==============================] - 1s 3ms/step - loss: 0.4480 - accuracy: 0.8240 - val_loss: 0.4978 - val_accuracy: 0.7860\n",
            "Epoch 21/125\n",
            "500/500 [==============================] - 2s 3ms/step - loss: 0.4397 - accuracy: 0.8180 - val_loss: 0.4353 - val_accuracy: 0.8180\n",
            "Epoch 22/125\n",
            "500/500 [==============================] - 2s 5ms/step - loss: 0.4445 - accuracy: 0.8240 - val_loss: 0.5085 - val_accuracy: 0.7700\n",
            "Epoch 23/125\n",
            "500/500 [==============================] - 1s 3ms/step - loss: 0.4288 - accuracy: 0.8200 - val_loss: 0.4484 - val_accuracy: 0.8300\n",
            "Epoch 24/125\n",
            "500/500 [==============================] - 1s 3ms/step - loss: 0.4380 - accuracy: 0.8080 - val_loss: 0.4412 - val_accuracy: 0.8280\n",
            "Epoch 25/125\n",
            "500/500 [==============================] - 1s 3ms/step - loss: 0.4304 - accuracy: 0.8120 - val_loss: 0.4599 - val_accuracy: 0.8260\n",
            "Epoch 26/125\n",
            "500/500 [==============================] - 1s 3ms/step - loss: 0.4249 - accuracy: 0.8280 - val_loss: 0.4308 - val_accuracy: 0.8240\n",
            "Epoch 27/125\n",
            "500/500 [==============================] - 1s 3ms/step - loss: 0.4277 - accuracy: 0.8080 - val_loss: 0.4459 - val_accuracy: 0.8340\n",
            "Epoch 28/125\n",
            "500/500 [==============================] - 1s 3ms/step - loss: 0.4193 - accuracy: 0.8160 - val_loss: 0.4404 - val_accuracy: 0.8360\n",
            "Epoch 29/125\n",
            "500/500 [==============================] - 2s 4ms/step - loss: 0.4283 - accuracy: 0.8100 - val_loss: 0.4370 - val_accuracy: 0.8240\n",
            "Epoch 30/125\n",
            "500/500 [==============================] - 2s 5ms/step - loss: 0.4198 - accuracy: 0.8100 - val_loss: 0.4254 - val_accuracy: 0.8300\n",
            "Epoch 31/125\n",
            "500/500 [==============================] - 1s 3ms/step - loss: 0.4225 - accuracy: 0.8260 - val_loss: 0.4149 - val_accuracy: 0.8200\n",
            "Epoch 32/125\n",
            "500/500 [==============================] - 1s 3ms/step - loss: 0.4269 - accuracy: 0.8140 - val_loss: 0.4806 - val_accuracy: 0.8040\n",
            "Epoch 33/125\n",
            "500/500 [==============================] - 1s 3ms/step - loss: 0.4253 - accuracy: 0.8020 - val_loss: 0.4242 - val_accuracy: 0.8220\n",
            "Epoch 34/125\n",
            "500/500 [==============================] - 1s 3ms/step - loss: 0.4236 - accuracy: 0.8200 - val_loss: 0.4315 - val_accuracy: 0.8260\n",
            "Epoch 35/125\n",
            "500/500 [==============================] - 1s 3ms/step - loss: 0.4202 - accuracy: 0.8200 - val_loss: 0.4778 - val_accuracy: 0.8000\n",
            "Epoch 36/125\n",
            "500/500 [==============================] - 1s 3ms/step - loss: 0.4182 - accuracy: 0.8160 - val_loss: 0.4397 - val_accuracy: 0.8240\n",
            "Epoch 37/125\n",
            "500/500 [==============================] - 2s 4ms/step - loss: 0.4341 - accuracy: 0.8220 - val_loss: 0.4985 - val_accuracy: 0.7780\n",
            "Epoch 38/125\n",
            "500/500 [==============================] - 2s 3ms/step - loss: 0.4193 - accuracy: 0.8160 - val_loss: 0.4795 - val_accuracy: 0.8120\n",
            "Epoch 39/125\n",
            "500/500 [==============================] - 1s 3ms/step - loss: 0.4203 - accuracy: 0.8160 - val_loss: 0.4274 - val_accuracy: 0.8180\n",
            "Epoch 40/125\n",
            "500/500 [==============================] - 1s 3ms/step - loss: 0.4272 - accuracy: 0.8040 - val_loss: 0.4580 - val_accuracy: 0.8080\n",
            "Epoch 41/125\n",
            "500/500 [==============================] - 1s 3ms/step - loss: 0.4144 - accuracy: 0.8220 - val_loss: 0.4293 - val_accuracy: 0.8220\n",
            "Epoch 42/125\n",
            "500/500 [==============================] - 1s 3ms/step - loss: 0.4097 - accuracy: 0.8140 - val_loss: 0.4398 - val_accuracy: 0.8300\n",
            "Epoch 43/125\n",
            "500/500 [==============================] - 1s 3ms/step - loss: 0.4291 - accuracy: 0.8180 - val_loss: 0.4200 - val_accuracy: 0.8380\n",
            "Epoch 44/125\n",
            "500/500 [==============================] - 1s 3ms/step - loss: 0.4156 - accuracy: 0.8120 - val_loss: 0.4406 - val_accuracy: 0.8180\n",
            "Epoch 45/125\n",
            "500/500 [==============================] - 2s 4ms/step - loss: 0.4153 - accuracy: 0.8200 - val_loss: 0.4319 - val_accuracy: 0.8200\n",
            "Epoch 46/125\n",
            "500/500 [==============================] - 2s 4ms/step - loss: 0.4131 - accuracy: 0.8180 - val_loss: 0.4350 - val_accuracy: 0.8340\n",
            "Epoch 47/125\n",
            "500/500 [==============================] - 1s 3ms/step - loss: 0.4163 - accuracy: 0.8120 - val_loss: 0.4519 - val_accuracy: 0.8160\n",
            "Epoch 48/125\n",
            "500/500 [==============================] - 1s 3ms/step - loss: 0.4115 - accuracy: 0.8120 - val_loss: 0.4078 - val_accuracy: 0.8220\n",
            "Epoch 49/125\n",
            "500/500 [==============================] - 1s 3ms/step - loss: 0.4130 - accuracy: 0.8180 - val_loss: 0.4349 - val_accuracy: 0.8220\n",
            "Epoch 50/125\n",
            "500/500 [==============================] - 1s 3ms/step - loss: 0.4138 - accuracy: 0.8160 - val_loss: 0.4392 - val_accuracy: 0.8220\n",
            "Epoch 51/125\n",
            "500/500 [==============================] - 1s 3ms/step - loss: 0.4247 - accuracy: 0.8160 - val_loss: 0.4459 - val_accuracy: 0.8220\n",
            "Epoch 52/125\n",
            "500/500 [==============================] - 1s 3ms/step - loss: 0.4131 - accuracy: 0.8140 - val_loss: 0.4639 - val_accuracy: 0.8020\n",
            "Epoch 53/125\n",
            "500/500 [==============================] - 2s 4ms/step - loss: 0.4204 - accuracy: 0.8200 - val_loss: 0.4400 - val_accuracy: 0.8200\n",
            "Epoch 54/125\n",
            "500/500 [==============================] - 2s 4ms/step - loss: 0.4137 - accuracy: 0.8180 - val_loss: 0.4234 - val_accuracy: 0.8340\n",
            "Epoch 55/125\n",
            "500/500 [==============================] - 1s 3ms/step - loss: 0.4143 - accuracy: 0.8300 - val_loss: 0.4372 - val_accuracy: 0.8200\n",
            "Epoch 56/125\n",
            "500/500 [==============================] - 1s 3ms/step - loss: 0.4185 - accuracy: 0.8180 - val_loss: 0.4355 - val_accuracy: 0.8240\n",
            "Epoch 57/125\n",
            "500/500 [==============================] - 1s 3ms/step - loss: 0.4131 - accuracy: 0.8180 - val_loss: 0.4408 - val_accuracy: 0.8240\n",
            "Epoch 58/125\n",
            "500/500 [==============================] - 1s 3ms/step - loss: 0.4271 - accuracy: 0.8140 - val_loss: 0.4371 - val_accuracy: 0.8160\n",
            "Epoch 59/125\n",
            "500/500 [==============================] - 1s 3ms/step - loss: 0.4090 - accuracy: 0.8240 - val_loss: 0.4345 - val_accuracy: 0.8260\n",
            "Epoch 60/125\n",
            "500/500 [==============================] - 1s 3ms/step - loss: 0.4118 - accuracy: 0.8340 - val_loss: 0.4372 - val_accuracy: 0.8160\n",
            "Epoch 61/125\n",
            "500/500 [==============================] - 2s 3ms/step - loss: 0.4133 - accuracy: 0.8220 - val_loss: 0.4316 - val_accuracy: 0.8260\n",
            "Epoch 62/125\n",
            "500/500 [==============================] - 2s 4ms/step - loss: 0.4242 - accuracy: 0.8280 - val_loss: 0.4382 - val_accuracy: 0.8200\n",
            "Epoch 63/125\n",
            "500/500 [==============================] - 1s 3ms/step - loss: 0.4211 - accuracy: 0.8100 - val_loss: 0.4122 - val_accuracy: 0.8260\n",
            "Epoch 64/125\n",
            "500/500 [==============================] - 1s 3ms/step - loss: 0.4190 - accuracy: 0.8260 - val_loss: 0.4386 - val_accuracy: 0.8200\n",
            "Epoch 65/125\n",
            "500/500 [==============================] - 1s 3ms/step - loss: 0.4104 - accuracy: 0.8300 - val_loss: 0.4478 - val_accuracy: 0.8140\n",
            "Epoch 66/125\n",
            "500/500 [==============================] - 1s 3ms/step - loss: 0.4216 - accuracy: 0.8140 - val_loss: 0.4325 - val_accuracy: 0.8280\n",
            "Epoch 67/125\n",
            "500/500 [==============================] - 1s 3ms/step - loss: 0.4143 - accuracy: 0.8120 - val_loss: 0.4182 - val_accuracy: 0.8240\n",
            "Epoch 68/125\n",
            "500/500 [==============================] - 1s 3ms/step - loss: 0.4141 - accuracy: 0.8320 - val_loss: 0.4355 - val_accuracy: 0.8240\n",
            "Epoch 69/125\n",
            "500/500 [==============================] - 1s 3ms/step - loss: 0.4175 - accuracy: 0.8200 - val_loss: 0.4240 - val_accuracy: 0.8340\n",
            "Epoch 70/125\n",
            "500/500 [==============================] - 2s 5ms/step - loss: 0.4064 - accuracy: 0.8260 - val_loss: 0.4321 - val_accuracy: 0.8220\n",
            "Epoch 71/125\n",
            "500/500 [==============================] - 1s 3ms/step - loss: 0.4103 - accuracy: 0.8220 - val_loss: 0.4408 - val_accuracy: 0.8220\n",
            "Epoch 72/125\n",
            "500/500 [==============================] - 2s 5ms/step - loss: 0.4100 - accuracy: 0.8220 - val_loss: 0.4285 - val_accuracy: 0.8300\n",
            "Epoch 73/125\n",
            "500/500 [==============================] - 1s 3ms/step - loss: 0.4158 - accuracy: 0.8060 - val_loss: 0.4275 - val_accuracy: 0.8280\n",
            "Epoch 74/125\n",
            "500/500 [==============================] - 1s 3ms/step - loss: 0.4083 - accuracy: 0.8140 - val_loss: 0.4233 - val_accuracy: 0.8300\n",
            "Epoch 75/125\n",
            "500/500 [==============================] - 1s 3ms/step - loss: 0.4111 - accuracy: 0.8140 - val_loss: 0.4745 - val_accuracy: 0.8020\n",
            "Epoch 76/125\n",
            "500/500 [==============================] - 1s 3ms/step - loss: 0.4081 - accuracy: 0.8260 - val_loss: 0.4207 - val_accuracy: 0.8240\n",
            "Epoch 77/125\n",
            "500/500 [==============================] - 2s 5ms/step - loss: 0.4089 - accuracy: 0.8180 - val_loss: 0.4215 - val_accuracy: 0.8240\n",
            "Epoch 78/125\n",
            "500/500 [==============================] - 2s 3ms/step - loss: 0.4090 - accuracy: 0.8220 - val_loss: 0.4431 - val_accuracy: 0.8260\n",
            "Epoch 79/125\n",
            "500/500 [==============================] - 1s 3ms/step - loss: 0.4099 - accuracy: 0.8280 - val_loss: 0.4181 - val_accuracy: 0.8220\n",
            "Epoch 80/125\n",
            "500/500 [==============================] - 1s 3ms/step - loss: 0.4042 - accuracy: 0.8280 - val_loss: 0.4825 - val_accuracy: 0.7900\n",
            "Epoch 81/125\n",
            "500/500 [==============================] - 1s 3ms/step - loss: 0.4141 - accuracy: 0.8280 - val_loss: 0.4398 - val_accuracy: 0.8180\n",
            "Epoch 82/125\n",
            "500/500 [==============================] - 1s 3ms/step - loss: 0.4067 - accuracy: 0.8240 - val_loss: 0.4294 - val_accuracy: 0.8240\n",
            "Epoch 83/125\n",
            "500/500 [==============================] - 1s 3ms/step - loss: 0.4143 - accuracy: 0.8200 - val_loss: 0.4150 - val_accuracy: 0.8220\n",
            "Epoch 84/125\n",
            "500/500 [==============================] - 1s 3ms/step - loss: 0.4185 - accuracy: 0.8160 - val_loss: 0.4199 - val_accuracy: 0.8240\n",
            "Epoch 85/125\n",
            "500/500 [==============================] - 2s 4ms/step - loss: 0.4106 - accuracy: 0.8060 - val_loss: 0.4214 - val_accuracy: 0.8260\n",
            "Epoch 86/125\n",
            "500/500 [==============================] - 2s 3ms/step - loss: 0.4059 - accuracy: 0.8320 - val_loss: 0.4277 - val_accuracy: 0.8280\n",
            "Epoch 87/125\n",
            "500/500 [==============================] - 1s 3ms/step - loss: 0.4064 - accuracy: 0.8160 - val_loss: 0.4164 - val_accuracy: 0.8280\n",
            "Epoch 88/125\n",
            "500/500 [==============================] - 1s 3ms/step - loss: 0.4034 - accuracy: 0.8200 - val_loss: 0.4321 - val_accuracy: 0.8200\n",
            "Epoch 89/125\n",
            "500/500 [==============================] - 1s 3ms/step - loss: 0.4065 - accuracy: 0.8340 - val_loss: 0.4444 - val_accuracy: 0.8320\n",
            "Epoch 90/125\n",
            "500/500 [==============================] - 1s 3ms/step - loss: 0.4118 - accuracy: 0.8260 - val_loss: 0.4170 - val_accuracy: 0.8280\n",
            "Epoch 91/125\n",
            "500/500 [==============================] - 1s 3ms/step - loss: 0.4022 - accuracy: 0.8100 - val_loss: 0.4243 - val_accuracy: 0.8220\n",
            "Epoch 92/125\n",
            "500/500 [==============================] - 1s 3ms/step - loss: 0.3993 - accuracy: 0.8360 - val_loss: 0.4193 - val_accuracy: 0.8220\n",
            "Epoch 93/125\n",
            "500/500 [==============================] - 2s 4ms/step - loss: 0.4157 - accuracy: 0.8160 - val_loss: 0.4444 - val_accuracy: 0.8260\n",
            "Epoch 94/125\n",
            "500/500 [==============================] - 2s 5ms/step - loss: 0.3936 - accuracy: 0.8380 - val_loss: 0.4248 - val_accuracy: 0.8340\n",
            "Epoch 95/125\n",
            "500/500 [==============================] - 1s 3ms/step - loss: 0.3945 - accuracy: 0.8340 - val_loss: 0.4855 - val_accuracy: 0.7960\n",
            "Epoch 96/125\n",
            "500/500 [==============================] - 1s 3ms/step - loss: 0.4099 - accuracy: 0.8060 - val_loss: 0.4190 - val_accuracy: 0.8260\n",
            "Epoch 97/125\n",
            "500/500 [==============================] - 1s 3ms/step - loss: 0.4017 - accuracy: 0.8300 - val_loss: 0.4302 - val_accuracy: 0.8200\n",
            "Epoch 98/125\n",
            "500/500 [==============================] - 2s 5ms/step - loss: 0.4034 - accuracy: 0.8280 - val_loss: 0.4232 - val_accuracy: 0.8260\n",
            "Epoch 99/125\n",
            "500/500 [==============================] - 1s 3ms/step - loss: 0.4017 - accuracy: 0.8220 - val_loss: 0.4468 - val_accuracy: 0.8300\n",
            "Epoch 100/125\n",
            "500/500 [==============================] - 2s 4ms/step - loss: 0.4045 - accuracy: 0.8140 - val_loss: 0.4154 - val_accuracy: 0.8320\n",
            "Epoch 101/125\n",
            "500/500 [==============================] - 2s 4ms/step - loss: 0.3898 - accuracy: 0.8340 - val_loss: 0.4372 - val_accuracy: 0.8120\n",
            "Epoch 102/125\n",
            "500/500 [==============================] - 1s 3ms/step - loss: 0.4069 - accuracy: 0.8240 - val_loss: 0.4544 - val_accuracy: 0.8240\n",
            "Epoch 103/125\n",
            "500/500 [==============================] - 1s 3ms/step - loss: 0.4009 - accuracy: 0.8240 - val_loss: 0.4410 - val_accuracy: 0.8180\n",
            "Epoch 104/125\n",
            "500/500 [==============================] - 1s 3ms/step - loss: 0.3997 - accuracy: 0.8200 - val_loss: 0.4557 - val_accuracy: 0.8160\n",
            "Epoch 105/125\n",
            "500/500 [==============================] - 1s 3ms/step - loss: 0.3989 - accuracy: 0.8240 - val_loss: 0.4416 - val_accuracy: 0.8280\n",
            "Epoch 106/125\n",
            "500/500 [==============================] - 1s 3ms/step - loss: 0.3920 - accuracy: 0.8260 - val_loss: 0.4261 - val_accuracy: 0.8220\n",
            "Epoch 107/125\n",
            "500/500 [==============================] - 1s 3ms/step - loss: 0.3974 - accuracy: 0.8280 - val_loss: 0.4444 - val_accuracy: 0.8280\n",
            "Epoch 108/125\n",
            "500/500 [==============================] - 2s 4ms/step - loss: 0.4022 - accuracy: 0.8260 - val_loss: 0.4276 - val_accuracy: 0.8300\n",
            "Epoch 109/125\n",
            "500/500 [==============================] - 2s 3ms/step - loss: 0.3999 - accuracy: 0.8320 - val_loss: 0.4312 - val_accuracy: 0.8320\n",
            "Epoch 110/125\n",
            "500/500 [==============================] - 1s 3ms/step - loss: 0.3972 - accuracy: 0.8160 - val_loss: 0.4805 - val_accuracy: 0.8140\n",
            "Epoch 111/125\n",
            "500/500 [==============================] - 1s 3ms/step - loss: 0.3945 - accuracy: 0.8400 - val_loss: 0.4498 - val_accuracy: 0.8260\n",
            "Epoch 112/125\n",
            "500/500 [==============================] - 1s 3ms/step - loss: 0.4011 - accuracy: 0.8200 - val_loss: 0.4438 - val_accuracy: 0.8180\n",
            "Epoch 113/125\n",
            "500/500 [==============================] - 1s 3ms/step - loss: 0.4039 - accuracy: 0.8360 - val_loss: 0.4325 - val_accuracy: 0.8260\n",
            "Epoch 114/125\n",
            "500/500 [==============================] - 1s 3ms/step - loss: 0.4006 - accuracy: 0.8180 - val_loss: 0.4722 - val_accuracy: 0.8100\n",
            "Epoch 115/125\n",
            "500/500 [==============================] - 1s 3ms/step - loss: 0.3917 - accuracy: 0.8400 - val_loss: 0.4558 - val_accuracy: 0.8340\n",
            "Epoch 116/125\n",
            "500/500 [==============================] - 2s 5ms/step - loss: 0.4077 - accuracy: 0.8280 - val_loss: 0.4365 - val_accuracy: 0.8180\n",
            "Epoch 117/125\n",
            "500/500 [==============================] - 3s 5ms/step - loss: 0.3977 - accuracy: 0.8260 - val_loss: 0.4387 - val_accuracy: 0.8220\n",
            "Epoch 118/125\n",
            "500/500 [==============================] - 2s 3ms/step - loss: 0.3900 - accuracy: 0.8180 - val_loss: 0.4588 - val_accuracy: 0.8300\n",
            "Epoch 119/125\n",
            "500/500 [==============================] - 1s 3ms/step - loss: 0.4022 - accuracy: 0.8280 - val_loss: 0.5163 - val_accuracy: 0.7860\n",
            "Epoch 120/125\n",
            "500/500 [==============================] - 1s 3ms/step - loss: 0.4038 - accuracy: 0.8280 - val_loss: 0.4432 - val_accuracy: 0.8240\n",
            "Epoch 121/125\n",
            "500/500 [==============================] - 1s 3ms/step - loss: 0.4115 - accuracy: 0.8260 - val_loss: 0.4284 - val_accuracy: 0.8220\n",
            "Epoch 122/125\n",
            "500/500 [==============================] - 1s 3ms/step - loss: 0.3926 - accuracy: 0.8280 - val_loss: 0.4214 - val_accuracy: 0.8180\n",
            "Epoch 123/125\n",
            "500/500 [==============================] - 1s 3ms/step - loss: 0.3917 - accuracy: 0.8200 - val_loss: 0.4290 - val_accuracy: 0.8220\n",
            "Epoch 124/125\n",
            "500/500 [==============================] - 2s 4ms/step - loss: 0.4055 - accuracy: 0.8180 - val_loss: 0.4253 - val_accuracy: 0.8240\n",
            "Epoch 125/125\n",
            "500/500 [==============================] - 2s 4ms/step - loss: 0.3931 - accuracy: 0.8260 - val_loss: 0.4437 - val_accuracy: 0.8300\n"
          ]
        },
        {
          "output_type": "display_data",
          "data": {
            "text/plain": [
              "<Figure size 1000x500 with 1 Axes>"
            ],
            "image/png": "[encoded data removed]"
          },
          "metadata": {}
        }
      ],
      "source": [
        "batch_size = 1\n",
        "model= build_model()\n",
        "history = fit_model(X_train, y_train, X_test, y_test, batch_size)\n",
        "plt.figure(figsize=(10,5))\n",
        "plt.plot(history.history['loss'], label='Training Loss')\n",
        "plt.plot(history.history['val_loss'], label='Validation Loss')\n",
        "plt.title('Loss vs. epochs, batch=' +str(batch_size))\n",
        "plt.ylabel('Loss')\n",
        "plt.xlabel('Epoch')\n",
        "plt.legend(['Training', 'Validation'], loc='upper right')\n",
        "plt.show()"
      ]
    },
    {
      "cell_type": "markdown",
      "id": "ca24463c-6d6d-4dce-b365-1e0a10cbb6b9",
      "metadata": {
        "tags": [],
        "id": "ca24463c-6d6d-4dce-b365-1e0a10cbb6b9"
      },
      "source": [
        "##### Size =  16"
      ]
    },
    {
      "cell_type": "markdown",
      "id": "c9d3f83a-edf8-4f61-a0fe-db3261ace6ab",
      "metadata": {
        "id": "c9d3f83a-edf8-4f61-a0fe-db3261ace6ab"
      },
      "source": [
        "10. **Retrain for 16 batch size**"
      ]
    },
    {
      "cell_type": "code",
      "execution_count": null,
      "id": "589fd6d3-6c4d-48ed-b5db-9e3d931725d0",
      "metadata": {
        "id": "589fd6d3-6c4d-48ed-b5db-9e3d931725d0",
        "colab": {
          "base_uri": "https://localhost:8080/"
        },
        "outputId": "3c1f250e-bce2-4909-8f7d-01a651d56fed"
      },
      "outputs": [
        {
          "output_type": "stream",
          "name": "stdout",
          "text": [
            "Epoch 1/125\n",
            "32/32 [==============================] - 1s 10ms/step - loss: 1.5881 - accuracy: 0.5440 - val_loss: 0.6844 - val_accuracy: 0.6840\n",
            "Epoch 2/125\n",
            "32/32 [==============================] - 0s 5ms/step - loss: 0.9164 - accuracy: 0.5700 - val_loss: 0.9409 - val_accuracy: 0.6200\n",
            "Epoch 3/125\n",
            "32/32 [==============================] - 0s 5ms/step - loss: 0.8048 - accuracy: 0.6100 - val_loss: 0.6334 - val_accuracy: 0.6820\n",
            "Epoch 4/125\n",
            "32/32 [==============================] - 0s 4ms/step - loss: 0.7163 - accuracy: 0.6460 - val_loss: 0.6341 - val_accuracy: 0.7140\n",
            "Epoch 5/125\n",
            "32/32 [==============================] - 0s 5ms/step - loss: 0.6762 - accuracy: 0.6620 - val_loss: 0.6533 - val_accuracy: 0.6680\n",
            "Epoch 6/125\n",
            "32/32 [==============================] - 0s 5ms/step - loss: 0.6772 - accuracy: 0.6560 - val_loss: 0.6899 - val_accuracy: 0.6620\n",
            "Epoch 7/125\n",
            "32/32 [==============================] - 0s 5ms/step - loss: 0.7076 - accuracy: 0.6600 - val_loss: 0.6585 - val_accuracy: 0.6720\n",
            "Epoch 8/125\n",
            "32/32 [==============================] - 0s 5ms/step - loss: 0.6695 - accuracy: 0.6660 - val_loss: 0.6126 - val_accuracy: 0.7280\n",
            "Epoch 9/125\n",
            "32/32 [==============================] - 0s 4ms/step - loss: 0.6583 - accuracy: 0.6800 - val_loss: 0.6120 - val_accuracy: 0.7620\n",
            "Epoch 10/125\n",
            "32/32 [==============================] - 0s 4ms/step - loss: 0.6709 - accuracy: 0.6740 - val_loss: 0.6030 - val_accuracy: 0.7020\n",
            "Epoch 11/125\n",
            "32/32 [==============================] - 0s 7ms/step - loss: 0.6955 - accuracy: 0.6660 - val_loss: 0.6300 - val_accuracy: 0.7040\n",
            "Epoch 12/125\n",
            "32/32 [==============================] - 0s 4ms/step - loss: 0.6314 - accuracy: 0.7160 - val_loss: 0.5979 - val_accuracy: 0.7140\n",
            "Epoch 13/125\n",
            "32/32 [==============================] - 0s 5ms/step - loss: 0.6819 - accuracy: 0.6620 - val_loss: 0.5929 - val_accuracy: 0.7780\n",
            "Epoch 14/125\n",
            "32/32 [==============================] - 0s 5ms/step - loss: 0.6244 - accuracy: 0.7240 - val_loss: 0.5848 - val_accuracy: 0.7300\n",
            "Epoch 15/125\n",
            "32/32 [==============================] - 0s 4ms/step - loss: 0.6179 - accuracy: 0.7020 - val_loss: 0.5888 - val_accuracy: 0.7240\n",
            "Epoch 16/125\n",
            "32/32 [==============================] - 0s 5ms/step - loss: 0.6479 - accuracy: 0.7060 - val_loss: 0.5715 - val_accuracy: 0.7600\n",
            "Epoch 17/125\n",
            "32/32 [==============================] - 0s 4ms/step - loss: 0.6034 - accuracy: 0.7140 - val_loss: 0.6071 - val_accuracy: 0.6980\n",
            "Epoch 18/125\n",
            "32/32 [==============================] - 0s 6ms/step - loss: 0.6446 - accuracy: 0.6960 - val_loss: 0.5636 - val_accuracy: 0.7860\n",
            "Epoch 19/125\n",
            "32/32 [==============================] - 0s 5ms/step - loss: 0.5926 - accuracy: 0.7260 - val_loss: 0.5519 - val_accuracy: 0.7560\n",
            "Epoch 20/125\n",
            "32/32 [==============================] - 0s 5ms/step - loss: 0.5930 - accuracy: 0.7360 - val_loss: 0.5635 - val_accuracy: 0.7980\n",
            "Epoch 21/125\n",
            "32/32 [==============================] - 0s 4ms/step - loss: 0.6232 - accuracy: 0.7080 - val_loss: 0.6496 - val_accuracy: 0.7140\n",
            "Epoch 22/125\n",
            "32/32 [==============================] - 0s 5ms/step - loss: 0.6213 - accuracy: 0.7060 - val_loss: 0.5446 - val_accuracy: 0.7960\n",
            "Epoch 23/125\n",
            "32/32 [==============================] - 0s 4ms/step - loss: 0.5794 - accuracy: 0.7360 - val_loss: 0.5382 - val_accuracy: 0.8000\n",
            "Epoch 24/125\n",
            "32/32 [==============================] - 0s 4ms/step - loss: 0.5727 - accuracy: 0.7500 - val_loss: 0.5471 - val_accuracy: 0.7820\n",
            "Epoch 25/125\n",
            "32/32 [==============================] - 0s 5ms/step - loss: 0.5955 - accuracy: 0.7280 - val_loss: 0.5473 - val_accuracy: 0.7840\n",
            "Epoch 26/125\n",
            "32/32 [==============================] - 0s 5ms/step - loss: 0.5759 - accuracy: 0.7440 - val_loss: 0.5313 - val_accuracy: 0.7960\n",
            "Epoch 27/125\n",
            "32/32 [==============================] - 0s 4ms/step - loss: 0.5778 - accuracy: 0.7440 - val_loss: 0.5693 - val_accuracy: 0.7600\n",
            "Epoch 28/125\n",
            "32/32 [==============================] - 0s 8ms/step - loss: 0.5618 - accuracy: 0.7460 - val_loss: 0.5309 - val_accuracy: 0.7860\n",
            "Epoch 29/125\n",
            "32/32 [==============================] - 0s 8ms/step - loss: 0.5616 - accuracy: 0.7540 - val_loss: 0.5292 - val_accuracy: 0.8060\n",
            "Epoch 30/125\n",
            "32/32 [==============================] - 0s 6ms/step - loss: 0.5485 - accuracy: 0.7660 - val_loss: 0.5153 - val_accuracy: 0.7940\n",
            "Epoch 31/125\n",
            "32/32 [==============================] - 0s 6ms/step - loss: 0.5551 - accuracy: 0.7500 - val_loss: 0.5326 - val_accuracy: 0.8180\n",
            "Epoch 32/125\n",
            "32/32 [==============================] - 0s 9ms/step - loss: 0.5743 - accuracy: 0.7420 - val_loss: 0.5520 - val_accuracy: 0.8100\n",
            "Epoch 33/125\n",
            "32/32 [==============================] - 0s 7ms/step - loss: 0.5569 - accuracy: 0.7420 - val_loss: 0.5241 - val_accuracy: 0.7800\n",
            "Epoch 34/125\n",
            "32/32 [==============================] - 0s 7ms/step - loss: 0.5783 - accuracy: 0.7280 - val_loss: 0.5043 - val_accuracy: 0.8080\n",
            "Epoch 35/125\n",
            "32/32 [==============================] - 0s 7ms/step - loss: 0.5311 - accuracy: 0.7680 - val_loss: 0.5091 - val_accuracy: 0.8140\n",
            "Epoch 36/125\n",
            "32/32 [==============================] - 0s 9ms/step - loss: 0.5630 - accuracy: 0.7480 - val_loss: 0.5107 - val_accuracy: 0.7900\n",
            "Epoch 37/125\n",
            "32/32 [==============================] - 0s 8ms/step - loss: 0.5834 - accuracy: 0.7400 - val_loss: 0.5104 - val_accuracy: 0.7760\n",
            "Epoch 38/125\n",
            "32/32 [==============================] - 0s 4ms/step - loss: 0.5745 - accuracy: 0.7320 - val_loss: 0.4928 - val_accuracy: 0.8020\n",
            "Epoch 39/125\n",
            "32/32 [==============================] - 0s 5ms/step - loss: 0.5362 - accuracy: 0.7540 - val_loss: 0.4971 - val_accuracy: 0.8020\n",
            "Epoch 40/125\n",
            "32/32 [==============================] - 0s 5ms/step - loss: 0.5518 - accuracy: 0.7640 - val_loss: 0.4893 - val_accuracy: 0.8160\n",
            "Epoch 41/125\n",
            "32/32 [==============================] - 0s 4ms/step - loss: 0.5286 - accuracy: 0.7680 - val_loss: 0.4861 - val_accuracy: 0.8140\n",
            "Epoch 42/125\n",
            "32/32 [==============================] - 0s 4ms/step - loss: 0.5133 - accuracy: 0.7680 - val_loss: 0.4924 - val_accuracy: 0.8320\n",
            "Epoch 43/125\n",
            "32/32 [==============================] - 0s 5ms/step - loss: 0.5123 - accuracy: 0.7760 - val_loss: 0.4863 - val_accuracy: 0.8120\n",
            "Epoch 44/125\n",
            "32/32 [==============================] - 0s 4ms/step - loss: 0.5157 - accuracy: 0.7740 - val_loss: 0.4788 - val_accuracy: 0.8240\n",
            "Epoch 45/125\n",
            "32/32 [==============================] - 0s 5ms/step - loss: 0.5086 - accuracy: 0.7800 - val_loss: 0.4881 - val_accuracy: 0.7980\n",
            "Epoch 46/125\n",
            "32/32 [==============================] - 0s 5ms/step - loss: 0.5247 - accuracy: 0.7580 - val_loss: 0.4763 - val_accuracy: 0.8140\n",
            "Epoch 47/125\n",
            "32/32 [==============================] - 0s 4ms/step - loss: 0.5370 - accuracy: 0.7580 - val_loss: 0.5124 - val_accuracy: 0.8160\n",
            "Epoch 48/125\n",
            "32/32 [==============================] - 0s 5ms/step - loss: 0.5007 - accuracy: 0.7900 - val_loss: 0.4772 - val_accuracy: 0.8140\n",
            "Epoch 49/125\n",
            "32/32 [==============================] - 0s 5ms/step - loss: 0.5109 - accuracy: 0.7880 - val_loss: 0.4980 - val_accuracy: 0.7920\n",
            "Epoch 50/125\n",
            "32/32 [==============================] - 0s 4ms/step - loss: 0.5101 - accuracy: 0.7780 - val_loss: 0.4684 - val_accuracy: 0.8200\n",
            "Epoch 51/125\n",
            "32/32 [==============================] - 0s 5ms/step - loss: 0.4903 - accuracy: 0.7840 - val_loss: 0.4788 - val_accuracy: 0.8040\n",
            "Epoch 52/125\n",
            "32/32 [==============================] - 0s 5ms/step - loss: 0.5217 - accuracy: 0.7560 - val_loss: 0.4649 - val_accuracy: 0.8240\n",
            "Epoch 53/125\n",
            "32/32 [==============================] - 0s 5ms/step - loss: 0.5077 - accuracy: 0.7720 - val_loss: 0.4711 - val_accuracy: 0.8120\n",
            "Epoch 54/125\n",
            "32/32 [==============================] - 0s 5ms/step - loss: 0.4957 - accuracy: 0.7780 - val_loss: 0.4635 - val_accuracy: 0.8160\n",
            "Epoch 55/125\n",
            "32/32 [==============================] - 0s 4ms/step - loss: 0.4892 - accuracy: 0.7840 - val_loss: 0.4659 - val_accuracy: 0.8320\n",
            "Epoch 56/125\n",
            "32/32 [==============================] - 0s 4ms/step - loss: 0.4987 - accuracy: 0.7920 - val_loss: 0.4657 - val_accuracy: 0.8120\n",
            "Epoch 57/125\n",
            "32/32 [==============================] - 0s 5ms/step - loss: 0.5013 - accuracy: 0.7900 - val_loss: 0.4700 - val_accuracy: 0.8140\n",
            "Epoch 58/125\n",
            "32/32 [==============================] - 0s 5ms/step - loss: 0.5028 - accuracy: 0.7900 - val_loss: 0.4781 - val_accuracy: 0.8280\n",
            "Epoch 59/125\n",
            "32/32 [==============================] - 0s 5ms/step - loss: 0.4752 - accuracy: 0.8000 - val_loss: 0.4690 - val_accuracy: 0.8140\n",
            "Epoch 60/125\n",
            "32/32 [==============================] - 0s 4ms/step - loss: 0.5151 - accuracy: 0.7780 - val_loss: 0.4513 - val_accuracy: 0.8220\n",
            "Epoch 61/125\n",
            "32/32 [==============================] - 0s 5ms/step - loss: 0.4964 - accuracy: 0.7900 - val_loss: 0.4467 - val_accuracy: 0.8300\n",
            "Epoch 62/125\n",
            "32/32 [==============================] - 0s 5ms/step - loss: 0.4827 - accuracy: 0.7860 - val_loss: 0.4535 - val_accuracy: 0.8180\n",
            "Epoch 63/125\n",
            "32/32 [==============================] - 0s 5ms/step - loss: 0.4917 - accuracy: 0.8060 - val_loss: 0.4520 - val_accuracy: 0.8400\n",
            "Epoch 64/125\n",
            "32/32 [==============================] - 0s 5ms/step - loss: 0.4835 - accuracy: 0.7920 - val_loss: 0.4580 - val_accuracy: 0.8400\n",
            "Epoch 65/125\n",
            "32/32 [==============================] - 0s 5ms/step - loss: 0.4873 - accuracy: 0.7880 - val_loss: 0.4870 - val_accuracy: 0.8200\n",
            "Epoch 66/125\n",
            "32/32 [==============================] - 0s 4ms/step - loss: 0.4769 - accuracy: 0.7960 - val_loss: 0.4446 - val_accuracy: 0.8300\n",
            "Epoch 67/125\n",
            "32/32 [==============================] - 0s 5ms/step - loss: 0.4786 - accuracy: 0.7900 - val_loss: 0.4411 - val_accuracy: 0.8340\n",
            "Epoch 68/125\n",
            "32/32 [==============================] - 0s 5ms/step - loss: 0.4728 - accuracy: 0.8020 - val_loss: 0.4596 - val_accuracy: 0.8140\n",
            "Epoch 69/125\n",
            "32/32 [==============================] - 0s 4ms/step - loss: 0.4636 - accuracy: 0.7960 - val_loss: 0.4460 - val_accuracy: 0.8320\n",
            "Epoch 70/125\n",
            "32/32 [==============================] - 0s 4ms/step - loss: 0.4682 - accuracy: 0.8020 - val_loss: 0.4394 - val_accuracy: 0.8420\n",
            "Epoch 71/125\n",
            "32/32 [==============================] - 0s 4ms/step - loss: 0.4620 - accuracy: 0.8020 - val_loss: 0.4635 - val_accuracy: 0.8320\n",
            "Epoch 72/125\n",
            "32/32 [==============================] - 0s 4ms/step - loss: 0.4591 - accuracy: 0.8040 - val_loss: 0.4655 - val_accuracy: 0.8280\n",
            "Epoch 73/125\n",
            "32/32 [==============================] - 0s 5ms/step - loss: 0.4636 - accuracy: 0.7960 - val_loss: 0.4520 - val_accuracy: 0.8360\n",
            "Epoch 74/125\n",
            "32/32 [==============================] - 0s 4ms/step - loss: 0.4639 - accuracy: 0.8060 - val_loss: 0.4339 - val_accuracy: 0.8340\n",
            "Epoch 75/125\n",
            "32/32 [==============================] - 0s 5ms/step - loss: 0.4799 - accuracy: 0.7880 - val_loss: 0.5707 - val_accuracy: 0.7420\n",
            "Epoch 76/125\n",
            "32/32 [==============================] - 0s 4ms/step - loss: 0.4795 - accuracy: 0.7880 - val_loss: 0.4342 - val_accuracy: 0.8340\n",
            "Epoch 77/125\n",
            "32/32 [==============================] - 0s 4ms/step - loss: 0.4533 - accuracy: 0.8120 - val_loss: 0.4362 - val_accuracy: 0.8280\n",
            "Epoch 78/125\n",
            "32/32 [==============================] - 0s 4ms/step - loss: 0.4862 - accuracy: 0.7860 - val_loss: 0.4304 - val_accuracy: 0.8340\n",
            "Epoch 79/125\n",
            "32/32 [==============================] - 0s 5ms/step - loss: 0.4475 - accuracy: 0.8140 - val_loss: 0.4273 - val_accuracy: 0.8400\n",
            "Epoch 80/125\n",
            "32/32 [==============================] - 0s 5ms/step - loss: 0.4509 - accuracy: 0.8060 - val_loss: 0.4551 - val_accuracy: 0.8300\n",
            "Epoch 81/125\n",
            "32/32 [==============================] - 0s 5ms/step - loss: 0.4605 - accuracy: 0.7980 - val_loss: 0.4340 - val_accuracy: 0.8340\n",
            "Epoch 82/125\n",
            "32/32 [==============================] - 0s 4ms/step - loss: 0.4500 - accuracy: 0.8140 - val_loss: 0.4547 - val_accuracy: 0.8120\n",
            "Epoch 83/125\n",
            "32/32 [==============================] - 0s 5ms/step - loss: 0.4680 - accuracy: 0.8020 - val_loss: 0.4301 - val_accuracy: 0.8240\n",
            "Epoch 84/125\n",
            "32/32 [==============================] - 0s 5ms/step - loss: 0.4490 - accuracy: 0.8180 - val_loss: 0.4218 - val_accuracy: 0.8380\n",
            "Epoch 85/125\n",
            "32/32 [==============================] - 0s 4ms/step - loss: 0.4462 - accuracy: 0.8160 - val_loss: 0.4597 - val_accuracy: 0.8340\n",
            "Epoch 86/125\n",
            "32/32 [==============================] - 0s 5ms/step - loss: 0.4543 - accuracy: 0.7980 - val_loss: 0.4409 - val_accuracy: 0.8300\n",
            "Epoch 87/125\n",
            "32/32 [==============================] - 0s 5ms/step - loss: 0.4472 - accuracy: 0.8060 - val_loss: 0.4634 - val_accuracy: 0.8240\n",
            "Epoch 88/125\n",
            "32/32 [==============================] - 0s 5ms/step - loss: 0.4811 - accuracy: 0.8040 - val_loss: 0.4307 - val_accuracy: 0.8180\n",
            "Epoch 89/125\n",
            "32/32 [==============================] - 0s 4ms/step - loss: 0.4482 - accuracy: 0.8200 - val_loss: 0.4221 - val_accuracy: 0.8320\n",
            "Epoch 90/125\n",
            "32/32 [==============================] - 0s 5ms/step - loss: 0.4429 - accuracy: 0.8100 - val_loss: 0.4318 - val_accuracy: 0.8240\n",
            "Epoch 91/125\n",
            "32/32 [==============================] - 0s 5ms/step - loss: 0.4530 - accuracy: 0.7960 - val_loss: 0.4415 - val_accuracy: 0.8280\n",
            "Epoch 92/125\n",
            "32/32 [==============================] - 0s 5ms/step - loss: 0.4422 - accuracy: 0.8140 - val_loss: 0.4195 - val_accuracy: 0.8320\n",
            "Epoch 93/125\n",
            "32/32 [==============================] - 0s 5ms/step - loss: 0.4578 - accuracy: 0.8020 - val_loss: 0.4203 - val_accuracy: 0.8360\n",
            "Epoch 94/125\n",
            "32/32 [==============================] - 0s 5ms/step - loss: 0.4672 - accuracy: 0.7880 - val_loss: 0.4252 - val_accuracy: 0.8220\n",
            "Epoch 95/125\n",
            "32/32 [==============================] - 0s 4ms/step - loss: 0.5493 - accuracy: 0.7480 - val_loss: 0.4684 - val_accuracy: 0.8240\n",
            "Epoch 96/125\n",
            "32/32 [==============================] - 0s 4ms/step - loss: 0.4801 - accuracy: 0.7980 - val_loss: 0.4183 - val_accuracy: 0.8240\n",
            "Epoch 97/125\n",
            "32/32 [==============================] - 0s 4ms/step - loss: 0.4386 - accuracy: 0.8240 - val_loss: 0.4452 - val_accuracy: 0.8240\n",
            "Epoch 98/125\n",
            "32/32 [==============================] - 0s 5ms/step - loss: 0.4513 - accuracy: 0.8160 - val_loss: 0.4194 - val_accuracy: 0.8360\n",
            "Epoch 99/125\n",
            "32/32 [==============================] - 0s 4ms/step - loss: 0.4398 - accuracy: 0.8160 - val_loss: 0.4291 - val_accuracy: 0.8320\n",
            "Epoch 100/125\n",
            "32/32 [==============================] - 0s 5ms/step - loss: 0.4374 - accuracy: 0.8140 - val_loss: 0.4321 - val_accuracy: 0.8280\n",
            "Epoch 101/125\n",
            "32/32 [==============================] - 0s 4ms/step - loss: 0.4354 - accuracy: 0.8200 - val_loss: 0.4264 - val_accuracy: 0.8360\n",
            "Epoch 102/125\n",
            "32/32 [==============================] - 0s 5ms/step - loss: 0.4379 - accuracy: 0.8080 - val_loss: 0.4263 - val_accuracy: 0.8160\n",
            "Epoch 103/125\n",
            "32/32 [==============================] - 0s 8ms/step - loss: 0.4270 - accuracy: 0.8220 - val_loss: 0.4426 - val_accuracy: 0.8300\n",
            "Epoch 104/125\n",
            "32/32 [==============================] - 0s 9ms/step - loss: 0.4551 - accuracy: 0.8080 - val_loss: 0.4303 - val_accuracy: 0.8300\n",
            "Epoch 105/125\n",
            "32/32 [==============================] - 0s 14ms/step - loss: 0.4411 - accuracy: 0.8120 - val_loss: 0.4245 - val_accuracy: 0.8300\n",
            "Epoch 106/125\n",
            "32/32 [==============================] - 0s 10ms/step - loss: 0.5298 - accuracy: 0.7780 - val_loss: 0.4185 - val_accuracy: 0.8320\n",
            "Epoch 107/125\n",
            "32/32 [==============================] - 1s 25ms/step - loss: 0.4428 - accuracy: 0.8100 - val_loss: 0.4178 - val_accuracy: 0.8300\n",
            "Epoch 108/125\n",
            "32/32 [==============================] - 0s 12ms/step - loss: 0.4637 - accuracy: 0.8120 - val_loss: 0.4128 - val_accuracy: 0.8320\n",
            "Epoch 109/125\n",
            "32/32 [==============================] - 0s 13ms/step - loss: 0.4282 - accuracy: 0.8300 - val_loss: 0.4099 - val_accuracy: 0.8380\n",
            "Epoch 110/125\n",
            "32/32 [==============================] - 0s 8ms/step - loss: 0.4313 - accuracy: 0.8140 - val_loss: 0.4389 - val_accuracy: 0.8300\n",
            "Epoch 111/125\n",
            "32/32 [==============================] - 0s 9ms/step - loss: 0.4302 - accuracy: 0.8420 - val_loss: 0.4114 - val_accuracy: 0.8340\n",
            "Epoch 112/125\n",
            "32/32 [==============================] - 0s 9ms/step - loss: 0.4349 - accuracy: 0.8140 - val_loss: 0.4530 - val_accuracy: 0.8200\n",
            "Epoch 113/125\n",
            "32/32 [==============================] - 0s 7ms/step - loss: 0.4301 - accuracy: 0.8200 - val_loss: 0.4105 - val_accuracy: 0.8420\n",
            "Epoch 114/125\n",
            "32/32 [==============================] - 0s 9ms/step - loss: 0.4298 - accuracy: 0.8200 - val_loss: 0.4611 - val_accuracy: 0.8200\n",
            "Epoch 115/125\n",
            "32/32 [==============================] - 0s 9ms/step - loss: 0.4442 - accuracy: 0.8000 - val_loss: 0.4338 - val_accuracy: 0.8320\n",
            "Epoch 116/125\n",
            "32/32 [==============================] - 0s 9ms/step - loss: 0.4520 - accuracy: 0.8020 - val_loss: 0.4120 - val_accuracy: 0.8360\n",
            "Epoch 117/125\n",
            "32/32 [==============================] - 0s 8ms/step - loss: 0.4237 - accuracy: 0.8240 - val_loss: 0.4134 - val_accuracy: 0.8260\n",
            "Epoch 118/125\n",
            "32/32 [==============================] - 0s 5ms/step - loss: 0.4210 - accuracy: 0.8260 - val_loss: 0.4102 - val_accuracy: 0.8300\n",
            "Epoch 119/125\n",
            "32/32 [==============================] - 0s 5ms/step - loss: 0.4173 - accuracy: 0.8220 - val_loss: 0.4236 - val_accuracy: 0.8320\n",
            "Epoch 120/125\n",
            "32/32 [==============================] - 0s 5ms/step - loss: 0.4255 - accuracy: 0.8260 - val_loss: 0.4104 - val_accuracy: 0.8360\n",
            "Epoch 121/125\n",
            "32/32 [==============================] - 0s 5ms/step - loss: 0.4322 - accuracy: 0.8200 - val_loss: 0.4037 - val_accuracy: 0.8340\n",
            "Epoch 122/125\n",
            "32/32 [==============================] - 0s 5ms/step - loss: 0.4276 - accuracy: 0.8300 - val_loss: 0.4071 - val_accuracy: 0.8340\n",
            "Epoch 123/125\n",
            "32/32 [==============================] - 0s 5ms/step - loss: 0.4482 - accuracy: 0.8100 - val_loss: 0.4714 - val_accuracy: 0.8000\n",
            "Epoch 124/125\n",
            "32/32 [==============================] - 0s 4ms/step - loss: 0.4598 - accuracy: 0.8320 - val_loss: 0.4092 - val_accuracy: 0.8360\n",
            "Epoch 125/125\n",
            "32/32 [==============================] - 0s 5ms/step - loss: 0.4178 - accuracy: 0.8300 - val_loss: 0.4115 - val_accuracy: 0.8260\n"
          ]
        }
      ],
      "source": [
        "### START CODE HERE ###\n",
        "model= build_model()\n",
        "batch_size = 16\n",
        "history = fit_model(X_train, y_train, X_test, y_test, batch_size)\n",
        "###### END CODE HERE"
      ]
    },
    {
      "cell_type": "code",
      "execution_count": null,
      "id": "be8533d7-34a0-4072-a9f3-600ddb9e58df",
      "metadata": {
        "tags": [],
        "id": "be8533d7-34a0-4072-a9f3-600ddb9e58df",
        "colab": {
          "base_uri": "https://localhost:8080/",
          "height": 487
        },
        "outputId": "de43269b-864f-4148-e893-1be494f9b88b"
      },
      "outputs": [
        {
          "output_type": "display_data",
          "data": {
            "text/plain": [
              "<Figure size 1000x500 with 1 Axes>"
            ],
            "image/png": "[encoded data removed]"
          },
          "metadata": {}
        }
      ],
      "source": [
        "plt.figure(figsize=(10,5))\n",
        "plt.plot(history.history['loss'], label='Training Loss')\n",
        "plt.plot(history.history['val_loss'], label='Validation Loss')\n",
        "plt.title('Loss vs. epochs, batch=' +str(batch_size))\n",
        "plt.ylabel('Loss')\n",
        "plt.xlabel('Epoch')\n",
        "plt.legend(['Training', 'Validation'], loc='upper right')\n",
        "plt.show()"
      ]
    },
    {
      "cell_type": "markdown",
      "id": "a7c4cd41-4aa3-4a8e-a6bb-3c7862c25787",
      "metadata": {
        "id": "a7c4cd41-4aa3-4a8e-a6bb-3c7862c25787"
      },
      "source": [
        "##### Size =  128"
      ]
    },
    {
      "cell_type": "markdown",
      "id": "55ae315d-ccfd-42aa-9e02-b2ba042756ec",
      "metadata": {
        "id": "55ae315d-ccfd-42aa-9e02-b2ba042756ec"
      },
      "source": [
        "10. **Retrain for 128 batch size**"
      ]
    },
    {
      "cell_type": "code",
      "execution_count": null,
      "id": "220b57cc-c220-424f-b3df-25eff109f718",
      "metadata": {
        "id": "220b57cc-c220-424f-b3df-25eff109f718",
        "colab": {
          "base_uri": "https://localhost:8080/"
        },
        "outputId": "f76733f5-6920-486b-f8e3-8fc692d893f0"
      },
      "outputs": [
        {
          "output_type": "stream",
          "name": "stdout",
          "text": [
            "Epoch 1/125\n",
            "4/4 [==============================] - 1s 65ms/step - loss: 2.1539 - accuracy: 0.3280 - val_loss: 1.5645 - val_accuracy: 0.4260\n",
            "Epoch 2/125\n",
            "4/4 [==============================] - 0s 15ms/step - loss: 1.4251 - accuracy: 0.4180 - val_loss: 1.0780 - val_accuracy: 0.5040\n",
            "Epoch 3/125\n",
            "4/4 [==============================] - 0s 18ms/step - loss: 1.3182 - accuracy: 0.4000 - val_loss: 1.0256 - val_accuracy: 0.5520\n",
            "Epoch 4/125\n",
            "4/4 [==============================] - 0s 20ms/step - loss: 1.1040 - accuracy: 0.4740 - val_loss: 1.1050 - val_accuracy: 0.4860\n",
            "Epoch 5/125\n",
            "4/4 [==============================] - 0s 19ms/step - loss: 1.0267 - accuracy: 0.4760 - val_loss: 0.7852 - val_accuracy: 0.6560\n",
            "Epoch 6/125\n",
            "4/4 [==============================] - 0s 13ms/step - loss: 0.9077 - accuracy: 0.5180 - val_loss: 0.8105 - val_accuracy: 0.6740\n",
            "Epoch 7/125\n",
            "4/4 [==============================] - 0s 18ms/step - loss: 0.8370 - accuracy: 0.5800 - val_loss: 0.8046 - val_accuracy: 0.5960\n",
            "Epoch 8/125\n",
            "4/4 [==============================] - 0s 15ms/step - loss: 0.8270 - accuracy: 0.5720 - val_loss: 0.7475 - val_accuracy: 0.6780\n",
            "Epoch 9/125\n",
            "4/4 [==============================] - 0s 14ms/step - loss: 0.7869 - accuracy: 0.6180 - val_loss: 0.7290 - val_accuracy: 0.6600\n",
            "Epoch 10/125\n",
            "4/4 [==============================] - 0s 13ms/step - loss: 0.7717 - accuracy: 0.5820 - val_loss: 0.7220 - val_accuracy: 0.6300\n",
            "Epoch 11/125\n",
            "4/4 [==============================] - 0s 14ms/step - loss: 0.7566 - accuracy: 0.6120 - val_loss: 0.7225 - val_accuracy: 0.6960\n",
            "Epoch 12/125\n",
            "4/4 [==============================] - 0s 18ms/step - loss: 0.7366 - accuracy: 0.6480 - val_loss: 0.7017 - val_accuracy: 0.6480\n",
            "Epoch 13/125\n",
            "4/4 [==============================] - 0s 20ms/step - loss: 0.7364 - accuracy: 0.6040 - val_loss: 0.6929 - val_accuracy: 0.6580\n",
            "Epoch 14/125\n",
            "4/4 [==============================] - 0s 18ms/step - loss: 0.7209 - accuracy: 0.6520 - val_loss: 0.6999 - val_accuracy: 0.7120\n",
            "Epoch 15/125\n",
            "4/4 [==============================] - 0s 18ms/step - loss: 0.7154 - accuracy: 0.6640 - val_loss: 0.6828 - val_accuracy: 0.6640\n",
            "Epoch 16/125\n",
            "4/4 [==============================] - 0s 14ms/step - loss: 0.7162 - accuracy: 0.6220 - val_loss: 0.6767 - val_accuracy: 0.6860\n",
            "Epoch 17/125\n",
            "4/4 [==============================] - 0s 14ms/step - loss: 0.7088 - accuracy: 0.6680 - val_loss: 0.6780 - val_accuracy: 0.7000\n",
            "Epoch 18/125\n",
            "4/4 [==============================] - 0s 20ms/step - loss: 0.7023 - accuracy: 0.6520 - val_loss: 0.6713 - val_accuracy: 0.6680\n",
            "Epoch 19/125\n",
            "4/4 [==============================] - 0s 19ms/step - loss: 0.6997 - accuracy: 0.6400 - val_loss: 0.6693 - val_accuracy: 0.6860\n",
            "Epoch 20/125\n",
            "4/4 [==============================] - 0s 18ms/step - loss: 0.6962 - accuracy: 0.6540 - val_loss: 0.6641 - val_accuracy: 0.6860\n",
            "Epoch 21/125\n",
            "4/4 [==============================] - 0s 16ms/step - loss: 0.6901 - accuracy: 0.6600 - val_loss: 0.6621 - val_accuracy: 0.6900\n",
            "Epoch 22/125\n",
            "4/4 [==============================] - 0s 18ms/step - loss: 0.6890 - accuracy: 0.6620 - val_loss: 0.6592 - val_accuracy: 0.6900\n",
            "Epoch 23/125\n",
            "4/4 [==============================] - 0s 15ms/step - loss: 0.6889 - accuracy: 0.6620 - val_loss: 0.6574 - val_accuracy: 0.6960\n",
            "Epoch 24/125\n",
            "4/4 [==============================] - 0s 20ms/step - loss: 0.6821 - accuracy: 0.6620 - val_loss: 0.6546 - val_accuracy: 0.6840\n",
            "Epoch 25/125\n",
            "4/4 [==============================] - 0s 18ms/step - loss: 0.6830 - accuracy: 0.6560 - val_loss: 0.6525 - val_accuracy: 0.6900\n",
            "Epoch 26/125\n",
            "4/4 [==============================] - 0s 18ms/step - loss: 0.6781 - accuracy: 0.6620 - val_loss: 0.6524 - val_accuracy: 0.7040\n",
            "Epoch 27/125\n",
            "4/4 [==============================] - 0s 18ms/step - loss: 0.6771 - accuracy: 0.6620 - val_loss: 0.6489 - val_accuracy: 0.7000\n",
            "Epoch 28/125\n",
            "4/4 [==============================] - 0s 14ms/step - loss: 0.6760 - accuracy: 0.6620 - val_loss: 0.6464 - val_accuracy: 0.7000\n",
            "Epoch 29/125\n",
            "4/4 [==============================] - 0s 14ms/step - loss: 0.6721 - accuracy: 0.6600 - val_loss: 0.6458 - val_accuracy: 0.7000\n",
            "Epoch 30/125\n",
            "4/4 [==============================] - 0s 14ms/step - loss: 0.6711 - accuracy: 0.6600 - val_loss: 0.6454 - val_accuracy: 0.7020\n",
            "Epoch 31/125\n",
            "4/4 [==============================] - 0s 18ms/step - loss: 0.6703 - accuracy: 0.6660 - val_loss: 0.6421 - val_accuracy: 0.7000\n",
            "Epoch 32/125\n",
            "4/4 [==============================] - 0s 20ms/step - loss: 0.6692 - accuracy: 0.6600 - val_loss: 0.6396 - val_accuracy: 0.7000\n",
            "Epoch 33/125\n",
            "4/4 [==============================] - 0s 15ms/step - loss: 0.6659 - accuracy: 0.6640 - val_loss: 0.6408 - val_accuracy: 0.7080\n",
            "Epoch 34/125\n",
            "4/4 [==============================] - 0s 21ms/step - loss: 0.6646 - accuracy: 0.6700 - val_loss: 0.6375 - val_accuracy: 0.7060\n",
            "Epoch 35/125\n",
            "4/4 [==============================] - 0s 14ms/step - loss: 0.6630 - accuracy: 0.6700 - val_loss: 0.6351 - val_accuracy: 0.7040\n",
            "Epoch 36/125\n",
            "4/4 [==============================] - 0s 15ms/step - loss: 0.6610 - accuracy: 0.6640 - val_loss: 0.6350 - val_accuracy: 0.7080\n",
            "Epoch 37/125\n",
            "4/4 [==============================] - 0s 20ms/step - loss: 0.6596 - accuracy: 0.6680 - val_loss: 0.6340 - val_accuracy: 0.7080\n",
            "Epoch 38/125\n",
            "4/4 [==============================] - 0s 18ms/step - loss: 0.6582 - accuracy: 0.6660 - val_loss: 0.6310 - val_accuracy: 0.7060\n",
            "Epoch 39/125\n",
            "4/4 [==============================] - 0s 14ms/step - loss: 0.6571 - accuracy: 0.6680 - val_loss: 0.6310 - val_accuracy: 0.7100\n",
            "Epoch 40/125\n",
            "4/4 [==============================] - 0s 18ms/step - loss: 0.6556 - accuracy: 0.6680 - val_loss: 0.6294 - val_accuracy: 0.7100\n",
            "Epoch 41/125\n",
            "4/4 [==============================] - 0s 15ms/step - loss: 0.6561 - accuracy: 0.6700 - val_loss: 0.6276 - val_accuracy: 0.7080\n",
            "Epoch 42/125\n",
            "4/4 [==============================] - 0s 18ms/step - loss: 0.6522 - accuracy: 0.6680 - val_loss: 0.6259 - val_accuracy: 0.7080\n",
            "Epoch 43/125\n",
            "4/4 [==============================] - 0s 15ms/step - loss: 0.6523 - accuracy: 0.6660 - val_loss: 0.6263 - val_accuracy: 0.7120\n",
            "Epoch 44/125\n",
            "4/4 [==============================] - 0s 14ms/step - loss: 0.6499 - accuracy: 0.6720 - val_loss: 0.6240 - val_accuracy: 0.7120\n",
            "Epoch 45/125\n",
            "4/4 [==============================] - 0s 18ms/step - loss: 0.6512 - accuracy: 0.6680 - val_loss: 0.6224 - val_accuracy: 0.7100\n",
            "Epoch 46/125\n",
            "4/4 [==============================] - 0s 21ms/step - loss: 0.6489 - accuracy: 0.6700 - val_loss: 0.6245 - val_accuracy: 0.7180\n",
            "Epoch 47/125\n",
            "4/4 [==============================] - 0s 18ms/step - loss: 0.6478 - accuracy: 0.6720 - val_loss: 0.6199 - val_accuracy: 0.7100\n",
            "Epoch 48/125\n",
            "4/4 [==============================] - 0s 17ms/step - loss: 0.6477 - accuracy: 0.6700 - val_loss: 0.6205 - val_accuracy: 0.7160\n",
            "Epoch 49/125\n",
            "4/4 [==============================] - 0s 14ms/step - loss: 0.6443 - accuracy: 0.6700 - val_loss: 0.6178 - val_accuracy: 0.7160\n",
            "Epoch 50/125\n",
            "4/4 [==============================] - 0s 20ms/step - loss: 0.6440 - accuracy: 0.6680 - val_loss: 0.6167 - val_accuracy: 0.7100\n",
            "Epoch 51/125\n",
            "4/4 [==============================] - 0s 14ms/step - loss: 0.6441 - accuracy: 0.6740 - val_loss: 0.6192 - val_accuracy: 0.7200\n",
            "Epoch 52/125\n",
            "4/4 [==============================] - 0s 14ms/step - loss: 0.6416 - accuracy: 0.6640 - val_loss: 0.6147 - val_accuracy: 0.7140\n",
            "Epoch 53/125\n",
            "4/4 [==============================] - 0s 15ms/step - loss: 0.6409 - accuracy: 0.6680 - val_loss: 0.6142 - val_accuracy: 0.7140\n",
            "Epoch 54/125\n",
            "4/4 [==============================] - 0s 20ms/step - loss: 0.6390 - accuracy: 0.6780 - val_loss: 0.6157 - val_accuracy: 0.7200\n",
            "Epoch 55/125\n",
            "4/4 [==============================] - 0s 14ms/step - loss: 0.6387 - accuracy: 0.6760 - val_loss: 0.6117 - val_accuracy: 0.7160\n",
            "Epoch 56/125\n",
            "4/4 [==============================] - 0s 15ms/step - loss: 0.6389 - accuracy: 0.6680 - val_loss: 0.6109 - val_accuracy: 0.7140\n",
            "Epoch 57/125\n",
            "4/4 [==============================] - 0s 18ms/step - loss: 0.6379 - accuracy: 0.6840 - val_loss: 0.6134 - val_accuracy: 0.7220\n",
            "Epoch 58/125\n",
            "4/4 [==============================] - 0s 20ms/step - loss: 0.6347 - accuracy: 0.6740 - val_loss: 0.6091 - val_accuracy: 0.7160\n",
            "Epoch 59/125\n",
            "4/4 [==============================] - 0s 20ms/step - loss: 0.6366 - accuracy: 0.6740 - val_loss: 0.6087 - val_accuracy: 0.7180\n",
            "Epoch 60/125\n",
            "4/4 [==============================] - 0s 15ms/step - loss: 0.6330 - accuracy: 0.6740 - val_loss: 0.6075 - val_accuracy: 0.7180\n",
            "Epoch 61/125\n",
            "4/4 [==============================] - 0s 14ms/step - loss: 0.6329 - accuracy: 0.6800 - val_loss: 0.6080 - val_accuracy: 0.7220\n",
            "Epoch 62/125\n",
            "4/4 [==============================] - 0s 19ms/step - loss: 0.6316 - accuracy: 0.6780 - val_loss: 0.6054 - val_accuracy: 0.7140\n",
            "Epoch 63/125\n",
            "4/4 [==============================] - 0s 14ms/step - loss: 0.6320 - accuracy: 0.6860 - val_loss: 0.6064 - val_accuracy: 0.7240\n",
            "Epoch 64/125\n",
            "4/4 [==============================] - 0s 18ms/step - loss: 0.6292 - accuracy: 0.6860 - val_loss: 0.6037 - val_accuracy: 0.7180\n",
            "Epoch 65/125\n",
            "4/4 [==============================] - 0s 15ms/step - loss: 0.6285 - accuracy: 0.6800 - val_loss: 0.6041 - val_accuracy: 0.7240\n",
            "Epoch 66/125\n",
            "4/4 [==============================] - 0s 14ms/step - loss: 0.6310 - accuracy: 0.6940 - val_loss: 0.6035 - val_accuracy: 0.7220\n",
            "Epoch 67/125\n",
            "4/4 [==============================] - 0s 21ms/step - loss: 0.6265 - accuracy: 0.6760 - val_loss: 0.6013 - val_accuracy: 0.7160\n",
            "Epoch 68/125\n",
            "4/4 [==============================] - 0s 14ms/step - loss: 0.6289 - accuracy: 0.6820 - val_loss: 0.6032 - val_accuracy: 0.7260\n",
            "Epoch 69/125\n",
            "4/4 [==============================] - 0s 19ms/step - loss: 0.6265 - accuracy: 0.6940 - val_loss: 0.6000 - val_accuracy: 0.7240\n",
            "Epoch 70/125\n",
            "4/4 [==============================] - 0s 20ms/step - loss: 0.6258 - accuracy: 0.6760 - val_loss: 0.5993 - val_accuracy: 0.7240\n",
            "Epoch 71/125\n",
            "4/4 [==============================] - 0s 20ms/step - loss: 0.6268 - accuracy: 0.7040 - val_loss: 0.6017 - val_accuracy: 0.7360\n",
            "Epoch 72/125\n",
            "4/4 [==============================] - 0s 15ms/step - loss: 0.6260 - accuracy: 0.6800 - val_loss: 0.5979 - val_accuracy: 0.7140\n",
            "Epoch 73/125\n",
            "4/4 [==============================] - 0s 18ms/step - loss: 0.6236 - accuracy: 0.6900 - val_loss: 0.6011 - val_accuracy: 0.7380\n",
            "Epoch 74/125\n",
            "4/4 [==============================] - 0s 18ms/step - loss: 0.6241 - accuracy: 0.7100 - val_loss: 0.5956 - val_accuracy: 0.7280\n",
            "Epoch 75/125\n",
            "4/4 [==============================] - 0s 14ms/step - loss: 0.6222 - accuracy: 0.6780 - val_loss: 0.5951 - val_accuracy: 0.7180\n",
            "Epoch 76/125\n",
            "4/4 [==============================] - 0s 19ms/step - loss: 0.6223 - accuracy: 0.6860 - val_loss: 0.6007 - val_accuracy: 0.7420\n",
            "Epoch 77/125\n",
            "4/4 [==============================] - 0s 18ms/step - loss: 0.6215 - accuracy: 0.7100 - val_loss: 0.5933 - val_accuracy: 0.7220\n",
            "Epoch 78/125\n",
            "4/4 [==============================] - 0s 15ms/step - loss: 0.6188 - accuracy: 0.6820 - val_loss: 0.5929 - val_accuracy: 0.7260\n",
            "Epoch 79/125\n",
            "4/4 [==============================] - 0s 14ms/step - loss: 0.6180 - accuracy: 0.7140 - val_loss: 0.5956 - val_accuracy: 0.7380\n",
            "Epoch 80/125\n",
            "4/4 [==============================] - 0s 13ms/step - loss: 0.6204 - accuracy: 0.6900 - val_loss: 0.5912 - val_accuracy: 0.7240\n",
            "Epoch 81/125\n",
            "4/4 [==============================] - 0s 14ms/step - loss: 0.6149 - accuracy: 0.6960 - val_loss: 0.5957 - val_accuracy: 0.7380\n",
            "Epoch 82/125\n",
            "4/4 [==============================] - 0s 18ms/step - loss: 0.6159 - accuracy: 0.7160 - val_loss: 0.5910 - val_accuracy: 0.7340\n",
            "Epoch 83/125\n",
            "4/4 [==============================] - 0s 21ms/step - loss: 0.6135 - accuracy: 0.7000 - val_loss: 0.5888 - val_accuracy: 0.7240\n",
            "Epoch 84/125\n",
            "4/4 [==============================] - 0s 19ms/step - loss: 0.6138 - accuracy: 0.6920 - val_loss: 0.5893 - val_accuracy: 0.7360\n",
            "Epoch 85/125\n",
            "4/4 [==============================] - 0s 14ms/step - loss: 0.6119 - accuracy: 0.7100 - val_loss: 0.5899 - val_accuracy: 0.7380\n",
            "Epoch 86/125\n",
            "4/4 [==============================] - 0s 15ms/step - loss: 0.6111 - accuracy: 0.7060 - val_loss: 0.5869 - val_accuracy: 0.7340\n",
            "Epoch 87/125\n",
            "4/4 [==============================] - 0s 14ms/step - loss: 0.6109 - accuracy: 0.7060 - val_loss: 0.5872 - val_accuracy: 0.7400\n",
            "Epoch 88/125\n",
            "4/4 [==============================] - 0s 18ms/step - loss: 0.6104 - accuracy: 0.6920 - val_loss: 0.5858 - val_accuracy: 0.7380\n",
            "Epoch 89/125\n",
            "4/4 [==============================] - 0s 15ms/step - loss: 0.6086 - accuracy: 0.7040 - val_loss: 0.5866 - val_accuracy: 0.7400\n",
            "Epoch 90/125\n",
            "4/4 [==============================] - 0s 18ms/step - loss: 0.6086 - accuracy: 0.7080 - val_loss: 0.5850 - val_accuracy: 0.7400\n",
            "Epoch 91/125\n",
            "4/4 [==============================] - 0s 19ms/step - loss: 0.6089 - accuracy: 0.6980 - val_loss: 0.5835 - val_accuracy: 0.7400\n",
            "Epoch 92/125\n",
            "4/4 [==============================] - 0s 14ms/step - loss: 0.6106 - accuracy: 0.7160 - val_loss: 0.5869 - val_accuracy: 0.7420\n",
            "Epoch 93/125\n",
            "4/4 [==============================] - 0s 20ms/step - loss: 0.6056 - accuracy: 0.7180 - val_loss: 0.5827 - val_accuracy: 0.7260\n",
            "Epoch 94/125\n",
            "4/4 [==============================] - 0s 14ms/step - loss: 0.6089 - accuracy: 0.6900 - val_loss: 0.5815 - val_accuracy: 0.7400\n",
            "Epoch 95/125\n",
            "4/4 [==============================] - 0s 15ms/step - loss: 0.6033 - accuracy: 0.7020 - val_loss: 0.5848 - val_accuracy: 0.7440\n",
            "Epoch 96/125\n",
            "4/4 [==============================] - 0s 18ms/step - loss: 0.6056 - accuracy: 0.7260 - val_loss: 0.5826 - val_accuracy: 0.7400\n",
            "Epoch 97/125\n",
            "4/4 [==============================] - 0s 18ms/step - loss: 0.6059 - accuracy: 0.7120 - val_loss: 0.5799 - val_accuracy: 0.7280\n",
            "Epoch 98/125\n",
            "4/4 [==============================] - 0s 13ms/step - loss: 0.6040 - accuracy: 0.7140 - val_loss: 0.5844 - val_accuracy: 0.7520\n",
            "Epoch 99/125\n",
            "4/4 [==============================] - 0s 18ms/step - loss: 0.6031 - accuracy: 0.7320 - val_loss: 0.5786 - val_accuracy: 0.7460\n",
            "Epoch 100/125\n",
            "4/4 [==============================] - 0s 18ms/step - loss: 0.6014 - accuracy: 0.7060 - val_loss: 0.5775 - val_accuracy: 0.7400\n",
            "Epoch 101/125\n",
            "4/4 [==============================] - 0s 14ms/step - loss: 0.6008 - accuracy: 0.7040 - val_loss: 0.5796 - val_accuracy: 0.7440\n",
            "Epoch 102/125\n",
            "4/4 [==============================] - 0s 18ms/step - loss: 0.6056 - accuracy: 0.7380 - val_loss: 0.5797 - val_accuracy: 0.7480\n",
            "Epoch 103/125\n",
            "4/4 [==============================] - 0s 24ms/step - loss: 0.6111 - accuracy: 0.6860 - val_loss: 0.5789 - val_accuracy: 0.7260\n",
            "Epoch 104/125\n",
            "4/4 [==============================] - 0s 20ms/step - loss: 0.5989 - accuracy: 0.7120 - val_loss: 0.5843 - val_accuracy: 0.7800\n",
            "Epoch 105/125\n",
            "4/4 [==============================] - 0s 20ms/step - loss: 0.6083 - accuracy: 0.7560 - val_loss: 0.5759 - val_accuracy: 0.7440\n",
            "Epoch 106/125\n",
            "4/4 [==============================] - 0s 49ms/step - loss: 0.5981 - accuracy: 0.7000 - val_loss: 0.5755 - val_accuracy: 0.7280\n",
            "Epoch 107/125\n",
            "4/4 [==============================] - 0s 29ms/step - loss: 0.5996 - accuracy: 0.7020 - val_loss: 0.5771 - val_accuracy: 0.7580\n",
            "Epoch 108/125\n",
            "4/4 [==============================] - 0s 37ms/step - loss: 0.5972 - accuracy: 0.7320 - val_loss: 0.5741 - val_accuracy: 0.7480\n",
            "Epoch 109/125\n",
            "4/4 [==============================] - 0s 27ms/step - loss: 0.5960 - accuracy: 0.7220 - val_loss: 0.5718 - val_accuracy: 0.7420\n",
            "Epoch 110/125\n",
            "4/4 [==============================] - 0s 29ms/step - loss: 0.5949 - accuracy: 0.7140 - val_loss: 0.5722 - val_accuracy: 0.7500\n",
            "Epoch 111/125\n",
            "4/4 [==============================] - 0s 29ms/step - loss: 0.5975 - accuracy: 0.7300 - val_loss: 0.5741 - val_accuracy: 0.7540\n",
            "Epoch 112/125\n",
            "4/4 [==============================] - 0s 26ms/step - loss: 0.5932 - accuracy: 0.7220 - val_loss: 0.5707 - val_accuracy: 0.7380\n",
            "Epoch 113/125\n",
            "4/4 [==============================] - 0s 28ms/step - loss: 0.5938 - accuracy: 0.7080 - val_loss: 0.5709 - val_accuracy: 0.7520\n",
            "Epoch 114/125\n",
            "4/4 [==============================] - 0s 27ms/step - loss: 0.5916 - accuracy: 0.7320 - val_loss: 0.5728 - val_accuracy: 0.7580\n",
            "Epoch 115/125\n",
            "4/4 [==============================] - 0s 28ms/step - loss: 0.5916 - accuracy: 0.7320 - val_loss: 0.5685 - val_accuracy: 0.7480\n",
            "Epoch 116/125\n",
            "4/4 [==============================] - 0s 42ms/step - loss: 0.5909 - accuracy: 0.7100 - val_loss: 0.5681 - val_accuracy: 0.7500\n",
            "Epoch 117/125\n",
            "4/4 [==============================] - 0s 33ms/step - loss: 0.5905 - accuracy: 0.7280 - val_loss: 0.5718 - val_accuracy: 0.7700\n",
            "Epoch 118/125\n",
            "4/4 [==============================] - 0s 28ms/step - loss: 0.5896 - accuracy: 0.7380 - val_loss: 0.5669 - val_accuracy: 0.7520\n",
            "Epoch 119/125\n",
            "4/4 [==============================] - 0s 24ms/step - loss: 0.5906 - accuracy: 0.7160 - val_loss: 0.5662 - val_accuracy: 0.7460\n",
            "Epoch 120/125\n",
            "4/4 [==============================] - 0s 25ms/step - loss: 0.5901 - accuracy: 0.7280 - val_loss: 0.5725 - val_accuracy: 0.7800\n",
            "Epoch 121/125\n",
            "4/4 [==============================] - 0s 50ms/step - loss: 0.5880 - accuracy: 0.7460 - val_loss: 0.5650 - val_accuracy: 0.7500\n",
            "Epoch 122/125\n",
            "4/4 [==============================] - 0s 28ms/step - loss: 0.5891 - accuracy: 0.7140 - val_loss: 0.5646 - val_accuracy: 0.7520\n",
            "Epoch 123/125\n",
            "4/4 [==============================] - 0s 48ms/step - loss: 0.5868 - accuracy: 0.7300 - val_loss: 0.5678 - val_accuracy: 0.7720\n",
            "Epoch 124/125\n",
            "4/4 [==============================] - 0s 53ms/step - loss: 0.5859 - accuracy: 0.7360 - val_loss: 0.5636 - val_accuracy: 0.7540\n",
            "Epoch 125/125\n",
            "4/4 [==============================] - 0s 58ms/step - loss: 0.5850 - accuracy: 0.7300 - val_loss: 0.5634 - val_accuracy: 0.7580\n"
          ]
        }
      ],
      "source": [
        "### START CODE HERE ###\n",
        "model= build_model()\n",
        "batch_size = 128\n",
        "history = fit_model(X_train, y_train, X_test, y_test, batch_size)\n",
        "###### END CODE HERE"
      ]
    },
    {
      "cell_type": "code",
      "execution_count": null,
      "id": "7e9a46f6-a1ce-4922-b48f-3c6f54ae4515",
      "metadata": {
        "tags": [],
        "id": "7e9a46f6-a1ce-4922-b48f-3c6f54ae4515",
        "colab": {
          "base_uri": "https://localhost:8080/",
          "height": 487
        },
        "outputId": "ab000ee6-5f19-4e49-d94f-b1b49f5a3890"
      },
      "outputs": [
        {
          "output_type": "display_data",
          "data": {
            "text/plain": [
              "<Figure size 1000x500 with 1 Axes>"
            ],
            "image/png": "[encoded data removed]"
          },
          "metadata": {}
        }
      ],
      "source": [
        "plt.figure(figsize=(10,5))\n",
        "plt.plot(history.history['loss'], label='Training Loss')\n",
        "plt.plot(history.history['val_loss'], label='Validation Loss')\n",
        "plt.title('Loss vs. epochs, batch=' +str(batch_size))\n",
        "plt.ylabel('Loss')\n",
        "plt.xlabel('Epoch')\n",
        "plt.legend(['Training', 'Validation'], loc='upper right')\n",
        "plt.show()"
      ]
    },
    {
      "cell_type": "markdown",
      "id": "c0c037e6-a554-454d-8d87-e009aefd826c",
      "metadata": {
        "id": "c0c037e6-a554-454d-8d87-e009aefd826c"
      },
      "source": [
        "##### Size =  Data"
      ]
    },
    {
      "cell_type": "markdown",
      "id": "f067cc9d-4c8e-434d-970e-5395914df5f1",
      "metadata": {
        "id": "f067cc9d-4c8e-434d-970e-5395914df5f1"
      },
      "source": [
        "10. **Retrain for length of data batch size**"
      ]
    },
    {
      "cell_type": "code",
      "execution_count": null,
      "id": "c6bcbb54-5017-4030-97a8-8a70bf2204ce",
      "metadata": {
        "id": "c6bcbb54-5017-4030-97a8-8a70bf2204ce",
        "colab": {
          "base_uri": "https://localhost:8080/"
        },
        "outputId": "ed426a11-6db9-4e69-c73d-488cd6999d1c"
      },
      "outputs": [
        {
          "output_type": "stream",
          "name": "stdout",
          "text": [
            "Epoch 1/125\n",
            "1/1 [==============================] - 1s 564ms/step - loss: 2.9489 - accuracy: 0.3100 - val_loss: 3.0666 - val_accuracy: 0.2880\n",
            "Epoch 2/125\n",
            "1/1 [==============================] - 0s 59ms/step - loss: 2.8864 - accuracy: 0.3120 - val_loss: 2.9558 - val_accuracy: 0.2900\n",
            "Epoch 3/125\n",
            "1/1 [==============================] - 0s 43ms/step - loss: 2.7693 - accuracy: 0.3140 - val_loss: 2.8027 - val_accuracy: 0.2940\n",
            "Epoch 4/125\n",
            "1/1 [==============================] - 0s 46ms/step - loss: 2.6071 - accuracy: 0.3200 - val_loss: 2.6202 - val_accuracy: 0.3020\n",
            "Epoch 5/125\n",
            "1/1 [==============================] - 0s 62ms/step - loss: 2.4135 - accuracy: 0.3200 - val_loss: 2.4334 - val_accuracy: 0.3180\n",
            "Epoch 6/125\n",
            "1/1 [==============================] - 0s 61ms/step - loss: 2.2142 - accuracy: 0.3260 - val_loss: 2.3068 - val_accuracy: 0.3360\n",
            "Epoch 7/125\n",
            "1/1 [==============================] - 0s 47ms/step - loss: 2.0746 - accuracy: 0.3480 - val_loss: 2.3272 - val_accuracy: 0.2020\n",
            "Epoch 8/125\n",
            "1/1 [==============================] - 0s 54ms/step - loss: 2.0880 - accuracy: 0.2480 - val_loss: 2.4015 - val_accuracy: 0.1840\n",
            "Epoch 9/125\n",
            "1/1 [==============================] - 0s 52ms/step - loss: 2.1698 - accuracy: 0.2220 - val_loss: 2.3569 - val_accuracy: 0.1780\n",
            "Epoch 10/125\n",
            "1/1 [==============================] - 0s 65ms/step - loss: 2.1365 - accuracy: 0.2160 - val_loss: 2.1847 - val_accuracy: 0.1800\n",
            "Epoch 11/125\n",
            "1/1 [==============================] - 0s 80ms/step - loss: 1.9750 - accuracy: 0.2300 - val_loss: 2.0365 - val_accuracy: 0.3300\n",
            "Epoch 12/125\n",
            "1/1 [==============================] - 0s 53ms/step - loss: 1.8433 - accuracy: 0.3440 - val_loss: 1.9959 - val_accuracy: 0.3280\n",
            "Epoch 13/125\n",
            "1/1 [==============================] - 0s 64ms/step - loss: 1.8244 - accuracy: 0.3420 - val_loss: 1.9715 - val_accuracy: 0.3280\n",
            "Epoch 14/125\n",
            "1/1 [==============================] - 0s 60ms/step - loss: 1.8212 - accuracy: 0.3420 - val_loss: 1.9030 - val_accuracy: 0.3280\n",
            "Epoch 15/125\n",
            "1/1 [==============================] - 0s 49ms/step - loss: 1.7707 - accuracy: 0.3420 - val_loss: 1.7828 - val_accuracy: 0.3280\n",
            "Epoch 16/125\n",
            "1/1 [==============================] - 0s 62ms/step - loss: 1.6654 - accuracy: 0.3420 - val_loss: 1.6339 - val_accuracy: 0.3260\n",
            "Epoch 17/125\n",
            "1/1 [==============================] - 0s 61ms/step - loss: 1.5298 - accuracy: 0.3420 - val_loss: 1.5054 - val_accuracy: 0.3360\n",
            "Epoch 18/125\n",
            "1/1 [==============================] - 0s 61ms/step - loss: 1.4180 - accuracy: 0.3540 - val_loss: 1.4415 - val_accuracy: 0.3060\n",
            "Epoch 19/125\n",
            "1/1 [==============================] - 0s 45ms/step - loss: 1.3786 - accuracy: 0.2960 - val_loss: 1.4062 - val_accuracy: 0.3000\n",
            "Epoch 20/125\n",
            "1/1 [==============================] - 0s 60ms/step - loss: 1.3703 - accuracy: 0.2840 - val_loss: 1.3437 - val_accuracy: 0.3100\n",
            "Epoch 21/125\n",
            "1/1 [==============================] - 0s 61ms/step - loss: 1.3284 - accuracy: 0.3140 - val_loss: 1.2608 - val_accuracy: 0.3360\n",
            "Epoch 22/125\n",
            "1/1 [==============================] - 0s 64ms/step - loss: 1.2580 - accuracy: 0.3260 - val_loss: 1.1886 - val_accuracy: 0.4120\n",
            "Epoch 23/125\n",
            "1/1 [==============================] - 0s 63ms/step - loss: 1.1939 - accuracy: 0.4060 - val_loss: 1.1435 - val_accuracy: 0.3980\n",
            "Epoch 24/125\n",
            "1/1 [==============================] - 0s 65ms/step - loss: 1.1567 - accuracy: 0.3920 - val_loss: 1.1178 - val_accuracy: 0.3980\n",
            "Epoch 25/125\n",
            "1/1 [==============================] - 0s 60ms/step - loss: 1.1393 - accuracy: 0.3880 - val_loss: 1.0910 - val_accuracy: 0.4060\n",
            "Epoch 26/125\n",
            "1/1 [==============================] - 0s 54ms/step - loss: 1.1195 - accuracy: 0.3880 - val_loss: 1.0510 - val_accuracy: 0.4080\n",
            "Epoch 27/125\n",
            "1/1 [==============================] - 0s 54ms/step - loss: 1.0838 - accuracy: 0.4020 - val_loss: 1.0013 - val_accuracy: 0.4180\n",
            "Epoch 28/125\n",
            "1/1 [==============================] - 0s 71ms/step - loss: 1.0359 - accuracy: 0.4080 - val_loss: 0.9575 - val_accuracy: 0.4720\n",
            "Epoch 29/125\n",
            "1/1 [==============================] - 0s 62ms/step - loss: 0.9931 - accuracy: 0.4700 - val_loss: 0.9358 - val_accuracy: 0.5720\n",
            "Epoch 30/125\n",
            "1/1 [==============================] - 0s 75ms/step - loss: 0.9736 - accuracy: 0.5360 - val_loss: 0.9343 - val_accuracy: 0.6320\n",
            "Epoch 31/125\n",
            "1/1 [==============================] - 0s 61ms/step - loss: 0.9752 - accuracy: 0.5760 - val_loss: 0.9310 - val_accuracy: 0.6460\n",
            "Epoch 32/125\n",
            "1/1 [==============================] - 0s 47ms/step - loss: 0.9739 - accuracy: 0.5820 - val_loss: 0.9127 - val_accuracy: 0.6540\n",
            "Epoch 33/125\n",
            "1/1 [==============================] - 0s 69ms/step - loss: 0.9552 - accuracy: 0.5900 - val_loss: 0.8894 - val_accuracy: 0.6680\n",
            "Epoch 34/125\n",
            "1/1 [==============================] - 0s 45ms/step - loss: 0.9309 - accuracy: 0.6040 - val_loss: 0.8763 - val_accuracy: 0.6620\n",
            "Epoch 35/125\n",
            "1/1 [==============================] - 0s 74ms/step - loss: 0.9182 - accuracy: 0.6200 - val_loss: 0.8743 - val_accuracy: 0.6180\n",
            "Epoch 36/125\n",
            "1/1 [==============================] - 0s 54ms/step - loss: 0.9178 - accuracy: 0.6000 - val_loss: 0.8745 - val_accuracy: 0.6120\n",
            "Epoch 37/125\n",
            "1/1 [==============================] - 0s 63ms/step - loss: 0.9194 - accuracy: 0.5840 - val_loss: 0.8698 - val_accuracy: 0.6180\n",
            "Epoch 38/125\n",
            "1/1 [==============================] - 0s 54ms/step - loss: 0.9151 - accuracy: 0.5920 - val_loss: 0.8602 - val_accuracy: 0.6500\n",
            "Epoch 39/125\n",
            "1/1 [==============================] - 0s 68ms/step - loss: 0.9042 - accuracy: 0.6160 - val_loss: 0.8503 - val_accuracy: 0.6660\n",
            "Epoch 40/125\n",
            "1/1 [==============================] - 0s 69ms/step - loss: 0.8924 - accuracy: 0.6360 - val_loss: 0.8454 - val_accuracy: 0.6940\n",
            "Epoch 41/125\n",
            "1/1 [==============================] - 0s 73ms/step - loss: 0.8858 - accuracy: 0.6440 - val_loss: 0.8461 - val_accuracy: 0.6940\n",
            "Epoch 42/125\n",
            "1/1 [==============================] - 0s 75ms/step - loss: 0.8855 - accuracy: 0.6420 - val_loss: 0.8472 - val_accuracy: 0.6940\n",
            "Epoch 43/125\n",
            "1/1 [==============================] - 0s 46ms/step - loss: 0.8860 - accuracy: 0.6300 - val_loss: 0.8436 - val_accuracy: 0.7000\n",
            "Epoch 44/125\n",
            "1/1 [==============================] - 0s 34ms/step - loss: 0.8820 - accuracy: 0.6360 - val_loss: 0.8360 - val_accuracy: 0.7020\n",
            "Epoch 45/125\n",
            "1/1 [==============================] - 0s 36ms/step - loss: 0.8741 - accuracy: 0.6460 - val_loss: 0.8289 - val_accuracy: 0.6960\n",
            "Epoch 46/125\n",
            "1/1 [==============================] - 0s 35ms/step - loss: 0.8672 - accuracy: 0.6460 - val_loss: 0.8250 - val_accuracy: 0.6860\n",
            "Epoch 47/125\n",
            "1/1 [==============================] - 0s 38ms/step - loss: 0.8641 - accuracy: 0.6480 - val_loss: 0.8231 - val_accuracy: 0.6760\n",
            "Epoch 48/125\n",
            "1/1 [==============================] - 0s 37ms/step - loss: 0.8630 - accuracy: 0.6360 - val_loss: 0.8208 - val_accuracy: 0.6760\n",
            "Epoch 49/125\n",
            "1/1 [==============================] - 0s 42ms/step - loss: 0.8609 - accuracy: 0.6340 - val_loss: 0.8170 - val_accuracy: 0.6760\n",
            "Epoch 50/125\n",
            "1/1 [==============================] - 0s 38ms/step - loss: 0.8565 - accuracy: 0.6340 - val_loss: 0.8125 - val_accuracy: 0.6800\n",
            "Epoch 51/125\n",
            "1/1 [==============================] - 0s 39ms/step - loss: 0.8508 - accuracy: 0.6400 - val_loss: 0.8089 - val_accuracy: 0.6900\n",
            "Epoch 52/125\n",
            "1/1 [==============================] - 0s 36ms/step - loss: 0.8459 - accuracy: 0.6480 - val_loss: 0.8071 - val_accuracy: 0.6960\n",
            "Epoch 53/125\n",
            "1/1 [==============================] - 0s 39ms/step - loss: 0.8430 - accuracy: 0.6480 - val_loss: 0.8060 - val_accuracy: 0.7000\n",
            "Epoch 54/125\n",
            "1/1 [==============================] - 0s 34ms/step - loss: 0.8412 - accuracy: 0.6560 - val_loss: 0.8038 - val_accuracy: 0.7020\n",
            "Epoch 55/125\n",
            "1/1 [==============================] - 0s 37ms/step - loss: 0.8386 - accuracy: 0.6580 - val_loss: 0.7997 - val_accuracy: 0.6960\n",
            "Epoch 56/125\n",
            "1/1 [==============================] - 0s 34ms/step - loss: 0.8345 - accuracy: 0.6580 - val_loss: 0.7949 - val_accuracy: 0.6940\n",
            "Epoch 57/125\n",
            "1/1 [==============================] - 0s 34ms/step - loss: 0.8301 - accuracy: 0.6480 - val_loss: 0.7907 - val_accuracy: 0.6860\n",
            "Epoch 58/125\n",
            "1/1 [==============================] - 0s 36ms/step - loss: 0.8265 - accuracy: 0.6500 - val_loss: 0.7876 - val_accuracy: 0.6820\n",
            "Epoch 59/125\n",
            "1/1 [==============================] - 0s 45ms/step - loss: 0.8240 - accuracy: 0.6440 - val_loss: 0.7848 - val_accuracy: 0.6780\n",
            "Epoch 60/125\n",
            "1/1 [==============================] - 0s 41ms/step - loss: 0.8217 - accuracy: 0.6380 - val_loss: 0.7818 - val_accuracy: 0.6780\n",
            "Epoch 61/125\n",
            "1/1 [==============================] - 0s 56ms/step - loss: 0.8187 - accuracy: 0.6420 - val_loss: 0.7787 - val_accuracy: 0.6800\n",
            "Epoch 62/125\n",
            "1/1 [==============================] - 0s 38ms/step - loss: 0.8152 - accuracy: 0.6440 - val_loss: 0.7758 - val_accuracy: 0.6840\n",
            "Epoch 63/125\n",
            "1/1 [==============================] - 0s 35ms/step - loss: 0.8116 - accuracy: 0.6520 - val_loss: 0.7735 - val_accuracy: 0.6880\n",
            "Epoch 64/125\n",
            "1/1 [==============================] - 0s 37ms/step - loss: 0.8087 - accuracy: 0.6540 - val_loss: 0.7715 - val_accuracy: 0.6960\n",
            "Epoch 65/125\n",
            "1/1 [==============================] - 0s 37ms/step - loss: 0.8062 - accuracy: 0.6560 - val_loss: 0.7693 - val_accuracy: 0.6960\n",
            "Epoch 66/125\n",
            "1/1 [==============================] - 0s 36ms/step - loss: 0.8038 - accuracy: 0.6560 - val_loss: 0.7665 - val_accuracy: 0.6980\n",
            "Epoch 67/125\n",
            "1/1 [==============================] - 0s 46ms/step - loss: 0.8011 - accuracy: 0.6580 - val_loss: 0.7631 - val_accuracy: 0.6940\n",
            "Epoch 68/125\n",
            "1/1 [==============================] - 0s 39ms/step - loss: 0.7980 - accuracy: 0.6580 - val_loss: 0.7597 - val_accuracy: 0.6900\n",
            "Epoch 69/125\n",
            "1/1 [==============================] - 0s 37ms/step - loss: 0.7952 - accuracy: 0.6540 - val_loss: 0.7567 - val_accuracy: 0.6880\n",
            "Epoch 70/125\n",
            "1/1 [==============================] - 0s 36ms/step - loss: 0.7927 - accuracy: 0.6520 - val_loss: 0.7540 - val_accuracy: 0.6820\n",
            "Epoch 71/125\n",
            "1/1 [==============================] - 0s 36ms/step - loss: 0.7904 - accuracy: 0.6520 - val_loss: 0.7515 - val_accuracy: 0.6820\n",
            "Epoch 72/125\n",
            "1/1 [==============================] - 0s 57ms/step - loss: 0.7881 - accuracy: 0.6540 - val_loss: 0.7491 - val_accuracy: 0.6820\n",
            "Epoch 73/125\n",
            "1/1 [==============================] - 0s 37ms/step - loss: 0.7856 - accuracy: 0.6540 - val_loss: 0.7468 - val_accuracy: 0.6860\n",
            "Epoch 74/125\n",
            "1/1 [==============================] - 0s 38ms/step - loss: 0.7831 - accuracy: 0.6560 - val_loss: 0.7448 - val_accuracy: 0.6880\n",
            "Epoch 75/125\n",
            "1/1 [==============================] - 0s 39ms/step - loss: 0.7807 - accuracy: 0.6580 - val_loss: 0.7430 - val_accuracy: 0.6900\n",
            "Epoch 76/125\n",
            "1/1 [==============================] - 0s 35ms/step - loss: 0.7785 - accuracy: 0.6580 - val_loss: 0.7411 - val_accuracy: 0.6940\n",
            "Epoch 77/125\n",
            "1/1 [==============================] - 0s 40ms/step - loss: 0.7764 - accuracy: 0.6600 - val_loss: 0.7391 - val_accuracy: 0.6940\n",
            "Epoch 78/125\n",
            "1/1 [==============================] - 0s 37ms/step - loss: 0.7743 - accuracy: 0.6620 - val_loss: 0.7368 - val_accuracy: 0.6940\n",
            "Epoch 79/125\n",
            "1/1 [==============================] - 0s 35ms/step - loss: 0.7721 - accuracy: 0.6600 - val_loss: 0.7344 - val_accuracy: 0.6900\n",
            "Epoch 80/125\n",
            "1/1 [==============================] - 0s 38ms/step - loss: 0.7700 - accuracy: 0.6580 - val_loss: 0.7321 - val_accuracy: 0.6900\n",
            "Epoch 81/125\n",
            "1/1 [==============================] - 0s 39ms/step - loss: 0.7679 - accuracy: 0.6580 - val_loss: 0.7299 - val_accuracy: 0.6880\n",
            "Epoch 82/125\n",
            "1/1 [==============================] - 0s 40ms/step - loss: 0.7660 - accuracy: 0.6560 - val_loss: 0.7279 - val_accuracy: 0.6880\n",
            "Epoch 83/125\n",
            "1/1 [==============================] - 0s 40ms/step - loss: 0.7642 - accuracy: 0.6560 - val_loss: 0.7260 - val_accuracy: 0.6880\n",
            "Epoch 84/125\n",
            "1/1 [==============================] - 0s 36ms/step - loss: 0.7623 - accuracy: 0.6560 - val_loss: 0.7242 - val_accuracy: 0.6880\n",
            "Epoch 85/125\n",
            "1/1 [==============================] - 0s 40ms/step - loss: 0.7604 - accuracy: 0.6560 - val_loss: 0.7226 - val_accuracy: 0.6920\n",
            "Epoch 86/125\n",
            "1/1 [==============================] - 0s 37ms/step - loss: 0.7586 - accuracy: 0.6560 - val_loss: 0.7211 - val_accuracy: 0.6940\n",
            "Epoch 87/125\n",
            "1/1 [==============================] - 0s 53ms/step - loss: 0.7568 - accuracy: 0.6580 - val_loss: 0.7196 - val_accuracy: 0.6980\n",
            "Epoch 88/125\n",
            "1/1 [==============================] - 0s 35ms/step - loss: 0.7551 - accuracy: 0.6600 - val_loss: 0.7181 - val_accuracy: 0.6980\n",
            "Epoch 89/125\n",
            "1/1 [==============================] - 0s 43ms/step - loss: 0.7535 - accuracy: 0.6600 - val_loss: 0.7164 - val_accuracy: 0.6980\n",
            "Epoch 90/125\n",
            "1/1 [==============================] - 0s 44ms/step - loss: 0.7518 - accuracy: 0.6600 - val_loss: 0.7147 - val_accuracy: 0.6980\n",
            "Epoch 91/125\n",
            "1/1 [==============================] - 0s 36ms/step - loss: 0.7502 - accuracy: 0.6600 - val_loss: 0.7130 - val_accuracy: 0.6960\n",
            "Epoch 92/125\n",
            "1/1 [==============================] - 0s 39ms/step - loss: 0.7485 - accuracy: 0.6580 - val_loss: 0.7113 - val_accuracy: 0.6940\n",
            "Epoch 93/125\n",
            "1/1 [==============================] - 0s 37ms/step - loss: 0.7470 - accuracy: 0.6560 - val_loss: 0.7097 - val_accuracy: 0.6920\n",
            "Epoch 94/125\n",
            "1/1 [==============================] - 0s 38ms/step - loss: 0.7454 - accuracy: 0.6580 - val_loss: 0.7082 - val_accuracy: 0.6920\n",
            "Epoch 95/125\n",
            "1/1 [==============================] - 0s 33ms/step - loss: 0.7439 - accuracy: 0.6580 - val_loss: 0.7068 - val_accuracy: 0.6920\n",
            "Epoch 96/125\n",
            "1/1 [==============================] - 0s 39ms/step - loss: 0.7424 - accuracy: 0.6580 - val_loss: 0.7054 - val_accuracy: 0.6920\n",
            "Epoch 97/125\n",
            "1/1 [==============================] - 0s 39ms/step - loss: 0.7409 - accuracy: 0.6580 - val_loss: 0.7042 - val_accuracy: 0.6960\n",
            "Epoch 98/125\n",
            "1/1 [==============================] - 0s 38ms/step - loss: 0.7395 - accuracy: 0.6560 - val_loss: 0.7030 - val_accuracy: 0.6980\n",
            "Epoch 99/125\n",
            "1/1 [==============================] - 0s 34ms/step - loss: 0.7380 - accuracy: 0.6580 - val_loss: 0.7017 - val_accuracy: 0.6980\n",
            "Epoch 100/125\n",
            "1/1 [==============================] - 0s 34ms/step - loss: 0.7366 - accuracy: 0.6600 - val_loss: 0.7005 - val_accuracy: 0.6980\n",
            "Epoch 101/125\n",
            "1/1 [==============================] - 0s 39ms/step - loss: 0.7353 - accuracy: 0.6600 - val_loss: 0.6992 - val_accuracy: 0.6980\n",
            "Epoch 102/125\n",
            "1/1 [==============================] - 0s 42ms/step - loss: 0.7339 - accuracy: 0.6600 - val_loss: 0.6979 - val_accuracy: 0.6980\n",
            "Epoch 103/125\n",
            "1/1 [==============================] - 0s 41ms/step - loss: 0.7325 - accuracy: 0.6600 - val_loss: 0.6966 - val_accuracy: 0.6980\n",
            "Epoch 104/125\n",
            "1/1 [==============================] - 0s 41ms/step - loss: 0.7312 - accuracy: 0.6580 - val_loss: 0.6953 - val_accuracy: 0.6980\n",
            "Epoch 105/125\n",
            "1/1 [==============================] - 0s 39ms/step - loss: 0.7299 - accuracy: 0.6560 - val_loss: 0.6940 - val_accuracy: 0.6980\n",
            "Epoch 106/125\n",
            "1/1 [==============================] - 0s 39ms/step - loss: 0.7286 - accuracy: 0.6580 - val_loss: 0.6928 - val_accuracy: 0.6980\n",
            "Epoch 107/125\n",
            "1/1 [==============================] - 0s 42ms/step - loss: 0.7273 - accuracy: 0.6600 - val_loss: 0.6917 - val_accuracy: 0.6980\n",
            "Epoch 108/125\n",
            "1/1 [==============================] - 0s 37ms/step - loss: 0.7261 - accuracy: 0.6600 - val_loss: 0.6906 - val_accuracy: 0.6980\n",
            "Epoch 109/125\n",
            "1/1 [==============================] - 0s 36ms/step - loss: 0.7248 - accuracy: 0.6580 - val_loss: 0.6895 - val_accuracy: 0.6980\n",
            "Epoch 110/125\n",
            "1/1 [==============================] - 0s 40ms/step - loss: 0.7236 - accuracy: 0.6600 - val_loss: 0.6884 - val_accuracy: 0.6980\n",
            "Epoch 111/125\n",
            "1/1 [==============================] - 0s 38ms/step - loss: 0.7224 - accuracy: 0.6600 - val_loss: 0.6874 - val_accuracy: 0.6980\n",
            "Epoch 112/125\n",
            "1/1 [==============================] - 0s 38ms/step - loss: 0.7212 - accuracy: 0.6600 - val_loss: 0.6863 - val_accuracy: 0.6980\n",
            "Epoch 113/125\n",
            "1/1 [==============================] - 0s 37ms/step - loss: 0.7200 - accuracy: 0.6600 - val_loss: 0.6852 - val_accuracy: 0.6980\n",
            "Epoch 114/125\n",
            "1/1 [==============================] - 0s 46ms/step - loss: 0.7188 - accuracy: 0.6620 - val_loss: 0.6841 - val_accuracy: 0.6980\n",
            "Epoch 115/125\n",
            "1/1 [==============================] - 0s 41ms/step - loss: 0.7176 - accuracy: 0.6600 - val_loss: 0.6831 - val_accuracy: 0.6980\n",
            "Epoch 116/125\n",
            "1/1 [==============================] - 0s 39ms/step - loss: 0.7165 - accuracy: 0.6600 - val_loss: 0.6820 - val_accuracy: 0.6980\n",
            "Epoch 117/125\n",
            "1/1 [==============================] - 0s 40ms/step - loss: 0.7154 - accuracy: 0.6600 - val_loss: 0.6809 - val_accuracy: 0.6980\n",
            "Epoch 118/125\n",
            "1/1 [==============================] - 0s 36ms/step - loss: 0.7143 - accuracy: 0.6600 - val_loss: 0.6799 - val_accuracy: 0.6980\n",
            "Epoch 119/125\n",
            "1/1 [==============================] - 0s 38ms/step - loss: 0.7131 - accuracy: 0.6600 - val_loss: 0.6789 - val_accuracy: 0.7000\n",
            "Epoch 120/125\n",
            "1/1 [==============================] - 0s 39ms/step - loss: 0.7121 - accuracy: 0.6600 - val_loss: 0.6780 - val_accuracy: 0.7000\n",
            "Epoch 121/125\n",
            "1/1 [==============================] - 0s 37ms/step - loss: 0.7110 - accuracy: 0.6620 - val_loss: 0.6771 - val_accuracy: 0.7000\n",
            "Epoch 122/125\n",
            "1/1 [==============================] - 0s 40ms/step - loss: 0.7099 - accuracy: 0.6660 - val_loss: 0.6761 - val_accuracy: 0.7000\n",
            "Epoch 123/125\n",
            "1/1 [==============================] - 0s 36ms/step - loss: 0.7088 - accuracy: 0.6660 - val_loss: 0.6752 - val_accuracy: 0.7000\n",
            "Epoch 124/125\n",
            "1/1 [==============================] - 0s 40ms/step - loss: 0.7078 - accuracy: 0.6640 - val_loss: 0.6743 - val_accuracy: 0.7000\n",
            "Epoch 125/125\n",
            "1/1 [==============================] - 0s 41ms/step - loss: 0.7068 - accuracy: 0.6640 - val_loss: 0.6734 - val_accuracy: 0.7000\n"
          ]
        }
      ],
      "source": [
        "### START CODE HERE ###\n",
        "batch_size =  len(y_train)\n",
        "model= build_model()\n",
        "history = fit_model(X_train, y_train, X_test, y_test, batch_size)\n",
        "###### END CODE HERE"
      ]
    },
    {
      "cell_type": "code",
      "execution_count": null,
      "id": "eca79f36-f9b9-444d-950b-5c3d55dfc307",
      "metadata": {
        "tags": [],
        "id": "eca79f36-f9b9-444d-950b-5c3d55dfc307",
        "colab": {
          "base_uri": "https://localhost:8080/",
          "height": 487
        },
        "outputId": "a9131374-ae82-47d1-8b44-2248adb4b4f1"
      },
      "outputs": [
        {
          "output_type": "display_data",
          "data": {
            "text/plain": [
              "<Figure size 1000x500 with 1 Axes>"
            ],
            "image/png": "[encoded data removed]"
          },
          "metadata": {}
        }
      ],
      "source": [
        "plt.figure(figsize=(10,5))\n",
        "plt.plot(history.history['loss'], label='Training Loss')\n",
        "plt.plot(history.history['val_loss'], label='Validation Loss')\n",
        "plt.title('Loss vs. epochs, batch=' +str(batch_size))\n",
        "plt.ylabel('Loss')\n",
        "plt.xlabel('Epoch')\n",
        "plt.legend(['Training', 'Validation'], loc='upper right')\n",
        "plt.show()"
      ]
    },
    {
      "cell_type": "markdown",
      "id": "d58d23e3-89c6-4596-80d3-33b98d895eb1",
      "metadata": {
        "id": "d58d23e3-89c6-4596-80d3-33b98d895eb1"
      },
      "source": [
        "10. **What effect does changing batch size have on learning in terms of convergence and fluctuations?**\n",
        "\n",
        "**Answer:**\n",
        "Very small batch sizes lead to noisy updates, slower convergence, and more fluctuations. Very large batch sizes result in smoother training but take more epochs to converge. The ideal batch size is a trade-off that balances reasonable convergence speed without introducing excessive noise.\n",
        "\n"
      ]
    },
    {
      "cell_type": "markdown",
      "id": "ac0b0cdb-78c2-4239-bbb9-4bea511b52b1",
      "metadata": {
        "jp-MarkdownHeadingCollapsed": true,
        "tags": [],
        "id": "ac0b0cdb-78c2-4239-bbb9-4bea511b52b1"
      },
      "source": [
        "#### Learning Rate"
      ]
    },
    {
      "cell_type": "markdown",
      "id": "c7be280d-068a-4695-b716-c1ef97d4d6f4",
      "metadata": {
        "id": "c7be280d-068a-4695-b716-c1ef97d4d6f4"
      },
      "source": [
        "batch size 64"
      ]
    },
    {
      "cell_type": "markdown",
      "id": "2970cd51-b911-455a-b6c3-17f477415759",
      "metadata": {
        "id": "2970cd51-b911-455a-b6c3-17f477415759"
      },
      "source": [
        "- **Use same code for build_model above, add an argument learning rate to change learning rate of optmizer**"
      ]
    },
    {
      "cell_type": "code",
      "execution_count": null,
      "id": "939ebb69-e520-4d68-9fa7-ce00f0257629",
      "metadata": {
        "id": "939ebb69-e520-4d68-9fa7-ce00f0257629"
      },
      "outputs": [],
      "source": [
        "def build_model(lr):\n",
        "\n",
        "    ##### YOUR CODE HERE\n",
        "    model = Sequential()\n",
        "    model.add(Dense(50, activation='relu', kernel_initializer='he_uniform', input_dim=2))\n",
        "    model.add(Dense(3, activation='softmax'))\n",
        "    sgd = SGD(learning_rate=lr, momentum=0.9)\n",
        "    model.compile(loss='categorical_crossentropy', optimizer=sgd, metrics=['accuracy'])\n",
        "\n",
        "    return model"
      ]
    },
    {
      "cell_type": "markdown",
      "id": "72f1ebf6-5bcb-4e2b-bee7-3eb282fd88b1",
      "metadata": {
        "id": "72f1ebf6-5bcb-4e2b-bee7-3eb282fd88b1"
      },
      "source": [
        "##### LR =  0.00001"
      ]
    },
    {
      "cell_type": "markdown",
      "id": "739eab80-d78f-4ca3-9992-42096088cf7a",
      "metadata": {
        "id": "739eab80-d78f-4ca3-9992-42096088cf7a"
      },
      "source": [
        "10. **Retrain for 0.00001 LR**"
      ]
    },
    {
      "cell_type": "code",
      "execution_count": null,
      "id": "fb2ad280-97f1-4c16-9aad-d99c96780472",
      "metadata": {
        "tags": [],
        "id": "fb2ad280-97f1-4c16-9aad-d99c96780472",
        "colab": {
          "base_uri": "https://localhost:8080/"
        },
        "outputId": "4bb44d43-d174-4735-f911-84813cf67db3"
      },
      "outputs": [
        {
          "output_type": "stream",
          "name": "stdout",
          "text": [
            "Epoch 1/125\n",
            "8/8 [==============================] - 2s 80ms/step - loss: 3.6276 - accuracy: 0.2680 - val_loss: 3.1902 - val_accuracy: 0.3060\n",
            "Epoch 2/125\n",
            "8/8 [==============================] - 0s 28ms/step - loss: 3.3288 - accuracy: 0.2680 - val_loss: 2.8401 - val_accuracy: 0.3060\n",
            "Epoch 3/125\n",
            "8/8 [==============================] - 0s 31ms/step - loss: 2.9316 - accuracy: 0.2680 - val_loss: 2.4824 - val_accuracy: 0.3020\n",
            "Epoch 4/125\n",
            "8/8 [==============================] - 0s 23ms/step - loss: 2.5912 - accuracy: 0.2760 - val_loss: 2.2102 - val_accuracy: 0.3220\n",
            "Epoch 5/125\n",
            "8/8 [==============================] - 0s 26ms/step - loss: 2.3564 - accuracy: 0.4120 - val_loss: 2.0618 - val_accuracy: 0.5460\n",
            "Epoch 6/125\n",
            "8/8 [==============================] - 0s 22ms/step - loss: 2.2364 - accuracy: 0.5040 - val_loss: 1.9809 - val_accuracy: 0.5260\n",
            "Epoch 7/125\n",
            "8/8 [==============================] - 0s 22ms/step - loss: 2.1626 - accuracy: 0.4920 - val_loss: 1.9248 - val_accuracy: 0.5100\n",
            "Epoch 8/125\n",
            "8/8 [==============================] - 0s 30ms/step - loss: 2.1055 - accuracy: 0.4780 - val_loss: 1.8754 - val_accuracy: 0.5060\n",
            "Epoch 9/125\n",
            "8/8 [==============================] - 0s 23ms/step - loss: 2.0510 - accuracy: 0.4700 - val_loss: 1.8282 - val_accuracy: 0.5060\n",
            "Epoch 10/125\n",
            "8/8 [==============================] - 0s 26ms/step - loss: 1.9975 - accuracy: 0.4600 - val_loss: 1.7816 - val_accuracy: 0.5020\n",
            "Epoch 11/125\n",
            "8/8 [==============================] - 0s 26ms/step - loss: 1.9472 - accuracy: 0.4560 - val_loss: 1.7334 - val_accuracy: 0.5020\n",
            "Epoch 12/125\n",
            "8/8 [==============================] - 0s 23ms/step - loss: 1.8942 - accuracy: 0.4580 - val_loss: 1.6858 - val_accuracy: 0.5040\n",
            "Epoch 13/125\n",
            "8/8 [==============================] - 0s 20ms/step - loss: 1.8401 - accuracy: 0.4580 - val_loss: 1.6399 - val_accuracy: 0.5040\n",
            "Epoch 14/125\n",
            "8/8 [==============================] - 0s 27ms/step - loss: 1.7897 - accuracy: 0.4600 - val_loss: 1.5931 - val_accuracy: 0.5040\n",
            "Epoch 15/125\n",
            "8/8 [==============================] - 0s 17ms/step - loss: 1.7382 - accuracy: 0.4600 - val_loss: 1.5469 - val_accuracy: 0.5040\n",
            "Epoch 16/125\n",
            "8/8 [==============================] - 0s 25ms/step - loss: 1.6858 - accuracy: 0.4620 - val_loss: 1.5020 - val_accuracy: 0.5040\n",
            "Epoch 17/125\n",
            "8/8 [==============================] - 0s 21ms/step - loss: 1.6367 - accuracy: 0.4640 - val_loss: 1.4566 - val_accuracy: 0.5060\n",
            "Epoch 18/125\n",
            "8/8 [==============================] - 0s 16ms/step - loss: 1.5860 - accuracy: 0.4620 - val_loss: 1.4125 - val_accuracy: 0.5040\n",
            "Epoch 19/125\n",
            "8/8 [==============================] - 0s 23ms/step - loss: 1.5373 - accuracy: 0.4600 - val_loss: 1.3689 - val_accuracy: 0.5040\n",
            "Epoch 20/125\n",
            "8/8 [==============================] - 0s 28ms/step - loss: 1.4874 - accuracy: 0.4620 - val_loss: 1.3271 - val_accuracy: 0.5020\n",
            "Epoch 21/125\n",
            "8/8 [==============================] - 0s 19ms/step - loss: 1.4402 - accuracy: 0.4580 - val_loss: 1.2856 - val_accuracy: 0.5020\n",
            "Epoch 22/125\n",
            "8/8 [==============================] - 0s 20ms/step - loss: 1.3941 - accuracy: 0.4580 - val_loss: 1.2445 - val_accuracy: 0.5020\n",
            "Epoch 23/125\n",
            "8/8 [==============================] - 0s 22ms/step - loss: 1.3498 - accuracy: 0.4640 - val_loss: 1.2036 - val_accuracy: 0.5040\n",
            "Epoch 24/125\n",
            "8/8 [==============================] - 0s 22ms/step - loss: 1.3053 - accuracy: 0.4660 - val_loss: 1.1640 - val_accuracy: 0.5040\n",
            "Epoch 25/125\n",
            "8/8 [==============================] - 0s 19ms/step - loss: 1.2602 - accuracy: 0.4600 - val_loss: 1.1273 - val_accuracy: 0.5020\n",
            "Epoch 26/125\n",
            "8/8 [==============================] - 0s 21ms/step - loss: 1.2181 - accuracy: 0.4580 - val_loss: 1.0925 - val_accuracy: 0.5020\n",
            "Epoch 27/125\n",
            "8/8 [==============================] - 0s 17ms/step - loss: 1.1797 - accuracy: 0.4560 - val_loss: 1.0583 - val_accuracy: 0.5000\n",
            "Epoch 28/125\n",
            "8/8 [==============================] - 0s 20ms/step - loss: 1.1402 - accuracy: 0.4560 - val_loss: 1.0271 - val_accuracy: 0.5000\n",
            "Epoch 29/125\n",
            "8/8 [==============================] - 0s 15ms/step - loss: 1.1049 - accuracy: 0.4560 - val_loss: 0.9978 - val_accuracy: 0.5000\n",
            "Epoch 30/125\n",
            "8/8 [==============================] - 0s 12ms/step - loss: 1.0723 - accuracy: 0.4580 - val_loss: 0.9704 - val_accuracy: 0.4980\n",
            "Epoch 31/125\n",
            "8/8 [==============================] - 0s 17ms/step - loss: 1.0427 - accuracy: 0.4580 - val_loss: 0.9451 - val_accuracy: 0.4980\n",
            "Epoch 32/125\n",
            "8/8 [==============================] - 0s 17ms/step - loss: 1.0146 - accuracy: 0.4580 - val_loss: 0.9229 - val_accuracy: 0.4980\n",
            "Epoch 33/125\n",
            "8/8 [==============================] - 0s 18ms/step - loss: 0.9892 - accuracy: 0.4560 - val_loss: 0.9042 - val_accuracy: 0.4980\n",
            "Epoch 34/125\n",
            "8/8 [==============================] - 0s 22ms/step - loss: 0.9689 - accuracy: 0.4560 - val_loss: 0.8878 - val_accuracy: 0.4940\n",
            "Epoch 35/125\n",
            "8/8 [==============================] - 0s 19ms/step - loss: 0.9507 - accuracy: 0.4580 - val_loss: 0.8743 - val_accuracy: 0.4980\n",
            "Epoch 36/125\n",
            "8/8 [==============================] - 0s 16ms/step - loss: 0.9353 - accuracy: 0.4740 - val_loss: 0.8635 - val_accuracy: 0.5420\n",
            "Epoch 37/125\n",
            "8/8 [==============================] - 0s 17ms/step - loss: 0.9234 - accuracy: 0.5020 - val_loss: 0.8547 - val_accuracy: 0.5480\n",
            "Epoch 38/125\n",
            "8/8 [==============================] - 0s 21ms/step - loss: 0.9139 - accuracy: 0.5040 - val_loss: 0.8478 - val_accuracy: 0.5560\n",
            "Epoch 39/125\n",
            "8/8 [==============================] - 0s 23ms/step - loss: 0.9060 - accuracy: 0.5080 - val_loss: 0.8425 - val_accuracy: 0.5560\n",
            "Epoch 40/125\n",
            "8/8 [==============================] - 0s 20ms/step - loss: 0.9001 - accuracy: 0.5140 - val_loss: 0.8382 - val_accuracy: 0.5580\n",
            "Epoch 41/125\n",
            "8/8 [==============================] - 0s 15ms/step - loss: 0.8955 - accuracy: 0.5160 - val_loss: 0.8349 - val_accuracy: 0.5660\n",
            "Epoch 42/125\n",
            "8/8 [==============================] - 0s 21ms/step - loss: 0.8916 - accuracy: 0.5180 - val_loss: 0.8322 - val_accuracy: 0.5660\n",
            "Epoch 43/125\n",
            "8/8 [==============================] - 0s 19ms/step - loss: 0.8884 - accuracy: 0.5200 - val_loss: 0.8299 - val_accuracy: 0.5680\n",
            "Epoch 44/125\n",
            "8/8 [==============================] - 0s 15ms/step - loss: 0.8859 - accuracy: 0.5200 - val_loss: 0.8279 - val_accuracy: 0.5680\n",
            "Epoch 45/125\n",
            "8/8 [==============================] - 0s 13ms/step - loss: 0.8835 - accuracy: 0.5220 - val_loss: 0.8262 - val_accuracy: 0.5700\n",
            "Epoch 46/125\n",
            "8/8 [==============================] - 0s 15ms/step - loss: 0.8816 - accuracy: 0.5220 - val_loss: 0.8245 - val_accuracy: 0.5700\n",
            "Epoch 47/125\n",
            "8/8 [==============================] - 0s 20ms/step - loss: 0.8798 - accuracy: 0.5240 - val_loss: 0.8230 - val_accuracy: 0.5700\n",
            "Epoch 48/125\n",
            "8/8 [==============================] - 0s 20ms/step - loss: 0.8784 - accuracy: 0.5240 - val_loss: 0.8216 - val_accuracy: 0.5720\n",
            "Epoch 49/125\n",
            "8/8 [==============================] - 0s 14ms/step - loss: 0.8766 - accuracy: 0.5260 - val_loss: 0.8203 - val_accuracy: 0.5740\n",
            "Epoch 50/125\n",
            "8/8 [==============================] - 0s 15ms/step - loss: 0.8752 - accuracy: 0.5260 - val_loss: 0.8189 - val_accuracy: 0.5760\n",
            "Epoch 51/125\n",
            "8/8 [==============================] - 0s 11ms/step - loss: 0.8738 - accuracy: 0.5260 - val_loss: 0.8177 - val_accuracy: 0.5760\n",
            "Epoch 52/125\n",
            "8/8 [==============================] - 0s 14ms/step - loss: 0.8724 - accuracy: 0.5260 - val_loss: 0.8164 - val_accuracy: 0.5760\n",
            "Epoch 53/125\n",
            "8/8 [==============================] - 0s 16ms/step - loss: 0.8713 - accuracy: 0.5280 - val_loss: 0.8152 - val_accuracy: 0.5760\n",
            "Epoch 54/125\n",
            "8/8 [==============================] - 0s 13ms/step - loss: 0.8699 - accuracy: 0.5280 - val_loss: 0.8140 - val_accuracy: 0.5760\n",
            "Epoch 55/125\n",
            "8/8 [==============================] - 0s 11ms/step - loss: 0.8688 - accuracy: 0.5280 - val_loss: 0.8129 - val_accuracy: 0.5760\n",
            "Epoch 56/125\n",
            "8/8 [==============================] - 0s 11ms/step - loss: 0.8676 - accuracy: 0.5280 - val_loss: 0.8118 - val_accuracy: 0.5780\n",
            "Epoch 57/125\n",
            "8/8 [==============================] - 0s 22ms/step - loss: 0.8665 - accuracy: 0.5260 - val_loss: 0.8107 - val_accuracy: 0.5800\n",
            "Epoch 58/125\n",
            "8/8 [==============================] - 0s 24ms/step - loss: 0.8653 - accuracy: 0.5260 - val_loss: 0.8096 - val_accuracy: 0.5800\n",
            "Epoch 59/125\n",
            "8/8 [==============================] - 0s 25ms/step - loss: 0.8642 - accuracy: 0.5260 - val_loss: 0.8086 - val_accuracy: 0.5800\n",
            "Epoch 60/125\n",
            "8/8 [==============================] - 0s 24ms/step - loss: 0.8631 - accuracy: 0.5260 - val_loss: 0.8075 - val_accuracy: 0.5800\n",
            "Epoch 61/125\n",
            "8/8 [==============================] - 0s 25ms/step - loss: 0.8621 - accuracy: 0.5280 - val_loss: 0.8065 - val_accuracy: 0.5800\n",
            "Epoch 62/125\n",
            "8/8 [==============================] - 0s 28ms/step - loss: 0.8610 - accuracy: 0.5300 - val_loss: 0.8054 - val_accuracy: 0.5820\n",
            "Epoch 63/125\n",
            "8/8 [==============================] - 0s 20ms/step - loss: 0.8600 - accuracy: 0.5280 - val_loss: 0.8045 - val_accuracy: 0.5800\n",
            "Epoch 64/125\n",
            "8/8 [==============================] - 0s 18ms/step - loss: 0.8590 - accuracy: 0.5280 - val_loss: 0.8034 - val_accuracy: 0.5800\n",
            "Epoch 65/125\n",
            "8/8 [==============================] - 0s 26ms/step - loss: 0.8580 - accuracy: 0.5280 - val_loss: 0.8024 - val_accuracy: 0.5800\n",
            "Epoch 66/125\n",
            "8/8 [==============================] - 0s 27ms/step - loss: 0.8571 - accuracy: 0.5300 - val_loss: 0.8015 - val_accuracy: 0.5820\n",
            "Epoch 67/125\n",
            "8/8 [==============================] - 0s 22ms/step - loss: 0.8560 - accuracy: 0.5320 - val_loss: 0.8006 - val_accuracy: 0.5820\n",
            "Epoch 68/125\n",
            "8/8 [==============================] - 0s 23ms/step - loss: 0.8551 - accuracy: 0.5360 - val_loss: 0.7997 - val_accuracy: 0.5840\n",
            "Epoch 69/125\n",
            "8/8 [==============================] - 0s 28ms/step - loss: 0.8541 - accuracy: 0.5360 - val_loss: 0.7987 - val_accuracy: 0.5840\n",
            "Epoch 70/125\n",
            "8/8 [==============================] - 0s 28ms/step - loss: 0.8533 - accuracy: 0.5360 - val_loss: 0.7977 - val_accuracy: 0.5840\n",
            "Epoch 71/125\n",
            "8/8 [==============================] - 0s 26ms/step - loss: 0.8523 - accuracy: 0.5360 - val_loss: 0.7969 - val_accuracy: 0.5840\n",
            "Epoch 72/125\n",
            "8/8 [==============================] - 0s 27ms/step - loss: 0.8513 - accuracy: 0.5380 - val_loss: 0.7960 - val_accuracy: 0.5840\n",
            "Epoch 73/125\n",
            "8/8 [==============================] - 0s 28ms/step - loss: 0.8504 - accuracy: 0.5400 - val_loss: 0.7951 - val_accuracy: 0.5840\n",
            "Epoch 74/125\n",
            "8/8 [==============================] - 0s 20ms/step - loss: 0.8494 - accuracy: 0.5400 - val_loss: 0.7942 - val_accuracy: 0.5860\n",
            "Epoch 75/125\n",
            "8/8 [==============================] - 0s 31ms/step - loss: 0.8486 - accuracy: 0.5400 - val_loss: 0.7934 - val_accuracy: 0.5860\n",
            "Epoch 76/125\n",
            "8/8 [==============================] - 0s 25ms/step - loss: 0.8477 - accuracy: 0.5400 - val_loss: 0.7925 - val_accuracy: 0.5860\n",
            "Epoch 77/125\n",
            "8/8 [==============================] - 0s 26ms/step - loss: 0.8469 - accuracy: 0.5400 - val_loss: 0.7916 - val_accuracy: 0.5860\n",
            "Epoch 78/125\n",
            "8/8 [==============================] - 0s 13ms/step - loss: 0.8459 - accuracy: 0.5400 - val_loss: 0.7908 - val_accuracy: 0.5860\n",
            "Epoch 79/125\n",
            "8/8 [==============================] - 0s 22ms/step - loss: 0.8451 - accuracy: 0.5400 - val_loss: 0.7900 - val_accuracy: 0.5880\n",
            "Epoch 80/125\n",
            "8/8 [==============================] - 0s 18ms/step - loss: 0.8443 - accuracy: 0.5400 - val_loss: 0.7891 - val_accuracy: 0.5900\n",
            "Epoch 81/125\n",
            "8/8 [==============================] - 0s 21ms/step - loss: 0.8434 - accuracy: 0.5400 - val_loss: 0.7884 - val_accuracy: 0.5900\n",
            "Epoch 82/125\n",
            "8/8 [==============================] - 0s 19ms/step - loss: 0.8426 - accuracy: 0.5400 - val_loss: 0.7876 - val_accuracy: 0.5960\n",
            "Epoch 83/125\n",
            "8/8 [==============================] - 0s 18ms/step - loss: 0.8418 - accuracy: 0.5480 - val_loss: 0.7868 - val_accuracy: 0.5940\n",
            "Epoch 84/125\n",
            "8/8 [==============================] - 0s 20ms/step - loss: 0.8409 - accuracy: 0.5520 - val_loss: 0.7860 - val_accuracy: 0.5960\n",
            "Epoch 85/125\n",
            "8/8 [==============================] - 0s 12ms/step - loss: 0.8400 - accuracy: 0.5520 - val_loss: 0.7852 - val_accuracy: 0.5960\n",
            "Epoch 86/125\n",
            "8/8 [==============================] - 0s 13ms/step - loss: 0.8393 - accuracy: 0.5520 - val_loss: 0.7844 - val_accuracy: 0.5980\n",
            "Epoch 87/125\n",
            "8/8 [==============================] - 0s 14ms/step - loss: 0.8385 - accuracy: 0.5520 - val_loss: 0.7837 - val_accuracy: 0.5960\n",
            "Epoch 88/125\n",
            "8/8 [==============================] - 0s 18ms/step - loss: 0.8377 - accuracy: 0.5520 - val_loss: 0.7829 - val_accuracy: 0.5960\n",
            "Epoch 89/125\n",
            "8/8 [==============================] - 0s 14ms/step - loss: 0.8369 - accuracy: 0.5540 - val_loss: 0.7822 - val_accuracy: 0.5980\n",
            "Epoch 90/125\n",
            "8/8 [==============================] - 0s 15ms/step - loss: 0.8362 - accuracy: 0.5540 - val_loss: 0.7814 - val_accuracy: 0.6020\n",
            "Epoch 91/125\n",
            "8/8 [==============================] - 0s 21ms/step - loss: 0.8354 - accuracy: 0.5540 - val_loss: 0.7807 - val_accuracy: 0.6020\n",
            "Epoch 92/125\n",
            "8/8 [==============================] - 0s 16ms/step - loss: 0.8347 - accuracy: 0.5540 - val_loss: 0.7800 - val_accuracy: 0.6020\n",
            "Epoch 93/125\n",
            "8/8 [==============================] - 0s 18ms/step - loss: 0.8339 - accuracy: 0.5540 - val_loss: 0.7793 - val_accuracy: 0.6020\n",
            "Epoch 94/125\n",
            "8/8 [==============================] - 0s 19ms/step - loss: 0.8331 - accuracy: 0.5540 - val_loss: 0.7786 - val_accuracy: 0.6020\n",
            "Epoch 95/125\n",
            "8/8 [==============================] - 0s 15ms/step - loss: 0.8324 - accuracy: 0.5540 - val_loss: 0.7778 - val_accuracy: 0.6020\n",
            "Epoch 96/125\n",
            "8/8 [==============================] - 0s 13ms/step - loss: 0.8317 - accuracy: 0.5540 - val_loss: 0.7772 - val_accuracy: 0.6040\n",
            "Epoch 97/125\n",
            "8/8 [==============================] - 0s 15ms/step - loss: 0.8309 - accuracy: 0.5540 - val_loss: 0.7764 - val_accuracy: 0.6060\n",
            "Epoch 98/125\n",
            "8/8 [==============================] - 0s 15ms/step - loss: 0.8301 - accuracy: 0.5580 - val_loss: 0.7758 - val_accuracy: 0.6060\n",
            "Epoch 99/125\n",
            "8/8 [==============================] - 0s 14ms/step - loss: 0.8294 - accuracy: 0.5580 - val_loss: 0.7752 - val_accuracy: 0.6080\n",
            "Epoch 100/125\n",
            "8/8 [==============================] - 0s 13ms/step - loss: 0.8287 - accuracy: 0.5580 - val_loss: 0.7745 - val_accuracy: 0.6080\n",
            "Epoch 101/125\n",
            "8/8 [==============================] - 0s 14ms/step - loss: 0.8280 - accuracy: 0.5600 - val_loss: 0.7738 - val_accuracy: 0.6100\n",
            "Epoch 102/125\n",
            "8/8 [==============================] - 0s 15ms/step - loss: 0.8273 - accuracy: 0.5620 - val_loss: 0.7732 - val_accuracy: 0.6120\n",
            "Epoch 103/125\n",
            "8/8 [==============================] - 0s 15ms/step - loss: 0.8267 - accuracy: 0.5600 - val_loss: 0.7725 - val_accuracy: 0.6120\n",
            "Epoch 104/125\n",
            "8/8 [==============================] - 0s 23ms/step - loss: 0.8259 - accuracy: 0.5600 - val_loss: 0.7718 - val_accuracy: 0.6140\n",
            "Epoch 105/125\n",
            "8/8 [==============================] - 0s 15ms/step - loss: 0.8253 - accuracy: 0.5620 - val_loss: 0.7713 - val_accuracy: 0.6160\n",
            "Epoch 106/125\n",
            "8/8 [==============================] - 0s 13ms/step - loss: 0.8245 - accuracy: 0.5660 - val_loss: 0.7706 - val_accuracy: 0.6160\n",
            "Epoch 107/125\n",
            "8/8 [==============================] - 0s 21ms/step - loss: 0.8238 - accuracy: 0.5660 - val_loss: 0.7700 - val_accuracy: 0.6160\n",
            "Epoch 108/125\n",
            "8/8 [==============================] - 0s 14ms/step - loss: 0.8232 - accuracy: 0.5660 - val_loss: 0.7694 - val_accuracy: 0.6160\n",
            "Epoch 109/125\n",
            "8/8 [==============================] - 0s 20ms/step - loss: 0.8225 - accuracy: 0.5660 - val_loss: 0.7688 - val_accuracy: 0.6160\n",
            "Epoch 110/125\n",
            "8/8 [==============================] - 0s 19ms/step - loss: 0.8219 - accuracy: 0.5660 - val_loss: 0.7682 - val_accuracy: 0.6180\n",
            "Epoch 111/125\n",
            "8/8 [==============================] - 0s 18ms/step - loss: 0.8213 - accuracy: 0.5660 - val_loss: 0.7676 - val_accuracy: 0.6200\n",
            "Epoch 112/125\n",
            "8/8 [==============================] - 0s 15ms/step - loss: 0.8205 - accuracy: 0.5660 - val_loss: 0.7670 - val_accuracy: 0.6200\n",
            "Epoch 113/125\n",
            "8/8 [==============================] - 0s 20ms/step - loss: 0.8199 - accuracy: 0.5700 - val_loss: 0.7664 - val_accuracy: 0.6200\n",
            "Epoch 114/125\n",
            "8/8 [==============================] - 0s 21ms/step - loss: 0.8193 - accuracy: 0.5700 - val_loss: 0.7657 - val_accuracy: 0.6180\n",
            "Epoch 115/125\n",
            "8/8 [==============================] - 0s 19ms/step - loss: 0.8186 - accuracy: 0.5700 - val_loss: 0.7652 - val_accuracy: 0.6200\n",
            "Epoch 116/125\n",
            "8/8 [==============================] - 0s 22ms/step - loss: 0.8179 - accuracy: 0.5720 - val_loss: 0.7646 - val_accuracy: 0.6200\n",
            "Epoch 117/125\n",
            "8/8 [==============================] - 0s 28ms/step - loss: 0.8174 - accuracy: 0.5760 - val_loss: 0.7641 - val_accuracy: 0.6200\n",
            "Epoch 118/125\n",
            "8/8 [==============================] - 0s 33ms/step - loss: 0.8166 - accuracy: 0.5760 - val_loss: 0.7635 - val_accuracy: 0.6200\n",
            "Epoch 119/125\n",
            "8/8 [==============================] - 0s 29ms/step - loss: 0.8161 - accuracy: 0.5780 - val_loss: 0.7629 - val_accuracy: 0.6220\n",
            "Epoch 120/125\n",
            "8/8 [==============================] - 0s 38ms/step - loss: 0.8155 - accuracy: 0.5780 - val_loss: 0.7624 - val_accuracy: 0.6200\n",
            "Epoch 121/125\n",
            "8/8 [==============================] - 0s 36ms/step - loss: 0.8149 - accuracy: 0.5800 - val_loss: 0.7618 - val_accuracy: 0.6180\n",
            "Epoch 122/125\n",
            "8/8 [==============================] - 0s 28ms/step - loss: 0.8142 - accuracy: 0.5800 - val_loss: 0.7613 - val_accuracy: 0.6180\n",
            "Epoch 123/125\n",
            "8/8 [==============================] - 0s 22ms/step - loss: 0.8136 - accuracy: 0.5800 - val_loss: 0.7607 - val_accuracy: 0.6180\n",
            "Epoch 124/125\n",
            "8/8 [==============================] - 0s 23ms/step - loss: 0.8130 - accuracy: 0.5800 - val_loss: 0.7601 - val_accuracy: 0.6200\n",
            "Epoch 125/125\n",
            "8/8 [==============================] - 0s 38ms/step - loss: 0.8124 - accuracy: 0.5780 - val_loss: 0.7596 - val_accuracy: 0.6180\n"
          ]
        }
      ],
      "source": [
        "### START CODE HERE ### ()\n",
        "lr= 0.00001\n",
        "model = build_model(lr)\n",
        "batch_size = 64\n",
        "history = fit_model(X_train, y_train, X_test, y_test, batch_size)"
      ]
    },
    {
      "cell_type": "code",
      "execution_count": null,
      "id": "6f5e459c-4f1e-4bf3-88d7-3a7af2f789eb",
      "metadata": {
        "id": "6f5e459c-4f1e-4bf3-88d7-3a7af2f789eb",
        "colab": {
          "base_uri": "https://localhost:8080/",
          "height": 487
        },
        "outputId": "2f9186f9-ee48-499d-889e-366076a456e5"
      },
      "outputs": [
        {
          "output_type": "display_data",
          "data": {
            "text/plain": [
              "<Figure size 1000x500 with 1 Axes>"
            ],
            "image/png": "[encoded data removed]"
          },
          "metadata": {}
        }
      ],
      "source": [
        "plt.figure(figsize=(10,5))\n",
        "plt.plot(history.history['loss'], label='Training Loss')\n",
        "plt.plot(history.history['val_loss'], label='Validation Loss')\n",
        "plt.title('Loss vs. epochs, lr=' +str(lr))\n",
        "plt.ylabel('Loss')\n",
        "plt.xlabel('Epoch')\n",
        "plt.legend(['Training', 'Validation'], loc='upper right')\n",
        "plt.show()"
      ]
    },
    {
      "cell_type": "markdown",
      "id": "467481cd-d773-479b-837b-94b0cd4c056a",
      "metadata": {
        "id": "467481cd-d773-479b-837b-94b0cd4c056a"
      },
      "source": [
        "##### LR =  0.001"
      ]
    },
    {
      "cell_type": "markdown",
      "id": "bd885be3-5ac4-4bad-80eb-7a9e1850a3e5",
      "metadata": {
        "id": "bd885be3-5ac4-4bad-80eb-7a9e1850a3e5"
      },
      "source": [
        "10. **Retrain for 0.001 LR**"
      ]
    },
    {
      "cell_type": "code",
      "execution_count": null,
      "id": "afa0d071-55ed-42e5-bd40-ef410c33128f",
      "metadata": {
        "tags": [],
        "id": "afa0d071-55ed-42e5-bd40-ef410c33128f",
        "colab": {
          "base_uri": "https://localhost:8080/"
        },
        "outputId": "ca9c3ea3-0129-49d2-c466-f35c740bcaa4"
      },
      "outputs": [
        {
          "output_type": "stream",
          "name": "stdout",
          "text": [
            "Epoch 1/125\n",
            "8/8 [==============================] - 4s 127ms/step - loss: 6.0265 - accuracy: 0.2300 - val_loss: 3.6991 - val_accuracy: 0.3520\n",
            "Epoch 2/125\n",
            "8/8 [==============================] - 0s 35ms/step - loss: 4.3322 - accuracy: 0.3600 - val_loss: 2.5547 - val_accuracy: 0.3580\n",
            "Epoch 3/125\n",
            "8/8 [==============================] - 0s 29ms/step - loss: 2.3210 - accuracy: 0.3520 - val_loss: 1.9156 - val_accuracy: 0.3820\n",
            "Epoch 4/125\n",
            "8/8 [==============================] - 0s 33ms/step - loss: 1.5319 - accuracy: 0.4480 - val_loss: 1.1548 - val_accuracy: 0.5360\n",
            "Epoch 5/125\n",
            "8/8 [==============================] - 0s 35ms/step - loss: 1.1962 - accuracy: 0.5420 - val_loss: 0.8527 - val_accuracy: 0.7020\n",
            "Epoch 6/125\n",
            "8/8 [==============================] - 0s 30ms/step - loss: 1.0112 - accuracy: 0.5900 - val_loss: 0.9501 - val_accuracy: 0.5980\n",
            "Epoch 7/125\n",
            "8/8 [==============================] - 0s 24ms/step - loss: 0.9331 - accuracy: 0.6040 - val_loss: 0.8048 - val_accuracy: 0.6940\n",
            "Epoch 8/125\n",
            "8/8 [==============================] - 0s 65ms/step - loss: 0.8754 - accuracy: 0.6300 - val_loss: 0.7607 - val_accuracy: 0.6980\n",
            "Epoch 9/125\n",
            "8/8 [==============================] - 1s 69ms/step - loss: 0.8034 - accuracy: 0.6600 - val_loss: 0.7573 - val_accuracy: 0.7340\n",
            "Epoch 10/125\n",
            "8/8 [==============================] - 0s 40ms/step - loss: 0.7912 - accuracy: 0.6260 - val_loss: 0.7668 - val_accuracy: 0.7020\n",
            "Epoch 11/125\n",
            "8/8 [==============================] - 0s 26ms/step - loss: 0.7728 - accuracy: 0.6420 - val_loss: 0.7029 - val_accuracy: 0.7060\n",
            "Epoch 12/125\n",
            "8/8 [==============================] - 0s 22ms/step - loss: 0.7443 - accuracy: 0.6720 - val_loss: 0.7075 - val_accuracy: 0.6520\n",
            "Epoch 13/125\n",
            "8/8 [==============================] - 0s 35ms/step - loss: 0.7486 - accuracy: 0.6320 - val_loss: 0.6813 - val_accuracy: 0.7220\n",
            "Epoch 14/125\n",
            "8/8 [==============================] - 0s 38ms/step - loss: 0.7266 - accuracy: 0.6740 - val_loss: 0.6736 - val_accuracy: 0.7260\n",
            "Epoch 15/125\n",
            "8/8 [==============================] - 0s 27ms/step - loss: 0.7169 - accuracy: 0.6620 - val_loss: 0.6642 - val_accuracy: 0.7160\n",
            "Epoch 16/125\n",
            "8/8 [==============================] - 0s 48ms/step - loss: 0.7123 - accuracy: 0.6780 - val_loss: 0.6577 - val_accuracy: 0.7160\n",
            "Epoch 17/125\n",
            "8/8 [==============================] - 0s 46ms/step - loss: 0.7000 - accuracy: 0.6780 - val_loss: 0.6507 - val_accuracy: 0.7180\n",
            "Epoch 18/125\n",
            "8/8 [==============================] - 0s 21ms/step - loss: 0.6998 - accuracy: 0.6620 - val_loss: 0.6451 - val_accuracy: 0.7180\n",
            "Epoch 19/125\n",
            "8/8 [==============================] - 0s 30ms/step - loss: 0.6870 - accuracy: 0.6880 - val_loss: 0.6408 - val_accuracy: 0.7140\n",
            "Epoch 20/125\n",
            "8/8 [==============================] - 0s 29ms/step - loss: 0.7036 - accuracy: 0.6480 - val_loss: 0.6786 - val_accuracy: 0.7300\n",
            "Epoch 21/125\n",
            "8/8 [==============================] - 0s 38ms/step - loss: 0.7147 - accuracy: 0.6460 - val_loss: 0.7133 - val_accuracy: 0.7060\n",
            "Epoch 22/125\n",
            "8/8 [==============================] - 0s 21ms/step - loss: 0.7238 - accuracy: 0.6640 - val_loss: 0.6677 - val_accuracy: 0.7380\n",
            "Epoch 23/125\n",
            "8/8 [==============================] - 0s 21ms/step - loss: 0.6946 - accuracy: 0.6680 - val_loss: 0.6373 - val_accuracy: 0.7020\n",
            "Epoch 24/125\n",
            "8/8 [==============================] - 0s 19ms/step - loss: 0.7032 - accuracy: 0.6640 - val_loss: 0.6970 - val_accuracy: 0.6320\n",
            "Epoch 25/125\n",
            "8/8 [==============================] - 0s 20ms/step - loss: 0.6948 - accuracy: 0.6740 - val_loss: 0.6124 - val_accuracy: 0.7400\n",
            "Epoch 26/125\n",
            "8/8 [==============================] - 0s 19ms/step - loss: 0.6768 - accuracy: 0.6880 - val_loss: 0.6655 - val_accuracy: 0.7460\n",
            "Epoch 27/125\n",
            "8/8 [==============================] - 0s 20ms/step - loss: 0.6725 - accuracy: 0.6580 - val_loss: 0.6135 - val_accuracy: 0.7460\n",
            "Epoch 28/125\n",
            "8/8 [==============================] - 0s 18ms/step - loss: 0.6538 - accuracy: 0.6980 - val_loss: 0.6021 - val_accuracy: 0.7500\n",
            "Epoch 29/125\n",
            "8/8 [==============================] - 0s 20ms/step - loss: 0.6383 - accuracy: 0.6960 - val_loss: 0.6160 - val_accuracy: 0.7660\n",
            "Epoch 30/125\n",
            "8/8 [==============================] - 0s 15ms/step - loss: 0.6554 - accuracy: 0.6980 - val_loss: 0.6254 - val_accuracy: 0.7820\n",
            "Epoch 31/125\n",
            "8/8 [==============================] - 0s 20ms/step - loss: 0.6415 - accuracy: 0.7100 - val_loss: 0.5924 - val_accuracy: 0.7480\n",
            "Epoch 32/125\n",
            "8/8 [==============================] - 0s 19ms/step - loss: 0.6334 - accuracy: 0.7060 - val_loss: 0.5930 - val_accuracy: 0.7660\n",
            "Epoch 33/125\n",
            "8/8 [==============================] - 0s 25ms/step - loss: 0.6340 - accuracy: 0.6980 - val_loss: 0.6090 - val_accuracy: 0.7780\n",
            "Epoch 34/125\n",
            "8/8 [==============================] - 0s 16ms/step - loss: 0.6324 - accuracy: 0.7060 - val_loss: 0.5873 - val_accuracy: 0.7440\n",
            "Epoch 35/125\n",
            "8/8 [==============================] - 0s 22ms/step - loss: 0.6350 - accuracy: 0.6940 - val_loss: 0.5861 - val_accuracy: 0.7280\n",
            "Epoch 36/125\n",
            "8/8 [==============================] - 0s 20ms/step - loss: 0.6289 - accuracy: 0.7140 - val_loss: 0.5805 - val_accuracy: 0.7540\n",
            "Epoch 37/125\n",
            "8/8 [==============================] - 0s 20ms/step - loss: 0.6181 - accuracy: 0.7140 - val_loss: 0.5798 - val_accuracy: 0.7720\n",
            "Epoch 38/125\n",
            "8/8 [==============================] - 0s 22ms/step - loss: 0.6227 - accuracy: 0.6840 - val_loss: 0.5765 - val_accuracy: 0.7520\n",
            "Epoch 39/125\n",
            "8/8 [==============================] - 0s 27ms/step - loss: 0.6213 - accuracy: 0.7200 - val_loss: 0.5830 - val_accuracy: 0.7240\n",
            "Epoch 40/125\n",
            "8/8 [==============================] - 0s 22ms/step - loss: 0.6178 - accuracy: 0.7160 - val_loss: 0.5728 - val_accuracy: 0.7520\n",
            "Epoch 41/125\n",
            "8/8 [==============================] - 0s 27ms/step - loss: 0.6146 - accuracy: 0.7080 - val_loss: 0.5722 - val_accuracy: 0.7460\n",
            "Epoch 42/125\n",
            "8/8 [==============================] - 0s 29ms/step - loss: 0.6113 - accuracy: 0.7180 - val_loss: 0.5681 - val_accuracy: 0.7580\n",
            "Epoch 43/125\n",
            "8/8 [==============================] - 0s 32ms/step - loss: 0.6040 - accuracy: 0.7300 - val_loss: 0.5683 - val_accuracy: 0.7720\n",
            "Epoch 44/125\n",
            "8/8 [==============================] - 0s 30ms/step - loss: 0.6024 - accuracy: 0.7160 - val_loss: 0.5649 - val_accuracy: 0.7640\n",
            "Epoch 45/125\n",
            "8/8 [==============================] - 0s 30ms/step - loss: 0.6023 - accuracy: 0.7400 - val_loss: 0.5754 - val_accuracy: 0.7840\n",
            "Epoch 46/125\n",
            "8/8 [==============================] - 0s 30ms/step - loss: 0.6003 - accuracy: 0.7200 - val_loss: 0.5619 - val_accuracy: 0.7640\n",
            "Epoch 47/125\n",
            "8/8 [==============================] - 0s 23ms/step - loss: 0.5999 - accuracy: 0.7220 - val_loss: 0.5597 - val_accuracy: 0.7620\n",
            "Epoch 48/125\n",
            "8/8 [==============================] - 0s 21ms/step - loss: 0.6008 - accuracy: 0.7280 - val_loss: 0.5783 - val_accuracy: 0.7220\n",
            "Epoch 49/125\n",
            "8/8 [==============================] - 0s 30ms/step - loss: 0.6139 - accuracy: 0.7280 - val_loss: 0.5662 - val_accuracy: 0.7360\n",
            "Epoch 50/125\n",
            "8/8 [==============================] - 0s 21ms/step - loss: 0.6227 - accuracy: 0.6880 - val_loss: 0.5588 - val_accuracy: 0.7820\n",
            "Epoch 51/125\n",
            "8/8 [==============================] - 0s 26ms/step - loss: 0.6052 - accuracy: 0.7140 - val_loss: 0.5698 - val_accuracy: 0.7880\n",
            "Epoch 52/125\n",
            "8/8 [==============================] - 0s 24ms/step - loss: 0.5916 - accuracy: 0.7280 - val_loss: 0.5582 - val_accuracy: 0.7880\n",
            "Epoch 53/125\n",
            "8/8 [==============================] - 0s 22ms/step - loss: 0.5938 - accuracy: 0.7320 - val_loss: 0.5549 - val_accuracy: 0.7820\n",
            "Epoch 54/125\n",
            "8/8 [==============================] - 0s 32ms/step - loss: 0.5906 - accuracy: 0.7360 - val_loss: 0.5494 - val_accuracy: 0.7700\n",
            "Epoch 55/125\n",
            "8/8 [==============================] - 0s 26ms/step - loss: 0.5882 - accuracy: 0.7340 - val_loss: 0.5544 - val_accuracy: 0.7540\n",
            "Epoch 56/125\n",
            "8/8 [==============================] - 0s 28ms/step - loss: 0.5863 - accuracy: 0.7300 - val_loss: 0.5470 - val_accuracy: 0.7860\n",
            "Epoch 57/125\n",
            "8/8 [==============================] - 0s 26ms/step - loss: 0.5800 - accuracy: 0.7400 - val_loss: 0.5457 - val_accuracy: 0.7820\n",
            "Epoch 58/125\n",
            "8/8 [==============================] - 0s 24ms/step - loss: 0.5785 - accuracy: 0.7420 - val_loss: 0.5443 - val_accuracy: 0.7720\n",
            "Epoch 59/125\n",
            "8/8 [==============================] - 0s 19ms/step - loss: 0.5807 - accuracy: 0.7440 - val_loss: 0.5502 - val_accuracy: 0.7460\n",
            "Epoch 60/125\n",
            "8/8 [==============================] - 0s 13ms/step - loss: 0.5807 - accuracy: 0.7320 - val_loss: 0.5550 - val_accuracy: 0.7940\n",
            "Epoch 61/125\n",
            "8/8 [==============================] - 0s 19ms/step - loss: 0.5749 - accuracy: 0.7360 - val_loss: 0.5404 - val_accuracy: 0.7780\n",
            "Epoch 62/125\n",
            "8/8 [==============================] - 0s 14ms/step - loss: 0.5749 - accuracy: 0.7400 - val_loss: 0.5420 - val_accuracy: 0.7940\n",
            "Epoch 63/125\n",
            "8/8 [==============================] - 0s 23ms/step - loss: 0.5694 - accuracy: 0.7440 - val_loss: 0.5407 - val_accuracy: 0.7660\n",
            "Epoch 64/125\n",
            "8/8 [==============================] - 0s 13ms/step - loss: 0.5764 - accuracy: 0.7320 - val_loss: 0.5443 - val_accuracy: 0.7880\n",
            "Epoch 65/125\n",
            "8/8 [==============================] - 0s 19ms/step - loss: 0.5769 - accuracy: 0.7220 - val_loss: 0.5564 - val_accuracy: 0.8040\n",
            "Epoch 66/125\n",
            "8/8 [==============================] - 0s 20ms/step - loss: 0.5755 - accuracy: 0.7460 - val_loss: 0.5464 - val_accuracy: 0.7460\n",
            "Epoch 67/125\n",
            "8/8 [==============================] - 0s 20ms/step - loss: 0.5779 - accuracy: 0.7520 - val_loss: 0.5387 - val_accuracy: 0.7620\n",
            "Epoch 68/125\n",
            "8/8 [==============================] - 0s 20ms/step - loss: 0.5972 - accuracy: 0.7200 - val_loss: 0.5347 - val_accuracy: 0.7940\n",
            "Epoch 69/125\n",
            "8/8 [==============================] - 0s 17ms/step - loss: 0.5876 - accuracy: 0.7100 - val_loss: 0.5859 - val_accuracy: 0.7920\n",
            "Epoch 70/125\n",
            "8/8 [==============================] - 0s 23ms/step - loss: 0.5984 - accuracy: 0.7300 - val_loss: 0.5446 - val_accuracy: 0.8000\n",
            "Epoch 71/125\n",
            "8/8 [==============================] - 0s 26ms/step - loss: 0.5827 - accuracy: 0.7300 - val_loss: 0.5484 - val_accuracy: 0.7420\n",
            "Epoch 72/125\n",
            "8/8 [==============================] - 0s 22ms/step - loss: 0.5670 - accuracy: 0.7480 - val_loss: 0.5302 - val_accuracy: 0.7960\n",
            "Epoch 73/125\n",
            "8/8 [==============================] - 0s 22ms/step - loss: 0.5579 - accuracy: 0.7520 - val_loss: 0.5279 - val_accuracy: 0.7960\n",
            "Epoch 74/125\n",
            "8/8 [==============================] - 0s 22ms/step - loss: 0.5588 - accuracy: 0.7560 - val_loss: 0.5254 - val_accuracy: 0.7920\n",
            "Epoch 75/125\n",
            "8/8 [==============================] - 0s 23ms/step - loss: 0.5581 - accuracy: 0.7520 - val_loss: 0.5255 - val_accuracy: 0.8020\n",
            "Epoch 76/125\n",
            "8/8 [==============================] - 0s 25ms/step - loss: 0.5543 - accuracy: 0.7540 - val_loss: 0.5239 - val_accuracy: 0.7840\n",
            "Epoch 77/125\n",
            "8/8 [==============================] - 0s 20ms/step - loss: 0.5542 - accuracy: 0.7520 - val_loss: 0.5447 - val_accuracy: 0.8000\n",
            "Epoch 78/125\n",
            "8/8 [==============================] - 0s 23ms/step - loss: 0.5660 - accuracy: 0.7460 - val_loss: 0.5228 - val_accuracy: 0.7940\n",
            "Epoch 79/125\n",
            "8/8 [==============================] - 0s 23ms/step - loss: 0.5581 - accuracy: 0.7520 - val_loss: 0.5236 - val_accuracy: 0.7740\n",
            "Epoch 80/125\n",
            "8/8 [==============================] - 0s 17ms/step - loss: 0.5503 - accuracy: 0.7420 - val_loss: 0.5514 - val_accuracy: 0.8080\n",
            "Epoch 81/125\n",
            "8/8 [==============================] - 0s 21ms/step - loss: 0.5606 - accuracy: 0.7500 - val_loss: 0.5226 - val_accuracy: 0.7980\n",
            "Epoch 82/125\n",
            "8/8 [==============================] - 0s 15ms/step - loss: 0.5498 - accuracy: 0.7440 - val_loss: 0.5181 - val_accuracy: 0.7960\n",
            "Epoch 83/125\n",
            "8/8 [==============================] - 0s 20ms/step - loss: 0.5534 - accuracy: 0.7480 - val_loss: 0.5174 - val_accuracy: 0.7940\n",
            "Epoch 84/125\n",
            "8/8 [==============================] - 0s 13ms/step - loss: 0.5543 - accuracy: 0.7460 - val_loss: 0.5267 - val_accuracy: 0.7940\n",
            "Epoch 85/125\n",
            "8/8 [==============================] - 0s 17ms/step - loss: 0.5473 - accuracy: 0.7480 - val_loss: 0.5190 - val_accuracy: 0.8040\n",
            "Epoch 86/125\n",
            "8/8 [==============================] - 0s 14ms/step - loss: 0.5445 - accuracy: 0.7560 - val_loss: 0.5207 - val_accuracy: 0.8020\n",
            "Epoch 87/125\n",
            "8/8 [==============================] - 0s 16ms/step - loss: 0.5523 - accuracy: 0.7500 - val_loss: 0.5198 - val_accuracy: 0.7780\n",
            "Epoch 88/125\n",
            "8/8 [==============================] - 0s 15ms/step - loss: 0.5504 - accuracy: 0.7680 - val_loss: 0.5139 - val_accuracy: 0.8040\n",
            "Epoch 89/125\n",
            "8/8 [==============================] - 0s 19ms/step - loss: 0.5573 - accuracy: 0.7500 - val_loss: 0.5410 - val_accuracy: 0.8100\n",
            "Epoch 90/125\n",
            "8/8 [==============================] - 0s 15ms/step - loss: 0.5599 - accuracy: 0.7460 - val_loss: 0.5278 - val_accuracy: 0.8020\n",
            "Epoch 91/125\n",
            "8/8 [==============================] - 0s 17ms/step - loss: 0.5612 - accuracy: 0.7320 - val_loss: 0.5106 - val_accuracy: 0.8060\n",
            "Epoch 92/125\n",
            "8/8 [==============================] - 0s 23ms/step - loss: 0.5509 - accuracy: 0.7680 - val_loss: 0.5398 - val_accuracy: 0.7520\n",
            "Epoch 93/125\n",
            "8/8 [==============================] - 0s 14ms/step - loss: 0.5637 - accuracy: 0.7380 - val_loss: 0.5094 - val_accuracy: 0.8040\n",
            "Epoch 94/125\n",
            "8/8 [==============================] - 0s 22ms/step - loss: 0.5408 - accuracy: 0.7540 - val_loss: 0.5170 - val_accuracy: 0.8000\n",
            "Epoch 95/125\n",
            "8/8 [==============================] - 0s 16ms/step - loss: 0.5417 - accuracy: 0.7500 - val_loss: 0.5283 - val_accuracy: 0.8120\n",
            "Epoch 96/125\n",
            "8/8 [==============================] - 0s 25ms/step - loss: 0.5478 - accuracy: 0.7620 - val_loss: 0.5121 - val_accuracy: 0.7800\n",
            "Epoch 97/125\n",
            "8/8 [==============================] - 0s 21ms/step - loss: 0.5351 - accuracy: 0.7600 - val_loss: 0.5117 - val_accuracy: 0.8040\n",
            "Epoch 98/125\n",
            "8/8 [==============================] - 0s 15ms/step - loss: 0.5331 - accuracy: 0.7620 - val_loss: 0.5047 - val_accuracy: 0.8060\n",
            "Epoch 99/125\n",
            "8/8 [==============================] - 0s 24ms/step - loss: 0.5315 - accuracy: 0.7620 - val_loss: 0.5045 - val_accuracy: 0.8100\n",
            "Epoch 100/125\n",
            "8/8 [==============================] - 0s 20ms/step - loss: 0.5322 - accuracy: 0.7600 - val_loss: 0.5034 - val_accuracy: 0.7980\n",
            "Epoch 101/125\n",
            "8/8 [==============================] - 0s 15ms/step - loss: 0.5322 - accuracy: 0.7600 - val_loss: 0.5130 - val_accuracy: 0.8020\n",
            "Epoch 102/125\n",
            "8/8 [==============================] - 0s 14ms/step - loss: 0.5307 - accuracy: 0.7540 - val_loss: 0.5019 - val_accuracy: 0.8000\n",
            "Epoch 103/125\n",
            "8/8 [==============================] - 0s 17ms/step - loss: 0.5347 - accuracy: 0.7700 - val_loss: 0.5423 - val_accuracy: 0.8040\n",
            "Epoch 104/125\n",
            "8/8 [==============================] - 0s 18ms/step - loss: 0.5588 - accuracy: 0.7420 - val_loss: 0.5098 - val_accuracy: 0.8180\n",
            "Epoch 105/125\n",
            "8/8 [==============================] - 0s 13ms/step - loss: 0.5665 - accuracy: 0.7520 - val_loss: 0.5275 - val_accuracy: 0.7720\n",
            "Epoch 106/125\n",
            "8/8 [==============================] - 0s 19ms/step - loss: 0.5534 - accuracy: 0.7620 - val_loss: 0.4993 - val_accuracy: 0.8080\n",
            "Epoch 107/125\n",
            "8/8 [==============================] - 0s 19ms/step - loss: 0.5336 - accuracy: 0.7540 - val_loss: 0.5109 - val_accuracy: 0.8060\n",
            "Epoch 108/125\n",
            "8/8 [==============================] - 0s 14ms/step - loss: 0.5280 - accuracy: 0.7600 - val_loss: 0.5002 - val_accuracy: 0.8080\n",
            "Epoch 109/125\n",
            "8/8 [==============================] - 0s 15ms/step - loss: 0.5271 - accuracy: 0.7620 - val_loss: 0.4986 - val_accuracy: 0.8040\n",
            "Epoch 110/125\n",
            "8/8 [==============================] - 0s 19ms/step - loss: 0.5251 - accuracy: 0.7620 - val_loss: 0.5093 - val_accuracy: 0.8160\n",
            "Epoch 111/125\n",
            "8/8 [==============================] - 0s 16ms/step - loss: 0.5221 - accuracy: 0.7880 - val_loss: 0.5062 - val_accuracy: 0.7880\n",
            "Epoch 112/125\n",
            "8/8 [==============================] - 0s 20ms/step - loss: 0.5330 - accuracy: 0.7500 - val_loss: 0.5034 - val_accuracy: 0.8160\n",
            "Epoch 113/125\n",
            "8/8 [==============================] - 0s 18ms/step - loss: 0.5319 - accuracy: 0.7620 - val_loss: 0.4968 - val_accuracy: 0.8080\n",
            "Epoch 114/125\n",
            "8/8 [==============================] - 0s 21ms/step - loss: 0.5255 - accuracy: 0.7820 - val_loss: 0.4936 - val_accuracy: 0.8160\n",
            "Epoch 115/125\n",
            "8/8 [==============================] - 0s 20ms/step - loss: 0.5222 - accuracy: 0.7640 - val_loss: 0.4925 - val_accuracy: 0.8140\n",
            "Epoch 116/125\n",
            "8/8 [==============================] - 0s 17ms/step - loss: 0.5173 - accuracy: 0.7700 - val_loss: 0.4948 - val_accuracy: 0.8080\n",
            "Epoch 117/125\n",
            "8/8 [==============================] - 0s 16ms/step - loss: 0.5254 - accuracy: 0.7600 - val_loss: 0.4952 - val_accuracy: 0.8140\n",
            "Epoch 118/125\n",
            "8/8 [==============================] - 0s 22ms/step - loss: 0.5277 - accuracy: 0.7660 - val_loss: 0.5008 - val_accuracy: 0.8240\n",
            "Epoch 119/125\n",
            "8/8 [==============================] - 0s 19ms/step - loss: 0.5208 - accuracy: 0.7640 - val_loss: 0.5069 - val_accuracy: 0.8180\n",
            "Epoch 120/125\n",
            "8/8 [==============================] - 0s 20ms/step - loss: 0.5184 - accuracy: 0.7780 - val_loss: 0.4907 - val_accuracy: 0.8160\n",
            "Epoch 121/125\n",
            "8/8 [==============================] - 0s 19ms/step - loss: 0.5172 - accuracy: 0.7760 - val_loss: 0.4947 - val_accuracy: 0.8160\n",
            "Epoch 122/125\n",
            "8/8 [==============================] - 0s 16ms/step - loss: 0.5184 - accuracy: 0.7820 - val_loss: 0.4890 - val_accuracy: 0.8140\n",
            "Epoch 123/125\n",
            "8/8 [==============================] - 0s 15ms/step - loss: 0.5200 - accuracy: 0.7620 - val_loss: 0.5016 - val_accuracy: 0.8280\n",
            "Epoch 124/125\n",
            "8/8 [==============================] - 0s 18ms/step - loss: 0.5160 - accuracy: 0.7720 - val_loss: 0.4926 - val_accuracy: 0.8240\n",
            "Epoch 125/125\n",
            "8/8 [==============================] - 0s 21ms/step - loss: 0.5135 - accuracy: 0.7760 - val_loss: 0.4870 - val_accuracy: 0.8220\n"
          ]
        }
      ],
      "source": [
        "### START CODE HERE ### ()\n",
        "lr= 0.001\n",
        "model= build_model(lr)\n",
        "batch_size = 64\n",
        "history = fit_model(X_train, y_train, X_test, y_test, batch_size)\n"
      ]
    },
    {
      "cell_type": "code",
      "execution_count": null,
      "id": "53bf0abf-a145-4081-aa0b-e4ffe73c9357",
      "metadata": {
        "id": "53bf0abf-a145-4081-aa0b-e4ffe73c9357",
        "colab": {
          "base_uri": "https://localhost:8080/",
          "height": 487
        },
        "outputId": "b0a8c57b-25f6-4052-9873-7f037109db15"
      },
      "outputs": [
        {
          "output_type": "display_data",
          "data": {
            "text/plain": [
              "<Figure size 1000x500 with 1 Axes>"
            ],
            "image/png": "[encoded data removed]"
          },
          "metadata": {}
        }
      ],
      "source": [
        "plt.figure(figsize=(10,5))\n",
        "plt.plot(history.history['loss'], label='Training Loss')\n",
        "plt.plot(history.history['val_loss'], label='Validation Loss')\n",
        "plt.title('Loss vs. epochs, lr=' +str(lr))\n",
        "plt.ylabel('Loss')\n",
        "plt.xlabel('Epoch')\n",
        "plt.legend(['Training', 'Validation'], loc='upper right')\n",
        "plt.show()"
      ]
    },
    {
      "cell_type": "markdown",
      "id": "9c476d8f-d9d5-49e9-bcb1-c47f3505d456",
      "metadata": {
        "id": "9c476d8f-d9d5-49e9-bcb1-c47f3505d456"
      },
      "source": [
        "##### LR =  0.1"
      ]
    },
    {
      "cell_type": "markdown",
      "id": "5538b4df-7c6b-4d4d-9cbd-e7b14e57a8d6",
      "metadata": {
        "id": "5538b4df-7c6b-4d4d-9cbd-e7b14e57a8d6"
      },
      "source": [
        "10. **Retrain for 0.1 LR**"
      ]
    },
    {
      "cell_type": "code",
      "execution_count": null,
      "id": "2c320fde-e42b-4d0a-941c-86b2c5817c66",
      "metadata": {
        "tags": [],
        "id": "2c320fde-e42b-4d0a-941c-86b2c5817c66",
        "colab": {
          "base_uri": "https://localhost:8080/"
        },
        "outputId": "5139ac14-9f79-4135-87f5-6a37ee3ea050"
      },
      "outputs": [
        {
          "output_type": "stream",
          "name": "stdout",
          "text": [
            "Epoch 1/125\n",
            "8/8 [==============================] - 1s 57ms/step - loss: 13.5637 - accuracy: 0.4140 - val_loss: 6.0069 - val_accuracy: 0.4760\n",
            "Epoch 2/125\n",
            "8/8 [==============================] - 0s 25ms/step - loss: 5.9356 - accuracy: 0.4460 - val_loss: 5.3607 - val_accuracy: 0.4220\n",
            "Epoch 3/125\n",
            "8/8 [==============================] - 0s 21ms/step - loss: 2.1974 - accuracy: 0.4660 - val_loss: 1.1387 - val_accuracy: 0.5800\n",
            "Epoch 4/125\n",
            "8/8 [==============================] - 0s 19ms/step - loss: 1.2761 - accuracy: 0.5380 - val_loss: 1.1737 - val_accuracy: 0.5700\n",
            "Epoch 5/125\n",
            "8/8 [==============================] - 0s 18ms/step - loss: 1.2264 - accuracy: 0.5540 - val_loss: 1.0967 - val_accuracy: 0.6300\n",
            "Epoch 6/125\n",
            "8/8 [==============================] - 0s 19ms/step - loss: 1.1255 - accuracy: 0.6120 - val_loss: 1.0435 - val_accuracy: 0.6620\n",
            "Epoch 7/125\n",
            "8/8 [==============================] - 0s 17ms/step - loss: 1.0761 - accuracy: 0.6400 - val_loss: 0.9481 - val_accuracy: 0.6660\n",
            "Epoch 8/125\n",
            "8/8 [==============================] - 0s 58ms/step - loss: 1.0097 - accuracy: 0.6280 - val_loss: 0.8740 - val_accuracy: 0.6680\n",
            "Epoch 9/125\n",
            "8/8 [==============================] - 1s 78ms/step - loss: 0.9632 - accuracy: 0.6460 - val_loss: 0.8546 - val_accuracy: 0.6800\n",
            "Epoch 10/125\n",
            "8/8 [==============================] - 0s 69ms/step - loss: 0.8869 - accuracy: 0.6460 - val_loss: 0.8008 - val_accuracy: 0.6780\n",
            "Epoch 11/125\n",
            "8/8 [==============================] - 0s 30ms/step - loss: 0.8743 - accuracy: 0.6600 - val_loss: 0.7433 - val_accuracy: 0.7100\n",
            "Epoch 12/125\n",
            "8/8 [==============================] - 0s 18ms/step - loss: 0.8089 - accuracy: 0.6680 - val_loss: 0.7464 - val_accuracy: 0.6820\n",
            "Epoch 13/125\n",
            "8/8 [==============================] - 0s 17ms/step - loss: 0.8125 - accuracy: 0.6380 - val_loss: 0.6530 - val_accuracy: 0.7540\n",
            "Epoch 14/125\n",
            "8/8 [==============================] - 0s 14ms/step - loss: 0.6877 - accuracy: 0.7120 - val_loss: 0.6675 - val_accuracy: 0.7300\n",
            "Epoch 15/125\n",
            "8/8 [==============================] - 0s 18ms/step - loss: 0.6693 - accuracy: 0.7100 - val_loss: 0.5625 - val_accuracy: 0.7840\n",
            "Epoch 16/125\n",
            "8/8 [==============================] - 0s 14ms/step - loss: 0.6006 - accuracy: 0.7400 - val_loss: 0.5478 - val_accuracy: 0.7860\n",
            "Epoch 17/125\n",
            "8/8 [==============================] - 0s 12ms/step - loss: 0.5692 - accuracy: 0.7380 - val_loss: 0.4903 - val_accuracy: 0.8160\n",
            "Epoch 18/125\n",
            "8/8 [==============================] - 0s 13ms/step - loss: 0.5022 - accuracy: 0.7980 - val_loss: 0.4630 - val_accuracy: 0.8280\n",
            "Epoch 19/125\n",
            "8/8 [==============================] - 0s 11ms/step - loss: 0.4955 - accuracy: 0.7800 - val_loss: 0.4678 - val_accuracy: 0.8040\n",
            "Epoch 20/125\n",
            "8/8 [==============================] - 0s 14ms/step - loss: 0.5463 - accuracy: 0.7660 - val_loss: 0.6427 - val_accuracy: 0.7320\n",
            "Epoch 21/125\n",
            "8/8 [==============================] - 0s 18ms/step - loss: 0.5998 - accuracy: 0.7160 - val_loss: 0.4860 - val_accuracy: 0.7780\n",
            "Epoch 22/125\n",
            "8/8 [==============================] - 0s 12ms/step - loss: 0.5144 - accuracy: 0.7620 - val_loss: 0.4921 - val_accuracy: 0.7840\n",
            "Epoch 23/125\n",
            "8/8 [==============================] - 0s 19ms/step - loss: 0.5252 - accuracy: 0.7640 - val_loss: 0.4709 - val_accuracy: 0.8000\n",
            "Epoch 24/125\n",
            "8/8 [==============================] - 0s 19ms/step - loss: 0.5388 - accuracy: 0.7740 - val_loss: 0.6674 - val_accuracy: 0.6640\n",
            "Epoch 25/125\n",
            "8/8 [==============================] - 0s 12ms/step - loss: 0.6486 - accuracy: 0.7100 - val_loss: 0.6505 - val_accuracy: 0.7580\n",
            "Epoch 26/125\n",
            "8/8 [==============================] - 0s 11ms/step - loss: 0.5701 - accuracy: 0.7460 - val_loss: 0.5336 - val_accuracy: 0.7780\n",
            "Epoch 27/125\n",
            "8/8 [==============================] - 0s 11ms/step - loss: 0.5402 - accuracy: 0.7580 - val_loss: 0.4877 - val_accuracy: 0.7960\n",
            "Epoch 28/125\n",
            "8/8 [==============================] - 0s 9ms/step - loss: 0.5578 - accuracy: 0.7800 - val_loss: 0.5231 - val_accuracy: 0.7700\n",
            "Epoch 29/125\n",
            "8/8 [==============================] - 0s 10ms/step - loss: 0.5075 - accuracy: 0.7900 - val_loss: 0.4738 - val_accuracy: 0.8120\n",
            "Epoch 30/125\n",
            "8/8 [==============================] - 0s 10ms/step - loss: 0.4891 - accuracy: 0.7800 - val_loss: 0.4428 - val_accuracy: 0.8080\n",
            "Epoch 31/125\n",
            "8/8 [==============================] - 0s 9ms/step - loss: 0.4837 - accuracy: 0.8000 - val_loss: 0.4754 - val_accuracy: 0.7900\n",
            "Epoch 32/125\n",
            "8/8 [==============================] - 0s 8ms/step - loss: 0.5113 - accuracy: 0.7680 - val_loss: 0.5600 - val_accuracy: 0.7520\n",
            "Epoch 33/125\n",
            "8/8 [==============================] - 0s 10ms/step - loss: 0.5540 - accuracy: 0.7740 - val_loss: 0.5204 - val_accuracy: 0.7600\n",
            "Epoch 34/125\n",
            "8/8 [==============================] - 0s 8ms/step - loss: 0.5674 - accuracy: 0.7360 - val_loss: 0.7080 - val_accuracy: 0.6820\n",
            "Epoch 35/125\n",
            "8/8 [==============================] - 0s 9ms/step - loss: 0.5791 - accuracy: 0.7480 - val_loss: 0.5960 - val_accuracy: 0.7480\n",
            "Epoch 36/125\n",
            "8/8 [==============================] - 0s 9ms/step - loss: 0.5500 - accuracy: 0.7640 - val_loss: 0.4782 - val_accuracy: 0.8020\n",
            "Epoch 37/125\n",
            "8/8 [==============================] - 0s 11ms/step - loss: 0.4674 - accuracy: 0.7940 - val_loss: 0.4358 - val_accuracy: 0.8260\n",
            "Epoch 38/125\n",
            "8/8 [==============================] - 0s 12ms/step - loss: 0.4848 - accuracy: 0.7940 - val_loss: 0.4340 - val_accuracy: 0.8100\n",
            "Epoch 39/125\n",
            "8/8 [==============================] - 0s 9ms/step - loss: 0.4584 - accuracy: 0.8200 - val_loss: 0.5253 - val_accuracy: 0.7860\n",
            "Epoch 40/125\n",
            "8/8 [==============================] - 0s 9ms/step - loss: 0.5209 - accuracy: 0.7640 - val_loss: 0.4429 - val_accuracy: 0.8340\n",
            "Epoch 41/125\n",
            "8/8 [==============================] - 0s 10ms/step - loss: 0.5255 - accuracy: 0.7660 - val_loss: 0.4169 - val_accuracy: 0.8140\n",
            "Epoch 42/125\n",
            "8/8 [==============================] - 0s 9ms/step - loss: 0.4689 - accuracy: 0.7800 - val_loss: 0.5070 - val_accuracy: 0.7920\n",
            "Epoch 43/125\n",
            "8/8 [==============================] - 0s 10ms/step - loss: 0.4931 - accuracy: 0.7940 - val_loss: 0.4278 - val_accuracy: 0.8240\n",
            "Epoch 44/125\n",
            "8/8 [==============================] - 0s 10ms/step - loss: 0.4941 - accuracy: 0.7720 - val_loss: 0.4627 - val_accuracy: 0.8180\n",
            "Epoch 45/125\n",
            "8/8 [==============================] - 0s 10ms/step - loss: 0.4710 - accuracy: 0.7660 - val_loss: 0.4978 - val_accuracy: 0.7880\n",
            "Epoch 46/125\n",
            "8/8 [==============================] - 0s 9ms/step - loss: 0.4580 - accuracy: 0.8040 - val_loss: 0.4074 - val_accuracy: 0.8320\n",
            "Epoch 47/125\n",
            "8/8 [==============================] - 0s 10ms/step - loss: 0.4593 - accuracy: 0.8080 - val_loss: 0.4467 - val_accuracy: 0.8080\n",
            "Epoch 48/125\n",
            "8/8 [==============================] - 0s 10ms/step - loss: 0.5272 - accuracy: 0.7380 - val_loss: 0.5907 - val_accuracy: 0.7380\n",
            "Epoch 49/125\n",
            "8/8 [==============================] - 0s 9ms/step - loss: 0.5544 - accuracy: 0.7500 - val_loss: 0.5667 - val_accuracy: 0.7740\n",
            "Epoch 50/125\n",
            "8/8 [==============================] - 0s 11ms/step - loss: 0.5598 - accuracy: 0.7620 - val_loss: 0.4472 - val_accuracy: 0.8260\n",
            "Epoch 51/125\n",
            "8/8 [==============================] - 0s 9ms/step - loss: 0.5116 - accuracy: 0.7720 - val_loss: 0.4782 - val_accuracy: 0.7840\n",
            "Epoch 52/125\n",
            "8/8 [==============================] - 0s 11ms/step - loss: 0.4909 - accuracy: 0.7780 - val_loss: 0.4510 - val_accuracy: 0.7700\n",
            "Epoch 53/125\n",
            "8/8 [==============================] - 0s 10ms/step - loss: 0.4650 - accuracy: 0.7920 - val_loss: 0.4387 - val_accuracy: 0.8200\n",
            "Epoch 54/125\n",
            "8/8 [==============================] - 0s 9ms/step - loss: 0.4322 - accuracy: 0.8080 - val_loss: 0.4524 - val_accuracy: 0.7980\n",
            "Epoch 55/125\n",
            "8/8 [==============================] - 0s 9ms/step - loss: 0.4363 - accuracy: 0.8080 - val_loss: 0.4182 - val_accuracy: 0.8280\n",
            "Epoch 56/125\n",
            "8/8 [==============================] - 0s 9ms/step - loss: 0.4734 - accuracy: 0.8020 - val_loss: 0.4705 - val_accuracy: 0.8020\n",
            "Epoch 57/125\n",
            "8/8 [==============================] - 0s 10ms/step - loss: 0.4446 - accuracy: 0.8080 - val_loss: 0.4440 - val_accuracy: 0.8240\n",
            "Epoch 58/125\n",
            "8/8 [==============================] - 0s 11ms/step - loss: 0.4537 - accuracy: 0.8160 - val_loss: 0.4262 - val_accuracy: 0.8340\n",
            "Epoch 59/125\n",
            "8/8 [==============================] - 0s 9ms/step - loss: 0.4556 - accuracy: 0.8180 - val_loss: 0.4558 - val_accuracy: 0.8220\n",
            "Epoch 60/125\n",
            "8/8 [==============================] - 0s 10ms/step - loss: 0.4428 - accuracy: 0.8160 - val_loss: 0.5712 - val_accuracy: 0.7500\n",
            "Epoch 61/125\n",
            "8/8 [==============================] - 0s 8ms/step - loss: 0.4585 - accuracy: 0.8140 - val_loss: 0.4625 - val_accuracy: 0.8180\n",
            "Epoch 62/125\n",
            "8/8 [==============================] - 0s 8ms/step - loss: 0.4569 - accuracy: 0.8140 - val_loss: 0.4269 - val_accuracy: 0.8340\n",
            "Epoch 63/125\n",
            "8/8 [==============================] - 0s 11ms/step - loss: 0.4200 - accuracy: 0.8380 - val_loss: 0.4364 - val_accuracy: 0.8180\n",
            "Epoch 64/125\n",
            "8/8 [==============================] - 0s 10ms/step - loss: 0.4684 - accuracy: 0.7960 - val_loss: 0.4211 - val_accuracy: 0.8260\n",
            "Epoch 65/125\n",
            "8/8 [==============================] - 0s 9ms/step - loss: 0.4318 - accuracy: 0.8120 - val_loss: 0.5612 - val_accuracy: 0.7840\n",
            "Epoch 66/125\n",
            "8/8 [==============================] - 0s 17ms/step - loss: 0.4560 - accuracy: 0.8220 - val_loss: 0.4129 - val_accuracy: 0.8300\n",
            "Epoch 67/125\n",
            "8/8 [==============================] - 0s 9ms/step - loss: 0.4195 - accuracy: 0.8120 - val_loss: 0.4290 - val_accuracy: 0.8280\n",
            "Epoch 68/125\n",
            "8/8 [==============================] - 0s 9ms/step - loss: 0.4233 - accuracy: 0.8160 - val_loss: 0.5266 - val_accuracy: 0.7880\n",
            "Epoch 69/125\n",
            "8/8 [==============================] - 0s 8ms/step - loss: 0.4410 - accuracy: 0.8020 - val_loss: 0.4783 - val_accuracy: 0.8140\n",
            "Epoch 70/125\n",
            "8/8 [==============================] - 0s 8ms/step - loss: 0.4838 - accuracy: 0.7900 - val_loss: 0.4973 - val_accuracy: 0.8080\n",
            "Epoch 71/125\n",
            "8/8 [==============================] - 0s 8ms/step - loss: 0.4582 - accuracy: 0.8020 - val_loss: 0.4256 - val_accuracy: 0.8300\n",
            "Epoch 72/125\n",
            "8/8 [==============================] - 0s 8ms/step - loss: 0.4397 - accuracy: 0.8080 - val_loss: 0.4276 - val_accuracy: 0.8340\n",
            "Epoch 73/125\n",
            "8/8 [==============================] - 0s 8ms/step - loss: 0.4199 - accuracy: 0.8320 - val_loss: 0.4308 - val_accuracy: 0.8240\n",
            "Epoch 74/125\n",
            "8/8 [==============================] - 0s 8ms/step - loss: 0.4289 - accuracy: 0.8060 - val_loss: 0.4115 - val_accuracy: 0.8300\n",
            "Epoch 75/125\n",
            "8/8 [==============================] - 0s 10ms/step - loss: 0.4187 - accuracy: 0.8260 - val_loss: 0.4362 - val_accuracy: 0.8140\n",
            "Epoch 76/125\n",
            "8/8 [==============================] - 0s 10ms/step - loss: 0.4163 - accuracy: 0.8240 - val_loss: 0.4547 - val_accuracy: 0.8040\n",
            "Epoch 77/125\n",
            "8/8 [==============================] - 0s 9ms/step - loss: 0.4201 - accuracy: 0.8280 - val_loss: 0.5042 - val_accuracy: 0.7880\n",
            "Epoch 78/125\n",
            "8/8 [==============================] - 0s 8ms/step - loss: 0.4435 - accuracy: 0.8160 - val_loss: 0.5042 - val_accuracy: 0.7940\n",
            "Epoch 79/125\n",
            "8/8 [==============================] - 0s 9ms/step - loss: 0.4256 - accuracy: 0.8020 - val_loss: 0.4829 - val_accuracy: 0.8040\n",
            "Epoch 80/125\n",
            "8/8 [==============================] - 0s 10ms/step - loss: 0.4366 - accuracy: 0.8100 - val_loss: 0.5606 - val_accuracy: 0.7700\n",
            "Epoch 81/125\n",
            "8/8 [==============================] - 0s 10ms/step - loss: 0.4587 - accuracy: 0.7860 - val_loss: 0.4828 - val_accuracy: 0.8140\n",
            "Epoch 82/125\n",
            "8/8 [==============================] - 0s 10ms/step - loss: 0.4410 - accuracy: 0.8100 - val_loss: 0.4756 - val_accuracy: 0.7940\n",
            "Epoch 83/125\n",
            "8/8 [==============================] - 0s 9ms/step - loss: 0.4371 - accuracy: 0.7940 - val_loss: 0.4482 - val_accuracy: 0.8080\n",
            "Epoch 84/125\n",
            "8/8 [==============================] - 0s 10ms/step - loss: 0.4234 - accuracy: 0.8120 - val_loss: 0.4295 - val_accuracy: 0.8260\n",
            "Epoch 85/125\n",
            "8/8 [==============================] - 0s 9ms/step - loss: 0.4215 - accuracy: 0.8140 - val_loss: 0.4176 - val_accuracy: 0.8280\n",
            "Epoch 86/125\n",
            "8/8 [==============================] - 0s 9ms/step - loss: 0.4088 - accuracy: 0.8200 - val_loss: 0.4312 - val_accuracy: 0.8120\n",
            "Epoch 87/125\n",
            "8/8 [==============================] - 0s 10ms/step - loss: 0.4154 - accuracy: 0.8260 - val_loss: 0.4249 - val_accuracy: 0.8320\n",
            "Epoch 88/125\n",
            "8/8 [==============================] - 0s 9ms/step - loss: 0.4497 - accuracy: 0.7980 - val_loss: 0.4331 - val_accuracy: 0.8220\n",
            "Epoch 89/125\n",
            "8/8 [==============================] - 0s 11ms/step - loss: 0.4522 - accuracy: 0.7960 - val_loss: 0.4330 - val_accuracy: 0.8300\n",
            "Epoch 90/125\n",
            "8/8 [==============================] - 0s 10ms/step - loss: 0.4870 - accuracy: 0.8000 - val_loss: 0.5282 - val_accuracy: 0.7860\n",
            "Epoch 91/125\n",
            "8/8 [==============================] - 0s 9ms/step - loss: 0.4881 - accuracy: 0.7840 - val_loss: 0.4557 - val_accuracy: 0.8200\n",
            "Epoch 92/125\n",
            "8/8 [==============================] - 0s 9ms/step - loss: 0.4827 - accuracy: 0.7940 - val_loss: 0.4645 - val_accuracy: 0.8040\n",
            "Epoch 93/125\n",
            "8/8 [==============================] - 0s 10ms/step - loss: 0.4692 - accuracy: 0.8040 - val_loss: 0.4396 - val_accuracy: 0.8280\n",
            "Epoch 94/125\n",
            "8/8 [==============================] - 0s 10ms/step - loss: 0.4454 - accuracy: 0.8260 - val_loss: 0.4359 - val_accuracy: 0.8240\n",
            "Epoch 95/125\n",
            "8/8 [==============================] - 0s 18ms/step - loss: 0.4391 - accuracy: 0.8180 - val_loss: 0.5036 - val_accuracy: 0.7980\n",
            "Epoch 96/125\n",
            "8/8 [==============================] - 0s 16ms/step - loss: 0.4702 - accuracy: 0.7880 - val_loss: 0.4407 - val_accuracy: 0.8280\n",
            "Epoch 97/125\n",
            "8/8 [==============================] - 0s 19ms/step - loss: 0.4235 - accuracy: 0.8100 - val_loss: 0.4705 - val_accuracy: 0.8140\n",
            "Epoch 98/125\n",
            "8/8 [==============================] - 0s 16ms/step - loss: 0.4553 - accuracy: 0.7760 - val_loss: 0.4238 - val_accuracy: 0.8340\n",
            "Epoch 99/125\n",
            "8/8 [==============================] - 0s 27ms/step - loss: 0.4454 - accuracy: 0.8040 - val_loss: 0.4805 - val_accuracy: 0.8080\n",
            "Epoch 100/125\n",
            "8/8 [==============================] - 0s 24ms/step - loss: 0.4519 - accuracy: 0.8080 - val_loss: 0.4416 - val_accuracy: 0.8320\n",
            "Epoch 101/125\n",
            "8/8 [==============================] - 0s 19ms/step - loss: 0.4346 - accuracy: 0.8180 - val_loss: 0.5028 - val_accuracy: 0.7820\n",
            "Epoch 102/125\n",
            "8/8 [==============================] - 0s 19ms/step - loss: 0.4916 - accuracy: 0.7680 - val_loss: 0.5293 - val_accuracy: 0.7900\n",
            "Epoch 103/125\n",
            "8/8 [==============================] - 0s 20ms/step - loss: 0.5415 - accuracy: 0.7700 - val_loss: 0.5078 - val_accuracy: 0.8100\n",
            "Epoch 104/125\n",
            "8/8 [==============================] - 0s 11ms/step - loss: 0.5688 - accuracy: 0.7400 - val_loss: 0.5720 - val_accuracy: 0.7980\n",
            "Epoch 105/125\n",
            "8/8 [==============================] - 0s 17ms/step - loss: 0.5006 - accuracy: 0.7700 - val_loss: 0.5426 - val_accuracy: 0.7920\n",
            "Epoch 106/125\n",
            "8/8 [==============================] - 0s 11ms/step - loss: 0.4550 - accuracy: 0.8000 - val_loss: 0.5736 - val_accuracy: 0.7720\n",
            "Epoch 107/125\n",
            "8/8 [==============================] - 0s 11ms/step - loss: 0.5340 - accuracy: 0.7540 - val_loss: 0.6271 - val_accuracy: 0.7860\n",
            "Epoch 108/125\n",
            "8/8 [==============================] - 0s 11ms/step - loss: 0.4872 - accuracy: 0.8000 - val_loss: 0.5118 - val_accuracy: 0.8020\n",
            "Epoch 109/125\n",
            "8/8 [==============================] - 0s 10ms/step - loss: 0.5187 - accuracy: 0.7700 - val_loss: 0.4776 - val_accuracy: 0.8060\n",
            "Epoch 110/125\n",
            "8/8 [==============================] - 0s 12ms/step - loss: 0.4578 - accuracy: 0.7880 - val_loss: 0.6373 - val_accuracy: 0.7160\n",
            "Epoch 111/125\n",
            "8/8 [==============================] - 0s 8ms/step - loss: 0.5116 - accuracy: 0.7700 - val_loss: 0.6273 - val_accuracy: 0.7940\n",
            "Epoch 112/125\n",
            "8/8 [==============================] - 0s 9ms/step - loss: 0.5451 - accuracy: 0.7780 - val_loss: 0.6134 - val_accuracy: 0.7840\n",
            "Epoch 113/125\n",
            "8/8 [==============================] - 0s 11ms/step - loss: 0.4681 - accuracy: 0.7900 - val_loss: 0.6646 - val_accuracy: 0.7260\n",
            "Epoch 114/125\n",
            "8/8 [==============================] - 0s 9ms/step - loss: 0.4893 - accuracy: 0.7880 - val_loss: 0.5541 - val_accuracy: 0.7880\n",
            "Epoch 115/125\n",
            "8/8 [==============================] - 0s 8ms/step - loss: 0.5604 - accuracy: 0.7560 - val_loss: 0.5107 - val_accuracy: 0.8040\n",
            "Epoch 116/125\n",
            "8/8 [==============================] - 0s 15ms/step - loss: 0.4884 - accuracy: 0.7860 - val_loss: 0.5933 - val_accuracy: 0.7760\n",
            "Epoch 117/125\n",
            "8/8 [==============================] - 0s 9ms/step - loss: 0.5440 - accuracy: 0.7600 - val_loss: 0.4539 - val_accuracy: 0.8160\n",
            "Epoch 118/125\n",
            "8/8 [==============================] - 0s 9ms/step - loss: 0.4726 - accuracy: 0.7920 - val_loss: 0.4569 - val_accuracy: 0.8280\n",
            "Epoch 119/125\n",
            "8/8 [==============================] - 0s 9ms/step - loss: 0.4581 - accuracy: 0.8000 - val_loss: 0.5091 - val_accuracy: 0.7800\n",
            "Epoch 120/125\n",
            "8/8 [==============================] - 0s 10ms/step - loss: 0.4829 - accuracy: 0.7820 - val_loss: 0.4594 - val_accuracy: 0.7940\n",
            "Epoch 121/125\n",
            "8/8 [==============================] - 0s 8ms/step - loss: 0.4370 - accuracy: 0.7880 - val_loss: 0.4692 - val_accuracy: 0.7940\n",
            "Epoch 122/125\n",
            "8/8 [==============================] - 0s 9ms/step - loss: 0.5150 - accuracy: 0.7460 - val_loss: 0.4490 - val_accuracy: 0.8220\n",
            "Epoch 123/125\n",
            "8/8 [==============================] - 0s 8ms/step - loss: 0.4518 - accuracy: 0.8020 - val_loss: 0.4699 - val_accuracy: 0.7900\n",
            "Epoch 124/125\n",
            "8/8 [==============================] - 0s 11ms/step - loss: 0.4225 - accuracy: 0.8080 - val_loss: 0.4546 - val_accuracy: 0.8120\n",
            "Epoch 125/125\n",
            "8/8 [==============================] - 0s 9ms/step - loss: 0.4290 - accuracy: 0.8120 - val_loss: 0.4332 - val_accuracy: 0.8340\n"
          ]
        }
      ],
      "source": [
        "### START CODE HERE ### ()\n",
        "lr= 0.1\n",
        "model= build_model(lr)\n",
        "batch_size = 64\n",
        "history = fit_model(X_train, y_train, X_test, y_test, batch_size)"
      ]
    },
    {
      "cell_type": "code",
      "execution_count": null,
      "id": "abadecd9-9a79-45c0-8540-bf16d8b4bc27",
      "metadata": {
        "id": "abadecd9-9a79-45c0-8540-bf16d8b4bc27",
        "colab": {
          "base_uri": "https://localhost:8080/",
          "height": 487
        },
        "outputId": "279a2cc1-1f21-4c19-d8d9-cb10a9462c76"
      },
      "outputs": [
        {
          "output_type": "display_data",
          "data": {
            "text/plain": [
              "<Figure size 1000x500 with 1 Axes>"
            ],
            "image/png": "[encoded data removed]"
          },
          "metadata": {}
        }
      ],
      "source": [
        "plt.figure(figsize=(10,5))\n",
        "plt.plot(history.history['loss'], label='Training Loss')\n",
        "plt.plot(history.history['val_loss'], label='Validation Loss')\n",
        "plt.title('Loss vs. epochs, lr=' +str(lr))\n",
        "plt.ylabel('Loss')\n",
        "plt.xlabel('Epoch')\n",
        "plt.legend(['Training', 'Validation'], loc='upper right')\n",
        "plt.show()"
      ]
    },
    {
      "cell_type": "markdown",
      "id": "1c665798-8db4-4b7f-a242-b34f3d0d317d",
      "metadata": {
        "id": "1c665798-8db4-4b7f-a242-b34f3d0d317d"
      },
      "source": [
        "10. **What effect does changing learning rate have on learning?**\n",
        "\n",
        "\n",
        "\n"
      ]
    },
    {
      "cell_type": "markdown",
      "id": "ddce9e2f-6bf9-4b68-a2b7-4de22effc3a2",
      "metadata": {
        "id": "ddce9e2f-6bf9-4b68-a2b7-4de22effc3a2"
      },
      "source": [
        "**Answer:**\n",
        "\n",
        "Higher learning rate: larger steps, convergence can be hard , more sensitive to noise.\n",
        "</br>\n",
        "\n",
        "Lower learning rate: less sensitive to noise, slower convergence but 100% will converge due to smaller steps."
      ]
    },
    {
      "cell_type": "markdown",
      "id": "c51ddaa1-aee4-4f8a-9f9c-07a1ec4c14fd",
      "metadata": {
        "id": "c51ddaa1-aee4-4f8a-9f9c-07a1ec4c14fd"
      },
      "source": [
        "**Questions**\n",
        "\n",
        "1. Mention 1 advantage of a computational graph?"
      ]
    },
    {
      "cell_type": "markdown",
      "id": "46082e1b-e16f-4d24-bdff-50afe54981e5",
      "metadata": {
        "id": "46082e1b-e16f-4d24-bdff-50afe54981e5"
      },
      "source": [
        "**Answer:**\n",
        "It breaks down complex mathematical operations into smaller, modular components, allowing for parallelization and optimization so it computes gradients and chain-rule differentiations for the models training in so efficient way"
      ]
    },
    {
      "cell_type": "markdown",
      "id": "775c5c01-58e7-4af9-8d11-c2bcb2d3acee",
      "metadata": {
        "id": "775c5c01-58e7-4af9-8d11-c2bcb2d3acee"
      },
      "source": [
        "2. Mention two ways to input data for training using TensorFlow if the data resides on disk"
      ]
    },
    {
      "cell_type": "markdown",
      "id": "8337faaf-f4cd-4c4c-9dcb-0a879b4c2cf3",
      "metadata": {
        "id": "8337faaf-f4cd-4c4c-9dcb-0a879b4c2cf3"
      },
      "source": [
        "**Answer:**\n",
        "1. ______________\n",
        "tf.data.Dataset: an API to create input pipelines from various file formats stored on disk efficiently.\n",
        "\n",
        "2. ____________\n",
        "tf.keras.utils.get_file(): to download and cache data from the internet or a local source. This function retrieves and stores the data on the local disk."
      ]
    }
  ],
  "metadata": {
    "kernelspec": {
      "display_name": "Python 3",
      "language": "python",
      "name": "python3"
    },
    "language_info": {
      "codemirror_mode": {
        "name": "ipython",
        "version": 3
      },
      "file_extension": ".py",
      "mimetype": "text/x-python",
      "name": "python",
      "nbconvert_exporter": "python",
      "pygments_lexer": "ipython3",
      "version": "3.8.8"
    },
    "colab": {
      "provenance": [],
      "toc_visible": true
    }
  },
  "nbformat": 4,
  "nbformat_minor": 5
}